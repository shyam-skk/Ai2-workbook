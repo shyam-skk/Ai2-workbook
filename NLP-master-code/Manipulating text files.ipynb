{
 "cells": [
  {
   "cell_type": "markdown",
   "metadata": {},
   "source": [
    "# Manipulating text files\n",
    "\n",
    "Python uses file objects to interact with external files on your computer. These file objects can be any sort of file such as audio, text, emails, Excel etc. \n",
    "\n",
    "<strong> Note: </strong> You will probably need to install particular libraries or modules to interact with those various file types, but they are easily available.\n",
    "\n",
    "Python has a built-in open function that allows us to open and edit basic file types. \n",
    "\n",
    "First we will need a file though. We're going to use some IPython magic to create a text file!\n",
    "\n",
    "\n",
    "## Creating a File with IPython\n",
    "This function is specific to jupyter notebooks. I will create a basic text file and add some text to it. The <strong> %% </strong> symbols are used to indicate that we're typing in a line of code specific to Jupyter notebook. \n",
    "\n",
    "<string> Note: </strong> The <strong> %% </strong> symbols work only in Jupyter notebook. You can also create this file using a text editor such as Notebook."
   ]
  },
  {
   "cell_type": "code",
   "execution_count": 1,
   "metadata": {},
   "outputs": [
    {
     "name": "stdout",
     "output_type": "stream",
     "text": [
      "Overwriting mytextfile.txt\n"
     ]
    }
   ],
   "source": [
    "%%writefile mytextfile.txt\n",
    "This is the first line of my new text file.\n",
    "This is the second line of the text file."
   ]
  },
  {
   "cell_type": "markdown",
   "metadata": {},
   "source": [
    "A text file should now be created in the working directory you browsed to before opening this Jupyter notebook.\n",
    "\n",
    "We can easily check the directory where you are right now by typing it this command.\n",
    "\n",
    "You can see that I'm executing this jupyter notebook from a folder in my C drive. Your path will be different to this."
   ]
  },
  {
   "cell_type": "code",
   "execution_count": 2,
   "metadata": {},
   "outputs": [
    {
     "data": {
      "text/plain": [
       "'C:\\\\Users\\\\James\\\\SynologyDrive\\\\LYIT\\\\Taught modules\\\\AI 2\\\\Lectures\\\\Week 1\\\\Jupyter notebook files'"
      ]
     },
     "execution_count": 2,
     "metadata": {},
     "output_type": "execute_result"
    }
   ],
   "source": [
    "pwd"
   ]
  },
  {
   "cell_type": "markdown",
   "metadata": {},
   "source": [
    "Knowing this path is important when opening a file that is saved in the same location as your notebook. Of course we can open a file from any location, and not just the working directory of the jupyter notebook.\n",
    "\n",
    "For example, if I saved a file called <strong> mytextfile.txt </strong> in the users home folder, I could use the full path to it usign this command\n",
    "\n",
    "textfile = open(\"C:\\\\Users\\\\james\\\\Home\\\\Folder\\\\mytextfile.txt\")\n",
    "\n",
    "For Windows we need to use <strong> \\\\ </strong> so python doesn't treat the second \\ as an escape character."
   ]
  },
  {
   "cell_type": "markdown",
   "metadata": {},
   "source": [
    "I'm going to work on the text file called <strong> mytextfile.txt </strong> that I created earlier."
   ]
  },
  {
   "cell_type": "code",
   "execution_count": 3,
   "metadata": {},
   "outputs": [],
   "source": [
    "# Open the mytextfile.txt file I created earlier\n",
    "my_text_file = open(\"mytextfile.txt\")"
   ]
  },
  {
   "cell_type": "markdown",
   "metadata": {},
   "source": [
    "Let's examine some details about this text file"
   ]
  },
  {
   "cell_type": "code",
   "execution_count": 4,
   "metadata": {},
   "outputs": [
    {
     "data": {
      "text/plain": [
       "<_io.TextIOWrapper name='mytextfile.txt' mode='r' encoding='cp1252'>"
      ]
     },
     "execution_count": 4,
     "metadata": {},
     "output_type": "execute_result"
    }
   ],
   "source": [
    "my_text_file"
   ]
  },
  {
   "cell_type": "markdown",
   "metadata": {},
   "source": [
    "This feedback from the interpreter means we're using a wrapper to open the file that has opened the text file in a <strong> read-only </strong> mode. It is now an open file object held in memory. \n",
    "\n",
    "We'll perform some reading and writing exercises, and then we have to close the file to free up memory."
   ]
  },
  {
   "cell_type": "markdown",
   "metadata": {},
   "source": [
    "## Reading and seeking"
   ]
  },
  {
   "cell_type": "markdown",
   "metadata": {},
   "source": [
    "Lets first read the file."
   ]
  },
  {
   "cell_type": "code",
   "execution_count": 5,
   "metadata": {},
   "outputs": [
    {
     "data": {
      "text/plain": [
       "'This is the first line of my new text file.\\nThis is the second line of the text file.\\n'"
      ]
     },
     "execution_count": 5,
     "metadata": {},
     "output_type": "execute_result"
    }
   ],
   "source": [
    "my_text_file.read()"
   ]
  },
  {
   "cell_type": "markdown",
   "metadata": {},
   "source": [
    "You'll notice that this shows all content of the text file. it also includes some additional text that I didn't add to the original file. There's two sets of <strong> \\n </strong> between each line. These represent special characters. In this instance, the <strong> \\n </strong> is a special character representing a new line. So every time I added a new line when I created the file, jupyter notebook added the special character to indicate when I pressed the return key for a new line."
   ]
  },
  {
   "cell_type": "markdown",
   "metadata": {},
   "source": [
    "If I try to open the file again, something unexpected happens."
   ]
  },
  {
   "cell_type": "code",
   "execution_count": 6,
   "metadata": {},
   "outputs": [
    {
     "data": {
      "text/plain": [
       "''"
      ]
     },
     "execution_count": 6,
     "metadata": {},
     "output_type": "execute_result"
    }
   ],
   "source": [
    "# What happens if we try to read it again?\n",
    "my_text_file.read()"
   ]
  },
  {
   "cell_type": "markdown",
   "metadata": {},
   "source": [
    "This happens because the reading <strong> cursor position </strong> is at the end of the file after having read it. So there is nothing left to read. \n",
    "\n",
    "We can reset the <strong> cursor position </strong> like this, to index position 0 (start of the file)."
   ]
  },
  {
   "cell_type": "code",
   "execution_count": 7,
   "metadata": {},
   "outputs": [
    {
     "data": {
      "text/plain": [
       "0"
      ]
     },
     "execution_count": 7,
     "metadata": {},
     "output_type": "execute_result"
    }
   ],
   "source": [
    "# Seek to the start of file (index 0)\n",
    "my_text_file.seek(0)"
   ]
  },
  {
   "cell_type": "markdown",
   "metadata": {},
   "source": [
    "This command resets the cursos position back to the beginning point of the file.\n",
    "\n",
    "Now if we try to open the file again, we should be able to re-read all of its contents."
   ]
  },
  {
   "cell_type": "code",
   "execution_count": 8,
   "metadata": {},
   "outputs": [
    {
     "data": {
      "text/plain": [
       "'This is the first line of my new text file.\\nThis is the second line of the text file.\\n'"
      ]
     },
     "execution_count": 8,
     "metadata": {},
     "output_type": "execute_result"
    }
   ],
   "source": [
    "my_text_file.read()"
   ]
  },
  {
   "cell_type": "markdown",
   "metadata": {},
   "source": [
    "I can read the contents of the file into a string with this command. Make sure you reset the cursor position first with the <strong> `.seek` </strong> command, otherwise there will be nothing read into the string."
   ]
  },
  {
   "cell_type": "code",
   "execution_count": 9,
   "metadata": {},
   "outputs": [],
   "source": [
    "file_contents = my_text_file.read()"
   ]
  },
  {
   "cell_type": "markdown",
   "metadata": {},
   "source": [
    "And I can show its contents using the print command"
   ]
  },
  {
   "cell_type": "code",
   "execution_count": 10,
   "metadata": {},
   "outputs": [
    {
     "name": "stdout",
     "output_type": "stream",
     "text": [
      "\n"
     ]
    }
   ],
   "source": [
    "print(file_contents)"
   ]
  },
  {
   "cell_type": "markdown",
   "metadata": {},
   "source": [
    "Then we no longer need to re-read the file contents again, and instead we can work directly with the contents of the string."
   ]
  },
  {
   "cell_type": "markdown",
   "metadata": {},
   "source": [
    "It is important to close any files you open. We do this using the <strong> `.close()` </strong> command."
   ]
  },
  {
   "cell_type": "code",
   "execution_count": 11,
   "metadata": {},
   "outputs": [],
   "source": [
    "my_text_file.close()"
   ]
  },
  {
   "cell_type": "markdown",
   "metadata": {},
   "source": [
    "## .readlines()"
   ]
  },
  {
   "cell_type": "markdown",
   "metadata": {},
   "source": [
    "We can use the <strong> `.readlines()` </strong> command to read a file line by line. \n",
    "\n",
    "Use this command with caution with large files, since everything will be held in memory. We will learn how to iterate over large files later in this course."
   ]
  },
  {
   "cell_type": "markdown",
   "metadata": {},
   "source": [
    "I'll open the file again, and then use the .readlines() command."
   ]
  },
  {
   "cell_type": "code",
   "execution_count": 12,
   "metadata": {},
   "outputs": [],
   "source": [
    "# Read the text file again.\n",
    "# This time the readlines() command will put each new line into a \n",
    "my_text_file = open(\"mytextfile.txt\")\n",
    "all_my_lines = my_text_file.readlines()"
   ]
  },
  {
   "cell_type": "code",
   "execution_count": 13,
   "metadata": {},
   "outputs": [],
   "source": [
    "my_text_file.close()"
   ]
  },
  {
   "cell_type": "markdown",
   "metadata": {},
   "source": [
    "Now that I have the contents of the text file in individual lines, I can perform various functions on it. For example, I can use a loop to iterate through each line and print out the fourth word of each line."
   ]
  },
  {
   "cell_type": "code",
   "execution_count": 14,
   "metadata": {},
   "outputs": [
    {
     "name": "stdout",
     "output_type": "stream",
     "text": [
      "first\n",
      "second\n"
     ]
    }
   ],
   "source": [
    "for line in all_my_lines:\n",
    "    print (line.split()[3])"
   ]
  },
  {
   "cell_type": "markdown",
   "metadata": {},
   "source": [
    "## Writing to a File\n",
    "\n",
    "By default, the <strong> `open()` </strong> function will only allow us to read the file. We need to pass the argument `'w'` to write over the file. For example:"
   ]
  },
  {
   "cell_type": "code",
   "execution_count": 15,
   "metadata": {},
   "outputs": [],
   "source": [
    "my_text_file = open(\"mytextfile.txt\", \"w+\")"
   ]
  },
  {
   "cell_type": "markdown",
   "metadata": {},
   "source": [
    "lets check what is now in the file"
   ]
  },
  {
   "cell_type": "code",
   "execution_count": 16,
   "metadata": {},
   "outputs": [
    {
     "data": {
      "text/plain": [
       "''"
      ]
     },
     "execution_count": 16,
     "metadata": {},
     "output_type": "execute_result"
    }
   ],
   "source": [
    "my_text_file.read()"
   ]
  },
  {
   "cell_type": "markdown",
   "metadata": {},
   "source": [
    "This indicates that the text file contents have has been overwritten."
   ]
  },
  {
   "cell_type": "markdown",
   "metadata": {},
   "source": [
    "<div class=\"alert alert-danger\" style=\"margin: 20px\">Use <strong> `w+</strong> ` option with caution!<br>\n",
    "Opening a file with 'w' or 'w+' *truncates the original*, meaning that anything that was in the original file is deleted!</div>"
   ]
  },
  {
   "cell_type": "markdown",
   "metadata": {},
   "source": [
    "Lets add some new text to the file and see what happens to its contents."
   ]
  },
  {
   "cell_type": "code",
   "execution_count": 17,
   "metadata": {},
   "outputs": [
    {
     "data": {
      "text/plain": [
       "49"
      ]
     },
     "execution_count": 17,
     "metadata": {},
     "output_type": "execute_result"
    }
   ],
   "source": [
    "my_text_file.write(\"This is new contents I'm adding to the text file.\")"
   ]
  },
  {
   "cell_type": "code",
   "execution_count": 18,
   "metadata": {},
   "outputs": [
    {
     "data": {
      "text/plain": [
       "\"This is new contents I'm adding to the text file.\""
      ]
     },
     "execution_count": 18,
     "metadata": {},
     "output_type": "execute_result"
    }
   ],
   "source": [
    "# Return the indexer to the start of the file\n",
    "my_text_file.seek(0)\n",
    "my_text_file.read()"
   ]
  },
  {
   "cell_type": "markdown",
   "metadata": {},
   "source": [
    "The text file no longer contains the original text I entered into it earlier. It now contains new text only. Thats is because I used the text mode <strong> w+ </strong> argument when I opened the file. Rememebr that <strong> w+ </strong> allows us to read and write to the file.\n",
    "\n",
    "If we want to add text to a file, we need to append text to it."
   ]
  },
  {
   "cell_type": "code",
   "execution_count": 19,
   "metadata": {},
   "outputs": [],
   "source": [
    "# Close the file before we continue\n",
    "my_text_file.close()"
   ]
  },
  {
   "cell_type": "markdown",
   "metadata": {},
   "source": [
    "## Appending to a File\n",
    "Passing the argument `'a'` with the `open` command opens the file and puts the pointer at the end, so anything written is appended. Like `w+`, `a+` lets us read and write to a file. If the file does not exist, one will be created."
   ]
  },
  {
   "cell_type": "code",
   "execution_count": 20,
   "metadata": {},
   "outputs": [],
   "source": [
    "my_text_file = open(\"mytextfile.txt\", \"a+\")"
   ]
  },
  {
   "cell_type": "code",
   "execution_count": 21,
   "metadata": {},
   "outputs": [
    {
     "data": {
      "text/plain": [
       "54"
      ]
     },
     "execution_count": 21,
     "metadata": {},
     "output_type": "execute_result"
    }
   ],
   "source": [
    "my_text_file.write(\"This is the first line of my text using the a+ option.\")"
   ]
  },
  {
   "cell_type": "code",
   "execution_count": 22,
   "metadata": {},
   "outputs": [],
   "source": [
    "my_text_file.close()"
   ]
  },
  {
   "cell_type": "markdown",
   "metadata": {},
   "source": [
    "Lets look at the contents of the file."
   ]
  },
  {
   "cell_type": "code",
   "execution_count": 23,
   "metadata": {},
   "outputs": [],
   "source": [
    "my_text_file = open(\"mytextfile.txt\")"
   ]
  },
  {
   "cell_type": "code",
   "execution_count": 24,
   "metadata": {},
   "outputs": [
    {
     "data": {
      "text/plain": [
       "\"This is new contents I'm adding to the text file.This is the first line of my text using the a+ option.\""
      ]
     },
     "execution_count": 24,
     "metadata": {},
     "output_type": "execute_result"
    }
   ],
   "source": [
    "my_text_file.read()"
   ]
  },
  {
   "cell_type": "markdown",
   "metadata": {},
   "source": [
    "The `a+` option lets us write contents to the end of the file.\n",
    "\n",
    "Note that we can also press the `SHIFT` + `TAB` buttons to view more detail on the command we are using at any time. This options allows us to get more inforramtion on each of the various options availabel to us in a command. This works for all commands."
   ]
  },
  {
   "cell_type": "markdown",
   "metadata": {},
   "source": [
    "What happens if I try to open a file that doesnt exist?"
   ]
  },
  {
   "cell_type": "code",
   "execution_count": 25,
   "metadata": {},
   "outputs": [],
   "source": [
    "my_text_file = open(\"testfile.txt\")"
   ]
  },
  {
   "cell_type": "markdown",
   "metadata": {},
   "source": [
    "The file is not automatically created because the standard mode when opening a file is `r`.\n",
    "\n",
    "We can easily resolve this issue by changing the mode to `a+`. That will then create the new file if it does not currently exist."
   ]
  },
  {
   "cell_type": "code",
   "execution_count": 26,
   "metadata": {},
   "outputs": [],
   "source": [
    "my_text_file = open(\"testfile.txt\", \"a+\")"
   ]
  },
  {
   "cell_type": "markdown",
   "metadata": {},
   "source": [
    "Now I'll add some text to this new file."
   ]
  },
  {
   "cell_type": "code",
   "execution_count": 27,
   "metadata": {},
   "outputs": [
    {
     "data": {
      "text/plain": [
       "46"
      ]
     },
     "execution_count": 27,
     "metadata": {},
     "output_type": "execute_result"
    }
   ],
   "source": [
    "my_text_file.write(\"This is the first line of text in my new file.\")"
   ]
  },
  {
   "cell_type": "markdown",
   "metadata": {},
   "source": [
    "Now I'll close the file."
   ]
  },
  {
   "cell_type": "code",
   "execution_count": 28,
   "metadata": {},
   "outputs": [],
   "source": [
    "my_text_file.close()"
   ]
  },
  {
   "cell_type": "markdown",
   "metadata": {},
   "source": [
    "Next I'll reopen the file, but I'll only open it with read permisisons. Remember that this is the default option when opening a file."
   ]
  },
  {
   "cell_type": "code",
   "execution_count": 29,
   "metadata": {},
   "outputs": [],
   "source": [
    "my_text_file = open(\"testfile.txt\")"
   ]
  },
  {
   "cell_type": "markdown",
   "metadata": {},
   "source": [
    "Now I'll try to write some contents to the file. **This will not work as I've not speficied which mode I'd like to read from the file, so the default `r` mode is used.**"
   ]
  },
  {
   "cell_type": "code",
   "execution_count": 30,
   "metadata": {},
   "outputs": [
    {
     "ename": "UnsupportedOperation",
     "evalue": "not writable",
     "output_type": "error",
     "traceback": [
      "\u001b[1;31m---------------------------------------------------------------------------\u001b[0m",
      "\u001b[1;31mUnsupportedOperation\u001b[0m                      Traceback (most recent call last)",
      "\u001b[1;32m<ipython-input-30-3ae4d0a74d14>\u001b[0m in \u001b[0;36m<module>\u001b[1;34m\u001b[0m\n\u001b[1;32m----> 1\u001b[1;33m \u001b[0mmy_text_file\u001b[0m\u001b[1;33m.\u001b[0m\u001b[0mwrite\u001b[0m\u001b[1;33m(\u001b[0m\u001b[1;34m\"This is a test to see if I can write to my text file.\"\u001b[0m\u001b[1;33m)\u001b[0m\u001b[1;33m\u001b[0m\u001b[1;33m\u001b[0m\u001b[0m\n\u001b[0m",
      "\u001b[1;31mUnsupportedOperation\u001b[0m: not writable"
     ]
    }
   ],
   "source": [
    "my_text_file.write(\"This is a test to see if I can write to my text file.\")"
   ]
  },
  {
   "cell_type": "markdown",
   "metadata": {},
   "source": [
    "Now I'll easily fix this error. I'll close the file first, and then change the mode to `a+` to allow reading and writing  to the file."
   ]
  },
  {
   "cell_type": "code",
   "execution_count": 31,
   "metadata": {},
   "outputs": [],
   "source": [
    "my_text_file.close()"
   ]
  },
  {
   "cell_type": "code",
   "execution_count": 32,
   "metadata": {},
   "outputs": [],
   "source": [
    "my_text_file = open(\"testfile.txt\", \"a+\")"
   ]
  },
  {
   "cell_type": "code",
   "execution_count": 33,
   "metadata": {},
   "outputs": [
    {
     "data": {
      "text/plain": [
       "63"
      ]
     },
     "execution_count": 33,
     "metadata": {},
     "output_type": "execute_result"
    }
   ],
   "source": [
    "my_text_file.write(\"I'm adding a new line to my test text file using the a+ option.\")"
   ]
  },
  {
   "cell_type": "markdown",
   "metadata": {},
   "source": [
    "Now I'll seek to the start of the file and then read the contents of it into a string."
   ]
  },
  {
   "cell_type": "code",
   "execution_count": 34,
   "metadata": {},
   "outputs": [
    {
     "data": {
      "text/plain": [
       "\"This is the first line of text in my new file.I'm adding a new line to my test text file using the a+ option.\\nThis is another new line in my text file.This is the first line of text in my new file.I'm adding a new line to my test text file using the a+ option.\""
      ]
     },
     "execution_count": 34,
     "metadata": {},
     "output_type": "execute_result"
    }
   ],
   "source": [
    "my_text_file.seek(0)\n",
    "my_text_file.read()"
   ]
  },
  {
   "cell_type": "markdown",
   "metadata": {},
   "source": [
    "All of the text is shown on one line of code. If I want to split each line into individual new lines, I need to add the `\\n` special charcater when I am writing text to the file. Here's an example. Note that I include the special character inside the quote marks along with the text that I'm inserting at the end of the text file."
   ]
  },
  {
   "cell_type": "code",
   "execution_count": 35,
   "metadata": {},
   "outputs": [
    {
     "data": {
      "text/plain": [
       "42"
      ]
     },
     "execution_count": 35,
     "metadata": {},
     "output_type": "execute_result"
    }
   ],
   "source": [
    "my_text_file.write(\"\\nThis is another new line in my text file.\")"
   ]
  },
  {
   "cell_type": "markdown",
   "metadata": {},
   "source": [
    "Now I'll reset the seek to the start of the file and read all the files contents again."
   ]
  },
  {
   "cell_type": "code",
   "execution_count": 36,
   "metadata": {},
   "outputs": [
    {
     "data": {
      "text/plain": [
       "\"This is the first line of text in my new file.I'm adding a new line to my test text file using the a+ option.\\nThis is another new line in my text file.This is the first line of text in my new file.I'm adding a new line to my test text file using the a+ option.\\nThis is another new line in my text file.\""
      ]
     },
     "execution_count": 36,
     "metadata": {},
     "output_type": "execute_result"
    }
   ],
   "source": [
    "my_text_file.seek(0)\n",
    "my_text_file.read()"
   ]
  },
  {
   "cell_type": "markdown",
   "metadata": {},
   "source": [
    "to allow the special character `\\n` to work, we need to use the `print` command to show our text to the screen."
   ]
  },
  {
   "cell_type": "code",
   "execution_count": 37,
   "metadata": {},
   "outputs": [
    {
     "name": "stdout",
     "output_type": "stream",
     "text": [
      "This is the first line of text in my new file.I'm adding a new line to my test text file using the a+ option.\n",
      "\n",
      "This is another new line in my text file.This is the first line of text in my new file.I'm adding a new line to my test text file using the a+ option.\n",
      "\n",
      "This is another new line in my text file.\n"
     ]
    }
   ],
   "source": [
    "my_text_file.seek(0)\n",
    "for line in my_text_file:\n",
    "    print (line)"
   ]
  },
  {
   "cell_type": "markdown",
   "metadata": {},
   "source": [
    "We could also show the contents of the `.read()` command directly within the `print` statement."
   ]
  },
  {
   "cell_type": "code",
   "execution_count": 38,
   "metadata": {},
   "outputs": [
    {
     "name": "stdout",
     "output_type": "stream",
     "text": [
      "This is the first line of text in my new file.I'm adding a new line to my test text file using the a+ option.\n",
      "This is another new line in my text file.This is the first line of text in my new file.I'm adding a new line to my test text file using the a+ option.\n",
      "This is another new line in my text file.\n"
     ]
    }
   ],
   "source": [
    "my_text_file.seek(0)\n",
    "print(my_text_file.read())"
   ]
  },
  {
   "cell_type": "markdown",
   "metadata": {},
   "source": [
    "## Aliases and Context Managers\n",
    "We can assign temporary variable names as aliases, and manage the opening and closing of files automatically using a <strong> context manager </strong>. "
   ]
  },
  {
   "cell_type": "markdown",
   "metadata": {},
   "source": [
    "We can use the `with` command to control access to the text file. It will automatically control access to the file, and close it when we're done with the file. This is commonly used when interacting with text files in Python.\n",
    "\n",
    "Here's an example of how to use the `with` command."
   ]
  },
  {
   "cell_type": "code",
   "execution_count": 39,
   "metadata": {},
   "outputs": [],
   "source": [
    "with open(\"testfile.txt\", \"r\") as my_text_file:\n",
    "    file_contents = my_text_file.readlines()"
   ]
  },
  {
   "cell_type": "markdown",
   "metadata": {},
   "source": [
    "Then we can show the contents of the text file. We dont need to issue the `.close()` command as all that is taken care of throuth the `with` context manager."
   ]
  },
  {
   "cell_type": "code",
   "execution_count": 40,
   "metadata": {},
   "outputs": [
    {
     "data": {
      "text/plain": [
       "[\"This is the first line of text in my new file.I'm adding a new line to my test text file using the a+ option.\\n\",\n",
       " \"This is another new line in my text file.This is the first line of text in my new file.I'm adding a new line to my test text file using the a+ option.\\n\",\n",
       " 'This is another new line in my text file.']"
      ]
     },
     "execution_count": 40,
     "metadata": {},
     "output_type": "execute_result"
    }
   ],
   "source": [
    "file_contents"
   ]
  },
  {
   "cell_type": "markdown",
   "metadata": {},
   "source": [
    "Note that the `with ... as ...:` context manager automatically closed `test.txt` after assigning the first line of text to first_line:"
   ]
  },
  {
   "cell_type": "markdown",
   "metadata": {},
   "source": [
    "## Iterating through a File"
   ]
  },
  {
   "cell_type": "code",
   "execution_count": 41,
   "metadata": {},
   "outputs": [
    {
     "name": "stdout",
     "output_type": "stream",
     "text": [
      "This is the first line of text in my new file.I'm adding a new line to my test text file using the a+ option.\n",
      "This is another new line in my text file.This is the first line of text in my new file.I'm adding a new line to my test text file using the a+ option.\n",
      "This is another new line in my text file."
     ]
    }
   ],
   "source": [
    "with open(\"testfile.txt\", \"r\") as my_text_file:\n",
    "    for line in my_text_file:\n",
    "        print(line, end=\"\")  # the end=\"\" argument removes extra linebreaks"
   ]
  }
 ],
 "metadata": {
  "kernelspec": {
   "display_name": "Python 3",
   "language": "python",
   "name": "python3"
  },
  "language_info": {
   "codemirror_mode": {
    "name": "ipython",
    "version": 3
   },
   "file_extension": ".py",
   "mimetype": "text/x-python",
   "name": "python",
   "nbconvert_exporter": "python",
   "pygments_lexer": "ipython3",
   "version": "3.7.4"
  }
 },
 "nbformat": 4,
 "nbformat_minor": 2
}
