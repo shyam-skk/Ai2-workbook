{
 "cells": [
  {
   "cell_type": "markdown",
   "metadata": {},
   "source": [
    "# Topic modelling using LDA (part A)\n",
    "\n",
    "Topic modelling, in the context of Natural Language Processing, is described as a method of uncovering hidden structure in a collection of texts. \n",
    "\n",
    "Topic modeling can be used as a method for unsupervised learning of text. It can be used to group similar words within text together, thereby classifying documents into particular groups. The number of topics is a hyperparameter. By applying topic modeling we build clusters of words rather than clusters of texts. A text is thus a mixture of all the topics, each having a certain weight which indicates which topic it most likely should be in.\n",
    "\n",
    "In the previous lectures I used word features to build the spam detection model. In this lecture I will use a classifier to use word counts as features and train the classifier to decipher the correlations between word counts. The main thing to note is that I will build categories that will contain particular types of words with a certain frequency. I will then determine what each category should be called based on the common words found within it.\n",
    "\n",
    "There are several popular algorithms for topic modelling. \n",
    "\n",
    "(a) **Latent Dirichlet Allocation (LDA)** – The one we’ll be focusing on in this lecture. Its foundations are Probabilistic Graphical Models.<br>\n",
    "(b) **Non-Negative Matrix Factorization (NMF)** – Based on Linear Algebra."
   ]
  },
  {
   "cell_type": "markdown",
   "metadata": {},
   "source": [
    "First I need to load the data that is going to require assignment of specific topics. I've copied the **clean_data** file from Blackboard to the jupyter notebook working directory."
   ]
  },
  {
   "cell_type": "code",
   "execution_count": 1,
   "metadata": {},
   "outputs": [],
   "source": [
    "import os\n",
    "import pandas as pd\n",
    "all_text_samples = []\n",
    "labels = []\n",
    "all_files = []\n",
    "# List all files inside the \"clean_data\" directory\n",
    "file_list = os.listdir(\"clean_data/\")\n",
    "\n",
    "for filename in file_list:\n",
    "    # Construct filename and its path\n",
    "    file = (f\"clean_data/\" + filename)\n",
    "    my_text_file = open(file, encoding=\"utf8\")\n",
    "    file_data = my_text_file.read()\n",
    "    all_text_samples.append(file_data)\n",
    "    \n",
    "dataframe = pd.DataFrame(all_text_samples)\n",
    "dataframe.columns = [\"Text\"]"
   ]
  },
  {
   "cell_type": "markdown",
   "metadata": {},
   "source": [
    "We have text items that do not have an associated topics. We are going to decide upon the most relevant topic for this data using LDA."
   ]
  },
  {
   "cell_type": "code",
   "execution_count": 2,
   "metadata": {
    "scrolled": true
   },
   "outputs": [
    {
     "name": "stdout",
     "output_type": "stream",
     "text": [
      "2016 Update: Whether you enjoy myth busting, Python, or just all enterprise software, you will also likely enjoy Enterprise Software with Python, presented by the author of the article below, and published by O’Reilly.\n",
      "\n",
      "PayPal enjoys a remarkable amount of linguistic pluralism in its programming culture. In addition to the long-standing popularity of C++ and Java, an increasing number of teams are choosing JavaScript and Scala, and Braintree‘s acquisition has introduced a sophisticated Ruby community.\n",
      "\n",
      "One language in particular has both a long history at eBay and PayPal and a growing mindshare among developers: Python.\n",
      "\n",
      "Python has enjoyed many years of grassroots usage and support from developers across eBay. Even before official support from management, technologists of all walks went the extra mile to reap the rewards of developing in Python. I joined PayPal a few years ago, and chose Python to work on internal applications, but I’ve personally found production PayPal Python code from nearly 15 years ago.\n",
      "\n",
      "Today, Python powers over 50 projects, including:\n",
      "\n",
      "Features and products , like RedLaser\n",
      "\n",
      ", like RedLaser Operations and infrastructure , both OpenStack and proprietary\n",
      "\n",
      ", both OpenStack and proprietary Mid-tier services and applications , like the one used to set PayPal’s prices and check customer feature eligibility\n",
      "\n",
      ", like the one used to set PayPal’s prices and check customer feature eligibility Monitoring agents and interfaces , used for several deployment and security use cases\n",
      "\n",
      ", used for several deployment and security use cases Batch jobs for data import , price adjustment, and more\n",
      "\n",
      ", price adjustment, and more And far too many developer tools to count\n",
      "\n",
      "In the coming series of posts I’ll detail the initiatives and technologies that led the eBay/PayPal Python community to grow from just under 25 engineers in 2011 to over 260 in 2014. For this introductory post, I’ll be focusing on the 10 myths I’ve had to debunk the most in eBay and PayPal’s enterprise environments.\n",
      "\n",
      "Myth #1: Python is a new language\n",
      "\n",
      "What with all the start-ups using it and kids learning it these days, it’s easy to see how this myth still persists. Python is actually over 23 years old, originally released in 1991, 5-years before HTTP 1.0 and 4-years before Java. A now-famous early usage of Python was in 1996: Google’s first successful web crawler.\n",
      "\n",
      "If you’re curious about the long history of Python, Guido van Rossum, Python’s creator, has taken the care to tell the whole story.\n",
      "\n",
      "Myth #2: Python is not compiled\n",
      "\n",
      "While not requiring a separate compiler toolchain like C++, Python is in fact compiled to bytecode, much like Java and many other compiled languages. Further compilation steps, if any, are at the discretion of the runtime, be it CPython, PyPy, Jython/JVM, IronPython/CLR, or some other process virtual machine. See Myth #6 for more info.\n",
      "\n",
      "The general principle at PayPal and elsewhere is that the compilation status of code should not be relied on for security. It is much more important to secure the runtime environment, as virtually every language has a decompiler, or can be intercepted to dump protected state. See the next myth for even more Python security implications.\n",
      "\n",
      "Myth #3: Python is not secure\n",
      "\n",
      "Python’s affinity for the lightweight may not make it seem formidable, but the intuition here can be misleading. One central tenet of security is to present as small a target as possible. Big systems are anti-secure, as they tend to overly centralize behaviors, as well as undercut developer comprehension. Python keeps these demons at bay by encouraging simplicity. Furthermore, CPython addresses these issues by being a simple, stable, and easily-auditable virtual machine. In fact, a recent analysis by Coverity Software resulted in CPython receiving their highest quality rating.\n",
      "\n",
      "Python also features an extensive array of open-source, industry-standard security libraries. At PayPal, where we take security and trust very seriously, we find that a combination of hashlib, PyCrypto, and OpenSSL, via PyOpenSSL and our own custom bindings, cover all of PayPal’s diverse security and performance needs.\n",
      "\n",
      "For these reasons and more, Python has seen some of its fastest adoption at PayPal (and eBay) within the application security group. Here are just a few security-based applications utilizing Python for PayPal’s security-first environment:\n",
      "\n",
      "Creating security agents for facilitating key rotation and consolidating cryptographic implementations\n",
      "\n",
      "Integrating with industry-leading HSM technologies\n",
      "\n",
      "technologies Constructing TLS-secured wrapper proxies for less-compliant stacks\n",
      "\n",
      "Generating keys and certificates for our internal mutual-authentication schemes\n",
      "\n",
      "Developing active vulnerability scanners\n",
      "\n",
      "Plus, myriad Python-built operations-oriented systems with security implications, such as firewall and connection management. In the future we’ll definitely try to put together a deep dive on PayPal Python security particulars.\n",
      "\n",
      "Myth #4: Python is a scripting language\n",
      "\n",
      "Python can indeed be used for scripting, and is one of the forerunners of the domain due to its simple syntax, cross-platform support, and ubiquity among Linux, Macs, and other Unix machines.\n",
      "\n",
      "In fact, Python may be one of the most flexible technologies among general-use programming languages. To list just a few:\n",
      "\n",
      "Not to mention web sites and web services aplenty. In fact, PayPal engineers seem to have a penchant for going on to start Python-based web properties, YouTube and Yelp, for instance. For an even bigger list of Python success stories, check out the official list.\n",
      "\n",
      "Myth #5: Python is weakly-typed\n",
      "\n",
      "Python’s type system is characterized by strong, dynamic typing. Wikipedia can explain more.\n",
      "\n",
      "Not that it is a competition, but as a fun fact, Python is more strongly-typed than Java. Java has a split type system for primitives and objects, with null lying in a sort of gray area. On the other hand, modern Python has a unified strong type system, where the type of None is well-specified. Furthermore, the JVM itself is also dynamically-typed, as it traces its roots back to an implementation of a Smalltalk VM acquired by Sun.\n",
      "\n",
      "Python’s type system is very nice, but for enterprise use there are much bigger concerns at hand.\n",
      "\n",
      "Myth #6: Python is slow\n",
      "\n",
      "First, a critical distinction: Python is a programming language, not a runtime. There are several Python implementations:\n",
      "\n",
      "CPython is the reference implementation, and also the most widely distributed and used. Jython is a mature implementation of Python for usage with the JVM. IronPython is Microsoft’s Python for the Common Language Runtime, aka .NET. PyPy is an up-and-coming implementation of Python, with advanced features such as JIT compilation, incremental garbage collection, and more.\n",
      "\n",
      "Each runtime has its own performance characteristics, and none of them are slow per se. The more important point here is that it is a mistake to assign performance assessments to a programming languages. Always assess an application runtime, most preferably against a particular use case.\n",
      "\n",
      "Having cleared that up, here is a small selection of cases where Python has offered significant performance advantages:\n",
      "\n",
      "Admittedly these are not the newest examples, just my favorites. It would be easy to get side-tracked into the wide world of high-performance Python and the unique offerings of runtimes. Instead of addressing individual special cases, attention should be drawn to the generalizable impact of developer productivity on end-product performance, especially in an enterprise setting.\n",
      "\n",
      "Given enough time, a disciplined developer can execute the only proven approach to achieving accurate and performant software:\n",
      "\n",
      "Engineer for correct behavior, including the development of respective tests Profile and measure performance, identifying bottlenecks Optimize, paying proper respect to the test suite and Amdahl’s Law, and taking advantage of Python’s strong roots in C.\n",
      "\n",
      "It might sound simple, but even for seasoned engineers, this can be a very time-consuming process. Python was designed from the ground up with developer timelines in mind. In our experience, it’s not uncommon for Python projects to undergo three or more iterations in the time it C++ and Java to do just one. Today, PayPal and eBay have seen multiple success stories wherein Python projects outperformed their C++ and Java counterparts, with less code (see right), all thanks to fast development times enabling careful tailoring and optimization. You know, the fun stuff.\n",
      "\n",
      "Myth #7: Python does not scale\n",
      "\n",
      "Scale has many definitions, but by any definition, YouTube is a web site at scale. More than 1 billion unique visitors per month, over 100 hours of uploaded video per minute, and going on 20 pecent of peak Internet bandwidth, all with Python as a core technology. Dropbox, Disqus, Eventbrite, Reddit, Twilio, Instagram, Yelp, EVE Online, Second Life, and, yes, eBay and PayPal all have Python scaling stories that prove scale is more than just possible: it’s a pattern.\n",
      "\n",
      "The key to success is simplicity and consistency. CPython, the primary Python virtual machine, maximizes these characteristics, which in turn makes for a very predictable runtime. One would be hard pressed to find Python programmers concerned about garbage collection pauses or application startup time. With strong platform and networking support, Python naturally lends itself to smart horizontal scalability, as manifested in systems like BitTorrent.\n",
      "\n",
      "Additionally, scaling is all about measurement and iteration. Python is built with profiling and optimization in mind. See Myth #6 for more details on how to vertically scale Python.\n",
      "\n",
      "Myth #8: Python lacks good concurrency support\n",
      "\n",
      "Occasionally debunking performance and scaling myths, and someone tries to get technical, “Python lacks concurrency,” or, “What about the GIL?” If dozens of counterexamples are insufficient to bolster one’s confidence in Python’s ability to scale vertically and horizontally, then an extended explanation of a CPython implementation detail probably won’t help, so I’ll keep it brief.\n",
      "\n",
      "Python has great concurrency primitives, including generators, greenlets, Deferreds, and futures. Python has great concurrency frameworks, including eventlet, gevent, and Twisted. Python has had some amazing work put into customizing runtimes for concurrency, including Stackless and PyPy. All of these and more show that there is no shortage of engineers effectively and unapologetically using Python for concurrent programming. Also, all of these are officially support and/or used in enterprise-level production environments. For examples, refer to Myth #7.\n",
      "\n",
      "The Global Interpreter Lock, or GIL, is a performance optimization for most use cases of Python, and a development ease optimization for virtually all CPython code. The GIL makes it much easier to use OS threads or green threads (greenlets usually), and does not affect using multiple processes. For more information, see this great Q&A on the topic and this overview from the Python docs.\n",
      "\n",
      "Here at PayPal, a typical service deployment entails multiple machines, with multiple processes, multiple threads, and a very large number of greenlets, amounting to a very robust and scalable concurrent environment (see figure below). In most enterprise environments, parties tends to prefer a fairly high degree of overprovisioning, for general prudence and disaster recovery. Nevertheless, in some cases Python services still see millions of requests per machine per day, handled with ease.\n",
      "\n",
      "Myth #9: Python programmers are scarce\n",
      "\n",
      "There is some truth to this myth. There are not as many Python web developers as PHP or Java web developers. This is probably mostly due to a combined interaction of industry demand and education, though trends in education suggest that this may change.\n",
      "\n",
      "That said, Python developers are far from scarce. There are millions worldwide, as evidenced by the dozens of Python conferences, tens of thousands of StackOverflow questions, and companies like YouTube, Bank of America, and LucasArts/Dreamworks employing Python developers by the hundreds and thousands. At eBay and PayPal we have hundreds of developers who use Python on a regular basis, so what’s the trick?\n",
      "\n",
      "Well, why scavenge when one can create? Python is exceptionally easy to learn, and is a first programming language for children, university students, and professionals alike. At eBay, it only takes one week to show real results for a new Python programmer, and they often really start to shine as quickly as 2-3 months, all made possible by the Internet’s rich cache of interactive tutorials, books, documentation, and open-source codebases.\n",
      "\n",
      "Another important factor to consider is that projects using Python simply do not require as many developers as other projects. As mentioned in Myth #6 and Myth #9, lean, effective teams like Instagram are a common trope in Python projects, and this has certainly been our experience at eBay and PayPal.\n",
      "\n",
      "Myth #10: Python is not for big projects\n",
      "\n",
      "Myth #7 discussed running Python projects at scale, but what about developing Python projects at scale? As mentioned in Myth #9, most Python projects tend not to be people-hungry. while Instagram reached hundreds of millions of hits a day at the time of their billion dollar acquisition, the whole company was still only a group of a dozen or so people. Dropbox in 2011 only had 70 engineers, and other teams were similarly lean. So, can Python scale to large teams?\n",
      "\n",
      "Bank of America actually has over 5,000 Python developers, with over 10 million lines of Python in one project alone. JP Morgan underwent a similar transformation. YouTube also has engineers in the thousands and lines of code in the millions. Big products and big teams use Python every day, and while it has excellent modularity and packaging characteristics, beyond a certain point much of the general development scaling advice stays the same. Tooling, strong conventions, and code review are what make big projects a manageable reality.\n",
      "\n",
      "Luckily, Python starts with a good baseline on those fronts as well. We use PyFlakes and other tools to perform static analysis of Python code before it gets checked in, as well as adhering to PEP8, Python’s language-wide base style guide.\n",
      "\n",
      "Finally, it should be noted that, in addition to the scheduling speedups mentioned in Myth #6 and #7, projects using Python generally require fewer developers, as well. Our most common success story starts with a Java or C++ project slated to take a team of 3-5 developers somewhere between 2-6 months, and ends with a single motivated developer completing the project in 2-6 weeks (or hours, for that matter).\n",
      "\n",
      "A miracle for some, but a fact of modern development, and often a necessity for a competitive business.\n",
      "\n",
      "A clean slate\n",
      "\n",
      "Mythology can be a fun pastime. Discussions around these myths remain some of the most active and educational, both internally and externally, because implied in every myth is a recognition of Python’s strengths. Also, remember that the appearance of these seemingly tedious and troublesome concerns is a sign of steadily growing interest, and with steady influx of interested parties comes the constant job of education. Here’s hoping that this post manages to extinguish a flame war and enable a project or two to talk about the real work that can be achieved with Python.\n",
      "\n",
      "Keep an eye out for future posts where I’ll dive deeper into the details touched on in this overview. If you absolutely must have details before then, or have corrections or comments, shoot me an email at mahmoud@paypal.com. Until then, happy coding!\n"
     ]
    }
   ],
   "source": [
    "# Show the first sample of one row of dataframe\n",
    "print(dataframe[\"Text\"][0])"
   ]
  },
  {
   "cell_type": "markdown",
   "metadata": {},
   "source": [
    "Let's examine the first few rows of the constructed dataframe. Each row does not have an associated topic for the textfile."
   ]
  },
  {
   "cell_type": "code",
   "execution_count": 3,
   "metadata": {
    "scrolled": false
   },
   "outputs": [
    {
     "data": {
      "text/html": [
       "<div>\n",
       "<style scoped>\n",
       "    .dataframe tbody tr th:only-of-type {\n",
       "        vertical-align: middle;\n",
       "    }\n",
       "\n",
       "    .dataframe tbody tr th {\n",
       "        vertical-align: top;\n",
       "    }\n",
       "\n",
       "    .dataframe thead th {\n",
       "        text-align: right;\n",
       "    }\n",
       "</style>\n",
       "<table border=\"1\" class=\"dataframe\">\n",
       "  <thead>\n",
       "    <tr style=\"text-align: right;\">\n",
       "      <th></th>\n",
       "      <th>Text</th>\n",
       "    </tr>\n",
       "  </thead>\n",
       "  <tbody>\n",
       "    <tr>\n",
       "      <th>0</th>\n",
       "      <td>2016 Update: Whether you enjoy myth busting, P...</td>\n",
       "    </tr>\n",
       "    <tr>\n",
       "      <th>1</th>\n",
       "      <td>Let's start with the truth. The 3-point shot w...</td>\n",
       "    </tr>\n",
       "    <tr>\n",
       "      <th>2</th>\n",
       "      <td>Media playback is not supported on this device...</td>\n",
       "    </tr>\n",
       "    <tr>\n",
       "      <th>3</th>\n",
       "      <td>Krampus with babies postcard (via riptheskull/...</td>\n",
       "    </tr>\n",
       "    <tr>\n",
       "      <th>4</th>\n",
       "      <td>Last week, Michael Dorf published a long and c...</td>\n",
       "    </tr>\n",
       "  </tbody>\n",
       "</table>\n",
       "</div>"
      ],
      "text/plain": [
       "                                                Text\n",
       "0  2016 Update: Whether you enjoy myth busting, P...\n",
       "1  Let's start with the truth. The 3-point shot w...\n",
       "2  Media playback is not supported on this device...\n",
       "3  Krampus with babies postcard (via riptheskull/...\n",
       "4  Last week, Michael Dorf published a long and c..."
      ]
     },
     "execution_count": 3,
     "metadata": {},
     "output_type": "execute_result"
    }
   ],
   "source": [
    "dataframe.head()"
   ]
  },
  {
   "cell_type": "code",
   "execution_count": 4,
   "metadata": {},
   "outputs": [
    {
     "data": {
      "text/plain": [
       "7911"
      ]
     },
     "execution_count": 4,
     "metadata": {},
     "output_type": "execute_result"
    }
   ],
   "source": [
    "len(dataframe)"
   ]
  },
  {
   "cell_type": "markdown",
   "metadata": {},
   "source": [
    "There's 7911 articles of text data in the dataframe that I've just constructed."
   ]
  },
  {
   "cell_type": "markdown",
   "metadata": {},
   "source": [
    "We will use Latent Dirichlet Allocation (LDA) to cluster the most popular words for groups of text file with the same popular words wihtin them.\n",
    "\n",
    "First we will pre-proces the text data using the scikit-learn count vectorizer to remove common words, ensure that we have words that meet a minuimum frequency within documnts. We'll also remove all english stop words."
   ]
  },
  {
   "cell_type": "code",
   "execution_count": 5,
   "metadata": {},
   "outputs": [],
   "source": [
    "from sklearn.feature_extraction.text import CountVectorizer"
   ]
  },
  {
   "cell_type": "markdown",
   "metadata": {},
   "source": [
    "Then we initialise an instance of the count vectorizer. When building the count vectorizer we must choose 2 terms that define the linimum and maximum number of words we should ignore within our documents.\n",
    "\n",
    "The **`max_df`** option accepts a float in range [0.0, 1.0] or int, default=1.0<br>\n",
    "When building the vocabulary ignore terms that have a document frequency strictly higher than the given threshold (corpus-specific stop words). If float, the parameter represents a proportion of documents, integer absolute counts. This parameter is ignored if vocabulary is not None.\n",
    "\n",
    "The **`min_df`** option accepts a float in range [0.0, 1.0] or int, default=1<br>\n",
    "When building the vocabulary ignore terms that have a document frequency strictly lower than the given threshold. This value is also called cut-off in the literature. If float, the parameter represents a proportion of documents, integer absolute counts. This parameter is ignored if vocabulary is not None. In this tutorial, I've set the `min_df` value to **4** because I want to ensure that the vocabulary is in at least 4 documents. We can reduce this number if we want more common words to appear in all of the documents.\n",
    "\n",
    "We can remove all stop words using the **`stop_words`** command. This attribute can get large and increase the model size."
   ]
  },
  {
   "cell_type": "code",
   "execution_count": 6,
   "metadata": {},
   "outputs": [],
   "source": [
    "# max_df and min_df can be either a range between 0-1 or an int.\n",
    "# In this example, I'm setting min_df to 4 to ensure that\n",
    "# words are detected in at least 4 documents.\n",
    "count_vectorizer = CountVectorizer(max_df=0.90, min_df=4, stop_words=\"english\")"
   ]
  },
  {
   "cell_type": "markdown",
   "metadata": {},
   "source": [
    "We don't create a train/test split with the data since this is an unsupervised method of determining categories. And we don't have any test data to examine predicted reuslts against actual labelled text values. Instead we perform a fit-transform to the entire text dataset."
   ]
  },
  {
   "cell_type": "code",
   "execution_count": 7,
   "metadata": {},
   "outputs": [],
   "source": [
    "doc_term_matrix = count_vectorizer.fit_transform(dataframe[\"Text\"])"
   ]
  },
  {
   "cell_type": "markdown",
   "metadata": {},
   "source": [
    "The document term matrix is a sparse matrix of each word in all of the text data. For example, ths dtm contains 7911 articles with 45783 terms (words). Adjusting the max_df and min_df values can increase or decrease the number of terms in the dtm."
   ]
  },
  {
   "cell_type": "code",
   "execution_count": 8,
   "metadata": {},
   "outputs": [
    {
     "data": {
      "text/plain": [
       "<7911x45783 sparse matrix of type '<class 'numpy.int64'>'\n",
       "\twith 3482007 stored elements in Compressed Sparse Row format>"
      ]
     },
     "execution_count": 8,
     "metadata": {},
     "output_type": "execute_result"
    }
   ],
   "source": [
    "doc_term_matrix"
   ]
  },
  {
   "cell_type": "markdown",
   "metadata": {},
   "source": [
    "## Latent Dirichlet Allocation\n",
    "\n",
    "components_ : array, [n_components, n_features] Variational parameters for topic word distribution. Since the complete conditional for topic word distribution is a Dirichlet, ``components_[i, j]`` can be viewed as pseudocount that represents the number of times word `j` was assigned to topic `i`.\n",
    "\n",
    "It can also be viewed as distribution over the words for each topic after normalization:\n",
    "    ``model.components_ / model.components_.sum(axis=1)[:, np.newaxis]``.\n",
    "    \n",
    "The number of topics is an integer number set by the option `n_components`. In this example, I'm defining the number of topics to 10. This is a number that is set by trying out values and arriving at one which suits the contents of the text. If these appears to be several topics with the same contents of words within them, set the number of topics to a lower value. This will amalgamate most popular words to less topics.\n",
    "\n",
    "If there appears to be topics with lots of different types of words within them, this could indicate that there could be more topics than the number you've assigned to the dataset. In that case, increase the number of topics to a higher value and re-run your model. Eventually you will find that there will be topics then with the same content of words within them. That indicates that the optimum number of topics for the dataset is around that vlaue you've selected. Then you can fine-tune the number of assigned topics assigned to your model."
   ]
  },
  {
   "cell_type": "code",
   "execution_count": 9,
   "metadata": {},
   "outputs": [],
   "source": [
    "from sklearn.decomposition import LatentDirichletAllocation"
   ]
  },
  {
   "cell_type": "code",
   "execution_count": 10,
   "metadata": {},
   "outputs": [],
   "source": [
    "lda = LatentDirichletAllocation(n_components=20,random_state=1)"
   ]
  },
  {
   "cell_type": "code",
   "execution_count": 11,
   "metadata": {
    "scrolled": false
   },
   "outputs": [
    {
     "data": {
      "text/plain": [
       "LatentDirichletAllocation(batch_size=128, doc_topic_prior=None,\n",
       "             evaluate_every=-1, learning_decay=0.7,\n",
       "             learning_method='batch', learning_offset=10.0,\n",
       "             max_doc_update_iter=100, max_iter=10, mean_change_tol=0.001,\n",
       "             n_components=20, n_jobs=None, n_topics=None, perp_tol=0.1,\n",
       "             random_state=1, topic_word_prior=None,\n",
       "             total_samples=1000000.0, verbose=0)"
      ]
     },
     "execution_count": 11,
     "metadata": {},
     "output_type": "execute_result"
    }
   ],
   "source": [
    "lda.fit(doc_term_matrix)"
   ]
  },
  {
   "cell_type": "markdown",
   "metadata": {},
   "source": [
    "Now we can examine the performance of this model by examining the **log likelihood** and **perplexity** metrics of the model.\n",
    "\n",
    "With the log likelihood value, higher numbers are better than lower numbes when comparing models.\n",
    "\n",
    "With the perplexity value, a lower perplexity value is better than a higher one when comparing models. The perplexity value is calculated as \n",
    "\n",
    "*Perplexity = exp(-1. * log-likelihood per word)*"
   ]
  },
  {
   "cell_type": "code",
   "execution_count": 12,
   "metadata": {},
   "outputs": [
    {
     "name": "stdout",
     "output_type": "stream",
     "text": [
      "Log Likelihood:  -54208332.46436615\n"
     ]
    }
   ],
   "source": [
    "# Log Likelihood: Higher the better\n",
    "print(\"Log Likelihood: \", lda.score(doc_term_matrix))"
   ]
  },
  {
   "cell_type": "code",
   "execution_count": 13,
   "metadata": {
    "scrolled": false
   },
   "outputs": [
    {
     "name": "stdout",
     "output_type": "stream",
     "text": [
      "Perplexity:  5318.913451710908\n"
     ]
    }
   ],
   "source": [
    "# Perplexity: Lower the better. Perplexity = exp(-1. * log-likelihood per word)\n",
    "print(\"Perplexity: \", lda.perplexity(doc_term_matrix))"
   ]
  },
  {
   "cell_type": "markdown",
   "metadata": {},
   "source": [
    "### How to use `GridSearch` for the best LDA model\n",
    "\n",
    "The most important tuning parameter for LDA models is `n_components` (number of topics). In addition, I am going to search `learning_decay` (which controls the learning rate) as well.\n",
    "\n",
    "Besides these, other possible search params could be `learning_offset` (downweigh early iterations. Should be > 1) and `max_iter`. These could be worth experimenting if you have enough computing resources.\n",
    "\n",
    "**Be warned, gridsearch constructs multiple LDA models for all possible combinations of param values in the `param_grid` dictionary. So this process can consume a lot of time and resources. Therefore be patient. When I ran this option it took 2 hours to return my results.**\n",
    "\n",
    "`GridSearchCV` implements a **fit** and a **score** method. It also implements **predict**, **predict_proba**, **decision_function**, **transform** and **inverse_transform** if they are implemented in the estimator used. See https://scikit-learn.org/stable/modules/generated/sklearn.model_selection.GridSearchCV.html for more information.\n",
    "\n",
    "Also see https://code.i-harness.com/en/docs/scikit_learn/modules/generated/sklearn.model_selection.gridsearchcv\n",
    "\n",
    "Now I'm gong to build a new LDA model with `GridSearch` so I can compare the results."
   ]
  },
  {
   "cell_type": "code",
   "execution_count": 14,
   "metadata": {
    "scrolled": false
   },
   "outputs": [
    {
     "name": "stderr",
     "output_type": "stream",
     "text": [
      "C:\\Users\\James\\Anaconda3\\envs\\ai2_course\\lib\\site-packages\\sklearn\\model_selection\\_split.py:2053: FutureWarning: You should specify a value for 'cv' instead of relying on the default value. The default value will change from 3 to 5 in version 0.22.\n",
      "  warnings.warn(CV_WARNING, FutureWarning)\n"
     ]
    },
    {
     "data": {
      "text/plain": [
       "GridSearchCV(cv='warn', error_score='raise-deprecating',\n",
       "       estimator=LatentDirichletAllocation(batch_size=128, doc_topic_prior=None,\n",
       "             evaluate_every=-1, learning_decay=0.7,\n",
       "             learning_method='batch', learning_offset=10.0,\n",
       "             max_doc_update_iter=100, max_iter=10, mean_change_tol=0.001,\n",
       "             n_components=10, n_jobs=None, n_topics=None, perp_tol=0.1,\n",
       "             random_state=None, topic_word_prior=None,\n",
       "             total_samples=1000000.0, verbose=0),\n",
       "       fit_params=None, iid='warn', n_jobs=None,\n",
       "       param_grid={'n_components': [10, 15, 20, 25, 30], 'learning_decay': [0.5, 0.7, 0.9]},\n",
       "       pre_dispatch='2*n_jobs', refit=True, return_train_score='warn',\n",
       "       scoring=None, verbose=0)"
      ]
     },
     "execution_count": 14,
     "metadata": {},
     "output_type": "execute_result"
    }
   ],
   "source": [
    "from sklearn.model_selection import GridSearchCV\n",
    "\n",
    "# Define Search Param\n",
    "search_params = {'n_components': [10, 15, 20, 25, 30], 'learning_decay': [.5, .7, .9]}\n",
    "\n",
    "# Init the Model\n",
    "lda_comparison = LatentDirichletAllocation()\n",
    "\n",
    "# Init Grid Search Class\n",
    "lda_comparison = GridSearchCV(lda_comparison, param_grid=search_params)\n",
    "\n",
    "# Do the Grid Search\n",
    "lda_comparison.fit(doc_term_matrix)"
   ]
  },
  {
   "cell_type": "markdown",
   "metadata": {},
   "source": [
    "And now we can use this information to find out the important comparison metrics."
   ]
  },
  {
   "cell_type": "code",
   "execution_count": 15,
   "metadata": {},
   "outputs": [
    {
     "name": "stdout",
     "output_type": "stream",
     "text": [
      "Best Model's Params:  {'learning_decay': 0.7, 'n_components': 10}\n",
      "Best Log Likelihood Score:  -18746788.238628864\n",
      "Model Perplexity:  5561.752238087095\n"
     ]
    }
   ],
   "source": [
    "# Best Model which gave highest score \n",
    "best_lda_model = lda_comparison.best_estimator_\n",
    "\n",
    "# Model Parameters is used to store a list of parameter settings dicts for all the parameter candidates\n",
    "print(\"Best Model's Params: \", lda_comparison.best_params_)\n",
    "\n",
    "# Log Likelihood Score\n",
    "print(\"Best Log Likelihood Score: \", lda_comparison.best_score_)\n",
    "\n",
    "# Perplexity\n",
    "print(\"Model Perplexity: \", best_lda_model.perplexity(doc_term_matrix))"
   ]
  },
  {
   "cell_type": "markdown",
   "metadata": {},
   "source": [
    "### Compare LDA Model Performance Scores\n",
    "\n",
    "The earlier model of 20 components and a default decay of 0.7. That model had a Log Likelihood of **-54208332.46436615**, and Perplexity of **5318.913451710908**. \n",
    "\n",
    "Results generated by the `GridSearch` show number of topics = 10 has better scores. And `learning_decay` of 0.7 outperforms both 0.5 and 0.9. The Log Likelihood of this model is **-18746788.238628864** which is larger than the model I created earlier. The Perplexity value of **5561.752238087095** is larger than the original model which suggests that the first model could be better. \n",
    "\n",
    "So even though we started with 20 distinct topics, some topics could share common keywords. For example, **motorcycles** and **cars**, **pc hardware** and **mac hardware**.\n",
    "\n",
    "To tune this even further, you can do a finer grid search for number of topics between 5 and 15. But I am going to skip that for now.\n",
    "\n",
    "So a lower optimal number of distinct topics (even 10 topics) may be reasonable for this dataset. And a `learning_decay` value of 0.7 seems to be the optimum level. I don’t know that yet. But LDA says so. Let’s see how that works out."
   ]
  },
  {
   "cell_type": "markdown",
   "metadata": {},
   "source": [
    "Now I'm going to rebuild the model with the new settings suggested by `GridSearch`. I'm not going to input a value for `learning_decay` as the default is what is suggested as the optimum model by `GridSearch`."
   ]
  },
  {
   "cell_type": "code",
   "execution_count": 35,
   "metadata": {},
   "outputs": [],
   "source": [
    "lda = LatentDirichletAllocation(n_components=10,random_state=1)"
   ]
  },
  {
   "cell_type": "markdown",
   "metadata": {},
   "source": [
    "And I'll fit the model again with these new values recommended by `GridSearch`."
   ]
  },
  {
   "cell_type": "code",
   "execution_count": 36,
   "metadata": {},
   "outputs": [
    {
     "data": {
      "text/plain": [
       "LatentDirichletAllocation(batch_size=128, doc_topic_prior=None,\n",
       "             evaluate_every=-1, learning_decay=0.7,\n",
       "             learning_method='batch', learning_offset=10.0,\n",
       "             max_doc_update_iter=100, max_iter=10, mean_change_tol=0.001,\n",
       "             n_components=10, n_jobs=None, n_topics=None, perp_tol=0.1,\n",
       "             random_state=1, topic_word_prior=None,\n",
       "             total_samples=1000000.0, verbose=0)"
      ]
     },
     "execution_count": 36,
     "metadata": {},
     "output_type": "execute_result"
    }
   ],
   "source": [
    "lda.fit(doc_term_matrix)"
   ]
  },
  {
   "cell_type": "markdown",
   "metadata": {},
   "source": [
    "Lets examine what the log likelihood and perplexity values are."
   ]
  },
  {
   "cell_type": "code",
   "execution_count": 37,
   "metadata": {},
   "outputs": [
    {
     "name": "stdout",
     "output_type": "stream",
     "text": [
      "Log Likelihood:  -54619996.62116641\n",
      "Perplexity:  5676.978386836095\n"
     ]
    }
   ],
   "source": [
    "print(\"Log Likelihood: \", lda.score(doc_term_matrix))\n",
    "print(\"Perplexity: \", lda.perplexity(doc_term_matrix))"
   ]
  },
  {
   "cell_type": "markdown",
   "metadata": {},
   "source": [
    "### Word vocabulary"
   ]
  },
  {
   "cell_type": "markdown",
   "metadata": {},
   "source": [
    "The count vectorizer contains a list of all words that were found within the text documents, with the `max_df`, `min_df` and `stop words` applied to them. "
   ]
  },
  {
   "cell_type": "code",
   "execution_count": 38,
   "metadata": {
    "scrolled": false
   },
   "outputs": [
    {
     "data": {
      "text/plain": [
       "45783"
      ]
     },
     "execution_count": 38,
     "metadata": {},
     "output_type": "execute_result"
    }
   ],
   "source": [
    "len(count_vectorizer.get_feature_names())"
   ]
  },
  {
   "cell_type": "markdown",
   "metadata": {},
   "source": [
    "When we know the length of the count vectorizer (which is a list), we can examine any of the words within it that is within the length of the list.\n",
    "\n",
    "For example, to see word 700 we simply type:"
   ]
  },
  {
   "cell_type": "code",
   "execution_count": 39,
   "metadata": {},
   "outputs": [
    {
     "data": {
      "text/plain": [
       "'2pm'"
      ]
     },
     "execution_count": 39,
     "metadata": {},
     "output_type": "execute_result"
    }
   ],
   "source": [
    "count_vectorizer.get_feature_names()[700]"
   ]
  },
  {
   "cell_type": "markdown",
   "metadata": {},
   "source": [
    "The LDA consists of 10 components containing the probability for each word in the count vectorizer. I set the number of components using the `n_components` option when fitting LDA with the dtm."
   ]
  },
  {
   "cell_type": "code",
   "execution_count": 40,
   "metadata": {},
   "outputs": [
    {
     "data": {
      "text/plain": [
       "array([[1.10639106e+01, 1.53501573e+03, 1.00001937e-01, ...,\n",
       "        1.00011451e-01, 1.00002908e-01, 1.00002963e-01],\n",
       "       [4.25320530e+01, 9.36013737e+02, 3.80958727e+00, ...,\n",
       "        1.00013365e-01, 1.00000000e-01, 1.00036914e-01],\n",
       "       [3.24149536e+01, 2.72326043e+01, 1.00026045e-01, ...,\n",
       "        1.00002969e-01, 1.00016871e-01, 1.14851716e+00],\n",
       "       ...,\n",
       "       [1.00012362e-01, 2.99500946e+02, 1.00012134e-01, ...,\n",
       "        6.09994945e+00, 1.00020349e-01, 1.39723201e+00],\n",
       "       [4.01616522e+01, 6.68081695e+02, 1.00001637e-01, ...,\n",
       "        1.00000183e-01, 1.00009829e-01, 1.00000000e-01],\n",
       "       [7.95734719e+01, 2.86610395e+02, 2.47907651e+00, ...,\n",
       "        1.00010873e-01, 2.20789665e+00, 1.00082060e-01]])"
      ]
     },
     "execution_count": 40,
     "metadata": {},
     "output_type": "execute_result"
    }
   ],
   "source": [
    "lda.components_"
   ]
  },
  {
   "cell_type": "code",
   "execution_count": 41,
   "metadata": {},
   "outputs": [
    {
     "data": {
      "text/plain": [
       "(10, 45783)"
      ]
     },
     "execution_count": 41,
     "metadata": {},
     "output_type": "execute_result"
    }
   ],
   "source": [
    "lda.components_.shape"
   ]
  },
  {
   "cell_type": "markdown",
   "metadata": {},
   "source": [
    "We can view the most popular words in a topic by choosing its component number. For example, to view the probability of all words in the LDA for topic 1 we can view it as follows:"
   ]
  },
  {
   "cell_type": "code",
   "execution_count": 42,
   "metadata": {},
   "outputs": [],
   "source": [
    "# load the index positions of the first topic into an array\n",
    "first_topic = lda.components_[0]"
   ]
  },
  {
   "cell_type": "markdown",
   "metadata": {},
   "source": [
    "We can view the sorted index positions of the least to greatest values of the probability of words using the `argsort()` command. Otherwise we would have a random list of index positions based on the count vectorizer. \n",
    "\n",
    "The outputted list represents the entire index positions of all probabilities of words for the entire vocabulary."
   ]
  },
  {
   "cell_type": "code",
   "execution_count": 43,
   "metadata": {},
   "outputs": [
    {
     "data": {
      "text/plain": [
       "array([41333, 18234, 18506, ..., 30209, 19360, 35646], dtype=int64)"
      ]
     },
     "execution_count": 43,
     "metadata": {},
     "output_type": "execute_result"
    }
   ],
   "source": [
    "first_topic.argsort()"
   ]
  },
  {
   "cell_type": "markdown",
   "metadata": {},
   "source": [
    "The argsort array is the same size as the count vectorizer since is represents a list of probabilities for all words that exist in the vocabulary of words from the text files."
   ]
  },
  {
   "cell_type": "code",
   "execution_count": 44,
   "metadata": {},
   "outputs": [
    {
     "data": {
      "text/plain": [
       "(45783, numpy.ndarray)"
      ]
     },
     "execution_count": 44,
     "metadata": {},
     "output_type": "execute_result"
    }
   ],
   "source": [
    "len(first_topic.argsort()), type(first_topic.argsort())"
   ]
  },
  {
   "cell_type": "markdown",
   "metadata": {},
   "source": [
    "We can view the highest probabilities of words for a topic by going to the end of the array and chooing the least number of numbers. For example, to view the top 15 highest probability of words for the first topic, going from 15th to 1st, we simply use this command:"
   ]
  },
  {
   "cell_type": "code",
   "execution_count": 45,
   "metadata": {
    "scrolled": true
   },
   "outputs": [
    {
     "data": {
      "text/plain": [
       "array([39493, 25798, 29929, 27795, 24148, 43058, 45551, 35934, 36067,\n",
       "        7121, 39486,  7926, 30209, 19360, 35646], dtype=int64)"
      ]
     },
     "execution_count": 45,
     "metadata": {},
     "output_type": "execute_result"
    }
   ],
   "source": [
    "first_topic.argsort()[-15:]"
   ]
  },
  {
   "cell_type": "markdown",
   "metadata": {},
   "source": [
    "Then we can view the corresponding words associcted with the index positions of these words by getting the word that is referenced by a particular index position as follows:"
   ]
  },
  {
   "cell_type": "code",
   "execution_count": 46,
   "metadata": {},
   "outputs": [
    {
     "name": "stdout",
     "output_type": "stream",
     "text": [
      "study\n"
     ]
    }
   ],
   "source": [
    "print(count_vectorizer.get_feature_names()[39493])"
   ]
  },
  {
   "cell_type": "code",
   "execution_count": 47,
   "metadata": {},
   "outputs": [
    {
     "name": "stdout",
     "output_type": "stream",
     "text": [
      "said\n"
     ]
    }
   ],
   "source": [
    "print(count_vectorizer.get_feature_names()[35646])"
   ]
  },
  {
   "cell_type": "markdown",
   "metadata": {},
   "source": [
    "And I can show these words in the first topic using a loop. I'll define a function first to take in the x and y axis data and to then generate a bar chart of the most common words."
   ]
  },
  {
   "cell_type": "code",
   "execution_count": 48,
   "metadata": {},
   "outputs": [],
   "source": [
    "def show_chart(words, count, chart_title):\n",
    "    import matplotlib.pyplot as plt\n",
    "    d = pd.DataFrame({\"Words\": word_list, \"Count\": probability_list})\n",
    "    # Sort the dataframe by largest count\n",
    "    d = d.sort_values(by=[\"Count\"], ascending=False)\n",
    "    ax = d.plot.bar(y = \"Count\", \n",
    "                    x=\"Words\", \n",
    "                    title= chart_title, \n",
    "                    figsize=(15, 10), \n",
    "                    legend=True, \n",
    "                    fontsize=12, \n",
    "                    rot=1)\n",
    "    ax.set_xlabel(\"Frequent words\", fontsize=12)\n",
    "    ax.set_ylabel(\"Word count\", fontsize=12)"
   ]
  },
  {
   "cell_type": "code",
   "execution_count": 49,
   "metadata": {
    "scrolled": true
   },
   "outputs": [
    {
     "name": "stdout",
     "output_type": "stream",
     "text": [
      "study\n",
      "medical\n",
      "patients\n",
      "new\n",
      "like\n",
      "university\n",
      "years\n",
      "says\n",
      "school\n",
      "care\n",
      "students\n",
      "children\n",
      "people\n",
      "health\n",
      "said\n"
     ]
    },
    {
     "data": {
      "image/png": "[encoded data removed]",
      "text/plain": [
       "<Figure size 1080x720 with 1 Axes>"
      ]
     },
     "metadata": {
      "needs_background": "light"
     },
     "output_type": "display_data"
    }
   ],
   "source": [
    "word_list = []\n",
    "probability_list = []\n",
    "\n",
    "for index in first_topic.argsort()[-15:]:\n",
    "    frequent_word = count_vectorizer.get_feature_names()[index]\n",
    "    print(frequent_word, sep=\" \")\n",
    "    word_list.append(frequent_word)\n",
    "    probability_list.append(index)\n",
    "    \n",
    "show_chart(word_list, probability_list, \"Word probability for first topic\")"
   ]
  },
  {
   "cell_type": "markdown",
   "metadata": {},
   "source": [
    "With this logic in mind, we can create a loop to show the top number of words for each topic. When I created the original LDA I defined the number of topics with the option `n_components`. I set it to 10."
   ]
  },
  {
   "cell_type": "code",
   "execution_count": 50,
   "metadata": {
    "scrolled": true
   },
   "outputs": [
    {
     "name": "stdout",
     "output_type": "stream",
     "text": [
      "Top words for topic 0 are : \n",
      "['study']['medical']['patients']['new']['like']['university']['years']['says']['school']['care']['students']['children']['people']['health']['said']\n",
      "\n",
      "Top words for topic 1 are : \n",
      "['driving']['republican']['health']['income']['weight']['fat']['new']['cars']['just']['like']['diet']['percent']['car']['trump']['people']\n",
      "\n",
      "Top words for topic 2 are : \n",
      "['new']['learning']['people']['code']['don']['things']['way']['just']['make']['like']['need']['data']['work']['use']['time']\n",
      "\n",
      "Top words for topic 3 are : \n",
      "['protein']['add']['plants']['cooking']['good']['eat']['oil']['use']['time']['just']['species']['make']['like']['water']['food']\n",
      "\n",
      "Top words for topic 4 are : \n",
      "['million']['industry']['years']['year']['ai']['big']['like']['says']['technology']['companies']['said']['business']['data']['new']['company']\n",
      "\n",
      "Top words for topic 5 are : \n",
      "['years']['games']['time']['player']['league']['play']['football']['like']['just']['said']['season']['players']['year']['team']['game']\n",
      "\n",
      "Top words for topic 6 are : \n",
      "['world']['know']['make']['work']['just']['relationship']['things']['don']['way']['time']['like']['love']['people']['life']['art']\n",
      "\n",
      "Top words for topic 7 are : \n",
      "['century']['church']['war']['public']['human']['states']['american']['president']['political']['history']['state']['new']['government']['people']['world']\n",
      "\n",
      "Top words for topic 8 are : \n",
      "['post']['facebook']['analytics']['time']['people']['like']['use']['page']['site']['marketing']['search']['media']['social']['content']['google']\n",
      "\n",
      "Top words for topic 9 are : \n",
      "['think']['really']['going']['ll']['way']['know']['want']['ve']['make']['people']['day']['don']['time']['just']['like']\n",
      "\n"
     ]
    },
    {
     "data": {
      "image/png": "[encoded data removed]",
      "text/plain": [
       "<Figure size 1080x720 with 1 Axes>"
      ]
     },
     "metadata": {
      "needs_background": "light"
     },
     "output_type": "display_data"
    },
    {
     "data": {
      "image/png": "[encoded data removed]",
      "text/plain": [
       "<Figure size 1080x720 with 1 Axes>"
      ]
     },
     "metadata": {
      "needs_background": "light"
     },
     "output_type": "display_data"
    },
    {
     "data": {
      "image/png": "[encoded data removed]",
      "text/plain": [
       "<Figure size 1080x720 with 1 Axes>"
      ]
     },
     "metadata": {
      "needs_background": "light"
     },
     "output_type": "display_data"
    },
    {
     "data": {
      "image/png": "[encoded data removed]",
      "text/plain": [
       "<Figure size 1080x720 with 1 Axes>"
      ]
     },
     "metadata": {
      "needs_background": "light"
     },
     "output_type": "display_data"
    },
    {
     "data": {
      "image/png": "[encoded data removed]",
      "text/plain": [
       "<Figure size 1080x720 with 1 Axes>"
      ]
     },
     "metadata": {
      "needs_background": "light"
     },
     "output_type": "display_data"
    },
    {
     "data": {
      "image/png": "[encoded data removed]",
      "text/plain": [
       "<Figure size 1080x720 with 1 Axes>"
      ]
     },
     "metadata": {
      "needs_background": "light"
     },
     "output_type": "display_data"
    },
    {
     "data": {
      "image/png": "[encoded data removed]",
      "text/plain": [
       "<Figure size 1080x720 with 1 Axes>"
      ]
     },
     "metadata": {
      "needs_background": "light"
     },
     "output_type": "display_data"
    },
    {
     "data": {
      "image/png": "[encoded data removed]",
      "text/plain": [
       "<Figure size 1080x720 with 1 Axes>"
      ]
     },
     "metadata": {
      "needs_background": "light"
     },
     "output_type": "display_data"
    },
    {
     "data": {
      "image/png": "[encoded data removed]",
      "text/plain": [
       "<Figure size 1080x720 with 1 Axes>"
      ]
     },
     "metadata": {
      "needs_background": "light"
     },
     "output_type": "display_data"
    },
    {
     "data": {
      "image/png": "[encoded data removed]",
      "text/plain": [
       "<Figure size 1080x720 with 1 Axes>"
      ]
     },
     "metadata": {
      "needs_background": "light"
     },
     "output_type": "display_data"
    }
   ],
   "source": [
    "word_list = []\n",
    "probability_list = []\n",
    "\n",
    "top_number = 15\n",
    "count = 0\n",
    "for probability_number in lda.components_:\n",
    "    text_message = f\"Top words for topic {count} are : \"\n",
    "    print(text_message)    \n",
    "    for number in probability_number.argsort()[-top_number:]:\n",
    "        print([count_vectorizer.get_feature_names()[number]], end= \"\")\n",
    "        word_list.append([count_vectorizer.get_feature_names()[number]])\n",
    "        probability_list.append(number)\n",
    "    show_chart(word_list, probability_list, text_message)\n",
    "    print(\"\\n\")  \n",
    "    count += 1\n"
   ]
  },
  {
   "cell_type": "markdown",
   "metadata": {},
   "source": [
    "And I can increase the number of words in each topic by simply increasing the number of words extracted into the top words array:"
   ]
  },
  {
   "cell_type": "code",
   "execution_count": 51,
   "metadata": {},
   "outputs": [
    {
     "name": "stdout",
     "output_type": "stream",
     "text": [
      "Top words for topic 0 are : \n",
      "['family']['hospital']['time']['parents']['year']['study']['medical']['patients']['new']['like']['university']['years']['says']['school']['care']['students']['children']['people']['health']['said']\n",
      "\n",
      "Top words for topic 1 are : \n",
      "['low']['economic']['year']['high']['economy']['driving']['republican']['health']['income']['weight']['fat']['new']['cars']['just']['like']['diet']['percent']['car']['trump']['people']\n",
      "\n",
      "Top words for topic 2 are : \n",
      "['example']['different']['ll']['want']['using']['new']['learning']['people']['code']['don']['things']['way']['just']['make']['like']['need']['data']['work']['use']['time']\n",
      "\n",
      "Top words for topic 3 are : \n",
      "['ingredients']['plant']['years']['healthy']['recipe']['protein']['add']['plants']['cooking']['good']['eat']['oil']['use']['time']['just']['species']['make']['like']['water']['food']\n",
      "\n",
      "Top words for topic 4 are : \n",
      "['world']['people']['market']['work']['time']['million']['industry']['years']['year']['ai']['big']['like']['says']['technology']['companies']['said']['business']['data']['new']['company']\n",
      "\n",
      "Top words for topic 5 are : \n",
      "['best']['teams']['sports']['vitamin']['ball']['years']['games']['time']['player']['league']['play']['football']['like']['just']['said']['season']['players']['year']['team']['game']\n",
      "\n",
      "Top words for topic 6 are : \n",
      "['years']['marriage']['feel']['person']['good']['world']['know']['make']['work']['just']['relationship']['things']['don']['way']['time']['like']['love']['people']['life']['art']\n",
      "\n",
      "Top words for topic 7 are : \n",
      "['social']['united']['power']['years']['said']['century']['church']['war']['public']['human']['states']['american']['president']['political']['history']['state']['new']['government']['people']['world']\n",
      "\n",
      "Top words for topic 8 are : \n",
      "['just']['business']['make']['new']['want']['post']['facebook']['analytics']['time']['people']['like']['use']['page']['site']['marketing']['search']['media']['social']['content']['google']\n",
      "\n",
      "Top words for topic 9 are : \n",
      "['things']['look']['good']['work']['said']['think']['really']['going']['ll']['way']['know']['want']['ve']['make']['people']['day']['don']['time']['just']['like']\n",
      "\n"
     ]
    }
   ],
   "source": [
    "top_number = 20\n",
    "count = 0\n",
    "for probability_number in lda.components_:\n",
    "    print(f\"Top words for topic {count} are : \")    \n",
    "    for number in probability_number.argsort()[-top_number:]:\n",
    "        print([count_vectorizer.get_feature_names()[number]], end= \"\")\n",
    "    print(\"\\n\")\n",
    "    count += 1"
   ]
  },
  {
   "cell_type": "markdown",
   "metadata": {},
   "source": [
    "Topic 0 is looking like a **medical healthcare** topic. Topic 1 could be a **political** or **economic** topic.\n",
    "\n",
    "We could increase the number of topics to further increase the range of topics available to us by increasing the `n_components` value during the LDA construction. \n",
    "\n",
    "For example, now I'm increasing the number of topics to 30 to see what effect this has on the spread of words in each topic. \n",
    "\n",
    "** Note** More topics = more time to build the model."
   ]
  },
  {
   "cell_type": "code",
   "execution_count": 52,
   "metadata": {},
   "outputs": [],
   "source": [
    "from sklearn.decomposition import LatentDirichletAllocation"
   ]
  },
  {
   "cell_type": "code",
   "execution_count": 53,
   "metadata": {},
   "outputs": [],
   "source": [
    "lda = LatentDirichletAllocation(n_components=30,random_state=1)"
   ]
  },
  {
   "cell_type": "code",
   "execution_count": 54,
   "metadata": {},
   "outputs": [
    {
     "data": {
      "text/plain": [
       "LatentDirichletAllocation(batch_size=128, doc_topic_prior=None,\n",
       "             evaluate_every=-1, learning_decay=0.7,\n",
       "             learning_method='batch', learning_offset=10.0,\n",
       "             max_doc_update_iter=100, max_iter=10, mean_change_tol=0.001,\n",
       "             n_components=30, n_jobs=None, n_topics=None, perp_tol=0.1,\n",
       "             random_state=1, topic_word_prior=None,\n",
       "             total_samples=1000000.0, verbose=0)"
      ]
     },
     "execution_count": 54,
     "metadata": {},
     "output_type": "execute_result"
    }
   ],
   "source": [
    "lda.fit(doc_term_matrix)"
   ]
  },
  {
   "cell_type": "markdown",
   "metadata": {},
   "source": [
    "Now we have a list of 30 topics with a list of probabilities for words in each topic."
   ]
  },
  {
   "cell_type": "code",
   "execution_count": 55,
   "metadata": {},
   "outputs": [
    {
     "data": {
      "text/plain": [
       "(30, 45783)"
      ]
     },
     "execution_count": 55,
     "metadata": {},
     "output_type": "execute_result"
    }
   ],
   "source": [
    "lda.components_.shape"
   ]
  },
  {
   "cell_type": "markdown",
   "metadata": {},
   "source": [
    "Lets view the new list of top 20 words within each of the 30 topics."
   ]
  },
  {
   "cell_type": "code",
   "execution_count": 56,
   "metadata": {},
   "outputs": [
    {
     "name": "stdout",
     "output_type": "stream",
     "text": [
      "Top words for topic 0 are : \n",
      "['work']['brain']['child']['people']['year']['schools']['years']['student']['kids']['says']['research']['education']['parents']['college']['said']['study']['university']['children']['school']['students']\n",
      "\n",
      "Top words for topic 1 are : \n",
      "['food']['species']['disease']['000']['new']['researchers']['humans']['percent']['gene']['says']['study']['scientists']['like']['human']['just']['genes']['years']['dna']['genetic']['people']\n",
      "\n",
      "Top words for topic 2 are : \n",
      "['work']['second']['think']['example']['point']['favorite']['rights']['way']['lawyer']['practice']['court']['use']['does']['good']['state']['case']['law']['right']['people']['legal']\n",
      "\n",
      "Top words for topic 3 are : \n",
      "['ferrari']['vehicle']['years']['road']['f1']['speed']['hamilton']['said']['50']['drive']['time']['race']['traffic']['team']['year']['drivers']['driver']['driving']['cars']['car']\n",
      "\n",
      "Top words for topic 4 are : \n",
      "['debt']['time']['capital']['investment']['firm']['bank']['income']['accounting']['new']['years']['companies']['year']['money']['million']['000']['cash']['financial']['business']['company']['said']\n",
      "\n",
      "Top words for topic 5 are : \n",
      "['physicians']['cost']['year']['costs']['treatment']['people']['medicare']['medicine']['said']['doctor']['insurance']['hospitals']['surgery']['patient']['doctors']['medical']['hospital']['patients']['care']['health']\n",
      "\n",
      "Top words for topic 6 are : \n",
      "['photography']['galaxy']['scorpio']['september']['mercury']['gallery']['said']['new']['pisces']['leo']['house']['world']['paintings']['museum']['sign']['painting']['work']['artists']['artist']['art']\n",
      "\n",
      "Top words for topic 7 are : \n",
      "['ecology']['resources']['planet']['life']['ecological']['forest']['land']['water']['earth']['environmental']['economic']['human']['global']['change']['natural']['permaculture']['climate']['world']['nature']['species']\n",
      "\n",
      "Top words for topic 8 are : \n",
      "['public']['united']['american']['economic']['sign']['newsletter']['times']['reading']['story']['state']['percent']['york']['main']['mr']['continue']['people']['states']['said']['government']['new']\n",
      "\n",
      "Top words for topic 9 are : \n",
      "['ve']['old']['think']['don']['way']['years']['told']['did']['know']['really']['going']['people']['day']['got']['didn']['says']['time']['said']['just']['like']\n",
      "\n",
      "Top words for topic 10 are : \n",
      "['season']['coach']['nba']['sport']['time']['soccer']['teams']['basketball']['like']['just']['ball']['games']['sports']['league']['player']['play']['football']['players']['team']['game']\n",
      "\n",
      "Top words for topic 11 are : \n",
      "['good']['flavor']['vegan']['salt']['recipes']['ingredients']['chicken']['minutes']['cook']['time']['use']['add']['water']['recipe']['oil']['just']['cooking']['like']['make']['food']\n",
      "\n",
      "Top words for topic 12 are : \n",
      "['lot']['start']['good']['people']['know']['way']['best']['things']['work']['money']['use']['ve']['want']['need']['just']['like']['make']['don']['ll']['time']\n",
      "\n",
      "Top words for topic 13 are : \n",
      "['weather']['area']['just']['world']['local']['year']['engine']['food']['bike']['ski']['trip']['plant']['soil']['like']['new']['garden']['water']['plants']['city']['travel']\n",
      "\n",
      "Top words for topic 14 are : \n",
      "['site']['website']['traffic']['set']['reports']['create']['ll']['using']['page']['report']['value']['new']['user']['users']['time']['marketing']['use']['google']['analytics']['data']\n",
      "\n",
      "Top words for topic 15 are : \n",
      "['shirt']['jobs']['shoes']['new']['look']['bar']['jeans']['work']['schools']['jacket']['design']['dress']['style']['clothing']['lawyers']['wear']['legal']['school']['fashion']['law']\n",
      "\n",
      "Top words for topic 16 are : \n",
      "['moon']['experience']['social']['man']['believe']['mind']['christ']['meditation']['economic']['jesus']['spiritual']['economics']['people']['human']['science']['life']['faith']['world']['god']['church']\n",
      "\n",
      "Top words for topic 17 are : \n",
      "['said']['just']['netflix']['tv']['trial']['year']['doping']['time']['years']['court']['police']['like']['new']['shoes']['blockchain']['run']['bitcoin']['case']['running']['says']\n",
      "\n",
      "Top words for topic 18 are : \n",
      "['market']['online']['times']['team']['product']['digital']['news']['data']['big']['time']['industry']['like']['technology']['says']['work']['companies']['people']['new']['company']['business']\n",
      "\n",
      "Top words for topic 19 are : \n",
      "['quantum']['war']['great']['way']['ancient']['early']['religion']['life']['people']['like']['theory']['religious']['human']['years']['time']['new']['modern']['century']['world']['history']\n",
      "\n",
      "Top words for topic 20 are : \n",
      "['need']['relationship']['ve']['family']['work']['good']['feel']['think']['know']['way']['want']['make']['things']['love']['just']['life']['time']['don']['like']['people']\n",
      "\n",
      "Top words for topic 21 are : \n",
      "['million']['movies']['like']['000']['content']['story']['followers']['video']['people']['brands']['movie']['audience']['film']['facebook']['brand']['instagram']['marketing']['twitter']['social']['media']\n",
      "\n",
      "Top words for topic 22 are : \n",
      "['security']['later']['chinese']['american']['military']['year']['years']['china']['public']['police']['state']['country']['war']['people']['world']['mr']['new']['government']['told']['said']\n",
      "\n",
      "Top words for topic 23 are : \n",
      "['use']['science']['time']['work']['model']['software']['big']['information']['machine']['way']['computer']['systems']['like']['human']['technology']['intelligence']['new']['learning']['ai']['data']\n",
      "\n",
      "Top words for topic 24 are : \n",
      "['light']['different']['work']['new']['object']['just']['languages']['makeup']['using']['used']['function']['look']['make']['language']['like']['design']['color']['programming']['use']['code']\n",
      "\n",
      "Top words for topic 25 are : \n",
      "['campaign']['republicans']['clinton']['presidential']['voters']['american']['politics']['vote']['people']['republican']['party']['election']['congress']['said']['white']['house']['political']['obama']['president']['trump']\n",
      "\n",
      "Top words for topic 26 are : \n",
      "['heart']['high']['risk']['people']['supplements']['levels']['diet']['foods']['skin']['blood']['disease']['cancer']['body']['products']['vitamins']['healthy']['food']['wellness']['health']['vitamin']\n",
      "\n",
      "Top words for topic 27 are : \n",
      "['protein']['don']['eating']['calories']['run']['strength']['ll']['muscle']['diet']['work']['sleep']['eat']['time']['running']['training']['day']['exercise']['fat']['weight']['body']\n",
      "\n",
      "Top words for topic 28 are : \n",
      "['players']['best']['football']['good']['league']['play']['time']['nfl']['new']['think']['years']['week']['baseball']['said']['just']['like']['team']['season']['game']['year']\n",
      "\n",
      "Top words for topic 29 are : \n",
      "['just']['social']['want']['results']['pages']['website']['like']['share']['links']['facebook']['post']['link']['seo']['use']['blog']['page']['site']['search']['google']['content']\n",
      "\n"
     ]
    }
   ],
   "source": [
    "top_number = 20\n",
    "count = 0\n",
    "for probability_number in lda.components_:\n",
    "    print(f\"Top words for topic {count} are : \")    \n",
    "    for number in probability_number.argsort()[-top_number:]:\n",
    "        print([count_vectorizer.get_feature_names()[number]], end= \"\")\n",
    "    print(\"\\n\")\n",
    "    count += 1"
   ]
  },
  {
   "cell_type": "markdown",
   "metadata": {},
   "source": [
    "With these new results, it is more obvious that topic 0 contains words relating to **education**, topic 1 contains words within the broad topic **research** or **science**. Topic 2 could be called **law**. And topic 3 is about **sports** or **motor racing**. At this point, we need to go through each topic and see if the words they contain overlap alot with other topics or not. \n",
    "\n",
    "**Note** There could be some topics that may contain some similar words, so a few repeating words does not necessarily indicate that you are applying too many topics. You need to experiment with the number of topics, and the `max_df` and `min_df` values to find the optimum solution."
   ]
  },
  {
   "cell_type": "markdown",
   "metadata": {},
   "source": [
    "### Add topic number to original dataframe\n",
    "\n",
    "Now I would like to add the relevant topic number to the original dataframe.\n",
    "\n",
    "We can view the probability of each particular text file belonging to a particular topic as follows:"
   ]
  },
  {
   "cell_type": "code",
   "execution_count": 57,
   "metadata": {},
   "outputs": [],
   "source": [
    "textfile_topics = lda.transform(doc_term_matrix)"
   ]
  },
  {
   "cell_type": "code",
   "execution_count": 58,
   "metadata": {},
   "outputs": [
    {
     "data": {
      "text/plain": [
       "array([[2.54258835e-05, 2.54258835e-05, 2.54258835e-05, ...,\n",
       "        2.54258835e-05, 2.54258835e-05, 1.35829343e-02],\n",
       "       [1.12612613e-04, 4.74591311e-02, 1.12612613e-04, ...,\n",
       "        1.12612613e-04, 5.67152187e-02, 1.12612613e-04],\n",
       "       [3.55366027e-05, 3.55366027e-05, 3.55366027e-05, ...,\n",
       "        5.06904254e-02, 3.55366027e-05, 3.55366027e-05],\n",
       "       ...,\n",
       "       [3.65706191e-02, 4.37957995e-03, 5.63893059e-02, ...,\n",
       "        3.97298371e-05, 3.97298371e-05, 3.97298371e-05],\n",
       "       [4.17710944e-05, 4.17710944e-05, 4.17710944e-05, ...,\n",
       "        4.17710944e-05, 4.17710944e-05, 3.02135219e-02],\n",
       "       [8.36800807e-02, 1.42450142e-04, 1.42450142e-04, ...,\n",
       "        1.42450142e-04, 1.42450142e-04, 1.42450142e-04]])"
      ]
     },
     "execution_count": 58,
     "metadata": {},
     "output_type": "execute_result"
    }
   ],
   "source": [
    "textfile_topics"
   ]
  },
  {
   "cell_type": "markdown",
   "metadata": {},
   "source": [
    "Lets view the index values of each word for the first text file"
   ]
  },
  {
   "cell_type": "code",
   "execution_count": 59,
   "metadata": {
    "scrolled": true
   },
   "outputs": [
    {
     "data": {
      "text/plain": [
       "array([2.54258835e-05, 2.54258835e-05, 2.54258835e-05, 2.54258835e-05,\n",
       "       2.09202362e-02, 2.54258835e-05, 2.54258835e-05, 2.54258835e-05,\n",
       "       2.54258835e-05, 2.54258835e-05, 2.54258835e-05, 2.54258835e-05,\n",
       "       8.57170443e-02, 2.54258835e-05, 5.60295987e-02, 2.54258835e-05,\n",
       "       2.54258835e-05, 2.12842375e-02, 2.39007609e-01, 2.11493719e-02,\n",
       "       2.54258835e-05, 3.17803443e-03, 2.54258835e-05, 1.30475192e-01,\n",
       "       3.89229689e-01, 1.89429611e-02, 2.54258835e-05, 2.54258835e-05,\n",
       "       2.54258835e-05, 1.35829343e-02])"
      ]
     },
     "execution_count": 59,
     "metadata": {},
     "output_type": "execute_result"
    }
   ],
   "source": [
    "textfile_topics[0]"
   ]
  },
  {
   "cell_type": "code",
   "execution_count": 60,
   "metadata": {},
   "outputs": [
    {
     "data": {
      "text/plain": [
       "(7911, 30)"
      ]
     },
     "execution_count": 60,
     "metadata": {},
     "output_type": "execute_result"
    }
   ],
   "source": [
    "# Contains list of the 30 topics for each text file, so there are\n",
    "# 7911 text files\n",
    "textfile_topics.shape"
   ]
  },
  {
   "cell_type": "markdown",
   "metadata": {},
   "source": [
    "To see the values as a more representative topic number, we can round these values up. This example shows the index positions for each topic for the first text file."
   ]
  },
  {
   "cell_type": "code",
   "execution_count": 61,
   "metadata": {},
   "outputs": [
    {
     "data": {
      "text/plain": [
       "array([0.  , 0.  , 0.  , 0.  , 0.02, 0.  , 0.  , 0.  , 0.  , 0.  , 0.  ,\n",
       "       0.  , 0.09, 0.  , 0.06, 0.  , 0.  , 0.02, 0.24, 0.02, 0.  , 0.  ,\n",
       "       0.  , 0.13, 0.39, 0.02, 0.  , 0.  , 0.  , 0.01])"
      ]
     },
     "execution_count": 61,
     "metadata": {},
     "output_type": "execute_result"
    }
   ],
   "source": [
    "textfile_topics[0].round(2)"
   ]
  },
  {
   "cell_type": "markdown",
   "metadata": {},
   "source": [
    "To view the highest value in the particular topic we can use `.argmax()` command. This number is the position of the highest probability number in the array for topic 0."
   ]
  },
  {
   "cell_type": "code",
   "execution_count": 65,
   "metadata": {
    "scrolled": true
   },
   "outputs": [
    {
     "data": {
      "text/plain": [
       "24"
      ]
     },
     "execution_count": 65,
     "metadata": {},
     "output_type": "execute_result"
    }
   ],
   "source": [
    "textfile_topics[0].argmax()"
   ]
  },
  {
   "cell_type": "markdown",
   "metadata": {},
   "source": [
    "It appears that the first text file belongs to topic number 24."
   ]
  },
  {
   "cell_type": "code",
   "execution_count": 62,
   "metadata": {},
   "outputs": [],
   "source": [
    "examined_topic = lda.components_[24]"
   ]
  },
  {
   "cell_type": "code",
   "execution_count": 63,
   "metadata": {},
   "outputs": [
    {
     "name": "stdout",
     "output_type": "stream",
     "text": [
      "simple functions room learn image line example eye java building programmer class objects foundation good pattern white add programmers string paint don brush way create program type need time colors light different work new object just languages makeup using used function look make language like design color programming use code "
     ]
    }
   ],
   "source": [
    "# Show more words for better topic selection for this topic (24)\n",
    "for index in examined_topic.argsort()[-50:]:\n",
    "    print(count_vectorizer.get_feature_names()[index], end=\" \")"
   ]
  },
  {
   "cell_type": "markdown",
   "metadata": {},
   "source": [
    "This topic appears to be a computer programming or technology topic. Lets view the contents of this document to see how that matches with its contents."
   ]
  },
  {
   "cell_type": "code",
   "execution_count": 66,
   "metadata": {},
   "outputs": [
    {
     "name": "stdout",
     "output_type": "stream",
     "text": [
      "2016 Update: Whether you enjoy myth busting, Python, or just all enterprise software, you will also likely enjoy Enterprise Software with Python, presented by the author of the article below, and published by O’Reilly.\n",
      "\n",
      "PayPal enjoys a remarkable amount of linguistic pluralism in its programming culture. In addition to the long-standing popularity of C++ and Java, an increasing number of teams are choosing JavaScript and Scala, and Braintree‘s acquisition has introduced a sophisticated Ruby community.\n",
      "\n",
      "One language in particular has both a long history at eBay and PayPal and a growing mindshare among developers: Python.\n",
      "\n",
      "Python has enjoyed many years of grassroots usage and support from developers across eBay. Even before official support from management, technologists of all walks went the extra mile to reap the rewards of developing in Python. I joined PayPal a few years ago, and chose Python to work on internal applications, but I’ve personally found production PayPal Python code from nearly 15 years ago.\n",
      "\n",
      "Today, Python powers over 50 projects, including:\n",
      "\n",
      "Features and products , like RedLaser\n",
      "\n",
      ", like RedLaser Operations and infrastructure , both OpenStack and proprietary\n",
      "\n",
      ", both OpenStack and proprietary Mid-tier services and applications , like the one used to set PayPal’s prices and check customer feature eligibility\n",
      "\n",
      ", like the one used to set PayPal’s prices and check customer feature eligibility Monitoring agents and interfaces , used for several deployment and security use cases\n",
      "\n",
      ", used for several deployment and security use cases Batch jobs for data import , price adjustment, and more\n",
      "\n",
      ", price adjustment, and more And far too many developer tools to count\n",
      "\n",
      "In the coming series of posts I’ll detail the initiatives and technologies that led the eBay/PayPal Python community to grow from just under 25 engineers in 2011 to over 260 in 2014. For this introductory post, I’ll be focusing on the 10 myths I’ve had to debunk the most in eBay and PayPal’s enterprise environments.\n",
      "\n",
      "Myth #1: Python is a new language\n",
      "\n",
      "What with all the start-ups using it and kids learning it these days, it’s easy to see how this myth still persists. Python is actually over 23 years old, originally released in 1991, 5-years before HTTP 1.0 and 4-years before Java. A now-famous early usage of Python was in 1996: Google’s first successful web crawler.\n",
      "\n",
      "If you’re curious about the long history of Python, Guido van Rossum, Python’s creator, has taken the care to tell the whole story.\n",
      "\n",
      "Myth #2: Python is not compiled\n",
      "\n",
      "While not requiring a separate compiler toolchain like C++, Python is in fact compiled to bytecode, much like Java and many other compiled languages. Further compilation steps, if any, are at the discretion of the runtime, be it CPython, PyPy, Jython/JVM, IronPython/CLR, or some other process virtual machine. See Myth #6 for more info.\n",
      "\n",
      "The general principle at PayPal and elsewhere is that the compilation status of code should not be relied on for security. It is much more important to secure the runtime environment, as virtually every language has a decompiler, or can be intercepted to dump protected state. See the next myth for even more Python security implications.\n",
      "\n",
      "Myth #3: Python is not secure\n",
      "\n",
      "Python’s affinity for the lightweight may not make it seem formidable, but the intuition here can be misleading. One central tenet of security is to present as small a target as possible. Big systems are anti-secure, as they tend to overly centralize behaviors, as well as undercut developer comprehension. Python keeps these demons at bay by encouraging simplicity. Furthermore, CPython addresses these issues by being a simple, stable, and easily-auditable virtual machine. In fact, a recent analysis by Coverity Software resulted in CPython receiving their highest quality rating.\n",
      "\n",
      "Python also features an extensive array of open-source, industry-standard security libraries. At PayPal, where we take security and trust very seriously, we find that a combination of hashlib, PyCrypto, and OpenSSL, via PyOpenSSL and our own custom bindings, cover all of PayPal’s diverse security and performance needs.\n",
      "\n",
      "For these reasons and more, Python has seen some of its fastest adoption at PayPal (and eBay) within the application security group. Here are just a few security-based applications utilizing Python for PayPal’s security-first environment:\n",
      "\n",
      "Creating security agents for facilitating key rotation and consolidating cryptographic implementations\n",
      "\n",
      "Integrating with industry-leading HSM technologies\n",
      "\n",
      "technologies Constructing TLS-secured wrapper proxies for less-compliant stacks\n",
      "\n",
      "Generating keys and certificates for our internal mutual-authentication schemes\n",
      "\n",
      "Developing active vulnerability scanners\n",
      "\n",
      "Plus, myriad Python-built operations-oriented systems with security implications, such as firewall and connection management. In the future we’ll definitely try to put together a deep dive on PayPal Python security particulars.\n",
      "\n",
      "Myth #4: Python is a scripting language\n",
      "\n",
      "Python can indeed be used for scripting, and is one of the forerunners of the domain due to its simple syntax, cross-platform support, and ubiquity among Linux, Macs, and other Unix machines.\n",
      "\n",
      "In fact, Python may be one of the most flexible technologies among general-use programming languages. To list just a few:\n",
      "\n",
      "Not to mention web sites and web services aplenty. In fact, PayPal engineers seem to have a penchant for going on to start Python-based web properties, YouTube and Yelp, for instance. For an even bigger list of Python success stories, check out the official list.\n",
      "\n",
      "Myth #5: Python is weakly-typed\n",
      "\n",
      "Python’s type system is characterized by strong, dynamic typing. Wikipedia can explain more.\n",
      "\n",
      "Not that it is a competition, but as a fun fact, Python is more strongly-typed than Java. Java has a split type system for primitives and objects, with null lying in a sort of gray area. On the other hand, modern Python has a unified strong type system, where the type of None is well-specified. Furthermore, the JVM itself is also dynamically-typed, as it traces its roots back to an implementation of a Smalltalk VM acquired by Sun.\n",
      "\n",
      "Python’s type system is very nice, but for enterprise use there are much bigger concerns at hand.\n",
      "\n",
      "Myth #6: Python is slow\n",
      "\n",
      "First, a critical distinction: Python is a programming language, not a runtime. There are several Python implementations:\n",
      "\n",
      "CPython is the reference implementation, and also the most widely distributed and used. Jython is a mature implementation of Python for usage with the JVM. IronPython is Microsoft’s Python for the Common Language Runtime, aka .NET. PyPy is an up-and-coming implementation of Python, with advanced features such as JIT compilation, incremental garbage collection, and more.\n",
      "\n",
      "Each runtime has its own performance characteristics, and none of them are slow per se. The more important point here is that it is a mistake to assign performance assessments to a programming languages. Always assess an application runtime, most preferably against a particular use case.\n",
      "\n",
      "Having cleared that up, here is a small selection of cases where Python has offered significant performance advantages:\n",
      "\n",
      "Admittedly these are not the newest examples, just my favorites. It would be easy to get side-tracked into the wide world of high-performance Python and the unique offerings of runtimes. Instead of addressing individual special cases, attention should be drawn to the generalizable impact of developer productivity on end-product performance, especially in an enterprise setting.\n",
      "\n",
      "Given enough time, a disciplined developer can execute the only proven approach to achieving accurate and performant software:\n",
      "\n",
      "Engineer for correct behavior, including the development of respective tests Profile and measure performance, identifying bottlenecks Optimize, paying proper respect to the test suite and Amdahl’s Law, and taking advantage of Python’s strong roots in C.\n",
      "\n",
      "It might sound simple, but even for seasoned engineers, this can be a very time-consuming process. Python was designed from the ground up with developer timelines in mind. In our experience, it’s not uncommon for Python projects to undergo three or more iterations in the time it C++ and Java to do just one. Today, PayPal and eBay have seen multiple success stories wherein Python projects outperformed their C++ and Java counterparts, with less code (see right), all thanks to fast development times enabling careful tailoring and optimization. You know, the fun stuff.\n",
      "\n",
      "Myth #7: Python does not scale\n",
      "\n",
      "Scale has many definitions, but by any definition, YouTube is a web site at scale. More than 1 billion unique visitors per month, over 100 hours of uploaded video per minute, and going on 20 pecent of peak Internet bandwidth, all with Python as a core technology. Dropbox, Disqus, Eventbrite, Reddit, Twilio, Instagram, Yelp, EVE Online, Second Life, and, yes, eBay and PayPal all have Python scaling stories that prove scale is more than just possible: it’s a pattern.\n",
      "\n",
      "The key to success is simplicity and consistency. CPython, the primary Python virtual machine, maximizes these characteristics, which in turn makes for a very predictable runtime. One would be hard pressed to find Python programmers concerned about garbage collection pauses or application startup time. With strong platform and networking support, Python naturally lends itself to smart horizontal scalability, as manifested in systems like BitTorrent.\n",
      "\n",
      "Additionally, scaling is all about measurement and iteration. Python is built with profiling and optimization in mind. See Myth #6 for more details on how to vertically scale Python.\n",
      "\n",
      "Myth #8: Python lacks good concurrency support\n",
      "\n",
      "Occasionally debunking performance and scaling myths, and someone tries to get technical, “Python lacks concurrency,” or, “What about the GIL?” If dozens of counterexamples are insufficient to bolster one’s confidence in Python’s ability to scale vertically and horizontally, then an extended explanation of a CPython implementation detail probably won’t help, so I’ll keep it brief.\n",
      "\n",
      "Python has great concurrency primitives, including generators, greenlets, Deferreds, and futures. Python has great concurrency frameworks, including eventlet, gevent, and Twisted. Python has had some amazing work put into customizing runtimes for concurrency, including Stackless and PyPy. All of these and more show that there is no shortage of engineers effectively and unapologetically using Python for concurrent programming. Also, all of these are officially support and/or used in enterprise-level production environments. For examples, refer to Myth #7.\n",
      "\n",
      "The Global Interpreter Lock, or GIL, is a performance optimization for most use cases of Python, and a development ease optimization for virtually all CPython code. The GIL makes it much easier to use OS threads or green threads (greenlets usually), and does not affect using multiple processes. For more information, see this great Q&A on the topic and this overview from the Python docs.\n",
      "\n",
      "Here at PayPal, a typical service deployment entails multiple machines, with multiple processes, multiple threads, and a very large number of greenlets, amounting to a very robust and scalable concurrent environment (see figure below). In most enterprise environments, parties tends to prefer a fairly high degree of overprovisioning, for general prudence and disaster recovery. Nevertheless, in some cases Python services still see millions of requests per machine per day, handled with ease.\n",
      "\n",
      "Myth #9: Python programmers are scarce\n",
      "\n",
      "There is some truth to this myth. There are not as many Python web developers as PHP or Java web developers. This is probably mostly due to a combined interaction of industry demand and education, though trends in education suggest that this may change.\n",
      "\n",
      "That said, Python developers are far from scarce. There are millions worldwide, as evidenced by the dozens of Python conferences, tens of thousands of StackOverflow questions, and companies like YouTube, Bank of America, and LucasArts/Dreamworks employing Python developers by the hundreds and thousands. At eBay and PayPal we have hundreds of developers who use Python on a regular basis, so what’s the trick?\n",
      "\n",
      "Well, why scavenge when one can create? Python is exceptionally easy to learn, and is a first programming language for children, university students, and professionals alike. At eBay, it only takes one week to show real results for a new Python programmer, and they often really start to shine as quickly as 2-3 months, all made possible by the Internet’s rich cache of interactive tutorials, books, documentation, and open-source codebases.\n",
      "\n",
      "Another important factor to consider is that projects using Python simply do not require as many developers as other projects. As mentioned in Myth #6 and Myth #9, lean, effective teams like Instagram are a common trope in Python projects, and this has certainly been our experience at eBay and PayPal.\n",
      "\n",
      "Myth #10: Python is not for big projects\n",
      "\n",
      "Myth #7 discussed running Python projects at scale, but what about developing Python projects at scale? As mentioned in Myth #9, most Python projects tend not to be people-hungry. while Instagram reached hundreds of millions of hits a day at the time of their billion dollar acquisition, the whole company was still only a group of a dozen or so people. Dropbox in 2011 only had 70 engineers, and other teams were similarly lean. So, can Python scale to large teams?\n",
      "\n",
      "Bank of America actually has over 5,000 Python developers, with over 10 million lines of Python in one project alone. JP Morgan underwent a similar transformation. YouTube also has engineers in the thousands and lines of code in the millions. Big products and big teams use Python every day, and while it has excellent modularity and packaging characteristics, beyond a certain point much of the general development scaling advice stays the same. Tooling, strong conventions, and code review are what make big projects a manageable reality.\n",
      "\n",
      "Luckily, Python starts with a good baseline on those fronts as well. We use PyFlakes and other tools to perform static analysis of Python code before it gets checked in, as well as adhering to PEP8, Python’s language-wide base style guide.\n",
      "\n",
      "Finally, it should be noted that, in addition to the scheduling speedups mentioned in Myth #6 and #7, projects using Python generally require fewer developers, as well. Our most common success story starts with a Java or C++ project slated to take a team of 3-5 developers somewhere between 2-6 months, and ends with a single motivated developer completing the project in 2-6 weeks (or hours, for that matter).\n",
      "\n",
      "A miracle for some, but a fact of modern development, and often a necessity for a competitive business.\n",
      "\n",
      "A clean slate\n",
      "\n",
      "Mythology can be a fun pastime. Discussions around these myths remain some of the most active and educational, both internally and externally, because implied in every myth is a recognition of Python’s strengths. Also, remember that the appearance of these seemingly tedious and troublesome concerns is a sign of steadily growing interest, and with steady influx of interested parties comes the constant job of education. Here’s hoping that this post manages to extinguish a flame war and enable a project or two to talk about the real work that can be achieved with Python.\n",
      "\n",
      "Keep an eye out for future posts where I’ll dive deeper into the details touched on in this overview. If you absolutely must have details before then, or have corrections or comments, shoot me an email at mahmoud@paypal.com. Until then, happy coding!\n"
     ]
    }
   ],
   "source": [
    "print(dataframe[\"Text\"][0])"
   ]
  },
  {
   "cell_type": "markdown",
   "metadata": {},
   "source": [
    "Now I'm using a loop to find the highest topic number that each document belongs to and then assigning that number to the data frame."
   ]
  },
  {
   "cell_type": "code",
   "execution_count": 67,
   "metadata": {},
   "outputs": [],
   "source": [
    "topic_list = []\n",
    "# Textfile_topics is a list of arrays containing \n",
    "# all index positions of words for each textfile\n",
    "for popular_index_pos in textfile_topics:\n",
    "    # Get the max index position in each array\n",
    "    # and add to the topic_list list\n",
    "    topic_list.append(popular_index_pos.argmax())\n",
    "\n",
    "# Add a new column to the dataframe\n",
    "dataframe[\"Topic number\"] = topic_list"
   ]
  },
  {
   "cell_type": "code",
   "execution_count": 68,
   "metadata": {
    "scrolled": true
   },
   "outputs": [
    {
     "data": {
      "text/html": [
       "<div>\n",
       "<style scoped>\n",
       "    .dataframe tbody tr th:only-of-type {\n",
       "        vertical-align: middle;\n",
       "    }\n",
       "\n",
       "    .dataframe tbody tr th {\n",
       "        vertical-align: top;\n",
       "    }\n",
       "\n",
       "    .dataframe thead th {\n",
       "        text-align: right;\n",
       "    }\n",
       "</style>\n",
       "<table border=\"1\" class=\"dataframe\">\n",
       "  <thead>\n",
       "    <tr style=\"text-align: right;\">\n",
       "      <th></th>\n",
       "      <th>Text</th>\n",
       "      <th>Topic number</th>\n",
       "    </tr>\n",
       "  </thead>\n",
       "  <tbody>\n",
       "    <tr>\n",
       "      <th>0</th>\n",
       "      <td>2016 Update: Whether you enjoy myth busting, P...</td>\n",
       "      <td>24</td>\n",
       "    </tr>\n",
       "    <tr>\n",
       "      <th>1</th>\n",
       "      <td>Let's start with the truth. The 3-point shot w...</td>\n",
       "      <td>10</td>\n",
       "    </tr>\n",
       "    <tr>\n",
       "      <th>2</th>\n",
       "      <td>Media playback is not supported on this device...</td>\n",
       "      <td>3</td>\n",
       "    </tr>\n",
       "    <tr>\n",
       "      <th>3</th>\n",
       "      <td>Krampus with babies postcard (via riptheskull/...</td>\n",
       "      <td>19</td>\n",
       "    </tr>\n",
       "    <tr>\n",
       "      <th>4</th>\n",
       "      <td>Last week, Michael Dorf published a long and c...</td>\n",
       "      <td>2</td>\n",
       "    </tr>\n",
       "    <tr>\n",
       "      <th>5</th>\n",
       "      <td>\"Eva Braun was the \"first lady\" of the Third R...</td>\n",
       "      <td>19</td>\n",
       "    </tr>\n",
       "    <tr>\n",
       "      <th>6</th>\n",
       "      <td>Reproducción automática Si la reproducción aut...</td>\n",
       "      <td>29</td>\n",
       "    </tr>\n",
       "    <tr>\n",
       "      <th>7</th>\n",
       "      <td>Journal reference:\\n\\nIn C. Freksa, ed., Found...</td>\n",
       "      <td>23</td>\n",
       "    </tr>\n",
       "    <tr>\n",
       "      <th>8</th>\n",
       "      <td>1. Keep makeup remover next to your bed so you...</td>\n",
       "      <td>24</td>\n",
       "    </tr>\n",
       "    <tr>\n",
       "      <th>9</th>\n",
       "      <td>Here, we refrain from providing another genera...</td>\n",
       "      <td>1</td>\n",
       "    </tr>\n",
       "    <tr>\n",
       "      <th>10</th>\n",
       "      <td>He has shared recipe for shakshuka dish of bak...</td>\n",
       "      <td>11</td>\n",
       "    </tr>\n",
       "    <tr>\n",
       "      <th>11</th>\n",
       "      <td>Capturing powerful landscape photographs, imag...</td>\n",
       "      <td>12</td>\n",
       "    </tr>\n",
       "    <tr>\n",
       "      <th>12</th>\n",
       "      <td>[This story has been optimized for offline rea...</td>\n",
       "      <td>0</td>\n",
       "    </tr>\n",
       "    <tr>\n",
       "      <th>13</th>\n",
       "      <td>Who loves Crusty Artisan Bread? We sure do! A ...</td>\n",
       "      <td>11</td>\n",
       "    </tr>\n",
       "    <tr>\n",
       "      <th>14</th>\n",
       "      <td>Dear Lifehacker,\\n\\nI'm tired of the rat race ...</td>\n",
       "      <td>12</td>\n",
       "    </tr>\n",
       "    <tr>\n",
       "      <th>15</th>\n",
       "      <td>I love to ski, but between the storm tracking,...</td>\n",
       "      <td>13</td>\n",
       "    </tr>\n",
       "    <tr>\n",
       "      <th>16</th>\n",
       "      <td>Facebook has been busy with the app updates, a...</td>\n",
       "      <td>13</td>\n",
       "    </tr>\n",
       "    <tr>\n",
       "      <th>17</th>\n",
       "      <td>Astronomy Picture of the Day Discover the cosm...</td>\n",
       "      <td>3</td>\n",
       "    </tr>\n",
       "    <tr>\n",
       "      <th>18</th>\n",
       "      <td>I will bet anyone $1 million dollars that I ca...</td>\n",
       "      <td>12</td>\n",
       "    </tr>\n",
       "    <tr>\n",
       "      <th>19</th>\n",
       "      <td>LAST night 40,000 people rented accommodation ...</td>\n",
       "      <td>18</td>\n",
       "    </tr>\n",
       "    <tr>\n",
       "      <th>20</th>\n",
       "      <td>For the first time, more than half of the memb...</td>\n",
       "      <td>8</td>\n",
       "    </tr>\n",
       "    <tr>\n",
       "      <th>21</th>\n",
       "      <td>I want you to consider the possibility that yo...</td>\n",
       "      <td>0</td>\n",
       "    </tr>\n",
       "    <tr>\n",
       "      <th>22</th>\n",
       "      <td>As a child, Dana Narvaiša hated school. Her te...</td>\n",
       "      <td>0</td>\n",
       "    </tr>\n",
       "    <tr>\n",
       "      <th>23</th>\n",
       "      <td>Having a regular date night is one of the simp...</td>\n",
       "      <td>20</td>\n",
       "    </tr>\n",
       "    <tr>\n",
       "      <th>24</th>\n",
       "      <td>Ecology has always been a bit doughy compared ...</td>\n",
       "      <td>23</td>\n",
       "    </tr>\n",
       "    <tr>\n",
       "      <th>25</th>\n",
       "      <td>Brandi Britton, a recruiter with OfficeTeam, a...</td>\n",
       "      <td>0</td>\n",
       "    </tr>\n",
       "    <tr>\n",
       "      <th>26</th>\n",
       "      <td>I once spent an afternoon on the northwestern ...</td>\n",
       "      <td>16</td>\n",
       "    </tr>\n",
       "    <tr>\n",
       "      <th>27</th>\n",
       "      <td>When the Instant Pot debuted in 2009, it was o...</td>\n",
       "      <td>11</td>\n",
       "    </tr>\n",
       "    <tr>\n",
       "      <th>28</th>\n",
       "      <td>Share\\n\\nWelcome to all the new Google Reader ...</td>\n",
       "      <td>29</td>\n",
       "    </tr>\n",
       "    <tr>\n",
       "      <th>29</th>\n",
       "      <td>Story highlights Karen L. Cox: Recent events h...</td>\n",
       "      <td>22</td>\n",
       "    </tr>\n",
       "    <tr>\n",
       "      <th>...</th>\n",
       "      <td>...</td>\n",
       "      <td>...</td>\n",
       "    </tr>\n",
       "    <tr>\n",
       "      <th>7881</th>\n",
       "      <td>Nature Valley Canada recently sat down three g...</td>\n",
       "      <td>20</td>\n",
       "    </tr>\n",
       "    <tr>\n",
       "      <th>7882</th>\n",
       "      <td>Image caption More people go to church on Sund...</td>\n",
       "      <td>22</td>\n",
       "    </tr>\n",
       "    <tr>\n",
       "      <th>7883</th>\n",
       "      <td>On first glance, it looked like a two-hour wal...</td>\n",
       "      <td>0</td>\n",
       "    </tr>\n",
       "    <tr>\n",
       "      <th>7884</th>\n",
       "      <td>Today we will cover the last of three archetyp...</td>\n",
       "      <td>19</td>\n",
       "    </tr>\n",
       "    <tr>\n",
       "      <th>7885</th>\n",
       "      <td>A brash tech entrepreneur thinks he can reinve...</td>\n",
       "      <td>0</td>\n",
       "    </tr>\n",
       "    <tr>\n",
       "      <th>7886</th>\n",
       "      <td>Publicado el 16 sept. 2016\\n\\nI built a tiled ...</td>\n",
       "      <td>24</td>\n",
       "    </tr>\n",
       "    <tr>\n",
       "      <th>7887</th>\n",
       "      <td>On 23 February, Donald Trump stood before a ra...</td>\n",
       "      <td>8</td>\n",
       "    </tr>\n",
       "    <tr>\n",
       "      <th>7888</th>\n",
       "      <td>Photo\\n\\nThe threat from North Korea has bolst...</td>\n",
       "      <td>22</td>\n",
       "    </tr>\n",
       "    <tr>\n",
       "      <th>7889</th>\n",
       "      <td>South Carolina’s state beverage is milk. Its i...</td>\n",
       "      <td>25</td>\n",
       "    </tr>\n",
       "    <tr>\n",
       "      <th>7890</th>\n",
       "      <td>In The Hitchhiker’s Guide to the Galaxy, Dougl...</td>\n",
       "      <td>23</td>\n",
       "    </tr>\n",
       "    <tr>\n",
       "      <th>7891</th>\n",
       "      <td>The following excerpt is from the Brian Tracy’...</td>\n",
       "      <td>12</td>\n",
       "    </tr>\n",
       "    <tr>\n",
       "      <th>7892</th>\n",
       "      <td>When everyone’s an artist and no one spends mo...</td>\n",
       "      <td>19</td>\n",
       "    </tr>\n",
       "    <tr>\n",
       "      <th>7893</th>\n",
       "      <td>866.9k SHARES Share Tweet\\n\\nBy Amy Carney\\n\\n...</td>\n",
       "      <td>20</td>\n",
       "    </tr>\n",
       "    <tr>\n",
       "      <th>7894</th>\n",
       "      <td>\\n\\nPhoto illustration of David Fahrenthold by...</td>\n",
       "      <td>9</td>\n",
       "    </tr>\n",
       "    <tr>\n",
       "      <th>7895</th>\n",
       "      <td>Near the heart of Scotland lies a large morass...</td>\n",
       "      <td>19</td>\n",
       "    </tr>\n",
       "    <tr>\n",
       "      <th>7896</th>\n",
       "      <td>If you look at social media a lot, as I do, yo...</td>\n",
       "      <td>25</td>\n",
       "    </tr>\n",
       "    <tr>\n",
       "      <th>7897</th>\n",
       "      <td>Graphic images depicting bloodied and dismembe...</td>\n",
       "      <td>22</td>\n",
       "    </tr>\n",
       "    <tr>\n",
       "      <th>7898</th>\n",
       "      <td>My wife and I had 12 children over the course ...</td>\n",
       "      <td>20</td>\n",
       "    </tr>\n",
       "    <tr>\n",
       "      <th>7899</th>\n",
       "      <td>Money management isn’t easy, but we do our bes...</td>\n",
       "      <td>12</td>\n",
       "    </tr>\n",
       "    <tr>\n",
       "      <th>7900</th>\n",
       "      <td>From Singapore to the USA and all around Europ...</td>\n",
       "      <td>11</td>\n",
       "    </tr>\n",
       "    <tr>\n",
       "      <th>7901</th>\n",
       "      <td>Much of what you need to know about the Lakers...</td>\n",
       "      <td>28</td>\n",
       "    </tr>\n",
       "    <tr>\n",
       "      <th>7902</th>\n",
       "      <td>The actuaries cited three main reasons they th...</td>\n",
       "      <td>5</td>\n",
       "    </tr>\n",
       "    <tr>\n",
       "      <th>7903</th>\n",
       "      <td>The Big Fat Surprise: Why Butter, Meat and Che...</td>\n",
       "      <td>1</td>\n",
       "    </tr>\n",
       "    <tr>\n",
       "      <th>7904</th>\n",
       "      <td>I had a grand plan, dear reader. I planned to ...</td>\n",
       "      <td>23</td>\n",
       "    </tr>\n",
       "    <tr>\n",
       "      <th>7905</th>\n",
       "      <td>When it comes to reaching audiences, effective...</td>\n",
       "      <td>21</td>\n",
       "    </tr>\n",
       "    <tr>\n",
       "      <th>7906</th>\n",
       "      <td>As a psychiatrist, I’ve seen this up close. I’...</td>\n",
       "      <td>0</td>\n",
       "    </tr>\n",
       "    <tr>\n",
       "      <th>7907</th>\n",
       "      <td>In 2013, a now-infamous government contractor ...</td>\n",
       "      <td>22</td>\n",
       "    </tr>\n",
       "    <tr>\n",
       "      <th>7908</th>\n",
       "      <td>In the world of art, architecture, and design,...</td>\n",
       "      <td>6</td>\n",
       "    </tr>\n",
       "    <tr>\n",
       "      <th>7909</th>\n",
       "      <td>In 1941, Juan Pujol Garcia approached intellig...</td>\n",
       "      <td>22</td>\n",
       "    </tr>\n",
       "    <tr>\n",
       "      <th>7910</th>\n",
       "      <td>Image copyright AFP Image caption Over 100 chi...</td>\n",
       "      <td>5</td>\n",
       "    </tr>\n",
       "  </tbody>\n",
       "</table>\n",
       "<p>7911 rows × 2 columns</p>\n",
       "</div>"
      ],
      "text/plain": [
       "                                                   Text  Topic number\n",
       "0     2016 Update: Whether you enjoy myth busting, P...            24\n",
       "1     Let's start with the truth. The 3-point shot w...            10\n",
       "2     Media playback is not supported on this device...             3\n",
       "3     Krampus with babies postcard (via riptheskull/...            19\n",
       "4     Last week, Michael Dorf published a long and c...             2\n",
       "5     \"Eva Braun was the \"first lady\" of the Third R...            19\n",
       "6     Reproducción automática Si la reproducción aut...            29\n",
       "7     Journal reference:\\n\\nIn C. Freksa, ed., Found...            23\n",
       "8     1. Keep makeup remover next to your bed so you...            24\n",
       "9     Here, we refrain from providing another genera...             1\n",
       "10    He has shared recipe for shakshuka dish of bak...            11\n",
       "11    Capturing powerful landscape photographs, imag...            12\n",
       "12    [This story has been optimized for offline rea...             0\n",
       "13    Who loves Crusty Artisan Bread? We sure do! A ...            11\n",
       "14    Dear Lifehacker,\\n\\nI'm tired of the rat race ...            12\n",
       "15    I love to ski, but between the storm tracking,...            13\n",
       "16    Facebook has been busy with the app updates, a...            13\n",
       "17    Astronomy Picture of the Day Discover the cosm...             3\n",
       "18    I will bet anyone $1 million dollars that I ca...            12\n",
       "19    LAST night 40,000 people rented accommodation ...            18\n",
       "20    For the first time, more than half of the memb...             8\n",
       "21    I want you to consider the possibility that yo...             0\n",
       "22    As a child, Dana Narvaiša hated school. Her te...             0\n",
       "23    Having a regular date night is one of the simp...            20\n",
       "24    Ecology has always been a bit doughy compared ...            23\n",
       "25    Brandi Britton, a recruiter with OfficeTeam, a...             0\n",
       "26    I once spent an afternoon on the northwestern ...            16\n",
       "27    When the Instant Pot debuted in 2009, it was o...            11\n",
       "28    Share\\n\\nWelcome to all the new Google Reader ...            29\n",
       "29    Story highlights Karen L. Cox: Recent events h...            22\n",
       "...                                                 ...           ...\n",
       "7881  Nature Valley Canada recently sat down three g...            20\n",
       "7882  Image caption More people go to church on Sund...            22\n",
       "7883  On first glance, it looked like a two-hour wal...             0\n",
       "7884  Today we will cover the last of three archetyp...            19\n",
       "7885  A brash tech entrepreneur thinks he can reinve...             0\n",
       "7886  Publicado el 16 sept. 2016\\n\\nI built a tiled ...            24\n",
       "7887  On 23 February, Donald Trump stood before a ra...             8\n",
       "7888  Photo\\n\\nThe threat from North Korea has bolst...            22\n",
       "7889  South Carolina’s state beverage is milk. Its i...            25\n",
       "7890  In The Hitchhiker’s Guide to the Galaxy, Dougl...            23\n",
       "7891  The following excerpt is from the Brian Tracy’...            12\n",
       "7892  When everyone’s an artist and no one spends mo...            19\n",
       "7893  866.9k SHARES Share Tweet\\n\\nBy Amy Carney\\n\\n...            20\n",
       "7894  \\n\\nPhoto illustration of David Fahrenthold by...             9\n",
       "7895  Near the heart of Scotland lies a large morass...            19\n",
       "7896  If you look at social media a lot, as I do, yo...            25\n",
       "7897  Graphic images depicting bloodied and dismembe...            22\n",
       "7898  My wife and I had 12 children over the course ...            20\n",
       "7899  Money management isn’t easy, but we do our bes...            12\n",
       "7900  From Singapore to the USA and all around Europ...            11\n",
       "7901  Much of what you need to know about the Lakers...            28\n",
       "7902  The actuaries cited three main reasons they th...             5\n",
       "7903  The Big Fat Surprise: Why Butter, Meat and Che...             1\n",
       "7904  I had a grand plan, dear reader. I planned to ...            23\n",
       "7905  When it comes to reaching audiences, effective...            21\n",
       "7906  As a psychiatrist, I’ve seen this up close. I’...             0\n",
       "7907  In 2013, a now-infamous government contractor ...            22\n",
       "7908  In the world of art, architecture, and design,...             6\n",
       "7909  In 1941, Juan Pujol Garcia approached intellig...            22\n",
       "7910  Image copyright AFP Image caption Over 100 chi...             5\n",
       "\n",
       "[7911 rows x 2 columns]"
      ]
     },
     "execution_count": 68,
     "metadata": {},
     "output_type": "execute_result"
    }
   ],
   "source": [
    "dataframe"
   ]
  },
  {
   "cell_type": "markdown",
   "metadata": {},
   "source": [
    "Now we can examine each topic and assign matching descrptions for each topic number. I'll create a list of topic number with relevant text and then match the topic number to the relevant topic text using the list."
   ]
  },
  {
   "cell_type": "code",
   "execution_count": 69,
   "metadata": {},
   "outputs": [],
   "source": [
    "topic_list = {0: \"Education\", \n",
    "              1: \"Research\", \n",
    "              2: \"Law\", \n",
    "              3: \"Sport\", \n",
    "              4: \"Finance\", \n",
    "              5: \"Health\", \n",
    "              6: \"horoscopes\", \n",
    "              7: \"Environment\", \n",
    "              8: \"Economy\", \n",
    "              9: \"Various\", \n",
    "              10: \"Sport\", \n",
    "              11: \"Cooking\", \n",
    "              12: \"Career\", \n",
    "              13: \"gardening\", \n",
    "              14: \"I.T.\", \n",
    "              15: \"Fashion\", \n",
    "              16: \"Religion\", \n",
    "              17: \"Crypto-currency\", \n",
    "              18: \"Tech news\", \n",
    "              19: \"History\", \n",
    "              20: \"Relationships\", \n",
    "              21: \"Social media\", \n",
    "              22: \"War\", \n",
    "              23: \"AI\", \n",
    "              24: \"Design\", \n",
    "              25: \"Politics\", \n",
    "              26: \"Health\", \n",
    "              27: \"Exercise\", \n",
    "              28: \"Sport\", \n",
    "              29: \"Social media\"}\n",
    "\n",
    "topic_no_to_topic = dataframe[\"Topic number\"].map(topic_list)"
   ]
  },
  {
   "cell_type": "markdown",
   "metadata": {},
   "source": [
    "And Im assigning these values back to the data frame."
   ]
  },
  {
   "cell_type": "code",
   "execution_count": 70,
   "metadata": {},
   "outputs": [],
   "source": [
    "dataframe[\"Topic desc\"] = topic_no_to_topic"
   ]
  },
  {
   "cell_type": "markdown",
   "metadata": {},
   "source": [
    "Now we can view each document as well as the assigned topic number and each topic description."
   ]
  },
  {
   "cell_type": "code",
   "execution_count": 71,
   "metadata": {},
   "outputs": [
    {
     "data": {
      "text/html": [
       "<div>\n",
       "<style scoped>\n",
       "    .dataframe tbody tr th:only-of-type {\n",
       "        vertical-align: middle;\n",
       "    }\n",
       "\n",
       "    .dataframe tbody tr th {\n",
       "        vertical-align: top;\n",
       "    }\n",
       "\n",
       "    .dataframe thead th {\n",
       "        text-align: right;\n",
       "    }\n",
       "</style>\n",
       "<table border=\"1\" class=\"dataframe\">\n",
       "  <thead>\n",
       "    <tr style=\"text-align: right;\">\n",
       "      <th></th>\n",
       "      <th>Text</th>\n",
       "      <th>Topic number</th>\n",
       "      <th>Topic desc</th>\n",
       "    </tr>\n",
       "  </thead>\n",
       "  <tbody>\n",
       "    <tr>\n",
       "      <th>0</th>\n",
       "      <td>2016 Update: Whether you enjoy myth busting, P...</td>\n",
       "      <td>24</td>\n",
       "      <td>Design</td>\n",
       "    </tr>\n",
       "    <tr>\n",
       "      <th>1</th>\n",
       "      <td>Let's start with the truth. The 3-point shot w...</td>\n",
       "      <td>10</td>\n",
       "      <td>Sport</td>\n",
       "    </tr>\n",
       "    <tr>\n",
       "      <th>2</th>\n",
       "      <td>Media playback is not supported on this device...</td>\n",
       "      <td>3</td>\n",
       "      <td>Sport</td>\n",
       "    </tr>\n",
       "    <tr>\n",
       "      <th>3</th>\n",
       "      <td>Krampus with babies postcard (via riptheskull/...</td>\n",
       "      <td>19</td>\n",
       "      <td>History</td>\n",
       "    </tr>\n",
       "    <tr>\n",
       "      <th>4</th>\n",
       "      <td>Last week, Michael Dorf published a long and c...</td>\n",
       "      <td>2</td>\n",
       "      <td>Law</td>\n",
       "    </tr>\n",
       "    <tr>\n",
       "      <th>5</th>\n",
       "      <td>\"Eva Braun was the \"first lady\" of the Third R...</td>\n",
       "      <td>19</td>\n",
       "      <td>History</td>\n",
       "    </tr>\n",
       "    <tr>\n",
       "      <th>6</th>\n",
       "      <td>Reproducción automática Si la reproducción aut...</td>\n",
       "      <td>29</td>\n",
       "      <td>Social media</td>\n",
       "    </tr>\n",
       "    <tr>\n",
       "      <th>7</th>\n",
       "      <td>Journal reference:\\n\\nIn C. Freksa, ed., Found...</td>\n",
       "      <td>23</td>\n",
       "      <td>AI</td>\n",
       "    </tr>\n",
       "    <tr>\n",
       "      <th>8</th>\n",
       "      <td>1. Keep makeup remover next to your bed so you...</td>\n",
       "      <td>24</td>\n",
       "      <td>Design</td>\n",
       "    </tr>\n",
       "    <tr>\n",
       "      <th>9</th>\n",
       "      <td>Here, we refrain from providing another genera...</td>\n",
       "      <td>1</td>\n",
       "      <td>Research</td>\n",
       "    </tr>\n",
       "    <tr>\n",
       "      <th>10</th>\n",
       "      <td>He has shared recipe for shakshuka dish of bak...</td>\n",
       "      <td>11</td>\n",
       "      <td>Cooking</td>\n",
       "    </tr>\n",
       "    <tr>\n",
       "      <th>11</th>\n",
       "      <td>Capturing powerful landscape photographs, imag...</td>\n",
       "      <td>12</td>\n",
       "      <td>Career</td>\n",
       "    </tr>\n",
       "    <tr>\n",
       "      <th>12</th>\n",
       "      <td>[This story has been optimized for offline rea...</td>\n",
       "      <td>0</td>\n",
       "      <td>Education</td>\n",
       "    </tr>\n",
       "    <tr>\n",
       "      <th>13</th>\n",
       "      <td>Who loves Crusty Artisan Bread? We sure do! A ...</td>\n",
       "      <td>11</td>\n",
       "      <td>Cooking</td>\n",
       "    </tr>\n",
       "    <tr>\n",
       "      <th>14</th>\n",
       "      <td>Dear Lifehacker,\\n\\nI'm tired of the rat race ...</td>\n",
       "      <td>12</td>\n",
       "      <td>Career</td>\n",
       "    </tr>\n",
       "    <tr>\n",
       "      <th>15</th>\n",
       "      <td>I love to ski, but between the storm tracking,...</td>\n",
       "      <td>13</td>\n",
       "      <td>gardening</td>\n",
       "    </tr>\n",
       "    <tr>\n",
       "      <th>16</th>\n",
       "      <td>Facebook has been busy with the app updates, a...</td>\n",
       "      <td>13</td>\n",
       "      <td>gardening</td>\n",
       "    </tr>\n",
       "    <tr>\n",
       "      <th>17</th>\n",
       "      <td>Astronomy Picture of the Day Discover the cosm...</td>\n",
       "      <td>3</td>\n",
       "      <td>Sport</td>\n",
       "    </tr>\n",
       "    <tr>\n",
       "      <th>18</th>\n",
       "      <td>I will bet anyone $1 million dollars that I ca...</td>\n",
       "      <td>12</td>\n",
       "      <td>Career</td>\n",
       "    </tr>\n",
       "    <tr>\n",
       "      <th>19</th>\n",
       "      <td>LAST night 40,000 people rented accommodation ...</td>\n",
       "      <td>18</td>\n",
       "      <td>Tech news</td>\n",
       "    </tr>\n",
       "    <tr>\n",
       "      <th>20</th>\n",
       "      <td>For the first time, more than half of the memb...</td>\n",
       "      <td>8</td>\n",
       "      <td>Economy</td>\n",
       "    </tr>\n",
       "    <tr>\n",
       "      <th>21</th>\n",
       "      <td>I want you to consider the possibility that yo...</td>\n",
       "      <td>0</td>\n",
       "      <td>Education</td>\n",
       "    </tr>\n",
       "    <tr>\n",
       "      <th>22</th>\n",
       "      <td>As a child, Dana Narvaiša hated school. Her te...</td>\n",
       "      <td>0</td>\n",
       "      <td>Education</td>\n",
       "    </tr>\n",
       "    <tr>\n",
       "      <th>23</th>\n",
       "      <td>Having a regular date night is one of the simp...</td>\n",
       "      <td>20</td>\n",
       "      <td>Relationships</td>\n",
       "    </tr>\n",
       "    <tr>\n",
       "      <th>24</th>\n",
       "      <td>Ecology has always been a bit doughy compared ...</td>\n",
       "      <td>23</td>\n",
       "      <td>AI</td>\n",
       "    </tr>\n",
       "    <tr>\n",
       "      <th>25</th>\n",
       "      <td>Brandi Britton, a recruiter with OfficeTeam, a...</td>\n",
       "      <td>0</td>\n",
       "      <td>Education</td>\n",
       "    </tr>\n",
       "    <tr>\n",
       "      <th>26</th>\n",
       "      <td>I once spent an afternoon on the northwestern ...</td>\n",
       "      <td>16</td>\n",
       "      <td>Religion</td>\n",
       "    </tr>\n",
       "    <tr>\n",
       "      <th>27</th>\n",
       "      <td>When the Instant Pot debuted in 2009, it was o...</td>\n",
       "      <td>11</td>\n",
       "      <td>Cooking</td>\n",
       "    </tr>\n",
       "    <tr>\n",
       "      <th>28</th>\n",
       "      <td>Share\\n\\nWelcome to all the new Google Reader ...</td>\n",
       "      <td>29</td>\n",
       "      <td>Social media</td>\n",
       "    </tr>\n",
       "    <tr>\n",
       "      <th>29</th>\n",
       "      <td>Story highlights Karen L. Cox: Recent events h...</td>\n",
       "      <td>22</td>\n",
       "      <td>War</td>\n",
       "    </tr>\n",
       "    <tr>\n",
       "      <th>...</th>\n",
       "      <td>...</td>\n",
       "      <td>...</td>\n",
       "      <td>...</td>\n",
       "    </tr>\n",
       "    <tr>\n",
       "      <th>7881</th>\n",
       "      <td>Nature Valley Canada recently sat down three g...</td>\n",
       "      <td>20</td>\n",
       "      <td>Relationships</td>\n",
       "    </tr>\n",
       "    <tr>\n",
       "      <th>7882</th>\n",
       "      <td>Image caption More people go to church on Sund...</td>\n",
       "      <td>22</td>\n",
       "      <td>War</td>\n",
       "    </tr>\n",
       "    <tr>\n",
       "      <th>7883</th>\n",
       "      <td>On first glance, it looked like a two-hour wal...</td>\n",
       "      <td>0</td>\n",
       "      <td>Education</td>\n",
       "    </tr>\n",
       "    <tr>\n",
       "      <th>7884</th>\n",
       "      <td>Today we will cover the last of three archetyp...</td>\n",
       "      <td>19</td>\n",
       "      <td>History</td>\n",
       "    </tr>\n",
       "    <tr>\n",
       "      <th>7885</th>\n",
       "      <td>A brash tech entrepreneur thinks he can reinve...</td>\n",
       "      <td>0</td>\n",
       "      <td>Education</td>\n",
       "    </tr>\n",
       "    <tr>\n",
       "      <th>7886</th>\n",
       "      <td>Publicado el 16 sept. 2016\\n\\nI built a tiled ...</td>\n",
       "      <td>24</td>\n",
       "      <td>Design</td>\n",
       "    </tr>\n",
       "    <tr>\n",
       "      <th>7887</th>\n",
       "      <td>On 23 February, Donald Trump stood before a ra...</td>\n",
       "      <td>8</td>\n",
       "      <td>Economy</td>\n",
       "    </tr>\n",
       "    <tr>\n",
       "      <th>7888</th>\n",
       "      <td>Photo\\n\\nThe threat from North Korea has bolst...</td>\n",
       "      <td>22</td>\n",
       "      <td>War</td>\n",
       "    </tr>\n",
       "    <tr>\n",
       "      <th>7889</th>\n",
       "      <td>South Carolina’s state beverage is milk. Its i...</td>\n",
       "      <td>25</td>\n",
       "      <td>Politics</td>\n",
       "    </tr>\n",
       "    <tr>\n",
       "      <th>7890</th>\n",
       "      <td>In The Hitchhiker’s Guide to the Galaxy, Dougl...</td>\n",
       "      <td>23</td>\n",
       "      <td>AI</td>\n",
       "    </tr>\n",
       "    <tr>\n",
       "      <th>7891</th>\n",
       "      <td>The following excerpt is from the Brian Tracy’...</td>\n",
       "      <td>12</td>\n",
       "      <td>Career</td>\n",
       "    </tr>\n",
       "    <tr>\n",
       "      <th>7892</th>\n",
       "      <td>When everyone’s an artist and no one spends mo...</td>\n",
       "      <td>19</td>\n",
       "      <td>History</td>\n",
       "    </tr>\n",
       "    <tr>\n",
       "      <th>7893</th>\n",
       "      <td>866.9k SHARES Share Tweet\\n\\nBy Amy Carney\\n\\n...</td>\n",
       "      <td>20</td>\n",
       "      <td>Relationships</td>\n",
       "    </tr>\n",
       "    <tr>\n",
       "      <th>7894</th>\n",
       "      <td>\\n\\nPhoto illustration of David Fahrenthold by...</td>\n",
       "      <td>9</td>\n",
       "      <td>Various</td>\n",
       "    </tr>\n",
       "    <tr>\n",
       "      <th>7895</th>\n",
       "      <td>Near the heart of Scotland lies a large morass...</td>\n",
       "      <td>19</td>\n",
       "      <td>History</td>\n",
       "    </tr>\n",
       "    <tr>\n",
       "      <th>7896</th>\n",
       "      <td>If you look at social media a lot, as I do, yo...</td>\n",
       "      <td>25</td>\n",
       "      <td>Politics</td>\n",
       "    </tr>\n",
       "    <tr>\n",
       "      <th>7897</th>\n",
       "      <td>Graphic images depicting bloodied and dismembe...</td>\n",
       "      <td>22</td>\n",
       "      <td>War</td>\n",
       "    </tr>\n",
       "    <tr>\n",
       "      <th>7898</th>\n",
       "      <td>My wife and I had 12 children over the course ...</td>\n",
       "      <td>20</td>\n",
       "      <td>Relationships</td>\n",
       "    </tr>\n",
       "    <tr>\n",
       "      <th>7899</th>\n",
       "      <td>Money management isn’t easy, but we do our bes...</td>\n",
       "      <td>12</td>\n",
       "      <td>Career</td>\n",
       "    </tr>\n",
       "    <tr>\n",
       "      <th>7900</th>\n",
       "      <td>From Singapore to the USA and all around Europ...</td>\n",
       "      <td>11</td>\n",
       "      <td>Cooking</td>\n",
       "    </tr>\n",
       "    <tr>\n",
       "      <th>7901</th>\n",
       "      <td>Much of what you need to know about the Lakers...</td>\n",
       "      <td>28</td>\n",
       "      <td>Sport</td>\n",
       "    </tr>\n",
       "    <tr>\n",
       "      <th>7902</th>\n",
       "      <td>The actuaries cited three main reasons they th...</td>\n",
       "      <td>5</td>\n",
       "      <td>Health</td>\n",
       "    </tr>\n",
       "    <tr>\n",
       "      <th>7903</th>\n",
       "      <td>The Big Fat Surprise: Why Butter, Meat and Che...</td>\n",
       "      <td>1</td>\n",
       "      <td>Research</td>\n",
       "    </tr>\n",
       "    <tr>\n",
       "      <th>7904</th>\n",
       "      <td>I had a grand plan, dear reader. I planned to ...</td>\n",
       "      <td>23</td>\n",
       "      <td>AI</td>\n",
       "    </tr>\n",
       "    <tr>\n",
       "      <th>7905</th>\n",
       "      <td>When it comes to reaching audiences, effective...</td>\n",
       "      <td>21</td>\n",
       "      <td>Social media</td>\n",
       "    </tr>\n",
       "    <tr>\n",
       "      <th>7906</th>\n",
       "      <td>As a psychiatrist, I’ve seen this up close. I’...</td>\n",
       "      <td>0</td>\n",
       "      <td>Education</td>\n",
       "    </tr>\n",
       "    <tr>\n",
       "      <th>7907</th>\n",
       "      <td>In 2013, a now-infamous government contractor ...</td>\n",
       "      <td>22</td>\n",
       "      <td>War</td>\n",
       "    </tr>\n",
       "    <tr>\n",
       "      <th>7908</th>\n",
       "      <td>In the world of art, architecture, and design,...</td>\n",
       "      <td>6</td>\n",
       "      <td>horoscopes</td>\n",
       "    </tr>\n",
       "    <tr>\n",
       "      <th>7909</th>\n",
       "      <td>In 1941, Juan Pujol Garcia approached intellig...</td>\n",
       "      <td>22</td>\n",
       "      <td>War</td>\n",
       "    </tr>\n",
       "    <tr>\n",
       "      <th>7910</th>\n",
       "      <td>Image copyright AFP Image caption Over 100 chi...</td>\n",
       "      <td>5</td>\n",
       "      <td>Health</td>\n",
       "    </tr>\n",
       "  </tbody>\n",
       "</table>\n",
       "<p>7911 rows × 3 columns</p>\n",
       "</div>"
      ],
      "text/plain": [
       "                                                   Text  Topic number  \\\n",
       "0     2016 Update: Whether you enjoy myth busting, P...            24   \n",
       "1     Let's start with the truth. The 3-point shot w...            10   \n",
       "2     Media playback is not supported on this device...             3   \n",
       "3     Krampus with babies postcard (via riptheskull/...            19   \n",
       "4     Last week, Michael Dorf published a long and c...             2   \n",
       "5     \"Eva Braun was the \"first lady\" of the Third R...            19   \n",
       "6     Reproducción automática Si la reproducción aut...            29   \n",
       "7     Journal reference:\\n\\nIn C. Freksa, ed., Found...            23   \n",
       "8     1. Keep makeup remover next to your bed so you...            24   \n",
       "9     Here, we refrain from providing another genera...             1   \n",
       "10    He has shared recipe for shakshuka dish of bak...            11   \n",
       "11    Capturing powerful landscape photographs, imag...            12   \n",
       "12    [This story has been optimized for offline rea...             0   \n",
       "13    Who loves Crusty Artisan Bread? We sure do! A ...            11   \n",
       "14    Dear Lifehacker,\\n\\nI'm tired of the rat race ...            12   \n",
       "15    I love to ski, but between the storm tracking,...            13   \n",
       "16    Facebook has been busy with the app updates, a...            13   \n",
       "17    Astronomy Picture of the Day Discover the cosm...             3   \n",
       "18    I will bet anyone $1 million dollars that I ca...            12   \n",
       "19    LAST night 40,000 people rented accommodation ...            18   \n",
       "20    For the first time, more than half of the memb...             8   \n",
       "21    I want you to consider the possibility that yo...             0   \n",
       "22    As a child, Dana Narvaiša hated school. Her te...             0   \n",
       "23    Having a regular date night is one of the simp...            20   \n",
       "24    Ecology has always been a bit doughy compared ...            23   \n",
       "25    Brandi Britton, a recruiter with OfficeTeam, a...             0   \n",
       "26    I once spent an afternoon on the northwestern ...            16   \n",
       "27    When the Instant Pot debuted in 2009, it was o...            11   \n",
       "28    Share\\n\\nWelcome to all the new Google Reader ...            29   \n",
       "29    Story highlights Karen L. Cox: Recent events h...            22   \n",
       "...                                                 ...           ...   \n",
       "7881  Nature Valley Canada recently sat down three g...            20   \n",
       "7882  Image caption More people go to church on Sund...            22   \n",
       "7883  On first glance, it looked like a two-hour wal...             0   \n",
       "7884  Today we will cover the last of three archetyp...            19   \n",
       "7885  A brash tech entrepreneur thinks he can reinve...             0   \n",
       "7886  Publicado el 16 sept. 2016\\n\\nI built a tiled ...            24   \n",
       "7887  On 23 February, Donald Trump stood before a ra...             8   \n",
       "7888  Photo\\n\\nThe threat from North Korea has bolst...            22   \n",
       "7889  South Carolina’s state beverage is milk. Its i...            25   \n",
       "7890  In The Hitchhiker’s Guide to the Galaxy, Dougl...            23   \n",
       "7891  The following excerpt is from the Brian Tracy’...            12   \n",
       "7892  When everyone’s an artist and no one spends mo...            19   \n",
       "7893  866.9k SHARES Share Tweet\\n\\nBy Amy Carney\\n\\n...            20   \n",
       "7894  \\n\\nPhoto illustration of David Fahrenthold by...             9   \n",
       "7895  Near the heart of Scotland lies a large morass...            19   \n",
       "7896  If you look at social media a lot, as I do, yo...            25   \n",
       "7897  Graphic images depicting bloodied and dismembe...            22   \n",
       "7898  My wife and I had 12 children over the course ...            20   \n",
       "7899  Money management isn’t easy, but we do our bes...            12   \n",
       "7900  From Singapore to the USA and all around Europ...            11   \n",
       "7901  Much of what you need to know about the Lakers...            28   \n",
       "7902  The actuaries cited three main reasons they th...             5   \n",
       "7903  The Big Fat Surprise: Why Butter, Meat and Che...             1   \n",
       "7904  I had a grand plan, dear reader. I planned to ...            23   \n",
       "7905  When it comes to reaching audiences, effective...            21   \n",
       "7906  As a psychiatrist, I’ve seen this up close. I’...             0   \n",
       "7907  In 2013, a now-infamous government contractor ...            22   \n",
       "7908  In the world of art, architecture, and design,...             6   \n",
       "7909  In 1941, Juan Pujol Garcia approached intellig...            22   \n",
       "7910  Image copyright AFP Image caption Over 100 chi...             5   \n",
       "\n",
       "         Topic desc  \n",
       "0            Design  \n",
       "1             Sport  \n",
       "2             Sport  \n",
       "3           History  \n",
       "4               Law  \n",
       "5           History  \n",
       "6      Social media  \n",
       "7                AI  \n",
       "8            Design  \n",
       "9          Research  \n",
       "10          Cooking  \n",
       "11           Career  \n",
       "12        Education  \n",
       "13          Cooking  \n",
       "14           Career  \n",
       "15        gardening  \n",
       "16        gardening  \n",
       "17            Sport  \n",
       "18           Career  \n",
       "19        Tech news  \n",
       "20          Economy  \n",
       "21        Education  \n",
       "22        Education  \n",
       "23    Relationships  \n",
       "24               AI  \n",
       "25        Education  \n",
       "26         Religion  \n",
       "27          Cooking  \n",
       "28     Social media  \n",
       "29              War  \n",
       "...             ...  \n",
       "7881  Relationships  \n",
       "7882            War  \n",
       "7883      Education  \n",
       "7884        History  \n",
       "7885      Education  \n",
       "7886         Design  \n",
       "7887        Economy  \n",
       "7888            War  \n",
       "7889       Politics  \n",
       "7890             AI  \n",
       "7891         Career  \n",
       "7892        History  \n",
       "7893  Relationships  \n",
       "7894        Various  \n",
       "7895        History  \n",
       "7896       Politics  \n",
       "7897            War  \n",
       "7898  Relationships  \n",
       "7899         Career  \n",
       "7900        Cooking  \n",
       "7901          Sport  \n",
       "7902         Health  \n",
       "7903       Research  \n",
       "7904             AI  \n",
       "7905   Social media  \n",
       "7906      Education  \n",
       "7907            War  \n",
       "7908     horoscopes  \n",
       "7909            War  \n",
       "7910         Health  \n",
       "\n",
       "[7911 rows x 3 columns]"
      ]
     },
     "execution_count": 71,
     "metadata": {},
     "output_type": "execute_result"
    }
   ],
   "source": [
    "dataframe"
   ]
  }
 ],
 "metadata": {
  "kernelspec": {
   "display_name": "Python 3",
   "language": "python",
   "name": "python3"
  },
  "language_info": {
   "codemirror_mode": {
    "name": "ipython",
    "version": 3
   },
   "file_extension": ".py",
   "mimetype": "text/x-python",
   "name": "python",
   "nbconvert_exporter": "python",
   "pygments_lexer": "ipython3",
   "version": "3.7.4"
  }
 },
 "nbformat": 4,
 "nbformat_minor": 2
}
