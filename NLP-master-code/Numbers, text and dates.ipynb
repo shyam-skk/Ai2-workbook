{
 "cells": [
  {
   "cell_type": "markdown",
   "metadata": {},
   "source": [
    "# Numbers, text and dates\n",
    "In the computer world, numbers are numbers you can add, subtract, multiply, and divide. Python differentiates\n",
    "between whole numbers (called integers) and numbers that contain a decimal point (called floats). Words (textual information like names and addresses) are stored as strings, which is short for “a string of characters.”\n",
    "\n",
    "In addition to numbers and strings, there are Boolean values, which can be either True or False, but nothing else. In real life, we also have to deal with dates and times, which are yet another type of information. Python doesn’t actually have any built-in data type for dates and times, but thankfully, a free module you can import any time works with such information. "
   ]
  },
  {
   "cell_type": "markdown",
   "metadata": {},
   "source": [
    "## Functions\n",
    "A function in Python allows us to pass something into it, and the function passes something back. For example,\n",
    "most calculators and programming languages have a square root function: You give it a number, and it gives back the square root of that number.\n",
    "\n",
    "Python functions generally have the syntax:\n",
    "\n",
    "`variablename = functioname(param,[param])`\n",
    "\n",
    "Because most functions return some value, you typically start by defining a variable to store what the function returns. Follow that with an = sign and the function name, followed by a pair of parentheses. Inside the parentheses you may\n",
    "pass one or more values (called parameters or arguments) to the function.\n",
    "\n",
    "For example, the `abs()` function accepts one number and returns the absolute value of that number. In other\n",
    "words, the `abs()` function simply converts negative numbers to positive numbers.\n",
    "\n",
    "Here's a basic example of using the `abs()` function using Jupyter notebook."
   ]
  },
  {
   "cell_type": "code",
   "execution_count": 1,
   "metadata": {},
   "outputs": [
    {
     "name": "stdout",
     "output_type": "stream",
     "text": [
      "5\n"
     ]
    }
   ],
   "source": [
    "number = -5\n",
    "result = abs(number)\n",
    "print(result)"
   ]
  },
  {
   "cell_type": "markdown",
   "metadata": {},
   "source": [
    "There are some functions that accept two or more values. For example, the `round()` function takes one number as its first argument. The second value is the number of decimal places to which you want to round that number to. \n",
    "\n",
    "Here's an example"
   ]
  },
  {
   "cell_type": "code",
   "execution_count": 2,
   "metadata": {},
   "outputs": [
    {
     "name": "stdout",
     "output_type": "stream",
     "text": [
      "3.557\n"
     ]
    }
   ],
   "source": [
    "number = 3.556645647645634234234\n",
    "rounded_number = round(number, 3)\n",
    "print(rounded_number)"
   ]
  },
  {
   "cell_type": "markdown",
   "metadata": {},
   "source": [
    "Python has many built-in functions for working with numbers, as shown in the table below."
   ]
  },
  {
   "cell_type": "markdown",
   "metadata": {},
   "source": [
    "| function | Purpose |\n",
    "|----------|---------|\n",
    "| abs(x) | Returns the absolute value of number x (converts negative numbers to positive)|\n",
    "| bin(x) | Returns a string representing the value of x converted to binary.|\n",
    "| float(x)| Converts a string or number x to a the float data type|\n",
    "| hex(x) | Returns a string containing x converted to hexadecimal, prefixed with 0x|\n",
    "| int(x) | Converts x to the integer data type by truncating (not rounding) the decimal point and any digits after it.|\n",
    "| max(x,y,z ...) | Takes any number of numeric arguments and returns whichever one is the largest|\n",
    "| min(x,y,z ...) | Takes any number of numeric arguments and returns whichever one is the smallest|\n",
    "| oct(x) | Converts x to an octal number, prefixed with 0o to indicate octal|\n",
    "| round(x,y) | Rounds the number x to y number of decimal places|\n",
    "| str(x) | Converts number x to the string data type|\n",
    "| type(x) | Returns a string indicating the data type of x.|\n"
   ]
  },
  {
   "cell_type": "markdown",
   "metadata": {},
   "source": [
    "## More Maths functions\n",
    "\n",
    "The built-in math functions are handy, but there are still others you can import from the `math` module. If you need them in an app, put `import math` near the top of your Jupyter cell to make those functions available to the rest of the\n",
    "code.\n",
    "One of the functions of the math module is the `sqrt()` function that gets the square root of a number. Because it’s part of the math module, you cannot use it without importing the module first. \n",
    "\n",
    "For example, if you enter this code, we get the following error:"
   ]
  },
  {
   "cell_type": "code",
   "execution_count": 3,
   "metadata": {},
   "outputs": [
    {
     "ename": "NameError",
     "evalue": "name 'sqrt' is not defined",
     "output_type": "error",
     "traceback": [
      "\u001b[1;31m---------------------------------------------------------------------------\u001b[0m",
      "\u001b[1;31mNameError\u001b[0m                                 Traceback (most recent call last)",
      "\u001b[1;32m<ipython-input-3-2feabb2a8298>\u001b[0m in \u001b[0;36m<module>\u001b[1;34m\u001b[0m\n\u001b[1;32m----> 1\u001b[1;33m \u001b[0mprint\u001b[0m\u001b[1;33m(\u001b[0m\u001b[0msqrt\u001b[0m\u001b[1;33m(\u001b[0m\u001b[1;36m81\u001b[0m\u001b[1;33m)\u001b[0m\u001b[1;33m)\u001b[0m\u001b[1;33m\u001b[0m\u001b[1;33m\u001b[0m\u001b[0m\n\u001b[0m",
      "\u001b[1;31mNameError\u001b[0m: name 'sqrt' is not defined"
     ]
    }
   ],
   "source": [
    "print(sqrt(81))"
   ]
  },
  {
   "cell_type": "markdown",
   "metadata": {},
   "source": [
    "To use a function from a module, you have to import the module and precede the function name with the module name and a dot. \n",
    "\n",
    "For example, if we want to find the the square root of a number, we need to import the math module and use `math.sqrt(x)` to get the correct answer."
   ]
  },
  {
   "cell_type": "code",
   "execution_count": null,
   "metadata": {},
   "outputs": [],
   "source": [
    "import math\n",
    "number = 49\n",
    "print(math.sqrt(number))"
   ]
  },
  {
   "cell_type": "markdown",
   "metadata": {},
   "source": [
    "Here's a lits of other functions we can apply using he `math` module.\n",
    "\n",
    "| function | Purpose |\n",
    "|----------|---------|\n",
    "|math.acos(x)| Returns the arc cosine of x in radians.|\n",
    "|math.atan(x)| Returns the arc tangent of x, in radians.|\n",
    "|math.atan2(y, x)| Returns atan(y / x), in radians.|\n",
    "|math.ceil(x)| Returns the ceiling of x, the smallest integer greater than or equal to x.|\n",
    "|math.cos(x)| Returns the cosine of x radians.|\n",
    "|math.degrees(x)| Converts angle x from radians to degrees.|\n",
    "|math.e| Returns the mathematical constant e (2.718281 . . .).|\n",
    "|math.exp(x)| Returns e raised to the power x, where e is the base of natural logarithms.|\n",
    "|math.factorial(x)| Returns the factorial of x.|\n",
    "|math.floor()| Returns the floor of x, the largest integer less than or equal to x.|\n",
    "|math.isnan(x)| Returns True if x is not a number, otherwise returns False.|\n",
    "|math.log(x,y)| Returns the natural logarithm of x to base y.|\n",
    "|math.log2(x)| Returns the base-2 logarithm of x.|\n",
    "|math.pi| Returns the mathematical constant pi (3.141592 . . .).|\n",
    "|math.pow(x, y)| Returns x raised to the power y.|\n",
    "|math.radians(x)| Converts angle x from degrees to radians.|\n",
    "|math.sin(x)| Returns the arc sine of x, in radians.|\n",
    "|math.sqrt(x)| Takes any number of numeric arguments and returns whichever one is the smallest.|\n",
    "|math.tan(x)| Returns the tangent of x radians.|\n",
    "|math.tau()| Returns the mathematical constant tau (6.283185 . . .).|"
   ]
  },
  {
   "cell_type": "markdown",
   "metadata": {},
   "source": [
    "## Formatting numbers\n",
    "Over the years Python has offered different methods for displaying number output. For example, we may prefer it display\n",
    "$1,234.56 rather than 1234.560065950695405695405959. As of version 3.6 of Python, f-strings seem to the fastest, easiest, and most preferred method of achieving this. We will use f-strings throughout this module for number presentation."
   ]
  },
  {
   "cell_type": "markdown",
   "metadata": {},
   "source": [
    "### Formatting with f-strings\n",
    "F-string formatting is relatively simple to do. All you need is a **lowercase or uppercase f** followed immediately by some text or expressions enclosed in quotation marks. \n",
    "\n",
    "For example:"
   ]
  },
  {
   "cell_type": "code",
   "execution_count": null,
   "metadata": {},
   "outputs": [],
   "source": [
    "username = \"James\"\n",
    "print(f\"Hello {username}\")"
   ]
  },
  {
   "cell_type": "markdown",
   "metadata": {},
   "source": [
    "The **f** before the first quotation mark tells Python that what follows is a **format string (f-string)**. Inside the quotation marks, the text, called the **literal** part, is displayed literally (exactly as typed in the f-string). \n",
    "\n",
    "Anything in curly braces is the expression part of the f-string. The expression part is a placeholder for what’s\n",
    "actually going to show there when the code executes. Inside the curly braces you can have an expression (a formula to perform some calculation, a variable name, or a combination of the two)."
   ]
  },
  {
   "cell_type": "markdown",
   "metadata": {},
   "source": [
    "Here is another example where we have an expression — the formula quantity times unit_price — inside the curly braces."
   ]
  },
  {
   "cell_type": "code",
   "execution_count": null,
   "metadata": {},
   "outputs": [],
   "source": [
    "unit_price = 49.99\n",
    "quantity = 30\n",
    "print(f\"Subtotal: {quantity * unit_price}\")"
   ]
  },
  {
   "cell_type": "markdown",
   "metadata": {},
   "source": [
    "### Showing currency amounts\n",
    "To get a comma to show in the pound amount and the pennies to be two digits, we can use a format string inside the curly braces of an expression in an f-string. The format string starts with a colon and needs to be placed inside the closing curly brace, against the variable name or the value being shown.\n",
    "To show commas in thousands places, use a comma in your format string right after the colon, like this:"
   ]
  },
  {
   "cell_type": "code",
   "execution_count": null,
   "metadata": {},
   "outputs": [],
   "source": [
    "unit_price = 49.99\n",
    "quantity = 30\n",
    "print(f\"Subtotal: {quantity * unit_price:,}\")"
   ]
  },
  {
   "cell_type": "markdown",
   "metadata": {},
   "source": [
    "To get the pennies to show as two digits, follow the comma with 2f. The .2f means “two decimal places, fixed” (never any more or less than two\n",
    "decimal places). So here’s how the code looks to show the number with commas and two decimal places:"
   ]
  },
  {
   "cell_type": "code",
   "execution_count": 4,
   "metadata": {},
   "outputs": [
    {
     "name": "stdout",
     "output_type": "stream",
     "text": [
      "Subtotal: 1,499.70\n"
     ]
    }
   ],
   "source": [
    "unit_price = 49.99\n",
    "quantity = 30\n",
    "print(f\"Subtotal: {quantity * unit_price:,.2f}\")"
   ]
  },
  {
   "cell_type": "markdown",
   "metadata": {},
   "source": [
    "### Formatting percent numbers\n",
    "Now, suppose your app applies sales tax. This app needs to know the sales tax rate, which should be expressed as a decimal number. So if the sales tax rate is 6.5 percent, then it has to be written as 0.065 (or .065, if you prefer) in your code, like this:"
   ]
  },
  {
   "cell_type": "code",
   "execution_count": 5,
   "metadata": {},
   "outputs": [
    {
     "name": "stdout",
     "output_type": "stream",
     "text": [
      "Sales Tax Rate 0.065\n"
     ]
    }
   ],
   "source": [
    "sales_tax_rate = 0.065\n",
    "print(f\"Sales Tax Rate {sales_tax_rate}\")"
   ]
  },
  {
   "cell_type": "markdown",
   "metadata": {},
   "source": [
    "When displaying the sales tax rate for people to read, you’ll probably want to use the more familiar 6.5% format rather than .065. You can use the same idea as with fixed numbers (.2f); however, don’t use the f for “fixed numbers.” Instead\n",
    "replace that with a % sign, like this:"
   ]
  },
  {
   "cell_type": "code",
   "execution_count": 6,
   "metadata": {},
   "outputs": [
    {
     "name": "stdout",
     "output_type": "stream",
     "text": [
      "Sales Tax Rate 6.50%\n"
     ]
    }
   ],
   "source": [
    "sales_tax_rate = 0.065\n",
    "print(f\"Sales Tax Rate {sales_tax_rate:.2%}\")"
   ]
  },
  {
   "cell_type": "markdown",
   "metadata": {},
   "source": [
    "In these examples, we used 2 for the number of digits. But of course you can display any number of digits you want, from zero (none) to whatever\n",
    "level of precision you need. For example, using 1.%, or 9.% as in the following:"
   ]
  },
  {
   "cell_type": "code",
   "execution_count": 7,
   "metadata": {},
   "outputs": [
    {
     "name": "stdout",
     "output_type": "stream",
     "text": [
      "Sales Tax Rate 6.5%\n"
     ]
    }
   ],
   "source": [
    "sales_tax_rate = 0.065\n",
    "print(f\"Sales Tax Rate {sales_tax_rate:.1%}\")"
   ]
  },
  {
   "cell_type": "code",
   "execution_count": 8,
   "metadata": {},
   "outputs": [
    {
     "name": "stdout",
     "output_type": "stream",
     "text": [
      "Sales Tax Rate 6.500000000%\n"
     ]
    }
   ],
   "source": [
    "sales_tax_rate = 0.065\n",
    "print(f\"Sales Tax Rate {sales_tax_rate:.9%}\")"
   ]
  },
  {
   "cell_type": "markdown",
   "metadata": {},
   "source": [
    "## Making multiline format strings\n",
    "If you want to have line breaks in your format strings for multiline output, you can use `/n`, or triple quotation marks"
   ]
  },
  {
   "cell_type": "code",
   "execution_count": 9,
   "metadata": {},
   "outputs": [
    {
     "name": "stdout",
     "output_type": "stream",
     "text": [
      "John \n",
      "Mary \n",
      "James\n"
     ]
    }
   ],
   "source": [
    "user1 = \"John\"\n",
    "user2 = \"Mary\"\n",
    "user3 = \"James\"\n",
    "output=f\"{user1} \\n{user2} \\n{user3}\"\n",
    "print(output)"
   ]
  },
  {
   "cell_type": "markdown",
   "metadata": {},
   "source": [
    "If you use triple quotation marks around your format string, then you don’t need to use `\\n`. You can just break the line in the format string wherever you want it to break in the output. \n",
    "\n",
    "In this example, the format string is in triple quotation marks and contains multiple line breaks. The output from running the code has line breaks in all the same places."
   ]
  },
  {
   "cell_type": "code",
   "execution_count": 10,
   "metadata": {},
   "outputs": [
    {
     "name": "stdout",
     "output_type": "stream",
     "text": [
      "\n",
      "First user = John\n",
      "Second user = Mary\n",
      "Third user = James\n",
      "\n"
     ]
    }
   ],
   "source": [
    "user1 = \"John\"\n",
    "user2 = \"Mary\"\n",
    "user3 = \"James\"\n",
    "output=f\"\"\"\n",
    "First user = {user1}\n",
    "Second user = {user2}\n",
    "Third user = {user3}\n",
    "\"\"\"\n",
    "print(output)"
   ]
  },
  {
   "cell_type": "markdown",
   "metadata": {},
   "source": [
    "### Formatting width and alignment\n",
    "You can also control the width of your output (and the alignment of content within that width) by following the colon in your f-string with < (for left-aligned), (for centered), or > (for right-aligned). Put any of these characters right after the colon in your format string. "
   ]
  },
  {
   "cell_type": "code",
   "execution_count": 11,
   "metadata": {},
   "outputs": [
    {
     "name": "stdout",
     "output_type": "stream",
     "text": [
      "\n",
      "First user =                 John\n",
      "Second user =                 Mary\n",
      "Third user =                James\n",
      "\n"
     ]
    }
   ],
   "source": [
    "user1 = \"John\"\n",
    "user2 = \"Mary\"\n",
    "user3 = \"James\"\n",
    "output=f\"\"\"\n",
    "First user = {user1:>20}\n",
    "Second user = {user2:>20}\n",
    "Third user = {user3:>20}\n",
    "\"\"\"\n",
    "print(output)"
   ]
  },
  {
   "cell_type": "markdown",
   "metadata": {},
   "source": [
    "## Manipulating strings\n",
    "You can join strings together using a **+** sign. This is commonly called **string concatenation**. For example, in the following code, the full_name is a concatenation of the first three strings."
   ]
  },
  {
   "cell_type": "code",
   "execution_count": 12,
   "metadata": {},
   "outputs": [
    {
     "name": "stdout",
     "output_type": "stream",
     "text": [
      "JamesPConnolly\n"
     ]
    }
   ],
   "source": [
    "first_name = \"James\"\n",
    "middle_init = \"P\"\n",
    "last_name = \"Connolly\"\n",
    "full_name = first_name+middle_init+last_name\n",
    "print(full_name)"
   ]
  },
  {
   "cell_type": "markdown",
   "metadata": {},
   "source": [
    "There is nothing wrong with this output except that we usually put spaces between words and between parts of a person’s name.\n",
    "Because Python won’t automatically put in spaces where you think they should go, you’ll have to put them in yourself. The easiest way to represent a single space is by using a pair of quotation marks with one space between them, like this:"
   ]
  },
  {
   "cell_type": "code",
   "execution_count": 13,
   "metadata": {},
   "outputs": [
    {
     "name": "stdout",
     "output_type": "stream",
     "text": [
      "James P Connolly\n"
     ]
    }
   ],
   "source": [
    "first_name = \"James\"\n",
    "middle_init = \"P\"\n",
    "last_name = \"Connolly\"\n",
    "full_name = first_name + \" \" + middle_init + \" \" + last_name\n",
    "print(full_name)"
   ]
  },
  {
   "cell_type": "markdown",
   "metadata": {},
   "source": [
    "### String length\n",
    "To determine how many characters are in a string, use the built-in len() function (short for length). The length includes spaces because spaces are characters, each one having a length of one. An empty string — that is, a string with nothing in it, not even a space — has a length of zero."
   ]
  },
  {
   "cell_type": "code",
   "execution_count": 14,
   "metadata": {},
   "outputs": [
    {
     "name": "stdout",
     "output_type": "stream",
     "text": [
      "0\n",
      "1\n",
      "5\n"
     ]
    }
   ],
   "source": [
    "s1 = \"\"\n",
    "s2 = \" \"\n",
    "s3 = \"A B C\"\n",
    "print(len(s1))\n",
    "print(len(s2))\n",
    "print(len(s3))"
   ]
  },
  {
   "cell_type": "markdown",
   "metadata": {},
   "source": [
    "### Working with common string operators\n",
    "Python offers several operators for working with sequences of data. The first character counts as zero, not one.\n",
    "\n",
    "Here's a summary of operators that can be used with strings\n",
    "\n",
    "| Operator | Purpose |\n",
    "|----------|---------|\n",
    "|x in s| Returns True if x exists somewhere in string s.\n",
    "|x not in s| Returns True if x is not contained within string s.\n",
    "|s * n or n * s |Repeats string s n times.\n",
    "|s[i] |The ith item of string s where the first character is 0.\n",
    "|s[i:j]| A slice from string x beginning with the character at position i through to the character at position j.\n",
    "|s[i:j:k]| A slice of s from i to j with step k.\n",
    "|min(s)| The smallest (lowest) item of string s.\n",
    "|max(s)| The largest (highest) item of string s.\n",
    "|s.index(x[, i[, j]])| The numeric position of the first occurrence of x in string s. The optional i and j let you limit the search to the characters from i to j.\n",
    "|s.count(x)| The total number of times string x appears in larger string s."
   ]
  },
  {
   "cell_type": "markdown",
   "metadata": {},
   "source": [
    "## Working with dates\n",
    "\n",
    "`Datetime.date` is ideal for working with dates when time isn’t an issue. There are two ways to create a date object: You can use the `today()` method, which gets today’s date from the computer’s internal clock using the `today()` method. \n",
    "\n",
    "Or you can specify a year, month, and day (in that order) inside parentheses. When specifying the month or day, never use a leading zero for `datetime.date()`. For example, April 1 2020 has to be expressed as 2020,4,1 — if you type\n",
    "2020,04,01, it won’t work.\n",
    "For example, after importing the datetime module, you can use `date.today()` to get the current date from the computer’s internal clock. Or use date(year, month, day) syntax to create a date object for some other date:"
   ]
  },
  {
   "cell_type": "code",
   "execution_count": 15,
   "metadata": {},
   "outputs": [
    {
     "name": "stdout",
     "output_type": "stream",
     "text": [
      "2020-02-09\n",
      "2019-12-31\n"
     ]
    }
   ],
   "source": [
    "# Import the datetime module, nickname dt\n",
    "import datetime as dt\n",
    "# Store today's date in a variable named today.\n",
    "today = dt.date.today()\n",
    "# Store some other date in a variable called New Years Eve\n",
    "new_years_eve = dt.date(2019,12,31)\n",
    "print(today)\n",
    "print(new_years_eve)"
   ]
  },
  {
   "cell_type": "markdown",
   "metadata": {},
   "source": [
    "We can isolate any part of a date object using `.month`, `.day`, or `.year`. For example:"
   ]
  },
  {
   "cell_type": "code",
   "execution_count": 16,
   "metadata": {},
   "outputs": [
    {
     "name": "stdout",
     "output_type": "stream",
     "text": [
      "31\n",
      "12\n",
      "2019\n"
     ]
    }
   ],
   "source": [
    "print(new_years_eve.day)\n",
    "print(new_years_eve.month)\n",
    "print(new_years_eve.year)"
   ]
  },
  {
   "cell_type": "markdown",
   "metadata": {},
   "source": [
    "The default date display is yyyy-mm-dd, but you can format dates and times however you want. Use f-strings, which\n",
    "we discuss earlier, along with the directives shown in this table.\n",
    "\n",
    "| Directive | Description | Example |\n",
    "|-----------|-------------|---------|\n",
    "|%a | Weekday, abbreviated |Sun|\n",
    "|%A |Weekday, full |Sunday|\n",
    "|%w |Weekday number 0-6, where 0 is Sunday |0|\n",
    "|%d |Number day of the month 01-31 |31|\n",
    "|%b |Month name abbreviated |Jan|\n",
    "|%B |Month name full |January|\n",
    "|%m |Month number 01-12 |01|\n",
    "|%y |Year without century |19|\n",
    "|%Y |Year with century |2019|\n",
    "|%H |Hour 00-23 |23|\n",
    "|%I |Hour 00-12 |11|\n",
    "|%p |AM/PM |PM|\n",
    "|%M |Minute 00-59 |01|\n",
    "|%S |Second 00-59 |01|\n",
    "|%f |Microsecond 000000-999999 |495846|\n",
    "|%z |UTC offset| -0500|\n",
    "|%Z |Time zone |EST|\n",
    "|%j |Day number of year 001-366 |300|\n",
    "|%U |Week number of year, Sunday as the first day of week, 00-53 |50|\n",
    "|%W |Week number of year, Monday as the first day of week, 00-53 |50|\n",
    "|%c |Local version of date and time |Tue Dec 31 23:59:59 2018|\n",
    "|%x |Local version of date |12/31/18|\n",
    "|%X |Local version of time |23:59:59|\n",
    "|%% |A % character |%|"
   ]
  },
  {
   "cell_type": "markdown",
   "metadata": {},
   "source": [
    "When using format strings, make sure you put spaces, slashes, and anything else you want between directives where you want those to appear in the output. For example"
   ]
  },
  {
   "cell_type": "code",
   "execution_count": 17,
   "metadata": {},
   "outputs": [
    {
     "name": "stdout",
     "output_type": "stream",
     "text": [
      "Tuesday, December 31, 2019\n"
     ]
    }
   ],
   "source": [
    "print(f\"{new_years_eve:%A, %B %d, %Y}\")"
   ]
  },
  {
   "cell_type": "markdown",
   "metadata": {},
   "source": [
    "To show the date in the mm/dd/yyyy format, use `%m/%d/%Y`, like this:"
   ]
  },
  {
   "cell_type": "code",
   "execution_count": 18,
   "metadata": {},
   "outputs": [
    {
     "name": "stdout",
     "output_type": "stream",
     "text": [
      "09/02/2020\n"
     ]
    }
   ],
   "source": [
    "todays_date = f\"{today:%d/%m/%Y}\"\n",
    "print(todays_date)"
   ]
  },
  {
   "cell_type": "markdown",
   "metadata": {},
   "source": [
    "### Working with times\n",
    "If you want to work strictly with time data, use the `datetime.time` class. The basic syntax for defining a time object using the time class is"
   ]
  },
  {
   "cell_type": "markdown",
   "metadata": {},
   "source": [
    "`variable = datetime.time([hour,[minute,[second,[microsecond]]]])`"
   ]
  },
  {
   "cell_type": "markdown",
   "metadata": {},
   "source": [
    "Often you want to pinpoint a moment in time using both date and time. For that, use the `datetime` class of the datetime module. This class supports a `now()` method that can grab the current date and time from the computer\n",
    "clock"
   ]
  },
  {
   "cell_type": "code",
   "execution_count": 19,
   "metadata": {},
   "outputs": [
    {
     "name": "stdout",
     "output_type": "stream",
     "text": [
      "2020-02-09 15:08:40.324640\n"
     ]
    }
   ],
   "source": [
    "import datetime as dt\n",
    "right_now = dt.datetime.now()\n",
    "print(right_now)"
   ]
  },
  {
   "cell_type": "markdown",
   "metadata": {},
   "source": [
    "You can also define a datetime using any the parameters shown below. The month, day, and year are required. The rest are optional and set to zero in the time if you omit them.\n",
    "\n",
    "Here is an example using 11:59 PM on December 31 2019:"
   ]
  },
  {
   "cell_type": "code",
   "execution_count": 20,
   "metadata": {},
   "outputs": [
    {
     "name": "stdout",
     "output_type": "stream",
     "text": [
      "2019-12-31 23:59:00\n"
     ]
    }
   ],
   "source": [
    "import datetime as dt\n",
    "new_years_eve = dt.datetime(2019,12,31,23,59)\n",
    "print(new_years_eve)"
   ]
  },
  {
   "cell_type": "markdown",
   "metadata": {},
   "source": [
    "This table shows examples of formatting the datetime\n",
    "\n",
    "| Format String | Example |\n",
    "|---------------|---------|\n",
    "|%A, %B %d at %I:%M%p| Tuesday, December 31 at 11:59PM|\n",
    "|%m/%d/%y at %H:%M%p |12/31/19 at 23:59|\n",
    "|%I:%M %p on %b %d| 11:59 PM on Dec 31|\n",
    "|%x |12/31/19|\n",
    "|%c| Tue Dec 31 23:59:00 2019|\n",
    "|%m/%d/%y at %I:%M %p| 12/31/19 at 11:59 PM|\n",
    "|%I:%M %p on %m/%d/%y| 1:59 PM on 12/31/2019|"
   ]
  },
  {
   "cell_type": "markdown",
   "metadata": {},
   "source": [
    "### Calculating timespans\n",
    "Sometimes just knowing the date or time isn’t enough. Sometimes you need to know the duration or timespan as it’s typically called in the computer world. In\n",
    "other words, not the date, not the o’clock, but the “how long” in terms of years, months, weeks, days, hours, minutes, or whatever. For timespans, the Python\n",
    "datetime module includes the datetime.timedelta class.\n",
    "\n",
    "A timedelta object is created automatically whenever you subtract two dates, times, or datetimes to determine the duration between them. For example, suppose you create a couple of variables to store dates, perhaps one for New Year’s\n",
    "Day, another for todays date. Then you create a third variable named `days_between` and put in it the difference you get by subtracting the earlier date from the later date, as follows:"
   ]
  },
  {
   "cell_type": "code",
   "execution_count": 21,
   "metadata": {},
   "outputs": [
    {
     "name": "stdout",
     "output_type": "stream",
     "text": [
      "39 days, 15:08:40.387602\n"
     ]
    }
   ],
   "source": [
    "import datetime as dt\n",
    "new_years_day = dt.datetime(2020,1,1)\n",
    "todays_date = dt.datetime.now()\n",
    "days_between = todays_date - new_years_day\n",
    "print(days_between)"
   ]
  },
  {
   "cell_type": "markdown",
   "metadata": {},
   "source": [
    "You don’t always need microseconds or even seconds in your timedelta. For example, say you’re trying to determine somebody’s age. You could start by creating two dates, one named `today` for today’s date and another named `birthdate` that contains the birthdate. The following example uses the birthdate of Jan 31, 2000:"
   ]
  },
  {
   "cell_type": "code",
   "execution_count": 22,
   "metadata": {},
   "outputs": [
    {
     "name": "stdout",
     "output_type": "stream",
     "text": [
      "6979 days, 0:00:00\n"
     ]
    }
   ],
   "source": [
    "import datetime as dt\n",
    "today = dt.date.today()\n",
    "birthdate = dt.date(2000, 12, 31)\n",
    "age = (today - birthdate)\n",
    "print(age)"
   ]
  },
  {
   "cell_type": "markdown",
   "metadata": {},
   "source": [
    "Let’s say what we really want is the age in years. You can convert the `age` to a number of days by tacking `.days` onto the timedelta. You can put that in another variable called `days_old`. Printing `days_old` and its `type` shows you that `days_old` is an `int`, a regular old integer you can do maths with:"
   ]
  },
  {
   "cell_type": "code",
   "execution_count": 23,
   "metadata": {},
   "outputs": [
    {
     "name": "stdout",
     "output_type": "stream",
     "text": [
      "6979 <class 'int'>\n"
     ]
    }
   ],
   "source": [
    "import datetime as dt\n",
    "today = dt.date.today()\n",
    "birthdate = dt.date(2000, 12, 31)\n",
    "age = (today - birthdate)\n",
    "days_old = age.days\n",
    "print(days_old, type(days_old))"
   ]
  },
  {
   "cell_type": "markdown",
   "metadata": {},
   "source": [
    "To get the number of years, divide the number of days by 365. If you want just the number of years as an integer, use the floor division operator (//) rather than regular division (/). Put that in a variable named `years_old` and print that value, as follows:"
   ]
  },
  {
   "cell_type": "code",
   "execution_count": 24,
   "metadata": {},
   "outputs": [
    {
     "name": "stdout",
     "output_type": "stream",
     "text": [
      "19\n"
     ]
    }
   ],
   "source": [
    "import datetime as dt\n",
    "today = dt.date.today()\n",
    "birthdate = dt.date(2000, 12, 31)\n",
    "age = (today - birthdate)\n",
    "days_old = age.days\n",
    "years_old = days_old // 365\n",
    "print(years_old)"
   ]
  },
  {
   "cell_type": "markdown",
   "metadata": {},
   "source": [
    "So there you have the age, in years, as 19. If you want the number of months too, you can approximate by taking the remainder of dividing the days by 365 to get the number of days left over. Then floor divide that value by 30 (because on average each month has about 30 days) to get a good approximation of the number of months. Use % for division rather than / to get just the remainder after the division. \n",
    "\n",
    "Here's example code on hw to do this"
   ]
  },
  {
   "cell_type": "code",
   "execution_count": 25,
   "metadata": {},
   "outputs": [
    {
     "name": "stdout",
     "output_type": "stream",
     "text": [
      "This person is 19 years and 1 months old\n"
     ]
    }
   ],
   "source": [
    "import datetime as dt\n",
    "# Todays date from the computer\n",
    "today = dt.date.today()\n",
    "\n",
    "# Birthday expressed in year, month and day\n",
    "birthdate = dt.date(2000, 12, 31)\n",
    "\n",
    "# Calculate number of days between both dates\n",
    "age = (today - birthdate)\n",
    "\n",
    "# floor divide by 365 to get number of days\n",
    "days_old = age.days\n",
    "years_old = days_old // 365\n",
    "\n",
    "# Remainding dats is the remainder of days_old\n",
    "# divided by 30\n",
    "months_old = (days_old % 365) // 30\n",
    "\n",
    "print(f\"This person is {years_old} years and {months_old} months old\")"
   ]
  },
  {
   "cell_type": "code",
   "execution_count": null,
   "metadata": {},
   "outputs": [],
   "source": []
  }
 ],
 "metadata": {
  "kernelspec": {
   "display_name": "Python 3",
   "language": "python",
   "name": "python3"
  },
  "language_info": {
   "codemirror_mode": {
    "name": "ipython",
    "version": 3
   },
   "file_extension": ".py",
   "mimetype": "text/x-python",
   "name": "python",
   "nbconvert_exporter": "python",
   "pygments_lexer": "ipython3",
   "version": "3.7.4"
  }
 },
 "nbformat": 4,
 "nbformat_minor": 2
}
