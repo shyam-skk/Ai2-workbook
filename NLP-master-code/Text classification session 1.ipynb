{
 "cells": [
  {
   "cell_type": "code",
   "execution_count": null,
   "metadata": {},
   "outputs": [],
   "source": [
    "# Download clean_data dataset and extract it to the working dir"
   ]
  },
  {
   "cell_type": "code",
   "execution_count": 4,
   "metadata": {},
   "outputs": [],
   "source": [
    "import os\n",
    "import pandas as pd\n",
    "\n",
    "all_text_samples = []\n",
    "\n",
    "# file_list contains names of all files in the \"clean_data\" folder\n",
    "file_list = os.listdir(\"clean_data/\")\n"
   ]
  },
  {
   "cell_type": "code",
   "execution_count": null,
   "metadata": {},
   "outputs": [],
   "source": [
    "for file_name in file_list:\n",
    "    # Construct fiename and its path\n",
    "    file = (f\"clean_data/\" + file_name)\n",
    "    \n",
    "    # Now open file for reading\n",
    "    my_text_file = open(file, encoding=\"utf8\")\n",
    "    file_data = my_text_file.read()\n",
    "    \n",
    "    # Append the data to the list\n",
    "    all_text_samples.append(file_data)\n",
    "\n",
    "# Convert list to dataframe\n",
    "text_dataframe = pd.DataFrame(all_text_samples)\n",
    "text_dataframe.columns = [\"Text\"]"
   ]
  },
  {
   "cell_type": "code",
   "execution_count": 2,
   "metadata": {},
   "outputs": [
    {
     "name": "stdout",
     "output_type": "stream",
     "text": [
      "2016 Update: Whether you enjoy myth busting, Python, or just all enterprise software, you will also likely enjoy Enterprise Software with Python, presented by the author of the article below, and published by O’Reilly.\n",
      "\n",
      "PayPal enjoys a remarkable amount of linguistic pluralism in its programming culture. In addition to the long-standing popularity of C++ and Java, an increasing number of teams are choosing JavaScript and Scala, and Braintree‘s acquisition has introduced a sophisticated Ruby community.\n",
      "\n",
      "One language in particular has both a long history at eBay and PayPal and a growing mindshare among developers: Python.\n",
      "\n",
      "Python has enjoyed many years of grassroots usage and support from developers across eBay. Even before official support from management, technologists of all walks went the extra mile to reap the rewards of developing in Python. I joined PayPal a few years ago, and chose Python to work on internal applications, but I’ve personally found production PayPal Python code from nearly 15 years ago.\n",
      "\n",
      "Today, Python powers over 50 projects, including:\n",
      "\n",
      "Features and products , like RedLaser\n",
      "\n",
      ", like RedLaser Operations and infrastructure , both OpenStack and proprietary\n",
      "\n",
      ", both OpenStack and proprietary Mid-tier services and applications , like the one used to set PayPal’s prices and check customer feature eligibility\n",
      "\n",
      ", like the one used to set PayPal’s prices and check customer feature eligibility Monitoring agents and interfaces , used for several deployment and security use cases\n",
      "\n",
      ", used for several deployment and security use cases Batch jobs for data import , price adjustment, and more\n",
      "\n",
      ", price adjustment, and more And far too many developer tools to count\n",
      "\n",
      "In the coming series of posts I’ll detail the initiatives and technologies that led the eBay/PayPal Python community to grow from just under 25 engineers in 2011 to over 260 in 2014. For this introductory post, I’ll be focusing on the 10 myths I’ve had to debunk the most in eBay and PayPal’s enterprise environments.\n",
      "\n",
      "Myth #1: Python is a new language\n",
      "\n",
      "What with all the start-ups using it and kids learning it these days, it’s easy to see how this myth still persists. Python is actually over 23 years old, originally released in 1991, 5-years before HTTP 1.0 and 4-years before Java. A now-famous early usage of Python was in 1996: Google’s first successful web crawler.\n",
      "\n",
      "If you’re curious about the long history of Python, Guido van Rossum, Python’s creator, has taken the care to tell the whole story.\n",
      "\n",
      "Myth #2: Python is not compiled\n",
      "\n",
      "While not requiring a separate compiler toolchain like C++, Python is in fact compiled to bytecode, much like Java and many other compiled languages. Further compilation steps, if any, are at the discretion of the runtime, be it CPython, PyPy, Jython/JVM, IronPython/CLR, or some other process virtual machine. See Myth #6 for more info.\n",
      "\n",
      "The general principle at PayPal and elsewhere is that the compilation status of code should not be relied on for security. It is much more important to secure the runtime environment, as virtually every language has a decompiler, or can be intercepted to dump protected state. See the next myth for even more Python security implications.\n",
      "\n",
      "Myth #3: Python is not secure\n",
      "\n",
      "Python’s affinity for the lightweight may not make it seem formidable, but the intuition here can be misleading. One central tenet of security is to present as small a target as possible. Big systems are anti-secure, as they tend to overly centralize behaviors, as well as undercut developer comprehension. Python keeps these demons at bay by encouraging simplicity. Furthermore, CPython addresses these issues by being a simple, stable, and easily-auditable virtual machine. In fact, a recent analysis by Coverity Software resulted in CPython receiving their highest quality rating.\n",
      "\n",
      "Python also features an extensive array of open-source, industry-standard security libraries. At PayPal, where we take security and trust very seriously, we find that a combination of hashlib, PyCrypto, and OpenSSL, via PyOpenSSL and our own custom bindings, cover all of PayPal’s diverse security and performance needs.\n",
      "\n",
      "For these reasons and more, Python has seen some of its fastest adoption at PayPal (and eBay) within the application security group. Here are just a few security-based applications utilizing Python for PayPal’s security-first environment:\n",
      "\n",
      "Creating security agents for facilitating key rotation and consolidating cryptographic implementations\n",
      "\n",
      "Integrating with industry-leading HSM technologies\n",
      "\n",
      "technologies Constructing TLS-secured wrapper proxies for less-compliant stacks\n",
      "\n",
      "Generating keys and certificates for our internal mutual-authentication schemes\n",
      "\n",
      "Developing active vulnerability scanners\n",
      "\n",
      "Plus, myriad Python-built operations-oriented systems with security implications, such as firewall and connection management. In the future we’ll definitely try to put together a deep dive on PayPal Python security particulars.\n",
      "\n",
      "Myth #4: Python is a scripting language\n",
      "\n",
      "Python can indeed be used for scripting, and is one of the forerunners of the domain due to its simple syntax, cross-platform support, and ubiquity among Linux, Macs, and other Unix machines.\n",
      "\n",
      "In fact, Python may be one of the most flexible technologies among general-use programming languages. To list just a few:\n",
      "\n",
      "Not to mention web sites and web services aplenty. In fact, PayPal engineers seem to have a penchant for going on to start Python-based web properties, YouTube and Yelp, for instance. For an even bigger list of Python success stories, check out the official list.\n",
      "\n",
      "Myth #5: Python is weakly-typed\n",
      "\n",
      "Python’s type system is characterized by strong, dynamic typing. Wikipedia can explain more.\n",
      "\n",
      "Not that it is a competition, but as a fun fact, Python is more strongly-typed than Java. Java has a split type system for primitives and objects, with null lying in a sort of gray area. On the other hand, modern Python has a unified strong type system, where the type of None is well-specified. Furthermore, the JVM itself is also dynamically-typed, as it traces its roots back to an implementation of a Smalltalk VM acquired by Sun.\n",
      "\n",
      "Python’s type system is very nice, but for enterprise use there are much bigger concerns at hand.\n",
      "\n",
      "Myth #6: Python is slow\n",
      "\n",
      "First, a critical distinction: Python is a programming language, not a runtime. There are several Python implementations:\n",
      "\n",
      "CPython is the reference implementation, and also the most widely distributed and used. Jython is a mature implementation of Python for usage with the JVM. IronPython is Microsoft’s Python for the Common Language Runtime, aka .NET. PyPy is an up-and-coming implementation of Python, with advanced features such as JIT compilation, incremental garbage collection, and more.\n",
      "\n",
      "Each runtime has its own performance characteristics, and none of them are slow per se. The more important point here is that it is a mistake to assign performance assessments to a programming languages. Always assess an application runtime, most preferably against a particular use case.\n",
      "\n",
      "Having cleared that up, here is a small selection of cases where Python has offered significant performance advantages:\n",
      "\n",
      "Admittedly these are not the newest examples, just my favorites. It would be easy to get side-tracked into the wide world of high-performance Python and the unique offerings of runtimes. Instead of addressing individual special cases, attention should be drawn to the generalizable impact of developer productivity on end-product performance, especially in an enterprise setting.\n",
      "\n",
      "Given enough time, a disciplined developer can execute the only proven approach to achieving accurate and performant software:\n",
      "\n",
      "Engineer for correct behavior, including the development of respective tests Profile and measure performance, identifying bottlenecks Optimize, paying proper respect to the test suite and Amdahl’s Law, and taking advantage of Python’s strong roots in C.\n",
      "\n",
      "It might sound simple, but even for seasoned engineers, this can be a very time-consuming process. Python was designed from the ground up with developer timelines in mind. In our experience, it’s not uncommon for Python projects to undergo three or more iterations in the time it C++ and Java to do just one. Today, PayPal and eBay have seen multiple success stories wherein Python projects outperformed their C++ and Java counterparts, with less code (see right), all thanks to fast development times enabling careful tailoring and optimization. You know, the fun stuff.\n",
      "\n",
      "Myth #7: Python does not scale\n",
      "\n",
      "Scale has many definitions, but by any definition, YouTube is a web site at scale. More than 1 billion unique visitors per month, over 100 hours of uploaded video per minute, and going on 20 pecent of peak Internet bandwidth, all with Python as a core technology. Dropbox, Disqus, Eventbrite, Reddit, Twilio, Instagram, Yelp, EVE Online, Second Life, and, yes, eBay and PayPal all have Python scaling stories that prove scale is more than just possible: it’s a pattern.\n",
      "\n",
      "The key to success is simplicity and consistency. CPython, the primary Python virtual machine, maximizes these characteristics, which in turn makes for a very predictable runtime. One would be hard pressed to find Python programmers concerned about garbage collection pauses or application startup time. With strong platform and networking support, Python naturally lends itself to smart horizontal scalability, as manifested in systems like BitTorrent.\n",
      "\n",
      "Additionally, scaling is all about measurement and iteration. Python is built with profiling and optimization in mind. See Myth #6 for more details on how to vertically scale Python.\n",
      "\n",
      "Myth #8: Python lacks good concurrency support\n",
      "\n",
      "Occasionally debunking performance and scaling myths, and someone tries to get technical, “Python lacks concurrency,” or, “What about the GIL?” If dozens of counterexamples are insufficient to bolster one’s confidence in Python’s ability to scale vertically and horizontally, then an extended explanation of a CPython implementation detail probably won’t help, so I’ll keep it brief.\n",
      "\n",
      "Python has great concurrency primitives, including generators, greenlets, Deferreds, and futures. Python has great concurrency frameworks, including eventlet, gevent, and Twisted. Python has had some amazing work put into customizing runtimes for concurrency, including Stackless and PyPy. All of these and more show that there is no shortage of engineers effectively and unapologetically using Python for concurrent programming. Also, all of these are officially support and/or used in enterprise-level production environments. For examples, refer to Myth #7.\n",
      "\n",
      "The Global Interpreter Lock, or GIL, is a performance optimization for most use cases of Python, and a development ease optimization for virtually all CPython code. The GIL makes it much easier to use OS threads or green threads (greenlets usually), and does not affect using multiple processes. For more information, see this great Q&A on the topic and this overview from the Python docs.\n",
      "\n",
      "Here at PayPal, a typical service deployment entails multiple machines, with multiple processes, multiple threads, and a very large number of greenlets, amounting to a very robust and scalable concurrent environment (see figure below). In most enterprise environments, parties tends to prefer a fairly high degree of overprovisioning, for general prudence and disaster recovery. Nevertheless, in some cases Python services still see millions of requests per machine per day, handled with ease.\n",
      "\n",
      "Myth #9: Python programmers are scarce\n",
      "\n",
      "There is some truth to this myth. There are not as many Python web developers as PHP or Java web developers. This is probably mostly due to a combined interaction of industry demand and education, though trends in education suggest that this may change.\n",
      "\n",
      "That said, Python developers are far from scarce. There are millions worldwide, as evidenced by the dozens of Python conferences, tens of thousands of StackOverflow questions, and companies like YouTube, Bank of America, and LucasArts/Dreamworks employing Python developers by the hundreds and thousands. At eBay and PayPal we have hundreds of developers who use Python on a regular basis, so what’s the trick?\n",
      "\n",
      "Well, why scavenge when one can create? Python is exceptionally easy to learn, and is a first programming language for children, university students, and professionals alike. At eBay, it only takes one week to show real results for a new Python programmer, and they often really start to shine as quickly as 2-3 months, all made possible by the Internet’s rich cache of interactive tutorials, books, documentation, and open-source codebases.\n",
      "\n",
      "Another important factor to consider is that projects using Python simply do not require as many developers as other projects. As mentioned in Myth #6 and Myth #9, lean, effective teams like Instagram are a common trope in Python projects, and this has certainly been our experience at eBay and PayPal.\n",
      "\n",
      "Myth #10: Python is not for big projects\n",
      "\n",
      "Myth #7 discussed running Python projects at scale, but what about developing Python projects at scale? As mentioned in Myth #9, most Python projects tend not to be people-hungry. while Instagram reached hundreds of millions of hits a day at the time of their billion dollar acquisition, the whole company was still only a group of a dozen or so people. Dropbox in 2011 only had 70 engineers, and other teams were similarly lean. So, can Python scale to large teams?\n",
      "\n",
      "Bank of America actually has over 5,000 Python developers, with over 10 million lines of Python in one project alone. JP Morgan underwent a similar transformation. YouTube also has engineers in the thousands and lines of code in the millions. Big products and big teams use Python every day, and while it has excellent modularity and packaging characteristics, beyond a certain point much of the general development scaling advice stays the same. Tooling, strong conventions, and code review are what make big projects a manageable reality.\n",
      "\n",
      "Luckily, Python starts with a good baseline on those fronts as well. We use PyFlakes and other tools to perform static analysis of Python code before it gets checked in, as well as adhering to PEP8, Python’s language-wide base style guide.\n",
      "\n",
      "Finally, it should be noted that, in addition to the scheduling speedups mentioned in Myth #6 and #7, projects using Python generally require fewer developers, as well. Our most common success story starts with a Java or C++ project slated to take a team of 3-5 developers somewhere between 2-6 months, and ends with a single motivated developer completing the project in 2-6 weeks (or hours, for that matter).\n",
      "\n",
      "A miracle for some, but a fact of modern development, and often a necessity for a competitive business.\n",
      "\n",
      "A clean slate\n",
      "\n",
      "Mythology can be a fun pastime. Discussions around these myths remain some of the most active and educational, both internally and externally, because implied in every myth is a recognition of Python’s strengths. Also, remember that the appearance of these seemingly tedious and troublesome concerns is a sign of steadily growing interest, and with steady influx of interested parties comes the constant job of education. Here’s hoping that this post manages to extinguish a flame war and enable a project or two to talk about the real work that can be achieved with Python.\n",
      "\n",
      "Keep an eye out for future posts where I’ll dive deeper into the details touched on in this overview. If you absolutely must have details before then, or have corrections or comments, shoot me an email at mahmoud@paypal.com. Until then, happy coding!\n"
     ]
    }
   ],
   "source": [
    "# Show the first sample of one row of dataframe\n",
    "print(text_dataframe[\"Text\"][0])"
   ]
  },
  {
   "cell_type": "code",
   "execution_count": 5,
   "metadata": {},
   "outputs": [
    {
     "data": {
      "text/html": [
       "<div>\n",
       "<style scoped>\n",
       "    .dataframe tbody tr th:only-of-type {\n",
       "        vertical-align: middle;\n",
       "    }\n",
       "\n",
       "    .dataframe tbody tr th {\n",
       "        vertical-align: top;\n",
       "    }\n",
       "\n",
       "    .dataframe thead th {\n",
       "        text-align: right;\n",
       "    }\n",
       "</style>\n",
       "<table border=\"1\" class=\"dataframe\">\n",
       "  <thead>\n",
       "    <tr style=\"text-align: right;\">\n",
       "      <th></th>\n",
       "      <th>Text</th>\n",
       "    </tr>\n",
       "  </thead>\n",
       "  <tbody>\n",
       "    <tr>\n",
       "      <th>0</th>\n",
       "      <td>2016 Update: Whether you enjoy myth busting, P...</td>\n",
       "    </tr>\n",
       "    <tr>\n",
       "      <th>1</th>\n",
       "      <td>Let's start with the truth. The 3-point shot w...</td>\n",
       "    </tr>\n",
       "    <tr>\n",
       "      <th>2</th>\n",
       "      <td>Media playback is not supported on this device...</td>\n",
       "    </tr>\n",
       "    <tr>\n",
       "      <th>3</th>\n",
       "      <td>Krampus with babies postcard (via riptheskull/...</td>\n",
       "    </tr>\n",
       "    <tr>\n",
       "      <th>4</th>\n",
       "      <td>Last week, Michael Dorf published a long and c...</td>\n",
       "    </tr>\n",
       "  </tbody>\n",
       "</table>\n",
       "</div>"
      ],
      "text/plain": [
       "                                                Text\n",
       "0  2016 Update: Whether you enjoy myth busting, P...\n",
       "1  Let's start with the truth. The 3-point shot w...\n",
       "2  Media playback is not supported on this device...\n",
       "3  Krampus with babies postcard (via riptheskull/...\n",
       "4  Last week, Michael Dorf published a long and c..."
      ]
     },
     "execution_count": 5,
     "metadata": {},
     "output_type": "execute_result"
    }
   ],
   "source": [
    "text_dataframe.head()"
   ]
  },
  {
   "cell_type": "code",
   "execution_count": 6,
   "metadata": {},
   "outputs": [
    {
     "data": {
      "text/plain": [
       "7911"
      ]
     },
     "execution_count": 6,
     "metadata": {},
     "output_type": "execute_result"
    }
   ],
   "source": [
    "len(text_dataframe)"
   ]
  },
  {
   "cell_type": "code",
   "execution_count": 7,
   "metadata": {},
   "outputs": [],
   "source": [
    "from sklearn.feature_extraction.text import CountVectorizer"
   ]
  },
  {
   "cell_type": "code",
   "execution_count": 8,
   "metadata": {},
   "outputs": [],
   "source": [
    "# max_df is between 0-1 or an INT\n",
    "\n",
    "\n",
    "count_vectorizer = CountVectorizer(max_df=0.90, min_df=4, stop_words=\"english\")"
   ]
  },
  {
   "cell_type": "code",
   "execution_count": 9,
   "metadata": {},
   "outputs": [],
   "source": [
    "doc_term_matrix = count_vectorizer.fit_transform(text_dataframe[\"Text\"])"
   ]
  },
  {
   "cell_type": "code",
   "execution_count": 10,
   "metadata": {
    "scrolled": true
   },
   "outputs": [
    {
     "data": {
      "text/plain": [
       "<7911x45783 sparse matrix of type '<class 'numpy.int64'>'\n",
       "\twith 3482007 stored elements in Compressed Sparse Row format>"
      ]
     },
     "execution_count": 10,
     "metadata": {},
     "output_type": "execute_result"
    }
   ],
   "source": [
    "# dtm contains 7911 articles\n",
    "# 45783 terms (words)\n",
    "\n",
    "doc_term_matrix"
   ]
  },
  {
   "cell_type": "code",
   "execution_count": 11,
   "metadata": {},
   "outputs": [],
   "source": [
    "# LDA section"
   ]
  },
  {
   "cell_type": "code",
   "execution_count": 12,
   "metadata": {},
   "outputs": [],
   "source": [
    "from sklearn.decomposition import LatentDirichletAllocation"
   ]
  },
  {
   "cell_type": "code",
   "execution_count": 13,
   "metadata": {},
   "outputs": [],
   "source": [
    "# n_components = no of topics. This for now is trial-and-error\n",
    "# I'm starting with 10 topics that could be in this group of texts\n",
    "lda = LatentDirichletAllocation(n_components=10, random_state=1)"
   ]
  },
  {
   "cell_type": "code",
   "execution_count": 14,
   "metadata": {},
   "outputs": [
    {
     "data": {
      "text/plain": [
       "LatentDirichletAllocation(batch_size=128, doc_topic_prior=None,\n",
       "             evaluate_every=-1, learning_decay=0.7,\n",
       "             learning_method='batch', learning_offset=10.0,\n",
       "             max_doc_update_iter=100, max_iter=10, mean_change_tol=0.001,\n",
       "             n_components=10, n_jobs=None, n_topics=None, perp_tol=0.1,\n",
       "             random_state=1, topic_word_prior=None,\n",
       "             total_samples=1000000.0, verbose=0)"
      ]
     },
     "execution_count": 14,
     "metadata": {},
     "output_type": "execute_result"
    }
   ],
   "source": [
    "lda.fit(doc_term_matrix)"
   ]
  },
  {
   "cell_type": "code",
   "execution_count": 15,
   "metadata": {},
   "outputs": [
    {
     "name": "stdout",
     "output_type": "stream",
     "text": [
      "Log likelihood :  -54619996.62116641\n"
     ]
    }
   ],
   "source": [
    "# Metrics - log likelihood - higher score = better\n",
    "print(\"Log likelihood : \", lda.score(doc_term_matrix))\n"
   ]
  },
  {
   "cell_type": "code",
   "execution_count": 16,
   "metadata": {
    "scrolled": true
   },
   "outputs": [
    {
     "name": "stdout",
     "output_type": "stream",
     "text": [
      "Perplexity:  5676.978386836095\n"
     ]
    }
   ],
   "source": [
    "# Perplexity - lower = better. \n",
    "# = exp(-1 * log likelihood per word)\n",
    "print(\"Perplexity: \", lda.perplexity(doc_term_matrix))"
   ]
  },
  {
   "cell_type": "code",
   "execution_count": 18,
   "metadata": {},
   "outputs": [
    {
     "data": {
      "text/plain": [
       "45783"
      ]
     },
     "execution_count": 18,
     "metadata": {},
     "output_type": "execute_result"
    }
   ],
   "source": [
    "len(count_vectorizer.get_feature_names())"
   ]
  },
  {
   "cell_type": "code",
   "execution_count": 30,
   "metadata": {},
   "outputs": [
    {
     "data": {
      "text/plain": [
       "'abbreviations'"
      ]
     },
     "execution_count": 30,
     "metadata": {},
     "output_type": "execute_result"
    }
   ],
   "source": [
    "count_vectorizer.get_feature_names()[1500]"
   ]
  },
  {
   "cell_type": "code",
   "execution_count": 31,
   "metadata": {},
   "outputs": [
    {
     "data": {
      "text/plain": [
       "array([[1.10639106e+01, 1.53501573e+03, 1.00001937e-01, ...,\n",
       "        1.00011451e-01, 1.00002908e-01, 1.00002963e-01],\n",
       "       [4.25320530e+01, 9.36013737e+02, 3.80958727e+00, ...,\n",
       "        1.00013365e-01, 1.00000000e-01, 1.00036914e-01],\n",
       "       [3.24149536e+01, 2.72326043e+01, 1.00026045e-01, ...,\n",
       "        1.00002969e-01, 1.00016871e-01, 1.14851716e+00],\n",
       "       ...,\n",
       "       [1.00012362e-01, 2.99500946e+02, 1.00012134e-01, ...,\n",
       "        6.09994945e+00, 1.00020349e-01, 1.39723201e+00],\n",
       "       [4.01616522e+01, 6.68081695e+02, 1.00001637e-01, ...,\n",
       "        1.00000183e-01, 1.00009829e-01, 1.00000000e-01],\n",
       "       [7.95734719e+01, 2.86610395e+02, 2.47907651e+00, ...,\n",
       "        1.00010873e-01, 2.20789665e+00, 1.00082060e-01]])"
      ]
     },
     "execution_count": 31,
     "metadata": {},
     "output_type": "execute_result"
    }
   ],
   "source": [
    "lda.components_"
   ]
  },
  {
   "cell_type": "code",
   "execution_count": 32,
   "metadata": {},
   "outputs": [
    {
     "data": {
      "text/plain": [
       "(10, 45783)"
      ]
     },
     "execution_count": 32,
     "metadata": {},
     "output_type": "execute_result"
    }
   ],
   "source": [
    "lda.components_.shape"
   ]
  },
  {
   "cell_type": "code",
   "execution_count": 33,
   "metadata": {},
   "outputs": [],
   "source": [
    "first_topic = lda.components_[0]"
   ]
  },
  {
   "cell_type": "code",
   "execution_count": 35,
   "metadata": {},
   "outputs": [
    {
     "data": {
      "text/plain": [
       "array([41333, 18234, 18506, ..., 30209, 19360, 35646], dtype=int64)"
      ]
     },
     "execution_count": 35,
     "metadata": {},
     "output_type": "execute_result"
    }
   ],
   "source": [
    "first_topic.argsort()"
   ]
  },
  {
   "cell_type": "code",
   "execution_count": 36,
   "metadata": {},
   "outputs": [
    {
     "data": {
      "text/plain": [
       "array([39493, 25798, 29929, 27795, 24148, 43058, 45551, 35934, 36067,\n",
       "        7121, 39486,  7926, 30209, 19360, 35646], dtype=int64)"
      ]
     },
     "execution_count": 36,
     "metadata": {},
     "output_type": "execute_result"
    }
   ],
   "source": [
    "first_topic.argsort()[-15:]"
   ]
  },
  {
   "cell_type": "code",
   "execution_count": 37,
   "metadata": {},
   "outputs": [
    {
     "name": "stdout",
     "output_type": "stream",
     "text": [
      "study\n"
     ]
    }
   ],
   "source": [
    "print(count_vectorizer.get_feature_names()[39493])"
   ]
  },
  {
   "cell_type": "code",
   "execution_count": 38,
   "metadata": {
    "scrolled": true
   },
   "outputs": [
    {
     "name": "stdout",
     "output_type": "stream",
     "text": [
      "medical\n"
     ]
    }
   ],
   "source": [
    "print(count_vectorizer.get_feature_names()[25798])"
   ]
  },
  {
   "cell_type": "code",
   "execution_count": 41,
   "metadata": {},
   "outputs": [
    {
     "name": "stdout",
     "output_type": "stream",
     "text": [
      "Top words for topic 0 are : \n",
      "['family']['hospital']['time']['parents']['year']['study']['medical']['patients']['new']['like']['university']['years']['says']['school']['care']['students']['children']['people']['health']['said']\n",
      "\n",
      "Top words for topic 1 are : \n",
      "['low']['economic']['year']['high']['economy']['driving']['republican']['health']['income']['weight']['fat']['new']['cars']['just']['like']['diet']['percent']['car']['trump']['people']\n",
      "\n",
      "Top words for topic 2 are : \n",
      "['example']['different']['ll']['want']['using']['new']['learning']['people']['code']['don']['things']['way']['just']['make']['like']['need']['data']['work']['use']['time']\n",
      "\n",
      "Top words for topic 3 are : \n",
      "['ingredients']['plant']['years']['healthy']['recipe']['protein']['add']['plants']['cooking']['good']['eat']['oil']['use']['time']['just']['species']['make']['like']['water']['food']\n",
      "\n",
      "Top words for topic 4 are : \n",
      "['world']['people']['market']['work']['time']['million']['industry']['years']['year']['ai']['big']['like']['says']['technology']['companies']['said']['business']['data']['new']['company']\n",
      "\n",
      "Top words for topic 5 are : \n",
      "['best']['teams']['sports']['vitamin']['ball']['years']['games']['time']['player']['league']['play']['football']['like']['just']['said']['season']['players']['year']['team']['game']\n",
      "\n",
      "Top words for topic 6 are : \n",
      "['years']['marriage']['feel']['person']['good']['world']['know']['make']['work']['just']['relationship']['things']['don']['way']['time']['like']['love']['people']['life']['art']\n",
      "\n",
      "Top words for topic 7 are : \n",
      "['social']['united']['power']['years']['said']['century']['church']['war']['public']['human']['states']['american']['president']['political']['history']['state']['new']['government']['people']['world']\n",
      "\n",
      "Top words for topic 8 are : \n",
      "['just']['business']['make']['new']['want']['post']['facebook']['analytics']['time']['people']['like']['use']['page']['site']['marketing']['search']['media']['social']['content']['google']\n",
      "\n",
      "Top words for topic 9 are : \n",
      "['things']['look']['good']['work']['said']['think']['really']['going']['ll']['way']['know']['want']['ve']['make']['people']['day']['don']['time']['just']['like']\n",
      "\n"
     ]
    }
   ],
   "source": [
    "word_list = []\n",
    "probability_list = []\n",
    "\n",
    "top_number = 20\n",
    "topic_count = 0\n",
    "\n",
    "for probability_number in lda.components_:\n",
    "    text_message = f\"Top words for topic {topic_count} are : \"\n",
    "    print(text_message)\n",
    "    for number in probability_number.argsort()[-top_number:]:\n",
    "        print([count_vectorizer.get_feature_names()[number]], end=\"\")\n",
    "        probability_list.append(number)\n",
    "    print(\"\\n\")\n",
    "    topic_count += 1"
   ]
  },
  {
   "cell_type": "code",
   "execution_count": 42,
   "metadata": {
    "scrolled": false
   },
   "outputs": [
    {
     "name": "stderr",
     "output_type": "stream",
     "text": [
      "C:\\Users\\James\\Anaconda3\\envs\\ai2_course\\lib\\site-packages\\sklearn\\model_selection\\_split.py:2053: FutureWarning: You should specify a value for 'cv' instead of relying on the default value. The default value will change from 3 to 5 in version 0.22.\n",
      "  warnings.warn(CV_WARNING, FutureWarning)\n"
     ]
    },
    {
     "data": {
      "text/plain": [
       "GridSearchCV(cv='warn', error_score='raise-deprecating',\n",
       "       estimator=LatentDirichletAllocation(batch_size=128, doc_topic_prior=None,\n",
       "             evaluate_every=-1, learning_decay=0.7,\n",
       "             learning_method='batch', learning_offset=10.0,\n",
       "             max_doc_update_iter=100, max_iter=10, mean_change_tol=0.001,\n",
       "             n_components=10, n_jobs=None, n_topics=None, perp_tol=0.1,\n",
       "             random_state=None, topic_word_prior=None,\n",
       "             total_samples=1000000.0, verbose=0),\n",
       "       fit_params=None, iid='warn', n_jobs=None,\n",
       "       param_grid={'n_components': [10, 15, 20, 25, 30], 'learning_decay': [0.5, 0.7, 0.9]},\n",
       "       pre_dispatch='2*n_jobs', refit=True, return_train_score='warn',\n",
       "       scoring=None, verbose=0)"
      ]
     },
     "execution_count": 42,
     "metadata": {},
     "output_type": "execute_result"
    }
   ],
   "source": [
    "from sklearn.model_selection import GridSearchCV\n",
    "\n",
    "# Defien the params that we want to use\n",
    "search_params = {\"n_components\": [10, 15, 20, 25, 30], \"learning_decay\": [.5, .7, .9]}\n",
    "\n",
    "# Init the model\n",
    "lda_comparison = LatentDirichletAllocation()\n",
    "\n",
    "# Init Grid Search Class\n",
    "lda_comparison = GridSearchCV(lda_comparison, param_grid=search_params)\n",
    "\n",
    "# Run the grid search\n",
    "lda_comparison.fit(doc_term_matrix)"
   ]
  },
  {
   "cell_type": "code",
   "execution_count": 43,
   "metadata": {},
   "outputs": [
    {
     "name": "stdout",
     "output_type": "stream",
     "text": [
      "Best model params:  {'learning_decay': 0.5, 'n_components': 10}\n",
      "Best log likelihood score -18738771.51805039\n",
      "Model perplexity :  5636.416223420087\n"
     ]
    }
   ],
   "source": [
    "# Best model which gives the highest score\n",
    "best_lda_model = lda_comparisoncomparisoncomparisoncomparison.best_estimator_\n",
    "\n",
    "# Model parameters is used to store a list of params settings for allprint \n",
    "# parameters candidatelda_comparisonint(\"Best model params: \", lda_comparison.beprintarams_)\n",
    "\n",
    "# Best log likelihoodlda_comparisonprint(\"Best log likelihood score\", lda_comparison.best_score_)\n",
    "\n",
    "# Best perplexity\n",
    "print(\"Model perplexity : \", best_lda_model.perplexity(doc_term_matrix))\n"
   ]
  }
 ],
 "metadata": {
  "kernelspec": {
   "display_name": "Python 3",
   "language": "python",
   "name": "python3"
  },
  "language_info": {
   "codemirror_mode": {
    "name": "ipython",
    "version": 3
   },
   "file_extension": ".py",
   "mimetype": "text/x-python",
   "name": "python",
   "nbconvert_exporter": "python",
   "pygments_lexer": "ipython3",
   "version": "3.7.4"
  }
 },
 "nbformat": 4,
 "nbformat_minor": 2
}
