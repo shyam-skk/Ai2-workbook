{
 "cells": [
  {
   "cell_type": "markdown",
   "metadata": {},
   "source": [
    "# Tokenization\n",
    "The first step in creating a `Doc` object is to break down the incoming text into component pieces or \"tokens\".\n",
    "\n",
    "Let's look at the first example shown in the presentation file on Blackboard. "
   ]
  },
  {
   "cell_type": "code",
   "execution_count": 1,
   "metadata": {},
   "outputs": [],
   "source": [
    "# Import spaCy and load the English language library\n",
    "import spacy\n",
    "# This will take a while to load initially\n",
    "nlp = spacy.load(\"en_core_web_sm\")"
   ]
  },
  {
   "cell_type": "code",
   "execution_count": 2,
   "metadata": {},
   "outputs": [
    {
     "name": "stdout",
     "output_type": "stream",
     "text": [
      "\"Mr. O'Neill thinks that the boys' stories about Chile's capital aren't amusing.\"\n"
     ]
    }
   ],
   "source": [
    "# The text is within \"\" which we want to display and therefore we need to use the \\ character to identify that\n",
    "# some of the single quote marks are not the end of the sentence\n",
    "\n",
    "# SpaCy works with doc objects. This doc object is called \"sentence\"\n",
    "sentence = '\"Mr. O\\'Neill thinks that the boys\\' stories about Chile\\'s capital aren\\'t amusing.\"'\n",
    "print (sentence)"
   ]
  },
  {
   "cell_type": "markdown",
   "metadata": {},
   "source": [
    "Now we'll examine each of the tokens for our sentence. Refer to the slides on Blackboard for further information."
   ]
  },
  {
   "cell_type": "code",
   "execution_count": 3,
   "metadata": {},
   "outputs": [
    {
     "name": "stdout",
     "output_type": "stream",
     "text": [
      "\"\n",
      "Mr.\n",
      "O'Neill\n",
      "thinks\n",
      "that\n",
      "the\n",
      "boys\n",
      "'\n",
      "stories\n",
      "about\n",
      "Chile\n",
      "'s\n",
      "capital\n",
      "are\n",
      "n't\n",
      "amusing\n",
      ".\n",
      "\"\n"
     ]
    }
   ],
   "source": [
    "nlp_sentence = nlp(sentence)\n",
    "for token in nlp_sentence:\n",
    "    print (token.text)"
   ]
  },
  {
   "cell_type": "markdown",
   "metadata": {},
   "source": [
    "Note that the sentence is split on punctuation, and the word **boys'** , **Chile's** and **aren't** are now split and are assigned their own tokens. The prefix and suffix have also been assigned individual tokens. The **.** for the word **Mr.** has remained part of this word. SpaCy was able to determine that the **.** is part of the **Mr.** title."
   ]
  },
  {
   "cell_type": "code",
   "execution_count": 6,
   "metadata": {},
   "outputs": [
    {
     "name": "stdout",
     "output_type": "stream",
     "text": [
      "\" PUNCT | Mr. PROPN | O'Neill PROPN | thinks VERB | that ADP | the DET | boys NOUN | ' PART | stories NOUN | about ADP | Chile PROPN | 's PART | capital NOUN | are VERB | n't ADV | amusing ADJ | . PUNCT | \" PUNCT | "
     ]
    }
   ],
   "source": [
    "nlp_sentence = nlp(sentence)\n",
    "\n",
    "# Show the tokens of the sentence and use\n",
    "# the \"|\" between each token for additional clarification\n",
    "for token in nlp_sentence:\n",
    "    print (token.text, token.pos_, end = \" | \")"
   ]
  },
  {
   "cell_type": "markdown",
   "metadata": {},
   "source": [
    "Lets look at a more difficult sentence that includes **.** within the time elements, and **.** within the web address."
   ]
  },
  {
   "cell_type": "code",
   "execution_count": 7,
   "metadata": {},
   "outputs": [],
   "source": [
    "sentence = \"It is best to access our website from 9 a.m. to 1 p.m. every weekend. The address is www.mywebsite.ie.\""
   ]
  },
  {
   "cell_type": "code",
   "execution_count": 8,
   "metadata": {},
   "outputs": [],
   "source": [
    "doc_object = nlp(sentence)"
   ]
  },
  {
   "cell_type": "code",
   "execution_count": 9,
   "metadata": {},
   "outputs": [
    {
     "name": "stdout",
     "output_type": "stream",
     "text": [
      "It\n",
      "is\n",
      "best\n",
      "to\n",
      "access\n",
      "our\n",
      "website\n",
      "from\n",
      "9\n",
      "a.m.\n",
      "to\n",
      "1\n",
      "p.m.\n",
      "every\n",
      "weekend\n",
      ".\n",
      "The\n",
      "address\n",
      "is\n",
      "www.mywebsite.ie\n",
      ".\n"
     ]
    }
   ],
   "source": [
    "for token in doc_object:\n",
    "    print (token)"
   ]
  },
  {
   "cell_type": "markdown",
   "metadata": {},
   "source": [
    "SpaCy tokenises all words as expected, including the **.**. It also separates out the **.** at the end of the sentence as a **suffix** compared to the **.** in the middle of the web address.\n",
    "\n",
    "Spacy can detect the difference between units such as distance and cost. Here's an example."
   ]
  },
  {
   "cell_type": "code",
   "execution_count": 10,
   "metadata": {},
   "outputs": [
    {
     "name": "stdout",
     "output_type": "stream",
     "text": [
      "I\n",
      "live\n",
      "about\n",
      "20\n",
      "km\n",
      "from\n",
      "here\n",
      ".\n",
      "A\n",
      "taxi\n",
      "will\n",
      "cost\n",
      "around\n",
      "£\n",
      "50\n",
      ".\n"
     ]
    }
   ],
   "source": [
    "sentence = \"I live about 20km from here. A taxi will cost around £50.\"\n",
    "doc_object = nlp(sentence)\n",
    "\n",
    "for token in doc_object:\n",
    "    print (token)"
   ]
  },
  {
   "cell_type": "markdown",
   "metadata": {},
   "source": [
    "## Counting Tokens\n",
    "`Doc` objects have a set number of tokens:"
   ]
  },
  {
   "cell_type": "code",
   "execution_count": 11,
   "metadata": {},
   "outputs": [
    {
     "data": {
      "text/plain": [
       "16"
      ]
     },
     "execution_count": 11,
     "metadata": {},
     "output_type": "execute_result"
    }
   ],
   "source": [
    "# Number of tokens in our sentence\n",
    "len (doc_object)"
   ]
  },
  {
   "cell_type": "markdown",
   "metadata": {},
   "source": [
    "A language library contains individual `vocab` objects. The number of vocab objects in a library can vary for each language and can change when we add new `vocab` objects called `lexemes` to a language library."
   ]
  },
  {
   "cell_type": "code",
   "execution_count": 12,
   "metadata": {},
   "outputs": [
    {
     "data": {
      "text/plain": [
       "57853"
      ]
     },
     "execution_count": 12,
     "metadata": {},
     "output_type": "execute_result"
    }
   ],
   "source": [
    "# Count the number of vocab objects in the currently loaded language library\n",
    "# This is from the en_core_web_sm library\n",
    "# Use en_core_web_lg for larger library\n",
    "len (doc_object.vocab)"
   ]
  },
  {
   "cell_type": "markdown",
   "metadata": {},
   "source": [
    "## Retrieve token by index position and slice\n",
    "`Doc` objects can be thought of as lists of `token` objects. As such, individual tokens can be retrieved by index position, and spans of tokens can be retrieved through slicing, just as shown in the previous notebook.\n",
    "\n",
    "Let's enter the text into a `doc` object and then show the contents of the sentence."
   ]
  },
  {
   "cell_type": "code",
   "execution_count": 13,
   "metadata": {},
   "outputs": [
    {
     "name": "stdout",
     "output_type": "stream",
     "text": [
      "I\n",
      "really\n",
      "like\n",
      "working\n",
      "with\n",
      "words\n",
      "!\n"
     ]
    }
   ],
   "source": [
    "doc = nlp(u\"I really like working with words!\")\n",
    "\n",
    "# Print each token\n",
    "for token in doc:\n",
    "    print (token)"
   ]
  },
  {
   "cell_type": "markdown",
   "metadata": {},
   "source": [
    "Now I'll extract some tokens from the sentence. Note that the indexer starts at 0, and all tokens such as suffix count as a token position."
   ]
  },
  {
   "cell_type": "code",
   "execution_count": 14,
   "metadata": {},
   "outputs": [
    {
     "data": {
      "text/plain": [
       "I"
      ]
     },
     "execution_count": 14,
     "metadata": {},
     "output_type": "execute_result"
    }
   ],
   "source": [
    "# Retrieve the first token\n",
    "doc[0]"
   ]
  },
  {
   "cell_type": "code",
   "execution_count": 15,
   "metadata": {},
   "outputs": [
    {
     "data": {
      "text/plain": [
       "working with words"
      ]
     },
     "execution_count": 15,
     "metadata": {},
     "output_type": "execute_result"
    }
   ],
   "source": [
    "# Retrieve the 3rd to 6th token\n",
    "doc[3:6]"
   ]
  },
  {
   "cell_type": "code",
   "execution_count": 16,
   "metadata": {},
   "outputs": [
    {
     "data": {
      "text/plain": [
       "words!"
      ]
     },
     "execution_count": 16,
     "metadata": {},
     "output_type": "execute_result"
    }
   ],
   "source": [
    "# Retrieve the last 2 tokens\n",
    "doc[-2:]"
   ]
  },
  {
   "cell_type": "markdown",
   "metadata": {},
   "source": [
    "We cannot re-assign individual tokens with new values. For example, this example is not possible. \n",
    "\n",
    "Remember that Spacy has already generated a lot of calculations on your text, so an item reassignment is going to cause issues with these."
   ]
  },
  {
   "cell_type": "code",
   "execution_count": 17,
   "metadata": {
    "scrolled": true
   },
   "outputs": [
    {
     "ename": "TypeError",
     "evalue": "'spacy.tokens.doc.Doc' object does not support item assignment",
     "output_type": "error",
     "traceback": [
      "\u001b[1;31m---------------------------------------------------------------------------\u001b[0m",
      "\u001b[1;31mTypeError\u001b[0m                                 Traceback (most recent call last)",
      "\u001b[1;32m<ipython-input-17-602823364da0>\u001b[0m in \u001b[0;36m<module>\u001b[1;34m\u001b[0m\n\u001b[1;32m----> 1\u001b[1;33m \u001b[0mdoc\u001b[0m\u001b[1;33m[\u001b[0m\u001b[1;36m2\u001b[0m\u001b[1;33m]\u001b[0m \u001b[1;33m=\u001b[0m \u001b[1;34m\"Do not\"\u001b[0m\u001b[1;33m\u001b[0m\u001b[1;33m\u001b[0m\u001b[0m\n\u001b[0m",
      "\u001b[1;31mTypeError\u001b[0m: 'spacy.tokens.doc.Doc' object does not support item assignment"
     ]
    }
   ],
   "source": [
    "doc[2] = \"Do not\""
   ]
  },
  {
   "cell_type": "markdown",
   "metadata": {},
   "source": [
    "# Named Entity Recognition (NER)\n",
    "Going a step beyond tokens, **named entities** add another layer of context. A named entity is a **real-world object** that’s assigned a name – for example, a person, a country, a product, a date, money, a book title etc.\n",
    "\n",
    "spaCy can recognise various types of named entities in a document, by asking the language model for a prediction.\n",
    "\n",
    "Named entities are accessible through the `ents` property of a `Doc` object."
   ]
  },
  {
   "cell_type": "code",
   "execution_count": 18,
   "metadata": {},
   "outputs": [
    {
     "name": "stdout",
     "output_type": "stream",
     "text": [
      "Samsung | in | Ireland | are | pleased | with | their | new | folding | screen | that | they | released | after | a | large | $ | 9 | million | investment | . | "
     ]
    }
   ],
   "source": [
    "doc_object = nlp(u\"Samsung in Ireland are pleased with their new folding screen that they released after a large $9 million investment.\")\n",
    "\n",
    "for token in doc_object:\n",
    "    # show the token followed by a separator\n",
    "    print (token, end = \" | \")"
   ]
  },
  {
   "cell_type": "markdown",
   "metadata": {},
   "source": [
    "We can view the named entities in the doc object with the following code:"
   ]
  },
  {
   "cell_type": "code",
   "execution_count": 19,
   "metadata": {},
   "outputs": [
    {
     "name": "stdout",
     "output_type": "stream",
     "text": [
      "Samsung\n",
      "Ireland\n",
      "$9 million\n"
     ]
    }
   ],
   "source": [
    "for entity in doc_object.ents:\n",
    "    print (entity)"
   ]
  },
  {
   "cell_type": "markdown",
   "metadata": {},
   "source": [
    "SpaCy has recognised that these tokens are named entities and there are more context to these tokens. They are similar to nouns.\n",
    "\n",
    "We can view the label for each named entity and see what entity spaCy has assigned to each named entity."
   ]
  },
  {
   "cell_type": "code",
   "execution_count": 20,
   "metadata": {},
   "outputs": [
    {
     "name": "stdout",
     "output_type": "stream",
     "text": [
      "Samsung ORG\n",
      "Ireland GPE\n",
      "$9 million MONEY\n"
     ]
    }
   ],
   "source": [
    "for entity in doc_object.ents:\n",
    "    # Show the entity and its general label\n",
    "    print (entity, entity.label_)"
   ]
  },
  {
   "cell_type": "markdown",
   "metadata": {},
   "source": [
    "We can show more detail on each entity label. All this is generated automatically through spaCy."
   ]
  },
  {
   "cell_type": "code",
   "execution_count": 22,
   "metadata": {},
   "outputs": [
    {
     "name": "stdout",
     "output_type": "stream",
     "text": [
      "Samsung ORG Companies, agencies, institutions, etc.\n",
      "Ireland GPE Countries, cities, states\n",
      "$9 million MONEY Monetary values, including unit\n"
     ]
    }
   ],
   "source": [
    "for entity in doc_object.ents:\n",
    "    # Show the entity and its general label\n",
    "    # and show a full description on each named entity\n",
    "    # using the spacy.explain command\n",
    "    print (entity, entity.label_, spacy.explain(entity.label_))"
   ]
  },
  {
   "cell_type": "markdown",
   "metadata": {},
   "source": [
    "If a named entity does not exist, the `show_ents` function will not work. For example, the word **car** is not automatically recognised as a named entity."
   ]
  },
  {
   "cell_type": "code",
   "execution_count": 25,
   "metadata": {},
   "outputs": [],
   "source": [
    "doc_object = nlp(u\"I like my car\")\n",
    "for entity in doc_object.ents:\n",
    "    print (entity, entity.label_)"
   ]
  },
  {
   "cell_type": "markdown",
   "metadata": {},
   "source": [
    "I'm creating a new function called **show_entity_info** that will accept a `doc object` and display relevant entity information. I'll also check whether entity information exists or not."
   ]
  },
  {
   "cell_type": "code",
   "execution_count": 26,
   "metadata": {},
   "outputs": [],
   "source": [
    "# Create a function to display entity information from a doc_object\n",
    "def show_entity_info(doc_object):\n",
    "    if doc_object:\n",
    "        for entity in doc_object.ents:\n",
    "            print(f\"{entity.text} {entity.label_:{20}} {spacy.explain(entity.label_)}\")\n",
    "    else:\n",
    "        print(f\"No entities found in text.\")"
   ]
  },
  {
   "cell_type": "code",
   "execution_count": 27,
   "metadata": {},
   "outputs": [],
   "source": [
    "doc_object = nlp(u\"I like my lyit\")\n",
    "show_entity_info(doc_object)"
   ]
  },
  {
   "cell_type": "code",
   "execution_count": null,
   "metadata": {},
   "outputs": [],
   "source": []
  },
  {
   "cell_type": "markdown",
   "metadata": {},
   "source": [
    "# Noun Chunks\n",
    "Similar to NER `Doc.ents`, `Doc.noun_chunks` are another object property. *Noun chunks* are **base noun phrases** – flat phrases that have a noun as their head. You can think of noun chunks as a noun plus the words describing the noun – for example, a *\"the lavish green grass\"* would be one noun chunk.\n",
    "\n",
    "`spaCy` uses the terms **head** and **child** to describe the words connected by a single arc in the **dependency tree**. The term **dep** is used for the arc label, which describes the type of syntactic relation that connects the child to the head. \n",
    "\n",
    "Lets have a look at an example. I'll then demonstrate how we can use a visualiser to demonstrate this information. "
   ]
  },
  {
   "cell_type": "code",
   "execution_count": 28,
   "metadata": {},
   "outputs": [
    {
     "name": "stdout",
     "output_type": "stream",
     "text": [
      "Text                      Root text            Root dependency           Root head text      \n",
      "Autonomous cars           cars                 nominal subject           shift               \n",
      "insurance liability       liability            direct object             shift               \n",
      "manufacturers             manufacturers        object of preposition     toward              \n"
     ]
    }
   ],
   "source": [
    "doc_object = nlp(\"Autonomous cars shift insurance liability toward manufacturers\")\n",
    "\n",
    "# Create header text for table output\n",
    "column1 = \"Text\"\n",
    "column2 = \"Root text\"\n",
    "column3 = \"Root dependency\"\n",
    "column4 = \"Root head text\"\n",
    "# Show the header for the table output\n",
    "print (f\"{column1:25} {column2:20} {column3:25} {column4:20}\")\n",
    "# Show relevant detail for each noun chunk in the text\n",
    "for chunk in doc_object.noun_chunks:\n",
    "    print(f\"{chunk.text:{25}} {chunk.root.text:{20}} {spacy.explain(chunk.root.dep_):{25}} {chunk.root.head.text:{20}}\")"
   ]
  },
  {
   "cell_type": "markdown",
   "metadata": {},
   "source": [
    "The noun **cars** is described by the word **autonomous**. Both words are referred to as a **noun chunk**. Similarly the  noun **liability** is described by the word **insurance**. So again both words are described as a **noun chunk**. **Insurnce** is a noun, and is also called a **noun chunk** even though it does not have any discriptive text associated with it.\n",
    "\n",
    "\n",
    "In the table above, the **Text** column represents the original noun chunk text.\n",
    "\n",
    "The **Root text** column is the original text of the word connecting the noun chunk to the rest of the parse.\n",
    "\n",
    "The **Root dependency** column is the dependency relation connecting the root to its head.\n",
    "\n",
    "The **Root head text** is the text of the root token’s head.\n",
    "\n",
    "For more info on **noun_chunks** visit https://spacy.io/usage/linguistic-features#noun-chunks"
   ]
  },
  {
   "cell_type": "markdown",
   "metadata": {},
   "source": [
    "## displaCy Built-in Visualiser\n",
    "\n",
    "spaCy includes a built-in visualisation tool called `displaCy`. `displaCy` is able to detect whether you're working in a Jupyter notebook, and will return markup that can be rendered in a cell right away. When you export your notebook, the visualizations will be included as HTML.\n",
    "\n",
    "Let's examine the dependencies of our sentence visually.\n",
    "\n",
    "Note that we can show the sentence dependencies using the `style=\"dep\"` option and the sentence entities using the `style=\"ent\"` option."
   ]
  },
  {
   "cell_type": "code",
   "execution_count": 29,
   "metadata": {},
   "outputs": [],
   "source": [
    "from spacy import displacy"
   ]
  },
  {
   "cell_type": "code",
   "execution_count": 30,
   "metadata": {},
   "outputs": [],
   "source": [
    "doc_object = nlp(u\"Autonomous cars shift insurance liability toward manufacturers\")"
   ]
  },
  {
   "cell_type": "code",
   "execution_count": 31,
   "metadata": {},
   "outputs": [
    {
     "data": {
      "text/html": [
       "<svg xmlns=\"http://www.w3.org/2000/svg\" xmlns:xlink=\"http://www.w3.org/1999/xlink\" id=\"0\" class=\"displacy\" width=\"750\" height=\"287.0\" style=\"max-width: none; height: 287.0px; color: #000000; background: #ffffff; font-family: Arial\">\n",
       "<text class=\"displacy-token\" fill=\"currentColor\" text-anchor=\"middle\" y=\"197.0\">\n",
       "    <tspan class=\"displacy-word\" fill=\"currentColor\" x=\"50\">Autonomous</tspan>\n",
       "    <tspan class=\"displacy-tag\" dy=\"2em\" fill=\"currentColor\" x=\"50\">ADJ</tspan>\n",
       "</text>\n",
       "\n",
       "<text class=\"displacy-token\" fill=\"currentColor\" text-anchor=\"middle\" y=\"197.0\">\n",
       "    <tspan class=\"displacy-word\" fill=\"currentColor\" x=\"150\">cars</tspan>\n",
       "    <tspan class=\"displacy-tag\" dy=\"2em\" fill=\"currentColor\" x=\"150\">NOUN</tspan>\n",
       "</text>\n",
       "\n",
       "<text class=\"displacy-token\" fill=\"currentColor\" text-anchor=\"middle\" y=\"197.0\">\n",
       "    <tspan class=\"displacy-word\" fill=\"currentColor\" x=\"250\">shift</tspan>\n",
       "    <tspan class=\"displacy-tag\" dy=\"2em\" fill=\"currentColor\" x=\"250\">VERB</tspan>\n",
       "</text>\n",
       "\n",
       "<text class=\"displacy-token\" fill=\"currentColor\" text-anchor=\"middle\" y=\"197.0\">\n",
       "    <tspan class=\"displacy-word\" fill=\"currentColor\" x=\"350\">insurance</tspan>\n",
       "    <tspan class=\"displacy-tag\" dy=\"2em\" fill=\"currentColor\" x=\"350\">NOUN</tspan>\n",
       "</text>\n",
       "\n",
       "<text class=\"displacy-token\" fill=\"currentColor\" text-anchor=\"middle\" y=\"197.0\">\n",
       "    <tspan class=\"displacy-word\" fill=\"currentColor\" x=\"450\">liability</tspan>\n",
       "    <tspan class=\"displacy-tag\" dy=\"2em\" fill=\"currentColor\" x=\"450\">NOUN</tspan>\n",
       "</text>\n",
       "\n",
       "<text class=\"displacy-token\" fill=\"currentColor\" text-anchor=\"middle\" y=\"197.0\">\n",
       "    <tspan class=\"displacy-word\" fill=\"currentColor\" x=\"550\">toward</tspan>\n",
       "    <tspan class=\"displacy-tag\" dy=\"2em\" fill=\"currentColor\" x=\"550\">ADP</tspan>\n",
       "</text>\n",
       "\n",
       "<text class=\"displacy-token\" fill=\"currentColor\" text-anchor=\"middle\" y=\"197.0\">\n",
       "    <tspan class=\"displacy-word\" fill=\"currentColor\" x=\"650\">manufacturers</tspan>\n",
       "    <tspan class=\"displacy-tag\" dy=\"2em\" fill=\"currentColor\" x=\"650\">NOUN</tspan>\n",
       "</text>\n",
       "\n",
       "<g class=\"displacy-arrow\">\n",
       "    <path class=\"displacy-arc\" id=\"arrow-0-0\" stroke-width=\"2px\" d=\"M70,152.0 C70,102.0 140.0,102.0 140.0,152.0\" fill=\"none\" stroke=\"currentColor\"/>\n",
       "    <text dy=\"1.25em\" style=\"font-size: 0.8em; letter-spacing: 1px\">\n",
       "        <textPath xlink:href=\"#arrow-0-0\" class=\"displacy-label\" startOffset=\"50%\" fill=\"currentColor\" text-anchor=\"middle\">amod</textPath>\n",
       "    </text>\n",
       "    <path class=\"displacy-arrowhead\" d=\"M70,154.0 L62,142.0 78,142.0\" fill=\"currentColor\"/>\n",
       "</g>\n",
       "\n",
       "<g class=\"displacy-arrow\">\n",
       "    <path class=\"displacy-arc\" id=\"arrow-0-1\" stroke-width=\"2px\" d=\"M170,152.0 C170,102.0 240.0,102.0 240.0,152.0\" fill=\"none\" stroke=\"currentColor\"/>\n",
       "    <text dy=\"1.25em\" style=\"font-size: 0.8em; letter-spacing: 1px\">\n",
       "        <textPath xlink:href=\"#arrow-0-1\" class=\"displacy-label\" startOffset=\"50%\" fill=\"currentColor\" text-anchor=\"middle\">nsubj</textPath>\n",
       "    </text>\n",
       "    <path class=\"displacy-arrowhead\" d=\"M170,154.0 L162,142.0 178,142.0\" fill=\"currentColor\"/>\n",
       "</g>\n",
       "\n",
       "<g class=\"displacy-arrow\">\n",
       "    <path class=\"displacy-arc\" id=\"arrow-0-2\" stroke-width=\"2px\" d=\"M370,152.0 C370,102.0 440.0,102.0 440.0,152.0\" fill=\"none\" stroke=\"currentColor\"/>\n",
       "    <text dy=\"1.25em\" style=\"font-size: 0.8em; letter-spacing: 1px\">\n",
       "        <textPath xlink:href=\"#arrow-0-2\" class=\"displacy-label\" startOffset=\"50%\" fill=\"currentColor\" text-anchor=\"middle\">compound</textPath>\n",
       "    </text>\n",
       "    <path class=\"displacy-arrowhead\" d=\"M370,154.0 L362,142.0 378,142.0\" fill=\"currentColor\"/>\n",
       "</g>\n",
       "\n",
       "<g class=\"displacy-arrow\">\n",
       "    <path class=\"displacy-arc\" id=\"arrow-0-3\" stroke-width=\"2px\" d=\"M270,152.0 C270,52.0 445.0,52.0 445.0,152.0\" fill=\"none\" stroke=\"currentColor\"/>\n",
       "    <text dy=\"1.25em\" style=\"font-size: 0.8em; letter-spacing: 1px\">\n",
       "        <textPath xlink:href=\"#arrow-0-3\" class=\"displacy-label\" startOffset=\"50%\" fill=\"currentColor\" text-anchor=\"middle\">dobj</textPath>\n",
       "    </text>\n",
       "    <path class=\"displacy-arrowhead\" d=\"M445.0,154.0 L453.0,142.0 437.0,142.0\" fill=\"currentColor\"/>\n",
       "</g>\n",
       "\n",
       "<g class=\"displacy-arrow\">\n",
       "    <path class=\"displacy-arc\" id=\"arrow-0-4\" stroke-width=\"2px\" d=\"M270,152.0 C270,2.0 550.0,2.0 550.0,152.0\" fill=\"none\" stroke=\"currentColor\"/>\n",
       "    <text dy=\"1.25em\" style=\"font-size: 0.8em; letter-spacing: 1px\">\n",
       "        <textPath xlink:href=\"#arrow-0-4\" class=\"displacy-label\" startOffset=\"50%\" fill=\"currentColor\" text-anchor=\"middle\">prep</textPath>\n",
       "    </text>\n",
       "    <path class=\"displacy-arrowhead\" d=\"M550.0,154.0 L558.0,142.0 542.0,142.0\" fill=\"currentColor\"/>\n",
       "</g>\n",
       "\n",
       "<g class=\"displacy-arrow\">\n",
       "    <path class=\"displacy-arc\" id=\"arrow-0-5\" stroke-width=\"2px\" d=\"M570,152.0 C570,102.0 640.0,102.0 640.0,152.0\" fill=\"none\" stroke=\"currentColor\"/>\n",
       "    <text dy=\"1.25em\" style=\"font-size: 0.8em; letter-spacing: 1px\">\n",
       "        <textPath xlink:href=\"#arrow-0-5\" class=\"displacy-label\" startOffset=\"50%\" fill=\"currentColor\" text-anchor=\"middle\">pobj</textPath>\n",
       "    </text>\n",
       "    <path class=\"displacy-arrowhead\" d=\"M640.0,154.0 L648.0,142.0 632.0,142.0\" fill=\"currentColor\"/>\n",
       "</g>\n",
       "</svg>"
      ],
      "text/plain": [
       "<IPython.core.display.HTML object>"
      ]
     },
     "metadata": {},
     "output_type": "display_data"
    }
   ],
   "source": [
    "# Command to display the sentence. Be careful of the case with the word \"True\"\n",
    "# Style set to \"dep\" means display dependencies\n",
    "displacy.render(doc_object, style=\"dep\", jupyter=True, options={\"distance\":100} )"
   ]
  },
  {
   "cell_type": "markdown",
   "metadata": {},
   "source": [
    "The `options` command in the `dispacy.render` function allows us to modify various things in the diagram that is output by the visualisation tool. Here's a list of the settings availabe to us. Also see this link for more inforamtion on the dispacy visualiser https://spacy.io/api/top-level#displacy_options"
   ]
  },
  {
   "cell_type": "markdown",
   "metadata": {},
   "source": [
    "<tr class=\"_8a68569b\"><th class=\"_2e8d2972\">Name</th><th class=\"_2e8d2972\">Type</th><th class=\"_2e8d2972\">Description</th><th class=\"_2e8d2972\">Default</th></tr>\n",
    "\n",
    "<tr class=\"_8a68569b\"><td class=\"_5c99da9a\"><code class=\"_1d7c6046\">fine_grained</code></td><td class=\"_5c99da9a\">bool</td><td class=\"_5c99da9a\">Use fine-grained part-of-speech tags (<code class=\"_1d7c6046\">Token.tag_</code>) instead of coarse-grained tags (<code class=\"_1d7c6046\">Token.pos_</code>).</td><td class=\"_5c99da9a\"><code class=\"_1d7c6046\">False</code></td></tr><tr class=\"_8a68569b\"><td class=\"_5c99da9a\"><code class=\"_1d7c6046\">collapse_punct</code></td><td class=\"_5c99da9a\">bool</td><td class=\"_5c99da9a\">Attach punctuation to tokens. Can make the parse more readable, as it prevents long arcs to attach punctuation.</td><td class=\"_5c99da9a\"><code class=\"_1d7c6046\">True</code></td></tr><tr class=\"_8a68569b\"><td class=\"_5c99da9a\"><code class=\"_1d7c6046\">collapse_phrases</code></td><td class=\"_5c99da9a\">bool</td><td class=\"_5c99da9a\">Merge noun phrases into one token.</td><td class=\"_5c99da9a\"><code class=\"_1d7c6046\">False</code></td></tr><tr class=\"_8a68569b\"><td class=\"_5c99da9a\"><code class=\"_1d7c6046\">compact</code></td><td class=\"_5c99da9a\">bool</td><td class=\"_5c99da9a\">“Compact mode” with square arrows that takes up less space.</td><td class=\"_5c99da9a\"><code class=\"_1d7c6046\">False</code></td></tr><tr class=\"_8a68569b\"><td class=\"_5c99da9a\"><code class=\"_1d7c6046\">color</code></td><td class=\"_5c99da9a\">unicode</td><td class=\"_5c99da9a\">Text color (HEX, RGB or color names).</td><td class=\"_5c99da9a\"><code class=\"_1d7c6046\">'#000000'</code></td></tr><tr class=\"_8a68569b\"><td class=\"_5c99da9a\"><code class=\"_1d7c6046\">bg</code></td><td class=\"_5c99da9a\">unicode</td><td class=\"_5c99da9a\">Background color (HEX, RGB or color names).</td><td class=\"_5c99da9a\"><code class=\"_1d7c6046\">'#ffffff'</code></td></tr><tr class=\"_8a68569b\"><td class=\"_5c99da9a\"><code class=\"_1d7c6046\">font</code></td><td class=\"_5c99da9a\">unicode</td><td class=\"_5c99da9a\">Font name or font family for all text.</td><td class=\"_5c99da9a\"><code class=\"_1d7c6046\">'Arial'</code></td></tr><tr class=\"_8a68569b\"><td class=\"_5c99da9a\"><code class=\"_1d7c6046\">offset_x</code></td><td class=\"_5c99da9a\">int</td><td class=\"_5c99da9a\">Spacing on left side of the SVG in px.</td><td class=\"_5c99da9a\"><code class=\"_1d7c6046\">50</code></td></tr><tr class=\"_8a68569b\"><td class=\"_5c99da9a\"><code class=\"_1d7c6046\">arrow_stroke</code></td><td class=\"_5c99da9a\">int</td><td class=\"_5c99da9a\">Width of arrow path in px.</td><td class=\"_5c99da9a\"><code class=\"_1d7c6046\">2</code></td></tr><tr class=\"_8a68569b\"><td class=\"_5c99da9a\"><code class=\"_1d7c6046\">arrow_width</code></td><td class=\"_5c99da9a\">int</td><td class=\"_5c99da9a\">Width of arrow head in px.</td><td class=\"_5c99da9a\"><code class=\"_1d7c6046\">10</code> / <code class=\"_1d7c6046\">8</code> (compact)</td></tr><tr class=\"_8a68569b\"><td class=\"_5c99da9a\"><code class=\"_1d7c6046\">arrow_spacing</code></td><td class=\"_5c99da9a\">int</td><td class=\"_5c99da9a\">Spacing between arrows in px to avoid overlaps.</td><td class=\"_5c99da9a\"><code class=\"_1d7c6046\">20</code> / <code class=\"_1d7c6046\">12</code> (compact)</td></tr><tr class=\"_8a68569b\"><td class=\"_5c99da9a\"><code class=\"_1d7c6046\">word_spacing</code></td><td class=\"_5c99da9a\">int</td><td class=\"_5c99da9a\">Vertical spacing between words and arcs in px.</td><td class=\"_5c99da9a\"><code class=\"_1d7c6046\">45</code></td></tr><tr class=\"_8a68569b\"><td class=\"_5c99da9a\"><code class=\"_1d7c6046\">distance</code></td><td class=\"_5c99da9a\">int</td><td class=\"_5c99da9a\">Distance between words in px.</td><td class=\"_5c99da9a\"><code class=\"_1d7c6046\">175</code> / <code class=\"_1d7c6046\">150</code> (compact)</td></tr>"
   ]
  },
  {
   "cell_type": "markdown",
   "metadata": {},
   "source": [
    "In the example above, I set the `distance` option to **100**. That set the pixel distance to **100** between each word on the diagram."
   ]
  },
  {
   "cell_type": "markdown",
   "metadata": {},
   "source": [
    "Here's another example showing various options from the table above. Note that the change from circular to square lines on the diagram can be achieved with the `compact` option."
   ]
  },
  {
   "cell_type": "code",
   "execution_count": 32,
   "metadata": {},
   "outputs": [
    {
     "data": {
      "text/html": [
       "<svg xmlns=\"http://www.w3.org/2000/svg\" xmlns:xlink=\"http://www.w3.org/1999/xlink\" id=\"0\" class=\"displacy\" width=\"960\" height=\"349.0\" style=\"max-width: none; height: 349.0px; color: Blue; background: #ffffff; font-family: Arial\">\n",
       "<text class=\"displacy-token\" fill=\"currentColor\" text-anchor=\"middle\" y=\"249.0\">\n",
       "    <tspan class=\"displacy-word\" fill=\"currentColor\" x=\"50\">Autonomous</tspan>\n",
       "    <tspan class=\"displacy-tag\" dy=\"2em\" fill=\"currentColor\" x=\"50\">ADJ</tspan>\n",
       "</text>\n",
       "\n",
       "<text class=\"displacy-token\" fill=\"currentColor\" text-anchor=\"middle\" y=\"249.0\">\n",
       "    <tspan class=\"displacy-word\" fill=\"currentColor\" x=\"180\">cars</tspan>\n",
       "    <tspan class=\"displacy-tag\" dy=\"2em\" fill=\"currentColor\" x=\"180\">NOUN</tspan>\n",
       "</text>\n",
       "\n",
       "<text class=\"displacy-token\" fill=\"currentColor\" text-anchor=\"middle\" y=\"249.0\">\n",
       "    <tspan class=\"displacy-word\" fill=\"currentColor\" x=\"310\">shift</tspan>\n",
       "    <tspan class=\"displacy-tag\" dy=\"2em\" fill=\"currentColor\" x=\"310\">VERB</tspan>\n",
       "</text>\n",
       "\n",
       "<text class=\"displacy-token\" fill=\"currentColor\" text-anchor=\"middle\" y=\"249.0\">\n",
       "    <tspan class=\"displacy-word\" fill=\"currentColor\" x=\"440\">insurance</tspan>\n",
       "    <tspan class=\"displacy-tag\" dy=\"2em\" fill=\"currentColor\" x=\"440\">NOUN</tspan>\n",
       "</text>\n",
       "\n",
       "<text class=\"displacy-token\" fill=\"currentColor\" text-anchor=\"middle\" y=\"249.0\">\n",
       "    <tspan class=\"displacy-word\" fill=\"currentColor\" x=\"570\">liability</tspan>\n",
       "    <tspan class=\"displacy-tag\" dy=\"2em\" fill=\"currentColor\" x=\"570\">NOUN</tspan>\n",
       "</text>\n",
       "\n",
       "<text class=\"displacy-token\" fill=\"currentColor\" text-anchor=\"middle\" y=\"249.0\">\n",
       "    <tspan class=\"displacy-word\" fill=\"currentColor\" x=\"700\">toward</tspan>\n",
       "    <tspan class=\"displacy-tag\" dy=\"2em\" fill=\"currentColor\" x=\"700\">ADP</tspan>\n",
       "</text>\n",
       "\n",
       "<text class=\"displacy-token\" fill=\"currentColor\" text-anchor=\"middle\" y=\"249.0\">\n",
       "    <tspan class=\"displacy-word\" fill=\"currentColor\" x=\"830\">manufacturers</tspan>\n",
       "    <tspan class=\"displacy-tag\" dy=\"2em\" fill=\"currentColor\" x=\"830\">NOUN</tspan>\n",
       "</text>\n",
       "\n",
       "<g class=\"displacy-arrow\">\n",
       "    <path class=\"displacy-arc\" id=\"arrow-0-0\" stroke-width=\"4px\" d=\"M70,199.0 70,177.33333333333334 170.0,177.33333333333334 170.0,199.0\" fill=\"none\" stroke=\"currentColor\"/>\n",
       "    <text dy=\"1.25em\" style=\"font-size: 0.8em; letter-spacing: 1px\">\n",
       "        <textPath xlink:href=\"#arrow-0-0\" class=\"displacy-label\" startOffset=\"50%\" fill=\"currentColor\" text-anchor=\"middle\">amod</textPath>\n",
       "    </text>\n",
       "    <path class=\"displacy-arrowhead\" d=\"M70,201.0 L66,193.0 74,193.0\" fill=\"currentColor\"/>\n",
       "</g>\n",
       "\n",
       "<g class=\"displacy-arrow\">\n",
       "    <path class=\"displacy-arc\" id=\"arrow-0-1\" stroke-width=\"4px\" d=\"M200,199.0 200,177.33333333333334 300.0,177.33333333333334 300.0,199.0\" fill=\"none\" stroke=\"currentColor\"/>\n",
       "    <text dy=\"1.25em\" style=\"font-size: 0.8em; letter-spacing: 1px\">\n",
       "        <textPath xlink:href=\"#arrow-0-1\" class=\"displacy-label\" startOffset=\"50%\" fill=\"currentColor\" text-anchor=\"middle\">nsubj</textPath>\n",
       "    </text>\n",
       "    <path class=\"displacy-arrowhead\" d=\"M200,201.0 L196,193.0 204,193.0\" fill=\"currentColor\"/>\n",
       "</g>\n",
       "\n",
       "<g class=\"displacy-arrow\">\n",
       "    <path class=\"displacy-arc\" id=\"arrow-0-2\" stroke-width=\"4px\" d=\"M460,199.0 460,177.33333333333334 560.0,177.33333333333334 560.0,199.0\" fill=\"none\" stroke=\"currentColor\"/>\n",
       "    <text dy=\"1.25em\" style=\"font-size: 0.8em; letter-spacing: 1px\">\n",
       "        <textPath xlink:href=\"#arrow-0-2\" class=\"displacy-label\" startOffset=\"50%\" fill=\"currentColor\" text-anchor=\"middle\">compound</textPath>\n",
       "    </text>\n",
       "    <path class=\"displacy-arrowhead\" d=\"M460,201.0 L456,193.0 464,193.0\" fill=\"currentColor\"/>\n",
       "</g>\n",
       "\n",
       "<g class=\"displacy-arrow\">\n",
       "    <path class=\"displacy-arc\" id=\"arrow-0-3\" stroke-width=\"4px\" d=\"M330,199.0 330,155.66666666666666 565.0,155.66666666666666 565.0,199.0\" fill=\"none\" stroke=\"currentColor\"/>\n",
       "    <text dy=\"1.25em\" style=\"font-size: 0.8em; letter-spacing: 1px\">\n",
       "        <textPath xlink:href=\"#arrow-0-3\" class=\"displacy-label\" startOffset=\"50%\" fill=\"currentColor\" text-anchor=\"middle\">dobj</textPath>\n",
       "    </text>\n",
       "    <path class=\"displacy-arrowhead\" d=\"M565.0,201.0 L569.0,193.0 561.0,193.0\" fill=\"currentColor\"/>\n",
       "</g>\n",
       "\n",
       "<g class=\"displacy-arrow\">\n",
       "    <path class=\"displacy-arc\" id=\"arrow-0-4\" stroke-width=\"4px\" d=\"M330,199.0 330,134.0 700.0,134.0 700.0,199.0\" fill=\"none\" stroke=\"currentColor\"/>\n",
       "    <text dy=\"1.25em\" style=\"font-size: 0.8em; letter-spacing: 1px\">\n",
       "        <textPath xlink:href=\"#arrow-0-4\" class=\"displacy-label\" startOffset=\"50%\" fill=\"currentColor\" text-anchor=\"middle\">prep</textPath>\n",
       "    </text>\n",
       "    <path class=\"displacy-arrowhead\" d=\"M700.0,201.0 L704.0,193.0 696.0,193.0\" fill=\"currentColor\"/>\n",
       "</g>\n",
       "\n",
       "<g class=\"displacy-arrow\">\n",
       "    <path class=\"displacy-arc\" id=\"arrow-0-5\" stroke-width=\"4px\" d=\"M720,199.0 720,177.33333333333334 820.0,177.33333333333334 820.0,199.0\" fill=\"none\" stroke=\"currentColor\"/>\n",
       "    <text dy=\"1.25em\" style=\"font-size: 0.8em; letter-spacing: 1px\">\n",
       "        <textPath xlink:href=\"#arrow-0-5\" class=\"displacy-label\" startOffset=\"50%\" fill=\"currentColor\" text-anchor=\"middle\">pobj</textPath>\n",
       "    </text>\n",
       "    <path class=\"displacy-arrowhead\" d=\"M820.0,201.0 L824.0,193.0 816.0,193.0\" fill=\"currentColor\"/>\n",
       "</g>\n",
       "</svg>"
      ],
      "text/plain": [
       "<IPython.core.display.HTML object>"
      ]
     },
     "metadata": {},
     "output_type": "display_data"
    }
   ],
   "source": [
    "displacy.render(doc_object, style=\"dep\", jupyter=True, options={\"distance\":130, \"color\":\"Blue\", \"arrow_stroke\":4, \"arrow_spacing\":20, \"word_spacing\":50, \"compact\":True} )"
   ]
  },
  {
   "cell_type": "markdown",
   "metadata": {},
   "source": [
    "Earlier we examined the dependencies in the sentence. `dispacy` can also display the entities of the sentence by using the `style=\"ent\"` option. Before we do that, lets look at whether there are any entities in the sentence we've been using in the example until now."
   ]
  },
  {
   "cell_type": "code",
   "execution_count": 33,
   "metadata": {},
   "outputs": [],
   "source": [
    "# Display any named entities in the string\n",
    "for entity in doc_object.ents:\n",
    "    print (entity)"
   ]
  },
  {
   "cell_type": "markdown",
   "metadata": {},
   "source": [
    "There are no named entities, so we'll use another text example for demo purposes. \n",
    "\n",
    "The text in this example comes from the official `displacy` webpage. For more info, see https://explosion.ai/demos/displacy-ent\n",
    "\n",
    "First I'll look at the entities in this sentence."
   ]
  },
  {
   "cell_type": "code",
   "execution_count": 35,
   "metadata": {},
   "outputs": [
    {
     "name": "stdout",
     "output_type": "stream",
     "text": [
      "Sebastian Thrun PERSON\n",
      "Google ORG\n",
      "2007 DATE\n",
      "\n",
      " GPE\n",
      "American NORP\n",
      "Thrun PERSON\n",
      "Recode ORG\n",
      "earlier this week DATE\n",
      "\n",
      " GPE\n",
      "less than a decade later DATE\n",
      "dozens CARDINAL\n"
     ]
    }
   ],
   "source": [
    "file_name = open(\"noun-chunks.txt\")\n",
    "sentence = file_name.read()\n",
    "#sentence = (u\"When Sebastian Thrun started working on self-driving cars at Google in 2007, few people outside of the company took him seriously. “I can tell you very senior CEOs of major American car companies would shake my hand and turn away because I wasn’t worth talking to,” said Thrun, now the co-founder and CEO of online higher education startup Udacity, in an interview with Recode earlier this week. A little less than a decade later, dozens of self-driving startups have cropped up while automakers around the world clamor, wallet in hand, to secure their place in the fast-moving world of fully automated transportation.\")\n",
    "doc_object = nlp(sentence)\n",
    "\n",
    "# Display any named entities in the string\n",
    "for entity in doc_object.ents:\n",
    "    print (entity, entity.label_)"
   ]
  },
  {
   "cell_type": "markdown",
   "metadata": {},
   "source": [
    "A nice feature in `dispacy.render` function is to display the sentence text and also highlight each entity with its associated entity label. This is all done automatically. "
   ]
  },
  {
   "cell_type": "code",
   "execution_count": 36,
   "metadata": {},
   "outputs": [
    {
     "data": {
      "text/html": [
       "<div class=\"entities\" style=\"line-height: 2.5\">When \n",
       "<mark class=\"entity\" style=\"background: #aa9cfc; padding: 0.45em 0.6em; margin: 0 0.25em; line-height: 1; border-radius: 0.35em; box-decoration-break: clone; -webkit-box-decoration-break: clone\">\n",
       "    Sebastian Thrun\n",
       "    <span style=\"font-size: 0.8em; font-weight: bold; line-height: 1; border-radius: 0.35em; text-transform: uppercase; vertical-align: middle; margin-left: 0.5rem\">PERSON</span>\n",
       "</mark>\n",
       " started working on self-driving cars at \n",
       "<mark class=\"entity\" style=\"background: #7aecec; padding: 0.45em 0.6em; margin: 0 0.25em; line-height: 1; border-radius: 0.35em; box-decoration-break: clone; -webkit-box-decoration-break: clone\">\n",
       "    Google\n",
       "    <span style=\"font-size: 0.8em; font-weight: bold; line-height: 1; border-radius: 0.35em; text-transform: uppercase; vertical-align: middle; margin-left: 0.5rem\">ORG</span>\n",
       "</mark>\n",
       " in \n",
       "<mark class=\"entity\" style=\"background: #bfe1d9; padding: 0.45em 0.6em; margin: 0 0.25em; line-height: 1; border-radius: 0.35em; box-decoration-break: clone; -webkit-box-decoration-break: clone\">\n",
       "    2007\n",
       "    <span style=\"font-size: 0.8em; font-weight: bold; line-height: 1; border-radius: 0.35em; text-transform: uppercase; vertical-align: middle; margin-left: 0.5rem\">DATE</span>\n",
       "</mark>\n",
       ", few people outside of the company took him seriously. \n",
       "<mark class=\"entity\" style=\"background: #feca74; padding: 0.45em 0.6em; margin: 0 0.25em; line-height: 1; border-radius: 0.35em; box-decoration-break: clone; -webkit-box-decoration-break: clone\">\n",
       "    \n",
       "\n",
       "    <span style=\"font-size: 0.8em; font-weight: bold; line-height: 1; border-radius: 0.35em; text-transform: uppercase; vertical-align: middle; margin-left: 0.5rem\">GPE</span>\n",
       "</mark>\n",
       "\"I can tell you very senior CEOs of major \n",
       "<mark class=\"entity\" style=\"background: #c887fb; padding: 0.45em 0.6em; margin: 0 0.25em; line-height: 1; border-radius: 0.35em; box-decoration-break: clone; -webkit-box-decoration-break: clone\">\n",
       "    American\n",
       "    <span style=\"font-size: 0.8em; font-weight: bold; line-height: 1; border-radius: 0.35em; text-transform: uppercase; vertical-align: middle; margin-left: 0.5rem\">NORP</span>\n",
       "</mark>\n",
       " car companies would shake my hand and turn away because I wasn't worth talking to,\" said \n",
       "<mark class=\"entity\" style=\"background: #aa9cfc; padding: 0.45em 0.6em; margin: 0 0.25em; line-height: 1; border-radius: 0.35em; box-decoration-break: clone; -webkit-box-decoration-break: clone\">\n",
       "    Thrun\n",
       "    <span style=\"font-size: 0.8em; font-weight: bold; line-height: 1; border-radius: 0.35em; text-transform: uppercase; vertical-align: middle; margin-left: 0.5rem\">PERSON</span>\n",
       "</mark>\n",
       ", now the co-founder and CEO of online higher education startup Udacity, in an interview with \n",
       "<mark class=\"entity\" style=\"background: #7aecec; padding: 0.45em 0.6em; margin: 0 0.25em; line-height: 1; border-radius: 0.35em; box-decoration-break: clone; -webkit-box-decoration-break: clone\">\n",
       "    Recode\n",
       "    <span style=\"font-size: 0.8em; font-weight: bold; line-height: 1; border-radius: 0.35em; text-transform: uppercase; vertical-align: middle; margin-left: 0.5rem\">ORG</span>\n",
       "</mark>\n",
       " \n",
       "<mark class=\"entity\" style=\"background: #bfe1d9; padding: 0.45em 0.6em; margin: 0 0.25em; line-height: 1; border-radius: 0.35em; box-decoration-break: clone; -webkit-box-decoration-break: clone\">\n",
       "    earlier this week\n",
       "    <span style=\"font-size: 0.8em; font-weight: bold; line-height: 1; border-radius: 0.35em; text-transform: uppercase; vertical-align: middle; margin-left: 0.5rem\">DATE</span>\n",
       "</mark>\n",
       ". \n",
       "<mark class=\"entity\" style=\"background: #feca74; padding: 0.45em 0.6em; margin: 0 0.25em; line-height: 1; border-radius: 0.35em; box-decoration-break: clone; -webkit-box-decoration-break: clone\">\n",
       "    \n",
       "\n",
       "    <span style=\"font-size: 0.8em; font-weight: bold; line-height: 1; border-radius: 0.35em; text-transform: uppercase; vertical-align: middle; margin-left: 0.5rem\">GPE</span>\n",
       "</mark>\n",
       "A little \n",
       "<mark class=\"entity\" style=\"background: #bfe1d9; padding: 0.45em 0.6em; margin: 0 0.25em; line-height: 1; border-radius: 0.35em; box-decoration-break: clone; -webkit-box-decoration-break: clone\">\n",
       "    less than a decade later\n",
       "    <span style=\"font-size: 0.8em; font-weight: bold; line-height: 1; border-radius: 0.35em; text-transform: uppercase; vertical-align: middle; margin-left: 0.5rem\">DATE</span>\n",
       "</mark>\n",
       ", \n",
       "<mark class=\"entity\" style=\"background: #e4e7d2; padding: 0.45em 0.6em; margin: 0 0.25em; line-height: 1; border-radius: 0.35em; box-decoration-break: clone; -webkit-box-decoration-break: clone\">\n",
       "    dozens\n",
       "    <span style=\"font-size: 0.8em; font-weight: bold; line-height: 1; border-radius: 0.35em; text-transform: uppercase; vertical-align: middle; margin-left: 0.5rem\">CARDINAL</span>\n",
       "</mark>\n",
       " of self-driving startups have cropped up while automakers around the world clamor, wallet in hand, to secure their place in the fast-moving world of fully automated transportation.</div>"
      ],
      "text/plain": [
       "<IPython.core.display.HTML object>"
      ]
     },
     "metadata": {},
     "output_type": "display_data"
    }
   ],
   "source": [
    "displacy.render(doc_object, style=\"ent\", jupyter=True)"
   ]
  }
 ],
 "metadata": {
  "kernelspec": {
   "display_name": "Python 3",
   "language": "python",
   "name": "python3"
  },
  "language_info": {
   "codemirror_mode": {
    "name": "ipython",
    "version": 3
   },
   "file_extension": ".py",
   "mimetype": "text/x-python",
   "name": "python",
   "nbconvert_exporter": "python",
   "pygments_lexer": "ipython3",
   "version": "3.7.6"
  }
 },
 "nbformat": 4,
 "nbformat_minor": 2
}
