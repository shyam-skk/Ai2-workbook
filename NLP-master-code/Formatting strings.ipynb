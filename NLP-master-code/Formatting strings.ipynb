{
 "cells": [
  {
   "cell_type": "markdown",
   "metadata": {},
   "source": [
    "# Formatting strings\n",
    "In this section I'll examine\n",
    " * Working with f-strings (formatted string literals) to format printed text\n",
    " "
   ]
  },
  {
   "cell_type": "markdown",
   "metadata": {},
   "source": [
    "## Formatted String Literals (f-strings)\n",
    "\n",
    "Introduced in Python 3.6, <strong>f-strings</strong> offer several benefits over the older `.format()` string method. <br>Now you can bring outside variables immediately into to the string rather than pass them through as keyword arguments:\n",
    "<br> Let's look at some examples:"
   ]
  },
  {
   "cell_type": "markdown",
   "metadata": {},
   "source": [
    "This is how text used to be manipulated in Python."
   ]
  },
  {
   "cell_type": "code",
   "execution_count": 1,
   "metadata": {},
   "outputs": [
    {
     "name": "stdout",
     "output_type": "stream",
     "text": [
      "My name is James\n"
     ]
    }
   ],
   "source": [
    "person = \"James\"\n",
    "# Insert name contents in place of curly braces\n",
    "print (\"My name is {}\".format(person))"
   ]
  },
  {
   "cell_type": "markdown",
   "metadata": {},
   "source": [
    "Now we can use f-strings."
   ]
  },
  {
   "cell_type": "code",
   "execution_count": 2,
   "metadata": {},
   "outputs": [
    {
     "name": "stdout",
     "output_type": "stream",
     "text": [
      "My name is James\n"
     ]
    }
   ],
   "source": [
    "# f in front of the string removes the need to use the format command\n",
    "print(f\"My name is {person}\")"
   ]
  },
  {
   "cell_type": "markdown",
   "metadata": {},
   "source": [
    "Not inserting the **f** in the command causes the exact string to be printed"
   ]
  },
  {
   "cell_type": "code",
   "execution_count": 3,
   "metadata": {},
   "outputs": [
    {
     "name": "stdout",
     "output_type": "stream",
     "text": [
      "My name is {person}\n"
     ]
    }
   ],
   "source": [
    "print(\"My name is {person}\")"
   ]
  },
  {
   "cell_type": "markdown",
   "metadata": {},
   "source": [
    "Passing in `!r` will give us the <strong>string representation</strong>:"
   ]
  },
  {
   "cell_type": "code",
   "execution_count": 4,
   "metadata": {},
   "outputs": [
    {
     "name": "stdout",
     "output_type": "stream",
     "text": [
      "His name is 'James'\n"
     ]
    }
   ],
   "source": [
    "print(f\"His name is {person!r}\")"
   ]
  },
  {
   "cell_type": "markdown",
   "metadata": {},
   "source": [
    "We can also show the contents of lists, dictionaries etc using an f-string. <br> Here's an example."
   ]
  },
  {
   "cell_type": "code",
   "execution_count": 5,
   "metadata": {},
   "outputs": [
    {
     "name": "stdout",
     "output_type": "stream",
     "text": [
      "The third number on the list is 67\n"
     ]
    }
   ],
   "source": [
    "list = [23, 45, 67, 98]\n",
    "print(f\"The third number on the list is {list[2]}\")"
   ]
  },
  {
   "cell_type": "markdown",
   "metadata": {},
   "source": [
    "## Minimum Widths, Alignment and Padding\n",
    "You can pass arguments inside a nested set of curly braces to set a minimum width for the field, the alignment and even padding characters.\n",
    "<br> Here I'm creating a list called library and each library record contains 3 pieces of informtion - author, topic and pages."
   ]
  },
  {
   "cell_type": "code",
   "execution_count": 6,
   "metadata": {},
   "outputs": [],
   "source": [
    "library = [('Author', 'Topic', 'Pages'), \n",
    "           ('Twain', 'Rafting', 601), \n",
    "           ('Feynman', 'Physics', 95), \n",
    "           ('Hamilton', 'Mythology', 144)]"
   ]
  },
  {
   "cell_type": "markdown",
   "metadata": {},
   "source": [
    "I can display this information using a <strong> FOR </strong> loop."
   ]
  },
  {
   "cell_type": "code",
   "execution_count": 7,
   "metadata": {},
   "outputs": [
    {
     "name": "stdout",
     "output_type": "stream",
     "text": [
      "Author of the book is Author\n",
      "Author of the book is Twain\n",
      "Author of the book is Feynman\n",
      "Author of the book is Hamilton\n"
     ]
    }
   ],
   "source": [
    "for item in library:\n",
    "    print(f\"Author of the book is {item[0]}\")"
   ]
  },
  {
   "cell_type": "markdown",
   "metadata": {},
   "source": [
    "I can also take in all three values from each record and show each one within the loop."
   ]
  },
  {
   "cell_type": "code",
   "execution_count": 8,
   "metadata": {},
   "outputs": [
    {
     "name": "stdout",
     "output_type": "stream",
     "text": [
      "Author Topic Pages\n",
      "Twain Rafting 601\n",
      "Feynman Physics 95\n",
      "Hamilton Mythology 144\n"
     ]
    }
   ],
   "source": [
    "for author, topic, pages in library:\n",
    "    print(f\"{author} {topic} {pages}\")"
   ]
  },
  {
   "cell_type": "markdown",
   "metadata": {},
   "source": [
    "The formatting isn't great. There's several things we can do to improve the look of our putput using f-string literal."
   ]
  },
  {
   "cell_type": "markdown",
   "metadata": {},
   "source": [
    "We can set the minimum spaces that each column should take when it is displayed."
   ]
  },
  {
   "cell_type": "code",
   "execution_count": 9,
   "metadata": {},
   "outputs": [
    {
     "name": "stdout",
     "output_type": "stream",
     "text": [
      "Author          Topic                Pages     \n",
      "Twain           Rafting                     601\n",
      "Feynman         Physics                      95\n",
      "Hamilton        Mythology                   144\n"
     ]
    }
   ],
   "source": [
    "for author, topic, pages in library:\n",
    "    print(f\"{author:{15}} {topic:{20}} {pages:{10}}\")"
   ]
  },
  {
   "cell_type": "markdown",
   "metadata": {},
   "source": [
    "Most of the text is now aligned. However there's a problem with the <strong> Pages </strong> column. That's because we're trying to show digits underneath a text heading. We can quite easily align this issue by inserting a <strong> > </strong> between the <strong> Pages </strong> heading and the minimum spacing."
   ]
  },
  {
   "cell_type": "code",
   "execution_count": 10,
   "metadata": {},
   "outputs": [
    {
     "name": "stdout",
     "output_type": "stream",
     "text": [
      "Author          Topic                     Pages\n",
      "Twain           Rafting                     601\n",
      "Feynman         Physics                      95\n",
      "Hamilton        Mythology                   144\n"
     ]
    }
   ],
   "source": [
    "for author, topic, pages in library:\n",
    "    print(f\"{author:{15}} {topic:{20}} {pages:>{10}}\")"
   ]
  },
  {
   "cell_type": "markdown",
   "metadata": {},
   "source": [
    "We can also fill in the white space below the <strong> Pages </strong> column by adding the character we want as shown here."
   ]
  },
  {
   "cell_type": "code",
   "execution_count": 11,
   "metadata": {},
   "outputs": [
    {
     "name": "stdout",
     "output_type": "stream",
     "text": [
      "Author          Topic                .....Pages\n",
      "Twain           Rafting              .......601\n",
      "Feynman         Physics              ........95\n",
      "Hamilton        Mythology            .......144\n"
     ]
    }
   ],
   "source": [
    "for author, topic, pages in library:\n",
    "    print(f\"{author:{15}} {topic:{20}} {pages:.>{10}}\")"
   ]
  },
  {
   "cell_type": "markdown",
   "metadata": {},
   "source": [
    "We'll cover formatting later on in the module."
   ]
  },
  {
   "cell_type": "markdown",
   "metadata": {},
   "source": [
    "## Date Formatting"
   ]
  },
  {
   "cell_type": "code",
   "execution_count": 17,
   "metadata": {
    "scrolled": true
   },
   "outputs": [
    {
     "name": "stdout",
     "output_type": "stream",
     "text": [
      "March 01, 2020\n"
     ]
    }
   ],
   "source": [
    "from datetime import datetime\n",
    "\n",
    "today = datetime(year=2020, month=3, day=1)\n",
    "\n",
    "print(f\"{today:%B %d, %Y}\")"
   ]
  },
  {
   "cell_type": "markdown",
   "metadata": {},
   "source": [
    "The default method to display a date is like this. Not only does it include year, month and day, but also hours, minutes and seconds."
   ]
  },
  {
   "cell_type": "code",
   "execution_count": 16,
   "metadata": {},
   "outputs": [
    {
     "name": "stdout",
     "output_type": "stream",
     "text": [
      "2020-03-01 00:00:00\n"
     ]
    }
   ],
   "source": [
    "print(f\"{today}\")"
   ]
  },
  {
   "cell_type": "markdown",
   "metadata": {},
   "source": [
    "We can construct a specific structure to display a date and time. The structure is available in this link http://strftime.org/. \n",
    "<br>For example, we can show the date stored in the <strong> today </strong> variable in terms of weekday followed by day of the month as a decimal value and the year including a century marker using this code."
   ]
  },
  {
   "cell_type": "code",
   "execution_count": 20,
   "metadata": {},
   "outputs": [
    {
     "name": "stdout",
     "output_type": "stream",
     "text": [
      "Sunday 01 March\n"
     ]
    }
   ],
   "source": [
    "print(f\"{today:%A %d %B}\")"
   ]
  }
 ],
 "metadata": {
  "kernelspec": {
   "display_name": "Python 3",
   "language": "python",
   "name": "python3"
  },
  "language_info": {
   "codemirror_mode": {
    "name": "ipython",
    "version": 3
   },
   "file_extension": ".py",
   "mimetype": "text/x-python",
   "name": "python",
   "nbconvert_exporter": "python",
   "pygments_lexer": "ipython3",
   "version": "3.7.4"
  }
 },
 "nbformat": 4,
 "nbformat_minor": 2
}
