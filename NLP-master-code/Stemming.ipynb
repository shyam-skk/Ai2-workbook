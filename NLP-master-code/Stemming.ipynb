{
 "cells": [
  {
   "cell_type": "markdown",
   "metadata": {},
   "source": [
    "# Stemming\n",
    "Often when searching text for a certain keyword, it helps if the search returns variations of the word. For instance, searching for **jump** might also return **jumps** and **jumping**. **Jumop** is the **stem** for [jumps, jumped, jumping].\n",
    "\n",
    "Stemming essentially chops off letters from the end of a word until the stem is reached. This works fairly well in most cases, but unfortunately English has many exceptions where a more sophisticated process is required. \n",
    "\n",
    "`SpaCy` doesn't include a stemmer, opting instead to rely entirely on the techniques of lemmatization.\n",
    "\n",
    "\n",
    "So we'll use another popular NLP tool called **nltk**, which stands for *Natural Language Toolkit*. For more information on nltk visit https://www.nltk.org/"
   ]
  },
  {
   "cell_type": "markdown",
   "metadata": {},
   "source": [
    "## Porter Stemmer\n",
    "\n",
    "One of the most common - and effective - stemming tools is [*Porter's stemming Algorithm*](https://tartarus.org/martin/PorterStemmer/) developed by Martin Porter in [1980](https://tartarus.org/martin/PorterStemmer/def.txt). \n",
    "\n",
    "The algorithm employs five phases of word reduction, each with its own set of mapping rules. In the first phase, simple suffix mapping rules are defined. "
   ]
  },
  {
   "cell_type": "markdown",
   "metadata": {},
   "source": [
    "Read the notes on Blackboard for more information on stemming rules."
   ]
  },
  {
   "cell_type": "code",
   "execution_count": 16,
   "metadata": {},
   "outputs": [],
   "source": [
    "# Import the NLTK toolkit and the Porter Stemmer library\n",
    "import nltk\n",
    "\n",
    "from nltk.stem.porter import PorterStemmer"
   ]
  },
  {
   "cell_type": "code",
   "execution_count": 17,
   "metadata": {},
   "outputs": [],
   "source": [
    "porter_stemmer = PorterStemmer()"
   ]
  },
  {
   "cell_type": "code",
   "execution_count": 18,
   "metadata": {},
   "outputs": [],
   "source": [
    "# Pass the sample words as individual strings\n",
    "sample_words = [\"caresses\", \"ponies\", \"pony\", \"cats\", \"running\", \"runner\", \"climber\", \"easily\", \"quickly\"]"
   ]
  },
  {
   "cell_type": "code",
   "execution_count": 19,
   "metadata": {},
   "outputs": [
    {
     "name": "stdout",
     "output_type": "stream",
     "text": [
      "caresses ------> caress\n",
      "ponies ------> poni\n",
      "pony ------> poni\n",
      "cats ------> cat\n",
      "running ------> run\n",
      "runner ------> runner\n",
      "climber ------> climber\n",
      "easily ------> easili\n",
      "quickly ------> quickli\n"
     ]
    }
   ],
   "source": [
    "for word in sample_words:\n",
    "    print (word + \" ------> \" + porter_stemmer.stem(word))"
   ]
  },
  {
   "cell_type": "code",
   "execution_count": null,
   "metadata": {},
   "outputs": [],
   "source": [
    "The stemmer "
   ]
  },
  {
   "cell_type": "markdown",
   "metadata": {},
   "source": [
    "## Porter2 Stemmer\n",
    "This stemming language was also developed by Martin Porter. It provides a slight improvement over the original Porter stemmer shown above, both in logic and speed. Since **nltk** uses the name SnowballStemmer, we'll use it in this example instead of the Porter2 stemmer."
   ]
  },
  {
   "cell_type": "code",
   "execution_count": 21,
   "metadata": {},
   "outputs": [],
   "source": [
    "from nltk.stem.snowball import SnowballStemmer\n",
    "\n",
    "# The Snowball Stemmer instance requires you to pass a language parameter\n",
    "snowball_stemmer = SnowballStemmer(language=\"english\")"
   ]
  },
  {
   "cell_type": "markdown",
   "metadata": {},
   "source": [
    "Now I'll pass in the same string of words as shown above."
   ]
  },
  {
   "cell_type": "code",
   "execution_count": 24,
   "metadata": {},
   "outputs": [
    {
     "name": "stdout",
     "output_type": "stream",
     "text": [
      "caresses ----> caress\n",
      "ponies ----> poni\n",
      "pony ----> poni\n",
      "cats ----> cat\n",
      "running ----> run\n",
      "runner ----> runner\n",
      "climber ----> climber\n",
      "easily ----> easili\n",
      "quickly ----> quick\n"
     ]
    }
   ],
   "source": [
    "sample_words = [\"caresses\", \"ponies\", \"pony\", \"cats\", \"running\", \"runner\", \"climber\", \"easily\", \"quickly\"]\n",
    "for word in sample_words:\n",
    "    print(word + \" ----> \" + snowball_stemmer.stem(word))"
   ]
  },
  {
   "cell_type": "markdown",
   "metadata": {},
   "source": [
    "Here the Porter2 (snowball) stemmer provided the same output as the original Porter stemmer, with the exception that is was able to determine that quickly should be stemmed to the word quick."
   ]
  },
  {
   "cell_type": "markdown",
   "metadata": {},
   "source": [
    "Lemmatisation is probably a better metod to use than stemming."
   ]
  }
 ],
 "metadata": {
  "kernelspec": {
   "display_name": "Python 3",
   "language": "python",
   "name": "python3"
  },
  "language_info": {
   "codemirror_mode": {
    "name": "ipython",
    "version": 3
   },
   "file_extension": ".py",
   "mimetype": "text/x-python",
   "name": "python",
   "nbconvert_exporter": "python",
   "pygments_lexer": "ipython3",
   "version": "3.7.4"
  }
 },
 "nbformat": 4,
 "nbformat_minor": 2
}
