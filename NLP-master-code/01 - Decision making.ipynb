{
 "cells": [
  {
   "cell_type": "markdown",
   "metadata": {},
   "source": [
    "# Decision making\n",
    "\n",
    "You control what your program does by making decisions, which often involves making comparisons. We use operators to make comparisons. These are often referred to as relational operators or comparison operators because by comparing items the algorithm is determining how two items are related."
   ]
  },
  {
   "cell_type": "markdown",
   "metadata": {},
   "source": [
    "## Relational operators\n",
    "\n",
    "Here are the most common relational operators"
   ]
  },
  {
   "cell_type": "markdown",
   "metadata": {},
   "source": [
    "|Operator | Description |\n",
    "|---------|-------------|\n",
    "| == | Both are true|\n",
    "| != | Is not equal to|\n",
    "| < | Is less than |\n",
    "| > | Is greater than |\n",
    "| <= | Is less than or equal to |\n",
    "| >= | Is greater than or equal to |"
   ]
  },
  {
   "cell_type": "markdown",
   "metadata": {},
   "source": [
    "Python also offers three logical operators, also called Boolean operators that can allow you assess multiple comparisons before making a final decision. Those operators use the English word for what they mean, as shown here."
   ]
  },
  {
   "cell_type": "markdown",
   "metadata": {},
   "source": [
    "|Operator | Description |\n",
    "|---------|-------------|\n",
    "| and | Both are true|\n",
    "| or | One or the other is true|\n",
    "| not | Is not true |"
   ]
  },
  {
   "cell_type": "markdown",
   "metadata": {},
   "source": [
    "## Using the IF statement\n",
    "\n",
    "The word if is used a lot in all apps and computer programs to make decisions. The\n",
    "simplest syntax for if is:\n",
    "\n",
    ">`if condition: \n",
    ">    do this\n",
    ">do this no matter what`"
   ]
  },
  {
   "cell_type": "markdown",
   "metadata": {},
   "source": [
    "The first `do this` line is executed only if the condition is **true**. If the condition\n",
    "is **false**, the first `do this` command is ignored. \n",
    "\n",
    "Regardless of what the condition turns out to be, the second line is executed next. \n",
    "\n",
    "Notice that the `do this` is indented, and the `do this no matter what` is not. This\n",
    "means a lot in Python, as you’ll see shortly. But first, let’s work through a few simple\n",
    "examples with this simple syntax. You can try it for yourself in a Jupyter notebook\n",
    "or file if you want to follow along."
   ]
  },
  {
   "cell_type": "markdown",
   "metadata": {},
   "source": [
    "In the simple example below, the variable named `sun` receives the\n",
    "string **down**. Then an `if` statement checks to see whether the variable **sun** contains\n",
    "the word **down** and if it does, prints **Good night!**. Then it just continues\n",
    "on normally to print `I am here`. You can see in the output that the result is that\n",
    "both lines are displayed."
   ]
  },
  {
   "cell_type": "code",
   "execution_count": 1,
   "metadata": {},
   "outputs": [
    {
     "name": "stdout",
     "output_type": "stream",
     "text": [
      "Good night!\n",
      "I am here\n"
     ]
    }
   ],
   "source": [
    "sun = \"down\"\n",
    "if sun == \"down\":\n",
    "    print(\"Good night!\")\n",
    "print(\"I am here\")"
   ]
  },
  {
   "cell_type": "markdown",
   "metadata": {},
   "source": [
    "If you run the same code with some word other than **down** in the sun variable, then\n",
    "the first `print` is ignored, but the next line is still executed normally because it’s\n",
    "not dependent on the condition being true.\n",
    "\n",
    "In the example below, it’s not **true** that the variable named `sun` contains **True**,\n",
    "therefore the rest of that line is ignored and only the next line is executed."
   ]
  },
  {
   "cell_type": "code",
   "execution_count": 2,
   "metadata": {},
   "outputs": [
    {
     "name": "stdout",
     "output_type": "stream",
     "text": [
      "I am here\n"
     ]
    }
   ],
   "source": [
    "sun = \"up\"\n",
    "if sun == \"down\":\n",
    "    print(\"Good night!\")\n",
    "print(\"I am here\")"
   ]
  },
  {
   "cell_type": "markdown",
   "metadata": {},
   "source": [
    "You can indent any number of lines under the `if`, and those indented lines execute only if the condition proves `true`. If the condition proves `false`, none of the indented lines are executed. \n",
    "\n",
    "The code under the indented lines is **always executed** because it’s not dependent on the condition. Here is an example where we have four lines of code that execute only if the condition proves `true`:"
   ]
  },
  {
   "cell_type": "code",
   "execution_count": 3,
   "metadata": {},
   "outputs": [
    {
     "name": "stdout",
     "output_type": "stream",
     "text": [
      "Subtotal : $100.00\n",
      "Sales Tax: $2.30\n",
      "Total : $102.30\n"
     ]
    }
   ],
   "source": [
    "total = 100\n",
    "sales_tax_rate = 0.023\n",
    "taxable = True\n",
    "if taxable:\n",
    "    print(f\"Subtotal : ${total:.2f}\")\n",
    "    sales_tax = total * sales_tax_rate\n",
    "    print(f\"Sales Tax: ${sales_tax:.2f}\")\n",
    "    total = total + sales_tax\n",
    "print(f\"Total : ${total:.2f}\")"
   ]
  },
  {
   "cell_type": "markdown",
   "metadata": {},
   "source": [
    "You must spell True and False with an initial capital letter and the rest lowercase. If you type it any other way, Python won’t recognize it as a Boolean True or False and your code won’t run as expected.\n"
   ]
  },
  {
   "cell_type": "markdown",
   "metadata": {},
   "source": [
    "Notice that in the `if` statement we used\n",
    "`if taxable:`\n",
    "This is perfectly okay because we made taxable a Boolean that can only be `True` or `False`. You may see it shown as\n",
    "`if taxable == True:`\n",
    "This also works. The `== True` is just unnecessary because, by itself, taxable is already either `True` or `not False`.\n"
   ]
  },
  {
   "cell_type": "markdown",
   "metadata": {},
   "source": [
    "## Adding else to your if statement\n",
    "\n",
    "\n",
    "So far we’ve looked at code examples in which some code is executed if some condition proves `true`. If the condition proves `false`, then that code is ignored. Sometimes, you may have a situation where you want one chunk of code to execute if a condition proves `true`, otherwise (`else`) if it doesn’t prove `true`, you want some other chunk of code to be execute. In that case, you can add an `else:` to your `if`. Any lines of code indented under the `else:` are executed only if the condition did not prove true. Here is the logic and syntax:"
   ]
  },
  {
   "cell_type": "markdown",
   "metadata": {},
   "source": [
    "`if condition:\n",
    "    do indented lines here\n",
    "    ...\n",
    "else:\n",
    "    do indented lines here\n",
    "    ...\n",
    "do remaining un-indented lines no matter what.`"
   ]
  },
  {
   "cell_type": "markdown",
   "metadata": {},
   "source": [
    "The code below shows a simple example where we grab the current time from the computer clock using `datetime.now()`. If the hour of that time is less than 12, then the program shows **Good morning!** Otherwise, it shows **Good afternoon!**.\n",
    "\n",
    "Regardless of the hour, it prints **I hope you are doing well**. So if you write such\n",
    "a program and run it in the morning, you get the appropriate greeting followed by\n",
    "**I hope you are doing well!**."
   ]
  },
  {
   "cell_type": "code",
   "execution_count": 4,
   "metadata": {},
   "outputs": [
    {
     "name": "stdout",
     "output_type": "stream",
     "text": [
      "Good afternoon!\n",
      "I hope you are doing well!\n"
     ]
    }
   ],
   "source": [
    "import datetime as dt\n",
    "\n",
    "# Capture current date and time\n",
    "now = dt.datetime.now()\n",
    "\n",
    "# Make a decision based on the hour value of DateTime\n",
    "if now.hour <12:\n",
    "    print(\"Good morning!\")\n",
    "else:\n",
    "    print(\"Good afternoon!\")\n",
    "print(\"I hope you are doing well!\")"
   ]
  },
  {
   "cell_type": "markdown",
   "metadata": {},
   "source": [
    "## Handling multiple else’s with elif\n",
    "\n",
    "But what if it’s 11:00 at night? Do you really want to say “Good afternoon”? What we need is an `if . . . else` where there are multiple else’s possible. That’s where the `elif` statement comes into play.\n",
    "\n",
    "An `if` statement can include any number of `elif` conditions. You can include or not include a final `else` statement that executes only if the `if` and all the previous `elifs` prove `false`. In its simplest form, the syntax for an `if` with `elif` and `else` is"
   ]
  },
  {
   "cell_type": "markdown",
   "metadata": {},
   "source": [
    ">`if condition:\n",
    ">    do these indented lines of code\n",
    ">    ...\n",
    ">elif condition\n",
    ">    do these indented lines of code\n",
    ">    ...\n",
    ">do these un-indented lines of code no matter what.`"
   ]
  },
  {
   "cell_type": "code",
   "execution_count": 5,
   "metadata": {},
   "outputs": [
    {
     "name": "stdout",
     "output_type": "stream",
     "text": [
      "Good afternoon!\n",
      "I hope you are doing well!\n"
     ]
    }
   ],
   "source": [
    "# Capture current date and time\n",
    "now = dt.datetime.now()\n",
    "\n",
    "# Make a decision based on the hour value of DateTime\n",
    "if now.hour <12:\n",
    "    print(\"Good morning!\")\n",
    "elif now.hour > 11 and now.hour< 18:\n",
    "    print(\"Good afternoon!\")\n",
    "else:\n",
    "    print(\"Good evening!\")\n",
    "print(\"I hope you are doing well!\")"
   ]
  },
  {
   "cell_type": "markdown",
   "metadata": {},
   "source": [
    "Here's another example of why `elif:` is important.\n",
    "\n",
    "Sometimes it is possible that none of our code will execute. Here's a traffic light example."
   ]
  },
  {
   "cell_type": "code",
   "execution_count": 6,
   "metadata": {},
   "outputs": [
    {
     "name": "stdout",
     "output_type": "stream",
     "text": [
      "Go\n",
      "This code executes no matter what\n"
     ]
    }
   ],
   "source": [
    "light_colour = \"green\"\n",
    "if light_colour == \"green\":\n",
    "    print(\"Go\")\n",
    "elif light_colour == \"red\":\n",
    "    print(\"Stop\")\n",
    "print(\"This code executes no matter what\")"
   ]
  },
  {
   "cell_type": "markdown",
   "metadata": {},
   "source": [
    "And changng the light coliur to **red** does this: "
   ]
  },
  {
   "cell_type": "code",
   "execution_count": 7,
   "metadata": {},
   "outputs": [
    {
     "name": "stdout",
     "output_type": "stream",
     "text": [
      "Stop\n",
      "This code executes no matter what\n"
     ]
    }
   ],
   "source": [
    "light_colour = \"red\"\n",
    "if light_colour == \"green\":\n",
    "    print(\"Go\")\n",
    "elif light_colour == \"red\":\n",
    "    print(\"Stop\")\n",
    "print(\"This code executes no matter what\")"
   ]
  },
  {
   "cell_type": "markdown",
   "metadata": {},
   "source": [
    "If we change the light colour to **amber**, then this happens:"
   ]
  },
  {
   "cell_type": "code",
   "execution_count": 8,
   "metadata": {},
   "outputs": [
    {
     "name": "stdout",
     "output_type": "stream",
     "text": [
      "This code executes no matter what\n"
     ]
    }
   ],
   "source": [
    "light_colour = \"amber\"\n",
    "if light_colour == \"green\":\n",
    "    print(\"Go\")\n",
    "elif light_colour == \"red\":\n",
    "    print(\"Stop\")\n",
    "print(\"This code executes no matter what\")"
   ]
  },
  {
   "cell_type": "markdown",
   "metadata": {},
   "source": [
    "Executing this code does not rersult in **green** or **red** output, because neither colour==“green” or colour==“red” prove true, so none of the indented code was executed."
   ]
  },
  {
   "cell_type": "markdown",
   "metadata": {},
   "source": [
    "We can add an `else` option that happens **only if** the previous conditions all prove\n",
    "**false**, like this:"
   ]
  },
  {
   "cell_type": "code",
   "execution_count": 9,
   "metadata": {},
   "outputs": [
    {
     "name": "stdout",
     "output_type": "stream",
     "text": [
      "Proceed with caution\n",
      "This code executes no matter what\n"
     ]
    }
   ],
   "source": [
    "light_colour = \"amber\"\n",
    "if light_colour == \"green\":\n",
    "    print(\"Go\")\n",
    "elif light_colour == \"red\":\n",
    "    print(\"Stop\")\n",
    "else:\n",
    "    print(\"Proceed with caution\")\n",
    "print(\"This code executes no matter what\")"
   ]
  },
  {
   "cell_type": "markdown",
   "metadata": {},
   "source": [
    "The fact that the `light_colour` is **amber** prevents the first two `if` conditions from\n",
    "proving true, so only the `else` code is executed. And that’s true for anything you\n",
    "put into the light_colour variable because the `else` isn’t looking for a specific\n",
    "condition. It’s just providing an **if all else fails, do this** role in the program logic."
   ]
  },
  {
   "cell_type": "markdown",
   "metadata": {},
   "source": [
    "## Using a FOR loop\n",
    "\n",
    "Decision-making is a big part of writing program code. But there are also cases where you need to count or perform some task over and over. A `for` loop is one way to do that. It\n",
    "allows you to repeat a line of code, or several lines of code, as many times as you\n",
    "like."
   ]
  },
  {
   "cell_type": "markdown",
   "metadata": {},
   "source": [
    "### Looping through numbers in a range\n",
    "If you know how many times you want a loop to repeat, using this syntax may be easiest:"
   ]
  },
  {
   "cell_type": "markdown",
   "metadata": {},
   "source": [
    ">`for x in range(y):\n",
    ">    do this\n",
    ">    do this\n",
    ">    ...\n",
    ">un-indented code is executed after the loop`"
   ]
  },
  {
   "cell_type": "markdown",
   "metadata": {},
   "source": [
    "Replace `x` with any variable name of your choosing. Replace `y` with any number\n",
    "or range of numbers. If you specify one number, the range will be from zero to one less than the final number."
   ]
  },
  {
   "cell_type": "code",
   "execution_count": 10,
   "metadata": {},
   "outputs": [
    {
     "name": "stdout",
     "output_type": "stream",
     "text": [
      "0\n",
      "1\n",
      "2\n",
      "3\n",
      "4\n",
      "5\n",
      "6\n",
      "Loop finished\n"
     ]
    }
   ],
   "source": [
    "for x in range(7):\n",
    "    print(x)\n",
    "print(\"Loop finished\")"
   ]
  },
  {
   "cell_type": "markdown",
   "metadata": {},
   "source": [
    "If you want to run the loop within a specific range of numbers, we can put two numbers, separated by a comma, as the range. The first number is where the counting for the loop starts. The second number is **one greater** than where the loop stops. \n",
    "\n",
    "For example, here is a `for` loop with two numbers in the range:"
   ]
  },
  {
   "cell_type": "code",
   "execution_count": 11,
   "metadata": {},
   "outputs": [
    {
     "name": "stdout",
     "output_type": "stream",
     "text": [
      "1\n",
      "2\n",
      "3\n",
      "4\n",
      "5\n",
      "6\n",
      "7\n",
      "8\n",
      "9\n",
      "All done\n"
     ]
    }
   ],
   "source": [
    "for x in range(1, 10):\n",
    "    print(x)\n",
    "print(\"All done\")"
   ]
  },
  {
   "cell_type": "markdown",
   "metadata": {},
   "source": [
    "### Looping through a string\n",
    "Using `range()` in a `for` loop is optional. You can replace `range` with a `string`, and\n",
    "the loop repeats **once for each character in the string**. The variable `x` (or whatever\n",
    "you name the variable) contains one character from the string with each pass through the loop, going from left to right. \n",
    "\n",
    "The syntax is:"
   ]
  },
  {
   "cell_type": "markdown",
   "metadata": {},
   "source": [
    ">`for x in string:\n",
    ">    do this\n",
    ">    do this\n",
    ">    ...\n",
    ">Do this when the loop is done`"
   ]
  },
  {
   "cell_type": "markdown",
   "metadata": {},
   "source": [
    "The string should be text enclosed in quotation marks, or it should be the name of a variable that contains a string."
   ]
  },
  {
   "cell_type": "code",
   "execution_count": 12,
   "metadata": {},
   "outputs": [
    {
     "name": "stdout",
     "output_type": "stream",
     "text": [
      "L\n",
      "e\n",
      "t\n",
      "t\n",
      "e\n",
      "r\n",
      "k\n",
      "e\n",
      "n\n",
      "n\n",
      "y\n",
      "Done\n"
     ]
    }
   ],
   "source": [
    "for x in \"Letterkenny\":\n",
    "    print(x)\n",
    "print(\"Done\")"
   ]
  },
  {
   "cell_type": "markdown",
   "metadata": {},
   "source": [
    "The string doesn’t have to be a literal string. It can be the name of any variable that contains a string. For example, try this code:"
   ]
  },
  {
   "cell_type": "code",
   "execution_count": 13,
   "metadata": {},
   "outputs": [
    {
     "name": "stdout",
     "output_type": "stream",
     "text": [
      "L\n",
      "e\n",
      "t\n",
      "t\n",
      "e\n",
      "r\n",
      "k\n",
      "e\n",
      "n\n",
      "n\n",
      "y\n",
      "Done\n"
     ]
    }
   ],
   "source": [
    "my_word = \"Letterkenny\"\n",
    "for x in my_word:\n",
    "    print(x)\n",
    "print(\"Done\")"
   ]
  },
  {
   "cell_type": "markdown",
   "metadata": {},
   "source": [
    "### Looping through a list\n",
    "\n",
    "A `list` in Python is any group of items, separated by commas, inside square brackets. You can loop through a list either directly in the `for` loop or through a variable that contains the list. \n",
    "\n",
    "Here is an example of looping through the list with no variable:"
   ]
  },
  {
   "cell_type": "code",
   "execution_count": 14,
   "metadata": {},
   "outputs": [
    {
     "name": "stdout",
     "output_type": "stream",
     "text": [
      "I\n",
      "like\n",
      "Natural\n",
      "Language\n",
      "Processing\n",
      "Done\n"
     ]
    }
   ],
   "source": [
    "for x in [\"I\", \"like\", \"Natural\", \"Language\", \"Processing\"]:\n",
    "    print(x)\n",
    "print(\"Done\")"
   ]
  },
  {
   "cell_type": "markdown",
   "metadata": {},
   "source": [
    "We can assign the `list` to a variable too, and then use the variable name in the `for` loop rather than the list. Below is an example where the variable is assigned a list of text as before. Again, notice how the list is contained within square brackets. These are what make Python treat it as a `list`.\n",
    "\n",
    "The `for` loop then loops through the list, printing each word (one item in the list) with each pass through the loop. We used the variable name `sentence` rather than `x`, but that name can be any valid name you like. We could have used\n",
    "`x` or anything else, so long as the variable name that represents the list matches the name used in the `for` loop."
   ]
  },
  {
   "cell_type": "code",
   "execution_count": 15,
   "metadata": {},
   "outputs": [
    {
     "name": "stdout",
     "output_type": "stream",
     "text": [
      "I\n",
      "like\n",
      "Natural\n",
      "Language\n",
      "Processing\n",
      "sentence finished.\n"
     ]
    }
   ],
   "source": [
    "sentence = [\"I\", \"like\", \"Natural\", \"Language\", \"Processing\"]\n",
    "for word in sentence:\n",
    "    print(word)\n",
    "print(\"sentence finished.\")"
   ]
  },
  {
   "cell_type": "markdown",
   "metadata": {},
   "source": [
    "### Stopping a loop during execution\n",
    "\n",
    "Typically, you want a loop to go through an entire list or range of items, but you can also force a loop to stop early if some condition is met. Use the `break` statement inside an `if` statement to force the loop to stop early. \n",
    "\n",
    "The syntax is:"
   ]
  },
  {
   "cell_type": "markdown",
   "metadata": {},
   "source": [
    ">`for x in items:\n",
    ">    if condition:\n",
    ">        [do this ... ]\n",
    ">        break\n",
    ">    do this\n",
    ">do this when loop is finished`"
   ]
  },
  {
   "cell_type": "markdown",
   "metadata": {},
   "source": [
    "Here's an example where we are chacking for missing text in a list."
   ]
  },
  {
   "cell_type": "code",
   "execution_count": 16,
   "metadata": {},
   "outputs": [
    {
     "name": "stdout",
     "output_type": "stream",
     "text": [
      "I\n",
      "like\n",
      "Natural\n",
      "Language\n",
      "Processing\n",
      "Loop is complete\n"
     ]
    }
   ],
   "source": [
    "sentence = [\"I\", \"like\", \"Natural\", \"Language\", \"Processing\"]\n",
    "for word in sentence:\n",
    "    if word == \"\":\n",
    "        print(\"missing\")\n",
    "        break\n",
    "    print(word)\n",
    "print(\"Loop is complete\")"
   ]
  },
  {
   "cell_type": "markdown",
   "metadata": {},
   "source": [
    "Here's the same code with a missing value added to the list."
   ]
  },
  {
   "cell_type": "code",
   "execution_count": 17,
   "metadata": {},
   "outputs": [
    {
     "name": "stdout",
     "output_type": "stream",
     "text": [
      "I\n",
      "like\n",
      "missing\n",
      "Loop is complete\n"
     ]
    }
   ],
   "source": [
    "sentence = [\"I\", \"like\", \"\", \"Language\", \"Processing\"]\n",
    "for word in sentence:\n",
    "    if word == \"\":\n",
    "        print(\"missing\")\n",
    "        break\n",
    "    print(word)\n",
    "print(\"Loop is complete\")"
   ]
  },
  {
   "cell_type": "markdown",
   "metadata": {},
   "source": [
    "The logic is, as long as there is some word provided, the `if` code is not executed and the loop runs to completion. However, if the loop encounters a blank word, it prints **missing** and also **breaks** the loop, jumping down to the\n",
    "first statement outside the loop (the final un-indented code), which displays **Loop is complete**."
   ]
  },
  {
   "cell_type": "markdown",
   "metadata": {},
   "source": [
    "### Looping with continue\n",
    "\n",
    "You can also use a `continue` statement in a loop, which is kind of the opposite of `break`. Whereas `break` makes code execution jump past the end of the loop and stop looping, `continue` makes it jump back to the top of the loop and continue with the next item (that is, after the item that triggered the continue). \n",
    "\n",
    "Here's the same code as the previous example, but instead of executing a break when it hits a blank answer, it continues with the next item in the list:"
   ]
  },
  {
   "cell_type": "code",
   "execution_count": 18,
   "metadata": {
    "scrolled": true
   },
   "outputs": [
    {
     "name": "stdout",
     "output_type": "stream",
     "text": [
      "I\n",
      "like\n",
      "missing\n",
      "Language\n",
      "Processing\n",
      "Loop is complete\n"
     ]
    }
   ],
   "source": [
    "sentence = [\"I\", \"like\", \"\", \"Language\", \"Processing\"]\n",
    "for word in sentence:\n",
    "    if word == \"\":\n",
    "        print(\"missing\")\n",
    "        continue\n",
    "    print(word)\n",
    "print(\"Loop is complete\")"
   ]
  },
  {
   "cell_type": "markdown",
   "metadata": {},
   "source": [
    "The code doesn’t print the blank answer, it prints **missing**, but then it goes back and continues looping through the rest of the items on the list."
   ]
  },
  {
   "cell_type": "markdown",
   "metadata": {},
   "source": [
    "### Nesting loops\n",
    "It’s perfectly okay to nest loops . . . that is, to put loops inside of loops. Just make sure you get your indentations right because only the indentations determine which loop, if any, a line of code is located within. For example, in this code, an outer loop loops through the words First, Second, and Third. With each pass through the loop, it prints a word, then it prints the numbers 1–3 (by looping through a range and adding 1 to each range value).\n",
    "\n",
    "So you can see, the loops work because we see each word in the outer list followed by the numbers 1–3. The end of the loop is the first un-indented line at the bottom, which doesn’t print until the outer loop has completed its process."
   ]
  },
  {
   "cell_type": "code",
   "execution_count": 19,
   "metadata": {},
   "outputs": [
    {
     "name": "stdout",
     "output_type": "stream",
     "text": [
      "first loop\n",
      "1\n",
      "2\n",
      "3\n",
      "4\n",
      "5\n",
      "6\n",
      "7\n",
      "8\n",
      "9\n",
      "second loop\n",
      "1\n",
      "2\n",
      "3\n",
      "4\n",
      "5\n",
      "6\n",
      "7\n",
      "8\n",
      "9\n",
      "third loop\n",
      "1\n",
      "2\n",
      "3\n",
      "4\n",
      "5\n",
      "6\n",
      "7\n",
      "8\n",
      "9\n",
      "Both loops are now complete\n"
     ]
    }
   ],
   "source": [
    "# Outer loop\n",
    "for outer in [\"first loop\", \"second loop\", \"third loop\"]:\n",
    "    print(outer)\n",
    "    # Inner loop\n",
    "    for inner in range(1, 10):\n",
    "        print(inner)\n",
    "        \n",
    "print(\"Both loops are now complete\")"
   ]
  },
  {
   "cell_type": "markdown",
   "metadata": {},
   "source": [
    "### Looping with while\n",
    "As an alternative to looping with `for`, you can loop with `while` instead. The difference is subtle. With `for`, we generally get a fixed number of loops, one for each item in a `range` or one for each item in a `list`. \n",
    "\n",
    "With a `while` loop, the loop keeps going as long as (while) some condition is true. Here is the basic syntax:"
   ]
  },
  {
   "cell_type": "markdown",
   "metadata": {},
   "source": [
    ">`while condition\n",
    ">    do this ...\n",
    ">    do this ...\n",
    ">do this when loop is done`"
   ]
  },
  {
   "cell_type": "markdown",
   "metadata": {},
   "source": [
    "With `while` loops, we have to make sure that the condition that makes the loop stop happens eventually. Otherwise, we get an **infinite loop** that just keeps going until some error causes it to fail, or until we force it to stop."
   ]
  },
  {
   "cell_type": "code",
   "execution_count": 20,
   "metadata": {},
   "outputs": [
    {
     "name": "stdout",
     "output_type": "stream",
     "text": [
      "50\n",
      "51\n",
      "52\n",
      "53\n",
      "54\n",
      "55\n",
      "56\n",
      "57\n",
      "58\n",
      "59\n",
      "Loop complete\n"
     ]
    }
   ],
   "source": [
    "counter = 50\n",
    "while counter <60:\n",
    "    print(counter)\n",
    "    counter += 1\n",
    "\n",
    "print(\"Loop complete\")"
   ]
  },
  {
   "cell_type": "markdown",
   "metadata": {},
   "source": [
    "A common mistake to make with this kind of loop is to forget to increment the counter so that it grows with each pass through the loop and eventually makes the while condition false and stops the loop. If we were to remove the `counter += 1` line of code, the loop would always remain less then 60 and the loop would run indefinitely."
   ]
  },
  {
   "cell_type": "markdown",
   "metadata": {},
   "source": [
    "### Starting while loops over with continue\n",
    "We can use `if` and `continue` in a `while` loop to skip back to the top of the loop just as we can with for loops. Take a look at this code for an example.\n",
    "\n",
    "The `int()` function returns only the whole portion of a number. If the random number that gets generated is 5, then dividing this number by 2 gets you 2.5. Then `int(number)` is 2 because the `int()` of a number drops everything after the decimal point. 2 does not equal 2.5, so the code skips over the `continue`, prints that odd number, increments\n",
    "the counter, and keeps going.\n",
    "\n",
    "If the next random number is 12, then 12 divided by 2 is 6 and `int(6)` does equal 6 (since neither number has a decimal point). That causes the `continue` to execute, skipping over the `print(number)` statement and the counter increment,\n",
    "so it just tries another random number and continues. Eventually, it finds 10 odd numbers, at which point the loop stops."
   ]
  },
  {
   "cell_type": "code",
   "execution_count": 21,
   "metadata": {},
   "outputs": [
    {
     "name": "stdout",
     "output_type": "stream",
     "text": [
      "list of 10 random odd numbers between 0 - 100\n",
      "89\n",
      "31\n",
      "55\n",
      "37\n",
      "45\n",
      "51\n",
      "41\n",
      "61\n",
      "73\n",
      "99\n",
      "10 random numbers shown.\n"
     ]
    }
   ],
   "source": [
    "import random\n",
    "print(\"list of 10 random odd numbers between 0 - 100\")\n",
    "num_count = 0\n",
    "\n",
    "while num_count < 10:\n",
    "    # get random number is 1-100 range\n",
    "    random_number = random.randint(1,100)\n",
    "    # Check whether an int conversion of the random\n",
    "    # number is the same as the random number\n",
    "    if int(random_number / 2) == random_number / 2:\n",
    "        # The number will not be printed as the\n",
    "        # program skips back to the start of the\n",
    "        # while loop if the number is even\n",
    "        continue\n",
    "    print(random_number)\n",
    "    # increment counter\n",
    "    num_count +=1\n",
    "    \n",
    "print(\"10 random numbers shown.\")"
   ]
  },
  {
   "cell_type": "markdown",
   "metadata": {},
   "source": [
    "### Breaking while loops with break\n",
    "You can also `break` a `while` loop using `break`, just as you can with a `for` loop. When you `break` a `while` loop, you force execution to continue with the first line of code that’s under and outside the loop, thereby stopping the loop but continuing the flow with the rest of the action after the loop.\n",
    "\n",
    "Another way to think of a `break` is as something that allows you to stop a while loop before the `while` condition proves `false`. So it allows you to literally break out of the loop before its time. However this situation is very unusual where breaking out of a loop before its time was a good solution to the problem, so it’s hard to come up with a practical example."
   ]
  },
  {
   "cell_type": "markdown",
   "metadata": {},
   "source": [
    ">`while condition1:\n",
    ">do this.\n",
    ">...\n",
    ">if condition2\n",
    ">break\n",
    ">do this code when loop is done`"
   ]
  },
  {
   "cell_type": "markdown",
   "metadata": {},
   "source": [
    "There are two things that can stop this loop. Either `condition1` proves `False`, or `condition2` proves `True`. Regardless of which of those two things happen, code execution resumes at the first line of code outside the loop, the line that reads do this code when loop is done in the sample syntax."
   ]
  },
  {
   "cell_type": "markdown",
   "metadata": {},
   "source": [
    "Here is an example where the program prints up to ten numbers that are evenly divisible by five. It may print fewer than that, though, because when it hits a random number that’s evenly divisible by five, it stops the loop. So the only\n",
    "thing you can predict about it is that it will print between zero and ten numbers that are evenly divisible by five. \n",
    "\n",
    "You can’t predict how many it will print on any given run, because there’s no way to tell if or when it will get a random number that’s evenly divisible by five during the ten tries it’s allowed:"
   ]
  },
  {
   "cell_type": "code",
   "execution_count": 22,
   "metadata": {},
   "outputs": [
    {
     "name": "stdout",
     "output_type": "stream",
     "text": [
      "Numbers that aren't evenly divisible by 5\n",
      "41\n",
      "892\n",
      "858\n",
      "317\n",
      "877\n",
      "503\n",
      "Loop is done\n"
     ]
    }
   ],
   "source": [
    "import random\n",
    "print(\"Numbers that aren't evenly divisible by 5\")\n",
    "counter = 0\n",
    "while counter < 10:\n",
    "    # Get a random number\n",
    "    number = random.randint(1,999)\n",
    "    if int(number / 5) == number / 5:\n",
    "        # If it's evenly divisible by 5, bail out.\n",
    "        break\n",
    "    # Otherwise, print it and keep going for a while.\n",
    "    print(number)\n",
    "    # Increment the loop counter.\n",
    "\n",
    "    counter += 1\n",
    "print(\"Loop is done\")"
   ]
  }
 ],
 "metadata": {
  "kernelspec": {
   "display_name": "Python 3",
   "language": "python",
   "name": "python3"
  },
  "language_info": {
   "codemirror_mode": {
    "name": "ipython",
    "version": 3
   },
   "file_extension": ".py",
   "mimetype": "text/x-python",
   "name": "python",
   "nbconvert_exporter": "python",
   "pygments_lexer": "ipython3",
   "version": "3.7.4"
  }
 },
 "nbformat": 4,
 "nbformat_minor": 2
}
