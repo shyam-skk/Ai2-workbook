{
 "cells": [
  {
   "cell_type": "markdown",
   "metadata": {},
   "source": [
    "## Introduction\n",
    "\n",
    "A time series is any metric that is measured over regular time intervals. For example, weather data, stock prices, industry forecasts, etc.\n",
    "\n",
    "In business forecasting it is quite common to deal with seasonal time series. The seasonal component may interact with the level in an additive or multiplicative way. This means that in an additive way, the amplitude of the seasonality remains constant, while in the multiplicative way it changes as the level does. Seasonal amplitude reduces if the level is decreasing. Refer to the slides on Blackboard for examples of multiplicative and additive models.\n",
    "\n",
    "Each data point **(Yt)** at time **t** in a Time Series can be expressed as either a sum or a product of 3 components, namely:\n",
    " - Seasonality (St)\n",
    " - Trend (Tt) \n",
    " - Error (et), also known as \"white noise\"\n",
    " \n",
    "For additive time series the formula used is Y<sub>t</sub> = S<sub>t</sub> + T<sub>t</sub> + ϵ<sub>t</sub>\n",
    " \n",
    "For multiplicative time series the formula used is Y<sub>t</sub> = S<sub>t</sub> x T<sub>t</sub> x ϵ<sub>t</sub>\n",
    "\n",
    "## Time series object\n",
    "\n",
    "In order to work with a time series in R, you have to place it into a time-series object. This is an R structure that contains the observations, the starting and ending time of the series, and information about its periodicity e.g. monthly, quarterly, annual data.\n",
    "\n",
    "Once data are in a time-series object, we can use numerous functions to manipulate, model, and plot the data.\n",
    "\n",
    "A vector of numbers, or a column in a data frame can be saved as a time-series object using the `ts()` function.\n",
    "\n",
    "There are several arguments in the `ts()` function including:\n",
    " - `start` - which represents the time of the first observation. Either a single number or a vector of two integers.\n",
    " - `end` - the time of the last observation, specified in the same way as start.\n",
    " - `frequency` - the number of observations per unit of time. It is used when the series is sampled an integral number of times in each unit time interval. For example, we could use a value of **7** for frequency when the data are sampled **daily**, and the natural time period is a week, **4** when there are 4 quarters in the data, or **12** when the data are sampled **monthly** and the natural time period is a year. \n",
    " \n",
    "Here's an example of a simple time serives object."
   ]
  },
  {
   "cell_type": "code",
   "execution_count": 1,
   "metadata": {},
   "outputs": [
    {
     "data": {
      "text/html": [
       "<table>\n",
       "<caption>A Time Series: 2 × 12</caption>\n",
       "<thead>\n",
       "\t<tr><th></th><th scope=col>Jan</th><th scope=col>Feb</th><th scope=col>Mar</th><th scope=col>Apr</th><th scope=col>May</th><th scope=col>Jun</th><th scope=col>Jul</th><th scope=col>Aug</th><th scope=col>Sep</th><th scope=col>Oct</th><th scope=col>Nov</th><th scope=col>Dec</th></tr>\n",
       "</thead>\n",
       "<tbody>\n",
       "\t<tr><th scope=row>2003</th><td>18</td><td>33</td><td>41</td><td> 7</td><td>34</td><td>35</td><td>24</td><td>25</td><td>24</td><td>21</td><td>25</td><td>20</td></tr>\n",
       "\t<tr><th scope=row>2004</th><td>22</td><td>31</td><td>40</td><td>29</td><td>25</td><td>21</td><td>22</td><td>54</td><td>31</td><td>25</td><td>26</td><td>35</td></tr>\n",
       "</tbody>\n",
       "</table>\n"
      ],
      "text/latex": [
       "A Time Series: 2 × 12\n",
       "\\begin{tabular}{r|llllllllllll}\n",
       "  & Jan & Feb & Mar & Apr & May & Jun & Jul & Aug & Sep & Oct & Nov & Dec\\\\\n",
       "\\hline\n",
       "\t2003 & 18 & 33 & 41 &  7 & 34 & 35 & 24 & 25 & 24 & 21 & 25 & 20\\\\\n",
       "\t2004 & 22 & 31 & 40 & 29 & 25 & 21 & 22 & 54 & 31 & 25 & 26 & 35\\\\\n",
       "\\end{tabular}\n"
      ],
      "text/markdown": [
       "\n",
       "A Time Series: 2 × 12\n",
       "\n",
       "| <!--/--> | Jan | Feb | Mar | Apr | May | Jun | Jul | Aug | Sep | Oct | Nov | Dec |\n",
       "|---|---|---|---|---|---|---|---|---|---|---|---|---|\n",
       "| 2003 | 18 | 33 | 41 |  7 | 34 | 35 | 24 | 25 | 24 | 21 | 25 | 20 |\n",
       "| 2004 | 22 | 31 | 40 | 29 | 25 | 21 | 22 | 54 | 31 | 25 | 26 | 35 |\n",
       "\n"
      ],
      "text/plain": [
       "     Jan Feb Mar Apr May Jun Jul Aug Sep Oct Nov Dec\n",
       "2003 18  33  41   7  34  35  24  25  24  21  25  20 \n",
       "2004 22  31  40  29  25  21  22  54  31  25  26  35 "
      ]
     },
     "metadata": {},
     "output_type": "display_data"
    },
    {
     "data": {
      "image/png": "[encoded data removed]",
      "text/plain": [
       "plot without title"
      ]
     },
     "metadata": {
      "image/png": {
       "height": 420,
       "width": 420
      },
      "text/plain": {
       "height": 420,
       "width": 420
      }
     },
     "output_type": "display_data"
    }
   ],
   "source": [
    "# Simple example of a time series object\n",
    "# consisting of monthly sales data over 2 years\n",
    "\n",
    "sales <- c(18, 33, 41, 7, 34, 35, 24, 25, 24, 21, 25, 20,\n",
    "           22, 31, 40, 29, 25, 21, 22, 54, 31, 25, 26, 35)\n",
    "\n",
    "# Frequency refers to the number of observations\n",
    "# per unit of time\n",
    "# In this example, each time unit is a year\n",
    "# and we use frequency = 12 to represent monthly data\n",
    "t_sales <- ts(sales, start=c(2003, 1), frequency=12)\n",
    "t_sales\n",
    "\n",
    "plot(t_sales)"
   ]
  },
  {
   "cell_type": "markdown",
   "metadata": {},
   "source": [
    "## Time series functions\n",
    "We can use functions to determine various properties of the time series object."
   ]
  },
  {
   "cell_type": "code",
   "execution_count": 2,
   "metadata": {
    "scrolled": true
   },
   "outputs": [
    {
     "data": {
      "text/html": [
       "<style>\n",
       ".list-inline {list-style: none; margin:0; padding: 0}\n",
       ".list-inline>li {display: inline-block}\n",
       ".list-inline>li:not(:last-child)::after {content: \"\\00b7\"; padding: 0 .5ex}\n",
       "</style>\n",
       "<ol class=list-inline><li>2003</li><li>1</li></ol>\n"
      ],
      "text/latex": [
       "\\begin{enumerate*}\n",
       "\\item 2003\n",
       "\\item 1\n",
       "\\end{enumerate*}\n"
      ],
      "text/markdown": [
       "1. 2003\n",
       "2. 1\n",
       "\n",
       "\n"
      ],
      "text/plain": [
       "[1] 2003    1"
      ]
     },
     "metadata": {},
     "output_type": "display_data"
    },
    {
     "data": {
      "text/html": [
       "<style>\n",
       ".list-inline {list-style: none; margin:0; padding: 0}\n",
       ".list-inline>li {display: inline-block}\n",
       ".list-inline>li:not(:last-child)::after {content: \"\\00b7\"; padding: 0 .5ex}\n",
       "</style>\n",
       "<ol class=list-inline><li>2004</li><li>12</li></ol>\n"
      ],
      "text/latex": [
       "\\begin{enumerate*}\n",
       "\\item 2004\n",
       "\\item 12\n",
       "\\end{enumerate*}\n"
      ],
      "text/markdown": [
       "1. 2004\n",
       "2. 12\n",
       "\n",
       "\n"
      ],
      "text/plain": [
       "[1] 2004   12"
      ]
     },
     "metadata": {},
     "output_type": "display_data"
    },
    {
     "data": {
      "text/html": [
       "12"
      ],
      "text/latex": [
       "12"
      ],
      "text/markdown": [
       "12"
      ],
      "text/plain": [
       "[1] 12"
      ]
     },
     "metadata": {},
     "output_type": "display_data"
    }
   ],
   "source": [
    "start(t_sales)\n",
    "end(t_sales)\n",
    "frequency(t_sales)"
   ]
  },
  {
   "cell_type": "markdown",
   "metadata": {},
   "source": [
    "We can display some inforamtion on the Nile time series."
   ]
  },
  {
   "cell_type": "code",
   "execution_count": 3,
   "metadata": {},
   "outputs": [
    {
     "data": {
      "text/html": [
       "'ts'"
      ],
      "text/latex": [
       "'ts'"
      ],
      "text/markdown": [
       "'ts'"
      ],
      "text/plain": [
       "[1] \"ts\""
      ]
     },
     "metadata": {},
     "output_type": "display_data"
    }
   ],
   "source": [
    "class(Nile)"
   ]
  },
  {
   "cell_type": "code",
   "execution_count": 4,
   "metadata": {
    "scrolled": true
   },
   "outputs": [
    {
     "data": {
      "text/html": [
       "<style>\n",
       ".list-inline {list-style: none; margin:0; padding: 0}\n",
       ".list-inline>li {display: inline-block}\n",
       ".list-inline>li:not(:last-child)::after {content: \"\\00b7\"; padding: 0 .5ex}\n",
       "</style>\n",
       "<ol class=list-inline><li>1871</li><li>1</li></ol>\n"
      ],
      "text/latex": [
       "\\begin{enumerate*}\n",
       "\\item 1871\n",
       "\\item 1\n",
       "\\end{enumerate*}\n"
      ],
      "text/markdown": [
       "1. 1871\n",
       "2. 1\n",
       "\n",
       "\n"
      ],
      "text/plain": [
       "[1] 1871    1"
      ]
     },
     "metadata": {},
     "output_type": "display_data"
    }
   ],
   "source": [
    "start(Nile)"
   ]
  },
  {
   "cell_type": "code",
   "execution_count": 5,
   "metadata": {},
   "outputs": [
    {
     "data": {
      "text/html": [
       "<style>\n",
       ".list-inline {list-style: none; margin:0; padding: 0}\n",
       ".list-inline>li {display: inline-block}\n",
       ".list-inline>li:not(:last-child)::after {content: \"\\00b7\"; padding: 0 .5ex}\n",
       "</style>\n",
       "<ol class=list-inline><li>1970</li><li>1</li></ol>\n"
      ],
      "text/latex": [
       "\\begin{enumerate*}\n",
       "\\item 1970\n",
       "\\item 1\n",
       "\\end{enumerate*}\n"
      ],
      "text/markdown": [
       "1. 1970\n",
       "2. 1\n",
       "\n",
       "\n"
      ],
      "text/plain": [
       "[1] 1970    1"
      ]
     },
     "metadata": {},
     "output_type": "display_data"
    }
   ],
   "source": [
    "end(Nile)"
   ]
  },
  {
   "cell_type": "code",
   "execution_count": 6,
   "metadata": {},
   "outputs": [
    {
     "data": {
      "text/html": [
       "1"
      ],
      "text/latex": [
       "1"
      ],
      "text/markdown": [
       "1"
      ],
      "text/plain": [
       "[1] 1"
      ]
     },
     "metadata": {},
     "output_type": "display_data"
    }
   ],
   "source": [
    "frequency(Nile)"
   ]
  },
  {
   "cell_type": "code",
   "execution_count": 7,
   "metadata": {},
   "outputs": [
    {
     "data": {
      "text/plain": [
       "   Min. 1st Qu.  Median    Mean 3rd Qu.    Max. \n",
       "  456.0   798.5   893.5   919.4  1032.5  1370.0 "
      ]
     },
     "metadata": {},
     "output_type": "display_data"
    }
   ],
   "source": [
    "summary(Nile)"
   ]
  },
  {
   "cell_type": "markdown",
   "metadata": {},
   "source": [
    "This information shows that the Nile is a time series object that contains data between 1871 to 1970. The frequency indicates the data is annualised. "
   ]
  },
  {
   "cell_type": "markdown",
   "metadata": {},
   "source": [
    "## First steps of time series\n",
    "Describing a time series numerically and visually should be the first step before attempting to build complex models. The first step when investigating a time series is to plot it.\n",
    "\n",
    "Consider the `Nile` time series. It records the annual flow of the river Nile at Ashwan from 1871–1970. \n",
    "Time series typically have a significant irregular or error component. In order to remove patterns in the data, we can plot a smoothed curve that damps down these fluctuations through simple moving averages. \n",
    "For example, each data point can be replaced with the mean of that observation and one observation before and after it. This is called a `centered moving average`."
   ]
  },
  {
   "cell_type": "code",
   "execution_count": 8,
   "metadata": {},
   "outputs": [
    {
     "name": "stderr",
     "output_type": "stream",
     "text": [
      "Warning message:\n",
      "\"package 'forecast' was built under R version 3.6.3\"\n",
      "Registered S3 method overwritten by 'quantmod':\n",
      "  method            from\n",
      "  as.zoo.data.frame zoo \n",
      "\n"
     ]
    },
    {
     "data": {
      "image/png": "[encoded data removed]",
      "text/plain": [
       "Plot with title \"Simple Moving Averages (k=15)\""
      ]
     },
     "metadata": {
      "image/png": {
       "height": 420,
       "width": 420
      },
      "text/plain": {
       "height": 420,
       "width": 420
      }
     },
     "output_type": "display_data"
    }
   ],
   "source": [
    "#install.packages(\"forecast\")\n",
    "library(forecast)\n",
    "\n",
    "opar <- par(no.readonly=TRUE)\n",
    "par(mfrow=c(2,2))\n",
    "\n",
    "ylim <- c(min(Nile), max(Nile))\n",
    "plot(Nile, main=\"Raw time series\")\n",
    "# ma() function used to smooth the Nile time series\n",
    "plot(ma(Nile, 3), main=\"Simple Moving Averages (k=3)\", ylim=ylim)\n",
    "plot(ma(Nile, 7), main=\"Simple Moving Averages (k=7)\", ylim=ylim)\n",
    "plot(ma(Nile, 15), main=\"Simple Moving Averages (k=15)\", ylim=ylim)\n",
    "par(opar)\n",
    "# As k increases, plot becomes increasingly smooth"
   ]
  },
  {
   "cell_type": "markdown",
   "metadata": {},
   "source": [
    "## Stationarity\n",
    "\n",
    "In the most intuitive sense, stationarity means that the statistical properties of a process generating a time series do not change over time. It does not mean that the series does not change over time, just that the way it changes does not itself change over time. \n",
    "\n",
    "The algebraic equivalent is a linear function, perhaps, and not a constant one; the value of a linear function changes as 𝒙 grows, but the way it changes remains constant — it has a constant slope; one value that captures that rate of change.\n",
    "\n",
    "A time series is said to be stationary if it holds the following conditions true.\n",
    " - The mean value of time-series is constant over time, which implies, the trend component is nullified.\n",
    " - The variance does not increase over time.\n",
    " - Seasonality effect is minimal.<br>\n",
    " \n",
    "This means it is devoid of trend or seasonal patterns, which makes it looks like a random white noise irrespective of the observed time interval.\n",
    "\n",
    "\n",
    "## Why is stationarity important?\n",
    "The stationary processes are easier to analyse. Stationary processes are a sub-class of a wider family of possible models of reality. This sub-class is much easier to model and investigate. Such processes should be possible to predict, as the way they change is predictable.\n",
    "\n",
    "## How to determine if a time series is stationary\n",
    "\n",
    "We can apply the `adf.test()` function to apply the **Augmented Dickey-Fuller Test**. "
   ]
  },
  {
   "cell_type": "code",
   "execution_count": 9,
   "metadata": {},
   "outputs": [
    {
     "name": "stderr",
     "output_type": "stream",
     "text": [
      "Warning message:\n",
      "\"package 'tseries' was built under R version 3.6.3\"\n"
     ]
    },
    {
     "data": {
      "text/plain": [
       "\n",
       "\tAugmented Dickey-Fuller Test\n",
       "\n",
       "data:  Nile\n",
       "Dickey-Fuller = -3.3657, Lag order = 4, p-value = 0.0642\n",
       "alternative hypothesis: stationary\n"
      ]
     },
     "metadata": {},
     "output_type": "display_data"
    }
   ],
   "source": [
    "# Test if a time series is stationary\n",
    "library(tseries)\n",
    "# p-value < 0.05 indicates the TS is stationary\n",
    "# In this eample, Nile data is not stationary\n",
    "adf.test(Nile)"
   ]
  },
  {
   "cell_type": "markdown",
   "metadata": {},
   "source": [
    "The `adf.test()` function shows that the Nile dataset is currently not recognised at stationary.\n",
    "\n",
    "Stationary testing and converting a series into a stationary series are the most critical processes in time series modelling. \n",
    "\n",
    "Let’s now consider an example to show you what a time series looks like."
   ]
  },
  {
   "cell_type": "markdown",
   "metadata": {},
   "source": [
    "## time series example using the Air Passengers dataset\n",
    "\n",
    "In this example I'm using the `AirPassengers` data, which is a monthly time series in thousands. You can view more information on this time series by looking at the help on this.\n",
    "\n",
    "Lets allocate the time series object to a variable first."
   ]
  },
  {
   "cell_type": "code",
   "execution_count": 10,
   "metadata": {},
   "outputs": [],
   "source": [
    "air_passengers <- ts(AirPassengers)"
   ]
  },
  {
   "cell_type": "markdown",
   "metadata": {},
   "source": [
    "We can view the `type` of this object using the `class()` function."
   ]
  },
  {
   "cell_type": "code",
   "execution_count": 11,
   "metadata": {},
   "outputs": [
    {
     "data": {
      "text/html": [
       "'ts'"
      ],
      "text/latex": [
       "'ts'"
      ],
      "text/markdown": [
       "'ts'"
      ],
      "text/plain": [
       "[1] \"ts\""
      ]
     },
     "metadata": {},
     "output_type": "display_data"
    }
   ],
   "source": [
    "class(air_passengers)"
   ]
  },
  {
   "cell_type": "markdown",
   "metadata": {},
   "source": [
    "The AirPassenger dataset in R provides monthly totals of a US airline passengers, from 1949 to 1960. This dataset is already of a time series class therefore no further class or date manipulation is required.\n",
    "\n",
    "We can lok at some information on the time series object though."
   ]
  },
  {
   "cell_type": "code",
   "execution_count": 12,
   "metadata": {},
   "outputs": [
    {
     "name": "stdout",
     "output_type": "stream",
     "text": [
      "Start of air passengers :  1 1 \n",
      "End of air passengers :  144 1 \n",
      "Frequency of air passengers :  1 \n",
      "   Min. 1st Qu.  Median    Mean 3rd Qu.    Max. \n",
      "  104.0   180.0   265.5   280.3   360.5   622.0 \n"
     ]
    }
   ],
   "source": [
    "cat(\"Start of air passengers : \", start(air_passengers), \"\\n\")\n",
    "cat(\"End of air passengers : \", end(air_passengers), \"\\n\")\n",
    "cat(\"Frequency of air passengers : \", frequency(air_passengers), \"\\n\")\n",
    "print(summary(air_passengers))\n"
   ]
  },
  {
   "cell_type": "markdown",
   "metadata": {},
   "source": [
    "The frequency value does not look like it is configured correctly. This appears to be in a yearly cycle. It should be in a monthly cycle."
   ]
  },
  {
   "cell_type": "code",
   "execution_count": 13,
   "metadata": {
    "scrolled": true
   },
   "outputs": [
    {
     "data": {
      "text/html": [
       "1"
      ],
      "text/latex": [
       "1"
      ],
      "text/markdown": [
       "1"
      ],
      "text/plain": [
       "[1] 1"
      ]
     },
     "metadata": {},
     "output_type": "display_data"
    },
    {
     "data": {
      "text/html": [
       "A Time Series:<br><style>\n",
       ".list-inline {list-style: none; margin:0; padding: 0}\n",
       ".list-inline>li {display: inline-block}\n",
       ".list-inline>li:not(:last-child)::after {content: \"\\00b7\"; padding: 0 .5ex}\n",
       "</style>\n",
       "<ol class=list-inline><li>1</li><li>1</li><li>1</li><li>1</li><li>1</li><li>1</li><li>1</li><li>1</li><li>1</li><li>1</li><li>1</li><li>1</li><li>1</li><li>1</li><li>1</li><li>1</li><li>1</li><li>1</li><li>1</li><li>1</li><li>1</li><li>1</li><li>1</li><li>1</li><li>1</li><li>1</li><li>1</li><li>1</li><li>1</li><li>1</li><li>1</li><li>1</li><li>1</li><li>1</li><li>1</li><li>1</li><li>1</li><li>1</li><li>1</li><li>1</li><li>1</li><li>1</li><li>1</li><li>1</li><li>1</li><li>1</li><li>1</li><li>1</li><li>1</li><li>1</li><li>1</li><li>1</li><li>1</li><li>1</li><li>1</li><li>1</li><li>1</li><li>1</li><li>1</li><li>1</li><li>1</li><li>1</li><li>1</li><li>1</li><li>1</li><li>1</li><li>1</li><li>1</li><li>1</li><li>1</li><li>1</li><li>1</li><li>1</li><li>1</li><li>1</li><li>1</li><li>1</li><li>1</li><li>1</li><li>1</li><li>1</li><li>1</li><li>1</li><li>1</li><li>1</li><li>1</li><li>1</li><li>1</li><li>1</li><li>1</li><li>1</li><li>1</li><li>1</li><li>1</li><li>1</li><li>1</li><li>1</li><li>1</li><li>1</li><li>1</li><li>1</li><li>1</li><li>1</li><li>1</li><li>1</li><li>1</li><li>1</li><li>1</li><li>1</li><li>1</li><li>1</li><li>1</li><li>1</li><li>1</li><li>1</li><li>1</li><li>1</li><li>1</li><li>1</li><li>1</li><li>1</li><li>1</li><li>1</li><li>1</li><li>1</li><li>1</li><li>1</li><li>1</li><li>1</li><li>1</li><li>1</li><li>1</li><li>1</li><li>1</li><li>1</li><li>1</li><li>1</li><li>1</li><li>1</li><li>1</li><li>1</li><li>1</li><li>1</li><li>1</li></ol>\n"
      ],
      "text/latex": [
       "A Time Series:\\\\\\begin{enumerate*}\n",
       "\\item 1\n",
       "\\item 1\n",
       "\\item 1\n",
       "\\item 1\n",
       "\\item 1\n",
       "\\item 1\n",
       "\\item 1\n",
       "\\item 1\n",
       "\\item 1\n",
       "\\item 1\n",
       "\\item 1\n",
       "\\item 1\n",
       "\\item 1\n",
       "\\item 1\n",
       "\\item 1\n",
       "\\item 1\n",
       "\\item 1\n",
       "\\item 1\n",
       "\\item 1\n",
       "\\item 1\n",
       "\\item 1\n",
       "\\item 1\n",
       "\\item 1\n",
       "\\item 1\n",
       "\\item 1\n",
       "\\item 1\n",
       "\\item 1\n",
       "\\item 1\n",
       "\\item 1\n",
       "\\item 1\n",
       "\\item 1\n",
       "\\item 1\n",
       "\\item 1\n",
       "\\item 1\n",
       "\\item 1\n",
       "\\item 1\n",
       "\\item 1\n",
       "\\item 1\n",
       "\\item 1\n",
       "\\item 1\n",
       "\\item 1\n",
       "\\item 1\n",
       "\\item 1\n",
       "\\item 1\n",
       "\\item 1\n",
       "\\item 1\n",
       "\\item 1\n",
       "\\item 1\n",
       "\\item 1\n",
       "\\item 1\n",
       "\\item 1\n",
       "\\item 1\n",
       "\\item 1\n",
       "\\item 1\n",
       "\\item 1\n",
       "\\item 1\n",
       "\\item 1\n",
       "\\item 1\n",
       "\\item 1\n",
       "\\item 1\n",
       "\\item 1\n",
       "\\item 1\n",
       "\\item 1\n",
       "\\item 1\n",
       "\\item 1\n",
       "\\item 1\n",
       "\\item 1\n",
       "\\item 1\n",
       "\\item 1\n",
       "\\item 1\n",
       "\\item 1\n",
       "\\item 1\n",
       "\\item 1\n",
       "\\item 1\n",
       "\\item 1\n",
       "\\item 1\n",
       "\\item 1\n",
       "\\item 1\n",
       "\\item 1\n",
       "\\item 1\n",
       "\\item 1\n",
       "\\item 1\n",
       "\\item 1\n",
       "\\item 1\n",
       "\\item 1\n",
       "\\item 1\n",
       "\\item 1\n",
       "\\item 1\n",
       "\\item 1\n",
       "\\item 1\n",
       "\\item 1\n",
       "\\item 1\n",
       "\\item 1\n",
       "\\item 1\n",
       "\\item 1\n",
       "\\item 1\n",
       "\\item 1\n",
       "\\item 1\n",
       "\\item 1\n",
       "\\item 1\n",
       "\\item 1\n",
       "\\item 1\n",
       "\\item 1\n",
       "\\item 1\n",
       "\\item 1\n",
       "\\item 1\n",
       "\\item 1\n",
       "\\item 1\n",
       "\\item 1\n",
       "\\item 1\n",
       "\\item 1\n",
       "\\item 1\n",
       "\\item 1\n",
       "\\item 1\n",
       "\\item 1\n",
       "\\item 1\n",
       "\\item 1\n",
       "\\item 1\n",
       "\\item 1\n",
       "\\item 1\n",
       "\\item 1\n",
       "\\item 1\n",
       "\\item 1\n",
       "\\item 1\n",
       "\\item 1\n",
       "\\item 1\n",
       "\\item 1\n",
       "\\item 1\n",
       "\\item 1\n",
       "\\item 1\n",
       "\\item 1\n",
       "\\item 1\n",
       "\\item 1\n",
       "\\item 1\n",
       "\\item 1\n",
       "\\item 1\n",
       "\\item 1\n",
       "\\item 1\n",
       "\\item 1\n",
       "\\item 1\n",
       "\\item 1\n",
       "\\item 1\n",
       "\\item 1\n",
       "\\item 1\n",
       "\\end{enumerate*}\n"
      ],
      "text/markdown": [
       "A Time Series:  \n",
       "1. 1\n",
       "2. 1\n",
       "3. 1\n",
       "4. 1\n",
       "5. 1\n",
       "6. 1\n",
       "7. 1\n",
       "8. 1\n",
       "9. 1\n",
       "10. 1\n",
       "11. 1\n",
       "12. 1\n",
       "13. 1\n",
       "14. 1\n",
       "15. 1\n",
       "16. 1\n",
       "17. 1\n",
       "18. 1\n",
       "19. 1\n",
       "20. 1\n",
       "21. 1\n",
       "22. 1\n",
       "23. 1\n",
       "24. 1\n",
       "25. 1\n",
       "26. 1\n",
       "27. 1\n",
       "28. 1\n",
       "29. 1\n",
       "30. 1\n",
       "31. 1\n",
       "32. 1\n",
       "33. 1\n",
       "34. 1\n",
       "35. 1\n",
       "36. 1\n",
       "37. 1\n",
       "38. 1\n",
       "39. 1\n",
       "40. 1\n",
       "41. 1\n",
       "42. 1\n",
       "43. 1\n",
       "44. 1\n",
       "45. 1\n",
       "46. 1\n",
       "47. 1\n",
       "48. 1\n",
       "49. 1\n",
       "50. 1\n",
       "51. 1\n",
       "52. 1\n",
       "53. 1\n",
       "54. 1\n",
       "55. 1\n",
       "56. 1\n",
       "57. 1\n",
       "58. 1\n",
       "59. 1\n",
       "60. 1\n",
       "61. 1\n",
       "62. 1\n",
       "63. 1\n",
       "64. 1\n",
       "65. 1\n",
       "66. 1\n",
       "67. 1\n",
       "68. 1\n",
       "69. 1\n",
       "70. 1\n",
       "71. 1\n",
       "72. 1\n",
       "73. 1\n",
       "74. 1\n",
       "75. 1\n",
       "76. 1\n",
       "77. 1\n",
       "78. 1\n",
       "79. 1\n",
       "80. 1\n",
       "81. 1\n",
       "82. 1\n",
       "83. 1\n",
       "84. 1\n",
       "85. 1\n",
       "86. 1\n",
       "87. 1\n",
       "88. 1\n",
       "89. 1\n",
       "90. 1\n",
       "91. 1\n",
       "92. 1\n",
       "93. 1\n",
       "94. 1\n",
       "95. 1\n",
       "96. 1\n",
       "97. 1\n",
       "98. 1\n",
       "99. 1\n",
       "100. 1\n",
       "101. 1\n",
       "102. 1\n",
       "103. 1\n",
       "104. 1\n",
       "105. 1\n",
       "106. 1\n",
       "107. 1\n",
       "108. 1\n",
       "109. 1\n",
       "110. 1\n",
       "111. 1\n",
       "112. 1\n",
       "113. 1\n",
       "114. 1\n",
       "115. 1\n",
       "116. 1\n",
       "117. 1\n",
       "118. 1\n",
       "119. 1\n",
       "120. 1\n",
       "121. 1\n",
       "122. 1\n",
       "123. 1\n",
       "124. 1\n",
       "125. 1\n",
       "126. 1\n",
       "127. 1\n",
       "128. 1\n",
       "129. 1\n",
       "130. 1\n",
       "131. 1\n",
       "132. 1\n",
       "133. 1\n",
       "134. 1\n",
       "135. 1\n",
       "136. 1\n",
       "137. 1\n",
       "138. 1\n",
       "139. 1\n",
       "140. 1\n",
       "141. 1\n",
       "142. 1\n",
       "143. 1\n",
       "144. 1\n",
       "\n",
       "\n"
      ],
      "text/plain": [
       "A Time Series:\n",
       "  [1] 1 1 1 1 1 1 1 1 1 1 1 1 1 1 1 1 1 1 1 1 1 1 1 1 1 1 1 1 1 1 1 1 1 1 1 1 1\n",
       " [38] 1 1 1 1 1 1 1 1 1 1 1 1 1 1 1 1 1 1 1 1 1 1 1 1 1 1 1 1 1 1 1 1 1 1 1 1 1\n",
       " [75] 1 1 1 1 1 1 1 1 1 1 1 1 1 1 1 1 1 1 1 1 1 1 1 1 1 1 1 1 1 1 1 1 1 1 1 1 1\n",
       "[112] 1 1 1 1 1 1 1 1 1 1 1 1 1 1 1 1 1 1 1 1 1 1 1 1 1 1 1 1 1 1 1 1 1"
      ]
     },
     "metadata": {},
     "output_type": "display_data"
    }
   ],
   "source": [
    "## Exploratory data analysis\n",
    "frequency(air_passengers)\n",
    "cycle(air_passengers)"
   ]
  },
  {
   "cell_type": "markdown",
   "metadata": {},
   "source": [
    "I can convert the time series object so that it is in the correct format using this code."
   ]
  },
  {
   "cell_type": "code",
   "execution_count": 14,
   "metadata": {},
   "outputs": [],
   "source": [
    "# Correct the time series structure\n",
    "# so that it is in a monthly cycle starting at Jan 1949\n",
    "air_passengers <- ts(AirPassengers, start=c(1949, 1), frequency=12)"
   ]
  },
  {
   "cell_type": "code",
   "execution_count": 15,
   "metadata": {},
   "outputs": [
    {
     "data": {
      "text/html": [
       "<table>\n",
       "<caption>A Time Series: 12 × 12</caption>\n",
       "<thead>\n",
       "\t<tr><th></th><th scope=col>Jan</th><th scope=col>Feb</th><th scope=col>Mar</th><th scope=col>Apr</th><th scope=col>May</th><th scope=col>Jun</th><th scope=col>Jul</th><th scope=col>Aug</th><th scope=col>Sep</th><th scope=col>Oct</th><th scope=col>Nov</th><th scope=col>Dec</th></tr>\n",
       "</thead>\n",
       "<tbody>\n",
       "\t<tr><th scope=row>1949</th><td> 1</td><td> 2</td><td> 3</td><td> 4</td><td> 5</td><td> 6</td><td> 7</td><td> 8</td><td> 9</td><td>10</td><td>11</td><td>12</td></tr>\n",
       "\t<tr><th scope=row>1950</th><td> 1</td><td> 2</td><td> 3</td><td> 4</td><td> 5</td><td> 6</td><td> 7</td><td> 8</td><td> 9</td><td>10</td><td>11</td><td>12</td></tr>\n",
       "\t<tr><th scope=row>1951</th><td> 1</td><td> 2</td><td> 3</td><td> 4</td><td> 5</td><td> 6</td><td> 7</td><td> 8</td><td> 9</td><td>10</td><td>11</td><td>12</td></tr>\n",
       "\t<tr><th scope=row>1952</th><td> 1</td><td> 2</td><td> 3</td><td> 4</td><td> 5</td><td> 6</td><td> 7</td><td> 8</td><td> 9</td><td>10</td><td>11</td><td>12</td></tr>\n",
       "\t<tr><th scope=row>1953</th><td> 1</td><td> 2</td><td> 3</td><td> 4</td><td> 5</td><td> 6</td><td> 7</td><td> 8</td><td> 9</td><td>10</td><td>11</td><td>12</td></tr>\n",
       "\t<tr><th scope=row>1954</th><td> 1</td><td> 2</td><td> 3</td><td> 4</td><td> 5</td><td> 6</td><td> 7</td><td> 8</td><td> 9</td><td>10</td><td>11</td><td>12</td></tr>\n",
       "\t<tr><th scope=row>1955</th><td> 1</td><td> 2</td><td> 3</td><td> 4</td><td> 5</td><td> 6</td><td> 7</td><td> 8</td><td> 9</td><td>10</td><td>11</td><td>12</td></tr>\n",
       "\t<tr><th scope=row>1956</th><td> 1</td><td> 2</td><td> 3</td><td> 4</td><td> 5</td><td> 6</td><td> 7</td><td> 8</td><td> 9</td><td>10</td><td>11</td><td>12</td></tr>\n",
       "\t<tr><th scope=row>1957</th><td> 1</td><td> 2</td><td> 3</td><td> 4</td><td> 5</td><td> 6</td><td> 7</td><td> 8</td><td> 9</td><td>10</td><td>11</td><td>12</td></tr>\n",
       "\t<tr><th scope=row>1958</th><td> 1</td><td> 2</td><td> 3</td><td> 4</td><td> 5</td><td> 6</td><td> 7</td><td> 8</td><td> 9</td><td>10</td><td>11</td><td>12</td></tr>\n",
       "\t<tr><th scope=row>1959</th><td> 1</td><td> 2</td><td> 3</td><td> 4</td><td> 5</td><td> 6</td><td> 7</td><td> 8</td><td> 9</td><td>10</td><td>11</td><td>12</td></tr>\n",
       "\t<tr><th scope=row>1960</th><td> 1</td><td> 2</td><td> 3</td><td> 4</td><td> 5</td><td> 6</td><td> 7</td><td> 8</td><td> 9</td><td>10</td><td>11</td><td>12</td></tr>\n",
       "</tbody>\n",
       "</table>\n"
      ],
      "text/latex": [
       "A Time Series: 12 × 12\n",
       "\\begin{tabular}{r|llllllllllll}\n",
       "  & Jan & Feb & Mar & Apr & May & Jun & Jul & Aug & Sep & Oct & Nov & Dec\\\\\n",
       "\\hline\n",
       "\t1949 &  1 &  2 &  3 &  4 &  5 &  6 &  7 &  8 &  9 & 10 & 11 & 12\\\\\n",
       "\t1950 &  1 &  2 &  3 &  4 &  5 &  6 &  7 &  8 &  9 & 10 & 11 & 12\\\\\n",
       "\t1951 &  1 &  2 &  3 &  4 &  5 &  6 &  7 &  8 &  9 & 10 & 11 & 12\\\\\n",
       "\t1952 &  1 &  2 &  3 &  4 &  5 &  6 &  7 &  8 &  9 & 10 & 11 & 12\\\\\n",
       "\t1953 &  1 &  2 &  3 &  4 &  5 &  6 &  7 &  8 &  9 & 10 & 11 & 12\\\\\n",
       "\t1954 &  1 &  2 &  3 &  4 &  5 &  6 &  7 &  8 &  9 & 10 & 11 & 12\\\\\n",
       "\t1955 &  1 &  2 &  3 &  4 &  5 &  6 &  7 &  8 &  9 & 10 & 11 & 12\\\\\n",
       "\t1956 &  1 &  2 &  3 &  4 &  5 &  6 &  7 &  8 &  9 & 10 & 11 & 12\\\\\n",
       "\t1957 &  1 &  2 &  3 &  4 &  5 &  6 &  7 &  8 &  9 & 10 & 11 & 12\\\\\n",
       "\t1958 &  1 &  2 &  3 &  4 &  5 &  6 &  7 &  8 &  9 & 10 & 11 & 12\\\\\n",
       "\t1959 &  1 &  2 &  3 &  4 &  5 &  6 &  7 &  8 &  9 & 10 & 11 & 12\\\\\n",
       "\t1960 &  1 &  2 &  3 &  4 &  5 &  6 &  7 &  8 &  9 & 10 & 11 & 12\\\\\n",
       "\\end{tabular}\n"
      ],
      "text/markdown": [
       "\n",
       "A Time Series: 12 × 12\n",
       "\n",
       "| <!--/--> | Jan | Feb | Mar | Apr | May | Jun | Jul | Aug | Sep | Oct | Nov | Dec |\n",
       "|---|---|---|---|---|---|---|---|---|---|---|---|---|\n",
       "| 1949 |  1 |  2 |  3 |  4 |  5 |  6 |  7 |  8 |  9 | 10 | 11 | 12 |\n",
       "| 1950 |  1 |  2 |  3 |  4 |  5 |  6 |  7 |  8 |  9 | 10 | 11 | 12 |\n",
       "| 1951 |  1 |  2 |  3 |  4 |  5 |  6 |  7 |  8 |  9 | 10 | 11 | 12 |\n",
       "| 1952 |  1 |  2 |  3 |  4 |  5 |  6 |  7 |  8 |  9 | 10 | 11 | 12 |\n",
       "| 1953 |  1 |  2 |  3 |  4 |  5 |  6 |  7 |  8 |  9 | 10 | 11 | 12 |\n",
       "| 1954 |  1 |  2 |  3 |  4 |  5 |  6 |  7 |  8 |  9 | 10 | 11 | 12 |\n",
       "| 1955 |  1 |  2 |  3 |  4 |  5 |  6 |  7 |  8 |  9 | 10 | 11 | 12 |\n",
       "| 1956 |  1 |  2 |  3 |  4 |  5 |  6 |  7 |  8 |  9 | 10 | 11 | 12 |\n",
       "| 1957 |  1 |  2 |  3 |  4 |  5 |  6 |  7 |  8 |  9 | 10 | 11 | 12 |\n",
       "| 1958 |  1 |  2 |  3 |  4 |  5 |  6 |  7 |  8 |  9 | 10 | 11 | 12 |\n",
       "| 1959 |  1 |  2 |  3 |  4 |  5 |  6 |  7 |  8 |  9 | 10 | 11 | 12 |\n",
       "| 1960 |  1 |  2 |  3 |  4 |  5 |  6 |  7 |  8 |  9 | 10 | 11 | 12 |\n",
       "\n"
      ],
      "text/plain": [
       "     Jan Feb Mar Apr May Jun Jul Aug Sep Oct Nov Dec\n",
       "1949  1   2   3   4   5   6   7   8   9  10  11  12 \n",
       "1950  1   2   3   4   5   6   7   8   9  10  11  12 \n",
       "1951  1   2   3   4   5   6   7   8   9  10  11  12 \n",
       "1952  1   2   3   4   5   6   7   8   9  10  11  12 \n",
       "1953  1   2   3   4   5   6   7   8   9  10  11  12 \n",
       "1954  1   2   3   4   5   6   7   8   9  10  11  12 \n",
       "1955  1   2   3   4   5   6   7   8   9  10  11  12 \n",
       "1956  1   2   3   4   5   6   7   8   9  10  11  12 \n",
       "1957  1   2   3   4   5   6   7   8   9  10  11  12 \n",
       "1958  1   2   3   4   5   6   7   8   9  10  11  12 \n",
       "1959  1   2   3   4   5   6   7   8   9  10  11  12 \n",
       "1960  1   2   3   4   5   6   7   8   9  10  11  12 "
      ]
     },
     "metadata": {},
     "output_type": "display_data"
    }
   ],
   "source": [
    "cycle(air_passengers)"
   ]
  },
  {
   "cell_type": "markdown",
   "metadata": {},
   "source": [
    "And checking the time series `frequency()` shows that the time series object is correctly configured."
   ]
  },
  {
   "cell_type": "code",
   "execution_count": 16,
   "metadata": {
    "scrolled": true
   },
   "outputs": [
    {
     "data": {
      "text/html": [
       "12"
      ],
      "text/latex": [
       "12"
      ],
      "text/markdown": [
       "12"
      ],
      "text/plain": [
       "[1] 12"
      ]
     },
     "metadata": {},
     "output_type": "display_data"
    }
   ],
   "source": [
    "frequency(air_passengers)"
   ]
  },
  {
   "cell_type": "markdown",
   "metadata": {},
   "source": [
    "### Check for missing values\n",
    "\n",
    "I can check the time series for missing values using the libraries we've used throughout the module. This can also be applied before the time series object is converted from a data frame."
   ]
  },
  {
   "cell_type": "code",
   "execution_count": 17,
   "metadata": {
    "scrolled": true
   },
   "outputs": [
    {
     "data": {
      "text/html": [
       "0"
      ],
      "text/latex": [
       "0"
      ],
      "text/markdown": [
       "0"
      ],
      "text/plain": [
       "[1] 0"
      ]
     },
     "metadata": {},
     "output_type": "display_data"
    }
   ],
   "source": [
    "# View the records with NA\n",
    "na_records <- air_passengers[!complete.cases(air_passengers)]\n",
    "sum(na_records)"
   ]
  },
  {
   "cell_type": "code",
   "execution_count": 18,
   "metadata": {
    "scrolled": false
   },
   "outputs": [
    {
     "data": {
      "image/png": "[encoded data removed]",
      "text/plain": [
       "Plot with title \"Air Passenger numbers from 1949 to 1961\""
      ]
     },
     "metadata": {
      "image/png": {
       "height": 360,
       "width": 840
      },
      "text/plain": {
       "height": 360,
       "width": 840
      }
     },
     "output_type": "display_data"
    }
   ],
   "source": [
    "# Use for jupyter notebook only\n",
    "options(repr.plot.width=14, repr.plot.height=6)\n",
    "\n",
    "# Show data using a plot() function\n",
    "plot(air_passengers,\n",
    "     xlab=\"Date\", \n",
    "     ylab = \"Passenger numbers (1000's)\",\n",
    "     main=\"Air Passenger numbers from 1949 to 1961\")\n",
    "# Add a straight line shwing the linear relationship\n",
    "# between passenger numbers and time\n",
    "abline(reg=lm(air_passengers~time(air_passengers)))"
   ]
  },
  {
   "cell_type": "markdown",
   "metadata": {},
   "source": [
    "We can examine the yearly trend within the data using the `aggregate()` function. \n",
    "\n",
    "The chart demonstrates that the year on year trend is that passengers have been increasing."
   ]
  },
  {
   "cell_type": "code",
   "execution_count": 19,
   "metadata": {},
   "outputs": [
    {
     "data": {
      "image/png": "[encoded data removed]",
      "text/plain": [
       "plot without title"
      ]
     },
     "metadata": {
      "image/png": {
       "height": 360,
       "width": 840
      },
      "text/plain": {
       "height": 360,
       "width": 840
      }
     },
     "output_type": "display_data"
    }
   ],
   "source": [
    "plot(aggregate(air_passengers,FUN=mean))"
   ]
  },
  {
   "cell_type": "markdown",
   "metadata": {},
   "source": [
    "And we can examine any seasonal effects within the data using a `boxplot()`."
   ]
  },
  {
   "cell_type": "code",
   "execution_count": 20,
   "metadata": {},
   "outputs": [
    {
     "data": {
      "image/png": "[encoded data removed]",
      "text/plain": [
       "Plot with title \"Monthly Air Passengers Boxplot from 1949 to 1961\""
      ]
     },
     "metadata": {
      "image/png": {
       "height": 360,
       "width": 840
      },
      "text/plain": {
       "height": 360,
       "width": 840
      }
     },
     "output_type": "display_data"
    }
   ],
   "source": [
    "boxplot(air_passengers ~ cycle(air_passengers),\n",
    "        xlab=\"Date\", \n",
    "        ylab = \"Passenger Numbers (1000's)\" ,\n",
    "        main =\"Monthly Air Passengers Boxplot from 1949 to 1961\")"
   ]
  },
  {
   "cell_type": "markdown",
   "metadata": {},
   "source": [
    "In the boxplot there are more passengers travelling in months 6 to 9 with higher means and higher variances than the other months. This indicates seasonality with a apparent cycle of 12 months. The rationale for this could be that more people take holidays and fly during the summer months in the USA."
   ]
  },
  {
   "cell_type": "markdown",
   "metadata": {},
   "source": [
    "## Multiplicative or additive model?\n",
    "\n",
    "It’s important to understand what the difference between a multiplicative time series and an additive one before we go any further.\n",
    "\n",
    "There are three components to a time series:<br>\n",
    "\n",
    " - trend how data changes overall<br>\n",
    " - seasonality how things change within a given period e.g. a year, month, week, day<br>\n",
    " - error/residual/irregular activity not explained by the trend or the seasonal value<br>\n",
    "\n",
    "How these three components interact determines the difference between a multiplicative and an additive time series.\n",
    "\n",
    "In **multiplicative time series**, the components multiply together to make the time series. If you have an increasing trend, the amplitude of seasonal activity increases. Everything becomes more exaggerated. This is common when you’re looking at web traffic.\n",
    "\n",
    "In **additive time series**, the components add together to make the time series. If you have an increasing trend, you still see roughly the same size peaks and troughs throughout the time series. This is often seen in indexed time series where the absolute value is growing but changes stay relative."
   ]
  },
  {
   "cell_type": "code",
   "execution_count": 21,
   "metadata": {},
   "outputs": [
    {
     "data": {
      "image/png": "[encoded data removed]",
      "text/plain": [
       "plot without title"
      ]
     },
     "metadata": {
      "image/png": {
       "height": 360,
       "width": 840
      },
      "text/plain": {
       "height": 360,
       "width": 840
      }
     },
     "output_type": "display_data"
    }
   ],
   "source": [
    "seasonal_decomposition <- stl(air_passengers, s.window=\"period\")\n",
    "plot(seasonal_decomposition)"
   ]
  },
  {
   "cell_type": "markdown",
   "metadata": {},
   "source": [
    "The `data` chart shows that the data appears to be multiplicative time series as the passenger numbers increase, it appears so does the pattern of seasonality. \n",
    "\n",
    "In the earlier `plot()` function we could see that there is a trend component within the air passenger data.\n",
    "\n",
    "There appears to be a seasonal component which has a cycle less than 12 months.\n",
    "\n",
    "The variance in the data keeps on increasing with time.\n",
    "\n",
    "These points indicate that the data is multplicative. They also indicate that the data contains both trend and seasonal elements.\n",
    "\n",
    "We can see this from the `boxplot()` and `aggregate` charts (above)."
   ]
  },
  {
   "cell_type": "markdown",
   "metadata": {},
   "source": [
    "## Test the seasonality of the time series\n",
    "\n",
    "A stationary time series has conditions where the mean, variance and covariance are not functions of time. It is one whose properties do not depend on the time at which the series is observed. Thus, time series with **trends**, or with **seasonality**, are **not stationary**. Both the trend and seasonality will affect the value of the time series at different times. \n",
    "\n",
    "A white noise series is stationary — it does not matter when you observe it, it should look much the same at any point in time.\n",
    "\n",
    "Some cases can be confusing — a time series with cyclic behaviour (but with no trend or seasonality) is stationary. The cycles are not of a fixed length, so before we observe the series we cannot be sure where the peaks and troughs of the cycles will be.\n",
    "\n",
    "In general, a stationary time series will have no predictable patterns in the long-term. Time plots will show the series to be roughly horizontal (although some cyclic behaviour is possible), with constant variance.\n",
    "\n",
    "The time series must be stationary before it can be used to fit an arima model. We will use two methods to test the stationarity of the time series object."
   ]
  },
  {
   "cell_type": "markdown",
   "metadata": {},
   "source": [
    "#### Method 1: Test stationarity of the time series (ADF)\n",
    "\n",
    "In order to test the stationarity of the time series, let’s run the **Augmented Dickey-Fuller** Test using the `adf.test()` function from the `tseries` package.\n",
    "\n",
    "First I'll define the hypothesis test:\n",
    "\n",
    "The null hypothesis H<sub>0</sub> : the time series is non stationary<br>\n",
    "The alternative hypothesis H<sub>A</sub> : the time series is stationary\n",
    "\n",
    "The `adf.test()` function uses "
   ]
  },
  {
   "cell_type": "code",
   "execution_count": 22,
   "metadata": {},
   "outputs": [
    {
     "data": {
      "text/html": [
       "5"
      ],
      "text/latex": [
       "5"
      ],
      "text/markdown": [
       "5"
      ],
      "text/plain": [
       "[1] 5"
      ]
     },
     "metadata": {},
     "output_type": "display_data"
    }
   ],
   "source": [
    "library(tseries)\n",
    "suggested_k <- trunc((length(air_passengers)-1)^(1/3))\n",
    "suggested_k"
   ]
  },
  {
   "cell_type": "code",
   "execution_count": 23,
   "metadata": {},
   "outputs": [
    {
     "name": "stderr",
     "output_type": "stream",
     "text": [
      "Warning message in adf.test(air_passengers, alternative = \"stationary\"):\n",
      "\"p-value smaller than printed p-value\"\n"
     ]
    },
    {
     "data": {
      "text/plain": [
       "\n",
       "\tAugmented Dickey-Fuller Test\n",
       "\n",
       "data:  air_passengers\n",
       "Dickey-Fuller = -7.3186, Lag order = 5, p-value = 0.01\n",
       "alternative hypothesis: stationary\n"
      ]
     },
     "metadata": {},
     "output_type": "display_data"
    }
   ],
   "source": [
    "adf.test(air_passengers, alternative = \"stationary\")"
   ]
  },
  {
   "cell_type": "markdown",
   "metadata": {},
   "source": [
    "The value of `k` in the `adf.test()` function represents the lag order to calculate the test statistic. The default k value is computed as `trunc((length(x)-1)^(1/3))`  which corresponds to the suggested upper bound on the rate at which the number of lags, k, should be made to grow with the sample size for the general ARMA(p,q) setup\n",
    "\n",
    "The output for `k` (above) suggests that `k=5` should be used. This essentially is examining the previous 5 months within the `air_passengers` dataset which isnt accounting for the entire year of each cycle of the data. A value of `k=12` is more reasonable.\n",
    "\n",
    "In this code I've modified the value of k to 12 to account for the yearly cycle within the dataset."
   ]
  },
  {
   "cell_type": "markdown",
   "metadata": {},
   "source": [
    "The p-value is less than 5% (p <0.05), and we have strong evidence against the null hypothesis, so we **reject the null hypothesis** and choose the alternative hypothesis that the time series is stationary.\n",
    "\n",
    "But this isn’t correct. We’ve run this test using the **default** lag order of 5. Since this is monthly data, we need to expand the test’s lag visibility to **12** so it can see the seasonality. \n",
    "\n",
    "Now I'll re-run the test with the `k` value set to 12 to account for \n",
    "\n",
    "**Note:** if we had to **difference** the dataset, we would use the `ndiffs()` function including the number of lags to difference it by."
   ]
  },
  {
   "cell_type": "code",
   "execution_count": 24,
   "metadata": {
    "scrolled": true
   },
   "outputs": [
    {
     "data": {
      "text/plain": [
       "\n",
       "\tAugmented Dickey-Fuller Test\n",
       "\n",
       "data:  air_passengers\n",
       "Dickey-Fuller = -1.5094, Lag order = 12, p-value = 0.7807\n",
       "alternative hypothesis: stationary\n"
      ]
     },
     "metadata": {},
     "output_type": "display_data"
    }
   ],
   "source": [
    "adf.test(air_passengers, alternative = \"stationary\", k = 12)"
   ]
  },
  {
   "cell_type": "markdown",
   "metadata": {},
   "source": [
    "The p-value is now greater than 5% (p <0.78), and we have strong evidence to accept the null hypothesis, so we can assume that the time series is not stationary."
   ]
  },
  {
   "cell_type": "markdown",
   "metadata": {},
   "source": [
    "#### Method 2 : Test stationarity of the time series (Autocorrelation)\n",
    "\n",
    "Another way to test for stationarity is to use autocorrelation. We can use the autocorrelation function `acf()` from the base stats R package. \n",
    "\n",
    "This function plots the correlation between a series and its lags ie previous observations with a 95% confidence interval in blue. If the autocorrelation crosses the dashed blue line, it means that specific lag is significantly correlated with the current series.\n",
    "\n",
    "Autocorrelation refers to how correlated a time series is with its past values whereas the ACF is the plot used to see the correlation between the points, up to and including the lag unit. In ACF, the correlation coefficient is in the x-axis whereas the number of lags is shown in the y-axis."
   ]
  },
  {
   "cell_type": "code",
   "execution_count": 25,
   "metadata": {},
   "outputs": [
    {
     "data": {
      "image/png": "[encoded data removed]",
      "text/plain": [
       "Plot with title \"Series  air_passengers\""
      ]
     },
     "metadata": {
      "image/png": {
       "height": 360,
       "width": 840
      },
      "text/plain": {
       "height": 360,
       "width": 840
      }
     },
     "output_type": "display_data"
    }
   ],
   "source": [
    "library(forecast)\n",
    "acf(air_passengers)"
   ]
  },
  {
   "cell_type": "code",
   "execution_count": 26,
   "metadata": {},
   "outputs": [
    {
     "data": {
      "image/png": "[encoded data removed]",
      "text/plain": [
       "Plot with title \"Series  air_passengers\""
      ]
     },
     "metadata": {
      "image/png": {
       "height": 360,
       "width": 840
      },
      "text/plain": {
       "height": 360,
       "width": 840
      }
     },
     "output_type": "display_data"
    }
   ],
   "source": [
    "pacf(air_passengers)"
   ]
  },
  {
   "cell_type": "markdown",
   "metadata": {},
   "source": [
    "From the ACF plot we can see that there's maximum peaks (lags) in the chart at the first and 12th month. This therefore indicates a positive relationship within the 12 month cycle. This indicates there's seasonality within the time series and it needs to be removed."
   ]
  },
  {
   "cell_type": "markdown",
   "metadata": {},
   "source": [
    "## Differencing\n",
    "\n",
    "Transformations such as **logarithms** can help to stabilise the variance of a time series. Differencing can help stabilise the **mean** of a time series by removing changes in the level of a time series, and therefore eliminating (or reducing) trend and seasonality.\n",
    "\n",
    "### Seasonal differences\n",
    "A seasonal difference is the difference between an observation and the previous observation from the same season. These are also called **lag-m differences**, as we subtract the observation after a lag of m periods.\n",
    "\n",
    "To distinguish seasonal differences from ordinary differences, we sometimes refer to ordinary differences as **first differences**, meaning differences at lag 1.\n",
    "\n",
    "When both seasonal and first differences are applied, it makes no difference which is done first as the result will be the same. However, if the data have a strong seasonal pattern, I recommend that seasonal differencing be done first, because the resulting series will sometimes be stationary and there will be no need for a further first difference. If first differencing is done first, there will still be seasonality present.\n",
    "\n",
    "It is important that if differencing is used, the differences are interpretable. First differences are the change between one observation and the next. Seasonal differences are the change between one year to the next. Other lags are unlikely to make much interpretable sense and should be avoided.\n",
    "\n",
    "As well as looking at the time plot of the data, the **ACF plot** is also useful for identifying non-stationary time series. \n",
    "\n",
    "**Note:** For a stationary time series, the ACF will drop to zero relatively quickly, while the ACF of non-stationary data decreases slowly. Also, for non-stationary data, the value of r<sub>1</sub> is often large and positive.\n",
    "\n",
    "The ACF plot indicates the data is non-stationary.\n",
    "\n",
    "We can use the `nsdiffs()` to examine whether seasonal differencing is required, and the `ndiffs()` function to indicate the number of differences that need to be carried out on the data. \n",
    "\n",
    "See https://medium.com/wwblog/stationarity-testing-using-the-augmented-dickey-fuller-test-8cf7f34f4844 "
   ]
  },
  {
   "cell_type": "code",
   "execution_count": 27,
   "metadata": {},
   "outputs": [
    {
     "data": {
      "text/html": [
       "1"
      ],
      "text/latex": [
       "1"
      ],
      "text/markdown": [
       "1"
      ],
      "text/plain": [
       "[1] 1"
      ]
     },
     "metadata": {},
     "output_type": "display_data"
    }
   ],
   "source": [
    "library(forecast)\n",
    "nsdiffs(air_passengers)"
   ]
  },
  {
   "cell_type": "markdown",
   "metadata": {},
   "source": [
    "No seasonal differences are suggested if FS<0.64, otherwise one seasonal difference is suggested.\n",
    "\n",
    "In this example, the output suggests that 1 `log` is required to make the `air_passengers` data stationary. "
   ]
  },
  {
   "cell_type": "code",
   "execution_count": 28,
   "metadata": {},
   "outputs": [],
   "source": [
    "log_air_passengers <- log(air_passengers)"
   ]
  },
  {
   "cell_type": "markdown",
   "metadata": {},
   "source": [
    "This should now make the data additive."
   ]
  },
  {
   "cell_type": "code",
   "execution_count": 29,
   "metadata": {},
   "outputs": [
    {
     "data": {
      "image/png": "[encoded data removed]",
      "text/plain": [
       "Plot with title \"Differenced Air Passengers dataset\""
      ]
     },
     "metadata": {
      "image/png": {
       "height": 600,
       "width": 960
      },
      "text/plain": {
       "height": 600,
       "width": 960
      }
     },
     "output_type": "display_data"
    }
   ],
   "source": [
    "# Used for Jupyter notebook only\n",
    "options(repr.plot.width=16, repr.plot.height=10)\n",
    "# Show both side-by-side for comparison\n",
    "opar <- par(no.readonly=TRUE)\n",
    "par(mfrow=c(1,2))\n",
    "plot(air_passengers, main = \"Original Air Passengers dataset\")\n",
    "plot(log_air_passengers, main = \"Differenced Air Passengers dataset\")\n",
    "par(opar)"
   ]
  },
  {
   "cell_type": "markdown",
   "metadata": {},
   "source": [
    "There's unequal variances (sesonality) in the data. We can remove it using the `diff()` of the new additive data."
   ]
  },
  {
   "cell_type": "code",
   "execution_count": 30,
   "metadata": {},
   "outputs": [
    {
     "data": {
      "text/html": [
       "1"
      ],
      "text/latex": [
       "1"
      ],
      "text/markdown": [
       "1"
      ],
      "text/plain": [
       "[1] 1"
      ]
     },
     "metadata": {},
     "output_type": "display_data"
    }
   ],
   "source": [
    "nsdiffs(log_air_passengers)"
   ]
  },
  {
   "cell_type": "code",
   "execution_count": 31,
   "metadata": {},
   "outputs": [],
   "source": [
    "diff_air_passengers <- diff(log_air_passengers, lag = 12, differences = 2)"
   ]
  },
  {
   "cell_type": "code",
   "execution_count": 32,
   "metadata": {},
   "outputs": [],
   "source": [
    "# Note these are the same\n",
    "# diff(x, differences = 2)\n",
    "# and diff(diff(x))\n",
    "diff_air_passengers <- diff(log_air_passengers, lag = 12, differences = 2)"
   ]
  },
  {
   "cell_type": "markdown",
   "metadata": {},
   "source": [
    "Lets see what that has done to the data."
   ]
  },
  {
   "cell_type": "code",
   "execution_count": 33,
   "metadata": {
    "scrolled": false
   },
   "outputs": [
    {
     "data": {
      "image/png": "[encoded data removed]",
      "text/plain": [
       "Plot with title \"Differenced Air Passengers dataset\""
      ]
     },
     "metadata": {
      "image/png": {
       "height": 600,
       "width": 960
      },
      "text/plain": {
       "height": 600,
       "width": 960
      }
     },
     "output_type": "display_data"
    }
   ],
   "source": [
    "# Used for Jupyter notebook only\n",
    "options(repr.plot.width=16, repr.plot.height=10)\n",
    "# Show both side-by-side for comparison\n",
    "opar <- par(no.readonly=TRUE)\n",
    "par(mfrow=c(1,2))\n",
    "plot(air_passengers, main = \"Original Air Passengers dataset\")\n",
    "plot(diff_air_passengers, main = \"Differenced Air Passengers dataset\")\n",
    "par(opar)"
   ]
  },
  {
   "cell_type": "markdown",
   "metadata": {},
   "source": [
    "We can check whether the `diff()` function as now removed the stationarity using the `nsdiffs()` function again."
   ]
  },
  {
   "cell_type": "code",
   "execution_count": 34,
   "metadata": {},
   "outputs": [
    {
     "data": {
      "text/html": [
       "0"
      ],
      "text/latex": [
       "0"
      ],
      "text/markdown": [
       "0"
      ],
      "text/plain": [
       "[1] 0"
      ]
     },
     "metadata": {},
     "output_type": "display_data"
    }
   ],
   "source": [
    "nsdiffs(diff_air_passengers)"
   ]
  },
  {
   "cell_type": "markdown",
   "metadata": {},
   "source": [
    "We need to examine whether there's a trend in the data.\n",
    "\n",
    "Recall the hypothesis tests:\n",
    "\n",
    "The null hypothesis H0 : the time series is non stationary<br>\n",
    "The alternative hypothesis HA : the time series is stationary<br>"
   ]
  },
  {
   "cell_type": "code",
   "execution_count": 35,
   "metadata": {},
   "outputs": [
    {
     "data": {
      "text/plain": [
       "\n",
       "\tAugmented Dickey-Fuller Test\n",
       "\n",
       "data:  diff_air_passengers\n",
       "Dickey-Fuller = -3.5215, Lag order = 4, p-value = 0.04333\n",
       "alternative hypothesis: stationary\n"
      ]
     },
     "metadata": {},
     "output_type": "display_data"
    }
   ],
   "source": [
    "adf.test(diff_air_passengers, alternative = \"stationary\")"
   ]
  },
  {
   "cell_type": "markdown",
   "metadata": {},
   "source": [
    "And rerunning the `adf.test()` shows the p-value is in agreement with these findings (p < 0.05). This shows that we have strong evidence against the null hypothesis, so we reject the null hypothesis and choose the alternative hypothesis that the time series is stationary."
   ]
  },
  {
   "cell_type": "markdown",
   "metadata": {},
   "source": [
    "The `acf()` plot suggests this too."
   ]
  },
  {
   "cell_type": "code",
   "execution_count": 36,
   "metadata": {},
   "outputs": [
    {
     "data": {
      "image/png": "[encoded data removed]",
      "text/plain": [
       "Plot with title \"Series  diff_air_passengers\""
      ]
     },
     "metadata": {
      "image/png": {
       "height": 600,
       "width": 960
      },
      "text/plain": {
       "height": 600,
       "width": 960
      }
     },
     "output_type": "display_data"
    }
   ],
   "source": [
    "acf(diff_air_passengers)"
   ]
  },
  {
   "cell_type": "code",
   "execution_count": 37,
   "metadata": {},
   "outputs": [
    {
     "data": {
      "image/png": "[encoded data removed]",
      "text/plain": [
       "Plot with title \"Series  diff_air_passengers\""
      ]
     },
     "metadata": {
      "image/png": {
       "height": 600,
       "width": 960
      },
      "text/plain": {
       "height": 600,
       "width": 960
      }
     },
     "output_type": "display_data"
    }
   ],
   "source": [
    "pacf(diff_air_passengers)"
   ]
  },
  {
   "cell_type": "markdown",
   "metadata": {},
   "source": [
    "## Decompose( ) and STL(): functions\n",
    "\n",
    "We can use a package to extract all the data using th `decompose()` and `stl()` functions in R."
   ]
  },
  {
   "cell_type": "code",
   "execution_count": 38,
   "metadata": {},
   "outputs": [
    {
     "data": {
      "image/png": "[encoded data removed]",
      "text/plain": [
       "plot without title"
      ]
     },
     "metadata": {
      "image/png": {
       "height": 600,
       "width": 960
      },
      "text/plain": {
       "height": 600,
       "width": 960
      }
     },
     "output_type": "display_data"
    }
   ],
   "source": [
    "seasonal_decomposition <- stl(air_passengers, s.window=\"period\")\n",
    "plot(seasonal_decomposition)"
   ]
  },
  {
   "cell_type": "markdown",
   "metadata": {},
   "source": [
    "## ARIMA models\n",
    "\n",
    "Normally in an ARIMA model, we make use of either the AR term or the MA term. We use both of these terms only on rare occasions. We use the **ACF** plot to decide which one of these terms we would use for our time series.\n",
    "\n",
    "If there is a Positive autocorrelation in the ACF plot at lag 1 then we use the AR model. If there is a Negative autocorrelation at lag 1 then we use the MA model.\n",
    "\n",
    "In the `air passengers` dataset there is a negative correlation at lag 1, so we'll use the AR model. **Probably MA(1)**.\n",
    "\n",
    "After plotting the ACF plot we move to Partial Autocorrelation Function plots (PACF). A partial autocorrelation is a summary of the relationship between an observation in a time series with observations at prior time steps with the relationships of intervening observations removed.\n",
    "\n",
    "If the PACF plot drops off at lag n, then use an AR(n) model and if the drop in PACF is more gradual then we use the MA term.\n",
    "\n",
    "The PACF drops off at lag 0 - so we use the AR(1) model.\n",
    "\n",
    "The value of **d** should be **1** as we've had to implement a lag of **1** to the data.\n",
    "\n",
    "Therefore it seems that the best model should be either ARIMA(1,1,1).\n",
    "\n",
    "We can evaluate the best model by evaluating the model with least AIC and BIC values.\n",
    "\n",
    "## Seasonal ARIMA\n",
    "\n",
    "As the name suggests, this model is used when the time series exhibits seasonality. This model is similar to ARIMA models, we just have to add in a few parameters to account for the seasons\n",
    "\n",
    "We write SARIMA as\n",
    "\n",
    "ARIMA(p,d,q)(P, D, Q)m,\n",
    "\n",
    "    p — the number of autoregressive\n",
    "    d — degree of differencing\n",
    "    q — the number of moving average terms\n",
    "    m — refers to the number of periods in each season\n",
    "    (P, D, Q )— represents the (p,d,q) for the seasonal part of the time series\n",
    "\n",
    "Seasonal differencing takes into account the seasons and differences the current value and it’s value in the previous season eg: Difference for the month may would be value in May 2018 — value in may 2017.\n",
    "\n",
    "    In Purely seasonal AR model, ACF decays slowly while PACF cuts off to zero\n",
    "    AR models are used when seasonal auto-correlation is positive\n",
    "    In Purely seasonal MA model, ACF cuts off to zero and vice versa\n",
    "    MA models are used when seasonal auto-correlation is negative\n",
    "    \n",
    "The seasonal part of the model consists of terms that are similar to the non-seasonal components of the model, but involve backshifts of the seasonal period. \n",
    "\n",
    "The seasonal part of an AR or MA model will be seen in the seasonal lags of the PACF and ACF.<br> \n",
    "\n",
    "For example, an **ARIMA(0,0,0)(0,0,1)12** model will show:\n",
    "\n",
    " - a spike at lag 12 in the ACF but no other significant spikes;\n",
    " - exponential decay in the seasonal lags of the PACF (i.e., at lags 12, 24, 36, …).\n",
    "\n",
    "Similarly, an **ARIMA(0,0,0)(1,0,0)12** model will show:\n",
    "\n",
    " - exponential decay in the seasonal lags of the ACF;\n",
    " - a single significant spike at lag 12 in the PACF.\n",
    "\n",
    "In considering the appropriate seasonal orders for a seasonal ARIMA model, restrict attention to the seasonal lags. "
   ]
  },
  {
   "cell_type": "markdown",
   "metadata": {},
   "source": [
    "## Fitting an ARIMA model"
   ]
  },
  {
   "cell_type": "markdown",
   "metadata": {},
   "source": [
    "Lets build a seasonal ARIMA model."
   ]
  },
  {
   "cell_type": "code",
   "execution_count": 39,
   "metadata": {},
   "outputs": [
    {
     "data": {
      "text/plain": [
       "\n",
       "Call:\n",
       "arima(x = air_passengers, order = c(1, 1, 1), seasonal = list(order = c(1, 1, \n",
       "    1), period = 12))\n",
       "\n",
       "Coefficients:\n",
       "          ar1      ma1     sar1    sma1\n",
       "      -0.1387  -0.2027  -0.9228  0.8329\n",
       "s.e.   0.5860   0.6123   0.2386  0.3519\n",
       "\n",
       "sigma^2 estimated as 130.8:  log likelihood = -506.15,  aic = 1022.3"
      ]
     },
     "metadata": {},
     "output_type": "display_data"
    }
   ],
   "source": [
    "fit <- arima(air_passengers, \n",
    "             c(1,1,1), \n",
    "             seasonal = list(order = c(1,1,1), \n",
    "                             period = 12))\n",
    "fit"
   ]
  },
  {
   "cell_type": "markdown",
   "metadata": {},
   "source": [
    "## Generate forecasts\n",
    "\n",
    "Finally we can plot a forecast of the time series using the forecast function, again from the forecast R package, with a 95% confidence interval where h is the forecast horizon periods in months."
   ]
  },
  {
   "cell_type": "code",
   "execution_count": 40,
   "metadata": {},
   "outputs": [
    {
     "data": {
      "text/html": [
       "<dl>\n",
       "\t<dt>$pred</dt>\n",
       "\t\t<dd><table>\n",
       "<caption>A Time Series: 3 × 12</caption>\n",
       "<thead>\n",
       "\t<tr><th></th><th scope=col>Jan</th><th scope=col>Feb</th><th scope=col>Mar</th><th scope=col>Apr</th><th scope=col>May</th><th scope=col>Jun</th><th scope=col>Jul</th><th scope=col>Aug</th><th scope=col>Sep</th><th scope=col>Oct</th><th scope=col>Nov</th><th scope=col>Dec</th></tr>\n",
       "</thead>\n",
       "<tbody>\n",
       "\t<tr><th scope=row>1961</th><td>449.2223</td><td>424.3072</td><td>459.0023</td><td>497.7220</td><td>509.7462</td><td>568.1989</td><td>655.7364</td><td>641.1725</td><td>546.3741</td><td>496.7500</td><td>427.6964</td><td>471.2915</td></tr>\n",
       "\t<tr><th scope=row>1962</th><td>484.9196</td><td>458.8334</td><td>487.3741</td><td>529.1175</td><td>540.1970</td><td>602.8458</td><td>689.8873</td><td>673.9982</td><td>576.2455</td><td>529.0428</td><td>458.1931</td><td>500.3163</td></tr>\n",
       "\t<tr><th scope=row>1963</th><td>517.2610</td><td>492.2555</td><td>526.4753</td><td>565.4285</td><td>577.3797</td><td>636.1565</td><td>723.6557</td><td>708.9894</td><td>613.9629</td><td>564.5258</td><td>495.3334</td><td>538.8149</td></tr>\n",
       "</tbody>\n",
       "</table>\n",
       "</dd>\n",
       "\t<dt>$se</dt>\n",
       "\t\t<dd><table>\n",
       "<caption>A Time Series: 3 × 12</caption>\n",
       "<thead>\n",
       "\t<tr><th></th><th scope=col>Jan</th><th scope=col>Feb</th><th scope=col>Mar</th><th scope=col>Apr</th><th scope=col>May</th><th scope=col>Jun</th><th scope=col>Jul</th><th scope=col>Aug</th><th scope=col>Sep</th><th scope=col>Oct</th><th scope=col>Nov</th><th scope=col>Dec</th></tr>\n",
       "</thead>\n",
       "<tbody>\n",
       "\t<tr><th scope=row>1961</th><td> 11.44533</td><td> 13.70365</td><td> 15.90753</td><td> 17.80729</td><td> 19.52733</td><td> 21.10712</td><td> 22.57670</td><td> 23.95629</td><td> 25.26065</td><td> 26.50089</td><td> 27.68562</td><td> 28.82174</td></tr>\n",
       "\t<tr><th scope=row>1962</th><td> 34.20466</td><td> 37.29548</td><td> 40.33419</td><td> 43.13519</td><td> 45.76825</td><td> 48.25744</td><td> 50.62444</td><td> 52.88560</td><td> 55.05397</td><td> 57.14011</td><td> 59.15273</td><td> 61.09909</td></tr>\n",
       "\t<tr><th scope=row>1963</th><td> 66.66411</td><td> 70.44960</td><td> 74.20919</td><td> 77.76493</td><td> 81.16801</td><td> 84.43365</td><td> 87.57766</td><td> 90.61263</td><td> 93.54920</td><td> 96.39635</td><td> 99.16178</td><td>101.85218</td></tr>\n",
       "</tbody>\n",
       "</table>\n",
       "</dd>\n",
       "</dl>\n"
      ],
      "text/latex": [
       "\\begin{description}\n",
       "\\item[\\$pred] A Time Series: 3 × 12\n",
       "\\begin{tabular}{r|llllllllllll}\n",
       "  & Jan & Feb & Mar & Apr & May & Jun & Jul & Aug & Sep & Oct & Nov & Dec\\\\\n",
       "\\hline\n",
       "\t1961 & 449.2223 & 424.3072 & 459.0023 & 497.7220 & 509.7462 & 568.1989 & 655.7364 & 641.1725 & 546.3741 & 496.7500 & 427.6964 & 471.2915\\\\\n",
       "\t1962 & 484.9196 & 458.8334 & 487.3741 & 529.1175 & 540.1970 & 602.8458 & 689.8873 & 673.9982 & 576.2455 & 529.0428 & 458.1931 & 500.3163\\\\\n",
       "\t1963 & 517.2610 & 492.2555 & 526.4753 & 565.4285 & 577.3797 & 636.1565 & 723.6557 & 708.9894 & 613.9629 & 564.5258 & 495.3334 & 538.8149\\\\\n",
       "\\end{tabular}\n",
       "\n",
       "\\item[\\$se] A Time Series: 3 × 12\n",
       "\\begin{tabular}{r|llllllllllll}\n",
       "  & Jan & Feb & Mar & Apr & May & Jun & Jul & Aug & Sep & Oct & Nov & Dec\\\\\n",
       "\\hline\n",
       "\t1961 &  11.44533 &  13.70365 &  15.90753 &  17.80729 &  19.52733 &  21.10712 &  22.57670 &  23.95629 &  25.26065 &  26.50089 &  27.68562 &  28.82174\\\\\n",
       "\t1962 &  34.20466 &  37.29548 &  40.33419 &  43.13519 &  45.76825 &  48.25744 &  50.62444 &  52.88560 &  55.05397 &  57.14011 &  59.15273 &  61.09909\\\\\n",
       "\t1963 &  66.66411 &  70.44960 &  74.20919 &  77.76493 &  81.16801 &  84.43365 &  87.57766 &  90.61263 &  93.54920 &  96.39635 &  99.16178 & 101.85218\\\\\n",
       "\\end{tabular}\n",
       "\n",
       "\\end{description}\n"
      ],
      "text/markdown": [
       "$pred\n",
       ":   \n",
       "A Time Series: 3 × 12\n",
       "\n",
       "| <!--/--> | Jan | Feb | Mar | Apr | May | Jun | Jul | Aug | Sep | Oct | Nov | Dec |\n",
       "|---|---|---|---|---|---|---|---|---|---|---|---|---|\n",
       "| 1961 | 449.2223 | 424.3072 | 459.0023 | 497.7220 | 509.7462 | 568.1989 | 655.7364 | 641.1725 | 546.3741 | 496.7500 | 427.6964 | 471.2915 |\n",
       "| 1962 | 484.9196 | 458.8334 | 487.3741 | 529.1175 | 540.1970 | 602.8458 | 689.8873 | 673.9982 | 576.2455 | 529.0428 | 458.1931 | 500.3163 |\n",
       "| 1963 | 517.2610 | 492.2555 | 526.4753 | 565.4285 | 577.3797 | 636.1565 | 723.6557 | 708.9894 | 613.9629 | 564.5258 | 495.3334 | 538.8149 |\n",
       "\n",
       "\n",
       "$se\n",
       ":   \n",
       "A Time Series: 3 × 12\n",
       "\n",
       "| <!--/--> | Jan | Feb | Mar | Apr | May | Jun | Jul | Aug | Sep | Oct | Nov | Dec |\n",
       "|---|---|---|---|---|---|---|---|---|---|---|---|---|\n",
       "| 1961 |  11.44533 |  13.70365 |  15.90753 |  17.80729 |  19.52733 |  21.10712 |  22.57670 |  23.95629 |  25.26065 |  26.50089 |  27.68562 |  28.82174 |\n",
       "| 1962 |  34.20466 |  37.29548 |  40.33419 |  43.13519 |  45.76825 |  48.25744 |  50.62444 |  52.88560 |  55.05397 |  57.14011 |  59.15273 |  61.09909 |\n",
       "| 1963 |  66.66411 |  70.44960 |  74.20919 |  77.76493 |  81.16801 |  84.43365 |  87.57766 |  90.61263 |  93.54920 |  96.39635 |  99.16178 | 101.85218 |\n",
       "\n",
       "\n",
       "\n",
       "\n"
      ],
      "text/plain": [
       "$pred\n",
       "          Jan      Feb      Mar      Apr      May      Jun      Jul      Aug\n",
       "1961 449.2223 424.3072 459.0023 497.7220 509.7462 568.1989 655.7364 641.1725\n",
       "1962 484.9196 458.8334 487.3741 529.1175 540.1970 602.8458 689.8873 673.9982\n",
       "1963 517.2610 492.2555 526.4753 565.4285 577.3797 636.1565 723.6557 708.9894\n",
       "          Sep      Oct      Nov      Dec\n",
       "1961 546.3741 496.7500 427.6964 471.2915\n",
       "1962 576.2455 529.0428 458.1931 500.3163\n",
       "1963 613.9629 564.5258 495.3334 538.8149\n",
       "\n",
       "$se\n",
       "           Jan       Feb       Mar       Apr       May       Jun       Jul\n",
       "1961  11.44533  13.70365  15.90753  17.80729  19.52733  21.10712  22.57670\n",
       "1962  34.20466  37.29548  40.33419  43.13519  45.76825  48.25744  50.62444\n",
       "1963  66.66411  70.44960  74.20919  77.76493  81.16801  84.43365  87.57766\n",
       "           Aug       Sep       Oct       Nov       Dec\n",
       "1961  23.95629  25.26065  26.50089  27.68562  28.82174\n",
       "1962  52.88560  55.05397  57.14011  59.15273  61.09909\n",
       "1963  90.61263  93.54920  96.39635  99.16178 101.85218\n"
      ]
     },
     "metadata": {},
     "output_type": "display_data"
    }
   ],
   "source": [
    "prediction <- predict(fit, n.ahead = 3 * 12)\n",
    "prediction"
   ]
  },
  {
   "cell_type": "code",
   "execution_count": 41,
   "metadata": {
    "scrolled": false
   },
   "outputs": [
    {
     "data": {
      "text/plain": [
       "         Point Forecast    Lo 95    Hi 95\n",
       "Jan 1961       449.2223 426.7899 471.6547\n",
       "Feb 1961       424.3072 397.4485 451.1658\n",
       "Mar 1961       459.0023 427.8241 490.1805\n",
       "Apr 1961       497.7220 462.8204 532.6237\n",
       "May 1961       509.7462 471.4733 548.0190\n",
       "Jun 1961       568.1989 526.8297 609.5681\n",
       "Jul 1961       655.7364 611.4868 699.9859\n",
       "Aug 1961       641.1725 594.2190 688.1259\n",
       "Sep 1961       546.3741 496.8642 595.8841\n",
       "Oct 1961       496.7500 444.8092 548.6908\n",
       "Nov 1961       427.6964 373.4335 481.9592\n",
       "Dec 1961       471.2915 414.8019 527.7811\n",
       "Jan 1962       484.9196 417.8797 551.9595\n",
       "Feb 1962       458.8334 385.7356 531.9312\n",
       "Mar 1962       487.3741 408.3205 566.4277\n",
       "Apr 1962       529.1175 444.5741 613.6609\n",
       "May 1962       540.1970 450.4929 629.9012\n",
       "Jun 1962       602.8458 508.2629 697.4286\n",
       "Jul 1962       689.8873 590.6652 789.1094\n",
       "Aug 1962       673.9982 570.3443 777.6521\n",
       "Sep 1962       576.2455 468.3417 684.1493\n",
       "Oct 1962       529.0428 417.0502 641.0354\n",
       "Nov 1962       458.1931 342.2559 574.1303\n",
       "Dec 1962       500.3163 380.5643 620.0683\n",
       "Jan 1963       517.2610 386.6018 647.9203\n",
       "Feb 1963       492.2555 354.1768 630.3341\n",
       "Mar 1963       526.4753 381.0279 671.9226\n",
       "Apr 1963       565.4285 413.0121 717.8450\n",
       "May 1963       577.3797 418.2933 736.4661\n",
       "Jun 1963       636.1565 470.6696 801.6435\n",
       "Jul 1963       723.6557 552.0066 895.3047\n",
       "Aug 1963       708.9894 531.3919 886.5869\n",
       "Sep 1963       613.9629 430.6099 797.3160\n",
       "Oct 1963       564.5258 375.5924 753.4592\n",
       "Nov 1963       495.3334 300.9799 689.6870\n",
       "Dec 1963       538.8149 339.1883 738.4415"
      ]
     },
     "metadata": {},
     "output_type": "display_data"
    }
   ],
   "source": [
    "forecast_air_passengers <- forecast(fit, level = c(95), h = 36)\n",
    "forecast_air_passengers"
   ]
  },
  {
   "cell_type": "code",
   "execution_count": 42,
   "metadata": {
    "scrolled": false
   },
   "outputs": [
    {
     "data": {
      "image/png": "[encoded data removed]",
      "text/plain": [
       "plot without title"
      ]
     },
     "metadata": {
      "image/png": {
       "height": 600,
       "width": 960
      },
      "text/plain": {
       "height": 600,
       "width": 960
      }
     },
     "output_type": "display_data"
    }
   ],
   "source": [
    "autoplot(forecast_air_passengers)"
   ]
  },
  {
   "cell_type": "code",
   "execution_count": 43,
   "metadata": {},
   "outputs": [
    {
     "data": {
      "image/png": "[encoded data removed]",
      "text/plain": [
       "Plot with title \"Forecasts from ARIMA(1,1,1)(1,1,1)[12]\""
      ]
     },
     "metadata": {
      "image/png": {
       "height": 600,
       "width": 960
      },
      "text/plain": {
       "height": 600,
       "width": 960
      }
     },
     "output_type": "display_data"
    }
   ],
   "source": [
    "plot(forecast(forecast_air_passengers, 3), xlab = \"Year\", ylab = \"Annual passengers\")"
   ]
  },
  {
   "cell_type": "code",
   "execution_count": 44,
   "metadata": {},
   "outputs": [
    {
     "data": {
      "text/plain": [
       "Series: air_passengers \n",
       "ARIMA(2,1,1)(0,1,0)[12] \n",
       "\n",
       "Coefficients:\n",
       "         ar1     ar2      ma1\n",
       "      0.5960  0.2143  -0.9819\n",
       "s.e.  0.0888  0.0880   0.0292\n",
       "\n",
       "sigma^2 estimated as 132.3:  log likelihood=-504.92\n",
       "AIC=1017.85   AICc=1018.17   BIC=1029.35"
      ]
     },
     "metadata": {},
     "output_type": "display_data"
    }
   ],
   "source": [
    "auto_arima_model <- auto.arima(air_passengers)\n",
    "auto_arima_model"
   ]
  },
  {
   "cell_type": "code",
   "execution_count": 45,
   "metadata": {},
   "outputs": [
    {
     "data": {
      "text/html": [
       "<table>\n",
       "<caption>A matrix: 1 × 7 of type dbl</caption>\n",
       "<thead>\n",
       "\t<tr><th></th><th scope=col>ME</th><th scope=col>RMSE</th><th scope=col>MAE</th><th scope=col>MPE</th><th scope=col>MAPE</th><th scope=col>MASE</th><th scope=col>ACF1</th></tr>\n",
       "</thead>\n",
       "<tbody>\n",
       "\t<tr><th scope=row>Training set</th><td>1.3423</td><td>10.84619</td><td>7.86754</td><td>0.420698</td><td>2.800458</td><td>0.245628</td><td>-0.00124847</td></tr>\n",
       "</tbody>\n",
       "</table>\n"
      ],
      "text/latex": [
       "A matrix: 1 × 7 of type dbl\n",
       "\\begin{tabular}{r|lllllll}\n",
       "  & ME & RMSE & MAE & MPE & MAPE & MASE & ACF1\\\\\n",
       "\\hline\n",
       "\tTraining set & 1.3423 & 10.84619 & 7.86754 & 0.420698 & 2.800458 & 0.245628 & -0.00124847\\\\\n",
       "\\end{tabular}\n"
      ],
      "text/markdown": [
       "\n",
       "A matrix: 1 × 7 of type dbl\n",
       "\n",
       "| <!--/--> | ME | RMSE | MAE | MPE | MAPE | MASE | ACF1 |\n",
       "|---|---|---|---|---|---|---|---|\n",
       "| Training set | 1.3423 | 10.84619 | 7.86754 | 0.420698 | 2.800458 | 0.245628 | -0.00124847 |\n",
       "\n"
      ],
      "text/plain": [
       "             ME     RMSE     MAE     MPE      MAPE     MASE     ACF1       \n",
       "Training set 1.3423 10.84619 7.86754 0.420698 2.800458 0.245628 -0.00124847"
      ]
     },
     "metadata": {},
     "output_type": "display_data"
    }
   ],
   "source": [
    "accuracy(auto_arima_model)"
   ]
  },
  {
   "cell_type": "code",
   "execution_count": 46,
   "metadata": {
    "scrolled": true
   },
   "outputs": [
    {
     "data": {
      "text/html": [
       "<table>\n",
       "<caption>A matrix: 1 × 7 of type dbl</caption>\n",
       "<thead>\n",
       "\t<tr><th></th><th scope=col>ME</th><th scope=col>RMSE</th><th scope=col>MAE</th><th scope=col>MPE</th><th scope=col>MAPE</th><th scope=col>MASE</th><th scope=col>ACF1</th></tr>\n",
       "</thead>\n",
       "<tbody>\n",
       "\t<tr><th scope=row>Training set</th><td>0.3152762</td><td>10.91023</td><td>8.003276</td><td>0.04379133</td><td>2.848878</td><td>0.3094831</td><td>0.0004688507</td></tr>\n",
       "</tbody>\n",
       "</table>\n"
      ],
      "text/latex": [
       "A matrix: 1 × 7 of type dbl\n",
       "\\begin{tabular}{r|lllllll}\n",
       "  & ME & RMSE & MAE & MPE & MAPE & MASE & ACF1\\\\\n",
       "\\hline\n",
       "\tTraining set & 0.3152762 & 10.91023 & 8.003276 & 0.04379133 & 2.848878 & 0.3094831 & 0.0004688507\\\\\n",
       "\\end{tabular}\n"
      ],
      "text/markdown": [
       "\n",
       "A matrix: 1 × 7 of type dbl\n",
       "\n",
       "| <!--/--> | ME | RMSE | MAE | MPE | MAPE | MASE | ACF1 |\n",
       "|---|---|---|---|---|---|---|---|\n",
       "| Training set | 0.3152762 | 10.91023 | 8.003276 | 0.04379133 | 2.848878 | 0.3094831 | 0.0004688507 |\n",
       "\n"
      ],
      "text/plain": [
       "             ME        RMSE     MAE      MPE        MAPE     MASE     \n",
       "Training set 0.3152762 10.91023 8.003276 0.04379133 2.848878 0.3094831\n",
       "             ACF1        \n",
       "Training set 0.0004688507"
      ]
     },
     "metadata": {},
     "output_type": "display_data"
    }
   ],
   "source": [
    "accuracy(fit)"
   ]
  },
  {
   "cell_type": "markdown",
   "metadata": {},
   "source": [
    "## Comparisons\n",
    "\n",
    "auto_arima AIC = 1017.85<br>\n",
    "fit AIC = 1022.3<br>\n",
    "\n",
    "Auto_arima coefficient for the moving averages is -0.9819<br>\n",
    "fit coefficient for the moving averages is -0.2027 <br>\n",
    "\n",
    "Auto_arima MAPE = 2.800458<br>\n",
    "fit MAPE = 2.848878<br>"
   ]
  },
  {
   "cell_type": "code",
   "execution_count": 47,
   "metadata": {},
   "outputs": [
    {
     "data": {
      "image/png": "[encoded data removed]",
      "text/plain": [
       "Plot with title \"Forecasts from ARIMA(2,1,1)(0,1,0)[12]\""
      ]
     },
     "metadata": {
      "image/png": {
       "height": 600,
       "width": 960
      },
      "text/plain": {
       "height": 600,
       "width": 960
      }
     },
     "output_type": "display_data"
    }
   ],
   "source": [
    "plot(forecast(auto_arima_model, 3 * 12), xlab = \"Year\", ylab = \"Annual passengers\")"
   ]
  },
  {
   "cell_type": "code",
   "execution_count": 48,
   "metadata": {},
   "outputs": [
    {
     "data": {
      "image/png": "[encoded data removed]",
      "text/plain": [
       "Plot with title \"Forecasts from ARIMA(1,1,1)(1,1,1)[12]\""
      ]
     },
     "metadata": {
      "image/png": {
       "height": 600,
       "width": 960
      },
      "text/plain": {
       "height": 600,
       "width": 960
      }
     },
     "output_type": "display_data"
    }
   ],
   "source": [
    "plot(forecast(fit, 3 * 12), xlab = \"Year\", ylab = \"Annual Flow\")"
   ]
  },
  {
   "cell_type": "markdown",
   "metadata": {},
   "source": [
    "## Evaluating the models\n",
    "\n",
    "If the model is appropriate, the residuals should be normally distributed with mean zero, and the autocorrelations should be zero for every possible lag.\n",
    "In other words, the residuals should be normally and independently distributed (no relationship between them). \n",
    "\n",
    "We can examine the residuals using the Q-Q plot function.\n",
    "\n",
    "The results aren’t significant, suggesting the autocorrelations don’t differ from zero.<br>"
   ]
  },
  {
   "cell_type": "code",
   "execution_count": 49,
   "metadata": {},
   "outputs": [
    {
     "data": {
      "image/png": "[encoded data removed]",
      "text/plain": [
       "Plot with title \"Normal Q-Q Plot\""
      ]
     },
     "metadata": {
      "image/png": {
       "height": 600,
       "width": 960
      },
      "text/plain": {
       "height": 600,
       "width": 960
      }
     },
     "output_type": "display_data"
    }
   ],
   "source": [
    "qqnorm(auto_arima_model$residuals)\n",
    "qqline(auto_arima_model$residuals)"
   ]
  },
  {
   "cell_type": "markdown",
   "metadata": {},
   "source": [
    "The `Box.test()` function tests that the autocorrelations are all zero.\n",
    "\n",
    "H0 = the autocorrelations are all zero. \n",
    "\n",
    "In this example, p > 0.05 so fail to reject the null hypothesis \n",
    "This ARIMA model appears to fit the data well"
   ]
  },
  {
   "cell_type": "code",
   "execution_count": 50,
   "metadata": {},
   "outputs": [
    {
     "data": {
      "text/plain": [
       "\n",
       "\tBox-Ljung test\n",
       "\n",
       "data:  auto_arima_model$residuals\n",
       "X-squared = 0.00022916, df = 1, p-value = 0.9879\n"
      ]
     },
     "metadata": {},
     "output_type": "display_data"
    }
   ],
   "source": [
    "Box.test(auto_arima_model$residuals, type = \"Ljung-Box\")"
   ]
  },
  {
   "cell_type": "markdown",
   "metadata": {},
   "source": [
    "We can apply the same tests to the manually selected model."
   ]
  },
  {
   "cell_type": "code",
   "execution_count": 51,
   "metadata": {
    "scrolled": false
   },
   "outputs": [
    {
     "data": {
      "image/png": "[encoded data removed]",
      "text/plain": [
       "Plot with title \"Normal Q-Q Plot\""
      ]
     },
     "metadata": {
      "image/png": {
       "height": 600,
       "width": 960
      },
      "text/plain": {
       "height": 600,
       "width": 960
      }
     },
     "output_type": "display_data"
    }
   ],
   "source": [
    "qqnorm(fit$residuals)\n",
    "qqline(fit$residuals)"
   ]
  },
  {
   "cell_type": "code",
   "execution_count": 52,
   "metadata": {},
   "outputs": [
    {
     "data": {
      "text/plain": [
       "\n",
       "\tBox-Ljung test\n",
       "\n",
       "data:  fit$residuals\n",
       "X-squared = 3.2318e-05, df = 1, p-value = 0.9955\n"
      ]
     },
     "metadata": {},
     "output_type": "display_data"
    }
   ],
   "source": [
    "Box.test(fit$residuals, type = \"Ljung-Box\")"
   ]
  },
  {
   "cell_type": "markdown",
   "metadata": {},
   "source": [
    "The fit p value is slightly better than the auto ARIMA p value (p-value = 0.9955 versus p-value = 0.9879)."
   ]
  },
  {
   "cell_type": "markdown",
   "metadata": {},
   "source": [
    "## Choosing training and testing data\n",
    "\n",
    "We can also assess the predicted values versus actual values from the dataset. We need to split the data into a train/test split.\n",
    "\n",
    "The method used to do this is similar to that used with ML models, although the data is selected according to frequency and not a percentage value."
   ]
  },
  {
   "cell_type": "code",
   "execution_count": 53,
   "metadata": {},
   "outputs": [],
   "source": [
    "air_passengers_train <- window(x = air_passengers, start=c(1949), end=c(1957, 12))\n",
    "air_passengers_test <- window(x = air_passengers, start=c(1958))"
   ]
  },
  {
   "cell_type": "code",
   "execution_count": 54,
   "metadata": {},
   "outputs": [
    {
     "data": {
      "text/html": [
       "<table>\n",
       "<caption>A Time Series: 9 × 12</caption>\n",
       "<thead>\n",
       "\t<tr><th></th><th scope=col>Jan</th><th scope=col>Feb</th><th scope=col>Mar</th><th scope=col>Apr</th><th scope=col>May</th><th scope=col>Jun</th><th scope=col>Jul</th><th scope=col>Aug</th><th scope=col>Sep</th><th scope=col>Oct</th><th scope=col>Nov</th><th scope=col>Dec</th></tr>\n",
       "</thead>\n",
       "<tbody>\n",
       "\t<tr><th scope=row>1949</th><td>112</td><td>118</td><td>132</td><td>129</td><td>121</td><td>135</td><td>148</td><td>148</td><td>136</td><td>119</td><td>104</td><td>118</td></tr>\n",
       "\t<tr><th scope=row>1950</th><td>115</td><td>126</td><td>141</td><td>135</td><td>125</td><td>149</td><td>170</td><td>170</td><td>158</td><td>133</td><td>114</td><td>140</td></tr>\n",
       "\t<tr><th scope=row>1951</th><td>145</td><td>150</td><td>178</td><td>163</td><td>172</td><td>178</td><td>199</td><td>199</td><td>184</td><td>162</td><td>146</td><td>166</td></tr>\n",
       "\t<tr><th scope=row>1952</th><td>171</td><td>180</td><td>193</td><td>181</td><td>183</td><td>218</td><td>230</td><td>242</td><td>209</td><td>191</td><td>172</td><td>194</td></tr>\n",
       "\t<tr><th scope=row>1953</th><td>196</td><td>196</td><td>236</td><td>235</td><td>229</td><td>243</td><td>264</td><td>272</td><td>237</td><td>211</td><td>180</td><td>201</td></tr>\n",
       "\t<tr><th scope=row>1954</th><td>204</td><td>188</td><td>235</td><td>227</td><td>234</td><td>264</td><td>302</td><td>293</td><td>259</td><td>229</td><td>203</td><td>229</td></tr>\n",
       "\t<tr><th scope=row>1955</th><td>242</td><td>233</td><td>267</td><td>269</td><td>270</td><td>315</td><td>364</td><td>347</td><td>312</td><td>274</td><td>237</td><td>278</td></tr>\n",
       "\t<tr><th scope=row>1956</th><td>284</td><td>277</td><td>317</td><td>313</td><td>318</td><td>374</td><td>413</td><td>405</td><td>355</td><td>306</td><td>271</td><td>306</td></tr>\n",
       "\t<tr><th scope=row>1957</th><td>315</td><td>301</td><td>356</td><td>348</td><td>355</td><td>422</td><td>465</td><td>467</td><td>404</td><td>347</td><td>305</td><td>336</td></tr>\n",
       "</tbody>\n",
       "</table>\n"
      ],
      "text/latex": [
       "A Time Series: 9 × 12\n",
       "\\begin{tabular}{r|llllllllllll}\n",
       "  & Jan & Feb & Mar & Apr & May & Jun & Jul & Aug & Sep & Oct & Nov & Dec\\\\\n",
       "\\hline\n",
       "\t1949 & 112 & 118 & 132 & 129 & 121 & 135 & 148 & 148 & 136 & 119 & 104 & 118\\\\\n",
       "\t1950 & 115 & 126 & 141 & 135 & 125 & 149 & 170 & 170 & 158 & 133 & 114 & 140\\\\\n",
       "\t1951 & 145 & 150 & 178 & 163 & 172 & 178 & 199 & 199 & 184 & 162 & 146 & 166\\\\\n",
       "\t1952 & 171 & 180 & 193 & 181 & 183 & 218 & 230 & 242 & 209 & 191 & 172 & 194\\\\\n",
       "\t1953 & 196 & 196 & 236 & 235 & 229 & 243 & 264 & 272 & 237 & 211 & 180 & 201\\\\\n",
       "\t1954 & 204 & 188 & 235 & 227 & 234 & 264 & 302 & 293 & 259 & 229 & 203 & 229\\\\\n",
       "\t1955 & 242 & 233 & 267 & 269 & 270 & 315 & 364 & 347 & 312 & 274 & 237 & 278\\\\\n",
       "\t1956 & 284 & 277 & 317 & 313 & 318 & 374 & 413 & 405 & 355 & 306 & 271 & 306\\\\\n",
       "\t1957 & 315 & 301 & 356 & 348 & 355 & 422 & 465 & 467 & 404 & 347 & 305 & 336\\\\\n",
       "\\end{tabular}\n"
      ],
      "text/markdown": [
       "\n",
       "A Time Series: 9 × 12\n",
       "\n",
       "| <!--/--> | Jan | Feb | Mar | Apr | May | Jun | Jul | Aug | Sep | Oct | Nov | Dec |\n",
       "|---|---|---|---|---|---|---|---|---|---|---|---|---|\n",
       "| 1949 | 112 | 118 | 132 | 129 | 121 | 135 | 148 | 148 | 136 | 119 | 104 | 118 |\n",
       "| 1950 | 115 | 126 | 141 | 135 | 125 | 149 | 170 | 170 | 158 | 133 | 114 | 140 |\n",
       "| 1951 | 145 | 150 | 178 | 163 | 172 | 178 | 199 | 199 | 184 | 162 | 146 | 166 |\n",
       "| 1952 | 171 | 180 | 193 | 181 | 183 | 218 | 230 | 242 | 209 | 191 | 172 | 194 |\n",
       "| 1953 | 196 | 196 | 236 | 235 | 229 | 243 | 264 | 272 | 237 | 211 | 180 | 201 |\n",
       "| 1954 | 204 | 188 | 235 | 227 | 234 | 264 | 302 | 293 | 259 | 229 | 203 | 229 |\n",
       "| 1955 | 242 | 233 | 267 | 269 | 270 | 315 | 364 | 347 | 312 | 274 | 237 | 278 |\n",
       "| 1956 | 284 | 277 | 317 | 313 | 318 | 374 | 413 | 405 | 355 | 306 | 271 | 306 |\n",
       "| 1957 | 315 | 301 | 356 | 348 | 355 | 422 | 465 | 467 | 404 | 347 | 305 | 336 |\n",
       "\n"
      ],
      "text/plain": [
       "     Jan Feb Mar Apr May Jun Jul Aug Sep Oct Nov Dec\n",
       "1949 112 118 132 129 121 135 148 148 136 119 104 118\n",
       "1950 115 126 141 135 125 149 170 170 158 133 114 140\n",
       "1951 145 150 178 163 172 178 199 199 184 162 146 166\n",
       "1952 171 180 193 181 183 218 230 242 209 191 172 194\n",
       "1953 196 196 236 235 229 243 264 272 237 211 180 201\n",
       "1954 204 188 235 227 234 264 302 293 259 229 203 229\n",
       "1955 242 233 267 269 270 315 364 347 312 274 237 278\n",
       "1956 284 277 317 313 318 374 413 405 355 306 271 306\n",
       "1957 315 301 356 348 355 422 465 467 404 347 305 336"
      ]
     },
     "metadata": {},
     "output_type": "display_data"
    }
   ],
   "source": [
    "air_passengers_train"
   ]
  },
  {
   "cell_type": "code",
   "execution_count": 55,
   "metadata": {},
   "outputs": [
    {
     "data": {
      "text/html": [
       "<table>\n",
       "<caption>A Time Series: 3 × 12</caption>\n",
       "<thead>\n",
       "\t<tr><th></th><th scope=col>Jan</th><th scope=col>Feb</th><th scope=col>Mar</th><th scope=col>Apr</th><th scope=col>May</th><th scope=col>Jun</th><th scope=col>Jul</th><th scope=col>Aug</th><th scope=col>Sep</th><th scope=col>Oct</th><th scope=col>Nov</th><th scope=col>Dec</th></tr>\n",
       "</thead>\n",
       "<tbody>\n",
       "\t<tr><th scope=row>1958</th><td>340</td><td>318</td><td>362</td><td>348</td><td>363</td><td>435</td><td>491</td><td>505</td><td>404</td><td>359</td><td>310</td><td>337</td></tr>\n",
       "\t<tr><th scope=row>1959</th><td>360</td><td>342</td><td>406</td><td>396</td><td>420</td><td>472</td><td>548</td><td>559</td><td>463</td><td>407</td><td>362</td><td>405</td></tr>\n",
       "\t<tr><th scope=row>1960</th><td>417</td><td>391</td><td>419</td><td>461</td><td>472</td><td>535</td><td>622</td><td>606</td><td>508</td><td>461</td><td>390</td><td>432</td></tr>\n",
       "</tbody>\n",
       "</table>\n"
      ],
      "text/latex": [
       "A Time Series: 3 × 12\n",
       "\\begin{tabular}{r|llllllllllll}\n",
       "  & Jan & Feb & Mar & Apr & May & Jun & Jul & Aug & Sep & Oct & Nov & Dec\\\\\n",
       "\\hline\n",
       "\t1958 & 340 & 318 & 362 & 348 & 363 & 435 & 491 & 505 & 404 & 359 & 310 & 337\\\\\n",
       "\t1959 & 360 & 342 & 406 & 396 & 420 & 472 & 548 & 559 & 463 & 407 & 362 & 405\\\\\n",
       "\t1960 & 417 & 391 & 419 & 461 & 472 & 535 & 622 & 606 & 508 & 461 & 390 & 432\\\\\n",
       "\\end{tabular}\n"
      ],
      "text/markdown": [
       "\n",
       "A Time Series: 3 × 12\n",
       "\n",
       "| <!--/--> | Jan | Feb | Mar | Apr | May | Jun | Jul | Aug | Sep | Oct | Nov | Dec |\n",
       "|---|---|---|---|---|---|---|---|---|---|---|---|---|\n",
       "| 1958 | 340 | 318 | 362 | 348 | 363 | 435 | 491 | 505 | 404 | 359 | 310 | 337 |\n",
       "| 1959 | 360 | 342 | 406 | 396 | 420 | 472 | 548 | 559 | 463 | 407 | 362 | 405 |\n",
       "| 1960 | 417 | 391 | 419 | 461 | 472 | 535 | 622 | 606 | 508 | 461 | 390 | 432 |\n",
       "\n"
      ],
      "text/plain": [
       "     Jan Feb Mar Apr May Jun Jul Aug Sep Oct Nov Dec\n",
       "1958 340 318 362 348 363 435 491 505 404 359 310 337\n",
       "1959 360 342 406 396 420 472 548 559 463 407 362 405\n",
       "1960 417 391 419 461 472 535 622 606 508 461 390 432"
      ]
     },
     "metadata": {},
     "output_type": "display_data"
    }
   ],
   "source": [
    "air_passengers_test"
   ]
  },
  {
   "cell_type": "code",
   "execution_count": 56,
   "metadata": {},
   "outputs": [
    {
     "data": {
      "text/plain": [
       "\n",
       "Call:\n",
       "arima(x = air_passengers_train, order = c(1, 1, 1), seasonal = list(order = c(1, \n",
       "    1, 1), period = 12))\n",
       "\n",
       "Coefficients:\n",
       "          ar1     ma1    sar1    sma1\n",
       "      -0.5904  0.3846  -0.382  0.2487\n",
       "s.e.   0.2690  0.3049   0.513  0.5373\n",
       "\n",
       "sigma^2 estimated as 89.76:  log likelihood = -348.58,  aic = 707.16"
      ]
     },
     "metadata": {},
     "output_type": "display_data"
    }
   ],
   "source": [
    "fit <- arima(air_passengers_train, \n",
    "             c(1,1,1), \n",
    "             seasonal = list(order = c(1,1,1), \n",
    "                             period = 12))\n",
    "fit"
   ]
  },
  {
   "cell_type": "code",
   "execution_count": 57,
   "metadata": {},
   "outputs": [
    {
     "data": {
      "text/plain": [
       "Series: air_passengers_train \n",
       "ARIMA(1,1,0)(0,1,0)[12] \n",
       "\n",
       "Coefficients:\n",
       "          ar1\n",
       "      -0.2411\n",
       "s.e.   0.0992\n",
       "\n",
       "sigma^2 estimated as 93.74:  log likelihood=-350\n",
       "AIC=704   AICc=704.13   BIC=709.11"
      ]
     },
     "metadata": {},
     "output_type": "display_data"
    }
   ],
   "source": [
    "auto_arima_model <- auto.arima(air_passengers_train)\n",
    "auto_arima_model"
   ]
  },
  {
   "cell_type": "code",
   "execution_count": 58,
   "metadata": {},
   "outputs": [
    {
     "data": {
      "text/plain": [
       "         Point Forecast    Lo 80    Hi 80    Lo 95    Hi 95\n",
       "Jan 1958       345.9645 333.5565 358.3725 326.9882 364.9408\n",
       "Feb 1958       331.7319 316.1557 347.3082 307.9101 355.5538\n",
       "Mar 1958       386.7880 368.2034 405.3727 358.3653 415.2108\n",
       "Apr 1958       378.7745 357.6875 399.8615 346.5247 411.0243\n",
       "May 1958       385.7778 362.4374 409.1181 350.0818 421.4737\n",
       "Jun 1958       452.7770 427.3865 478.1675 413.9455 491.6084\n",
       "Jul 1958       495.7772 468.4892 523.0651 454.0438 537.5105\n",
       "Aug 1958       497.7771 468.7155 526.8388 453.3312 542.2231\n",
       "Sep 1958       434.7771 404.0440 465.5103 387.7748 481.7794\n",
       "Oct 1958       377.7771 345.4588 410.0954 328.3505 427.2037\n",
       "Nov 1958       335.7771 301.9478 369.6064 284.0397 387.5145\n",
       "Dec 1958       366.7771 331.5015 402.0527 312.8278 420.7265\n",
       "Jan 1959       376.7416 334.9521 418.5311 312.8301 440.6532\n",
       "Feb 1959       362.5091 316.4304 408.5877 292.0378 432.9803\n",
       "Mar 1959       417.5651 367.2794 467.8509 340.6597 494.4705\n",
       "Apr 1959       409.5516 355.4490 463.6542 326.8088 492.2944\n",
       "May 1959       416.5549 358.8729 474.2368 328.3380 504.7718\n",
       "Jun 1959       483.5541 422.5056 544.6025 390.1885 576.9196\n",
       "Jul 1959       526.5543 462.3147 590.7938 428.3084 624.8002\n",
       "Aug 1959       528.5542 461.2749 595.8335 425.6594 631.4490\n",
       "Sep 1959       465.5542 395.3667 535.7418 358.2117 572.8968\n",
       "Oct 1959       408.5542 335.5743 481.5342 296.9410 520.1675\n",
       "Nov 1959       366.5542 290.8848 442.2237 250.8278 482.2807\n",
       "Dec 1959       397.5542 319.2877 475.8208 277.8559 517.2526\n",
       "Jan 1960       407.5187 322.8099 492.2276 277.9678 537.0697\n",
       "Feb 1960       393.2862 303.6169 482.9554 256.1489 530.4235\n",
       "Mar 1960       448.3423 353.7456 542.9389 303.6692 593.0153\n",
       "Apr 1960       440.3287 341.1016 539.5558 288.5740 592.0835\n",
       "May 1960       447.3320 343.6690 550.9950 288.7930 605.8709\n",
       "Jun 1960       514.3312 406.4172 622.2452 349.2910 679.3714\n",
       "Jul 1960       557.3314 445.3270 669.3358 386.0355 728.6273\n",
       "Aug 1960       559.3314 443.3810 675.2817 382.0005 736.6622\n",
       "Sep 1960       496.3314 376.5649 616.0979 313.1643 679.4984\n",
       "Oct 1960       439.3314 315.8666 562.7961 250.5084 628.1544\n",
       "Nov 1960       397.3314 270.2760 524.3867 203.0170 591.6457\n",
       "Dec 1960       428.3314 297.7841 558.8786 228.6766 627.9861"
      ]
     },
     "metadata": {},
     "output_type": "display_data"
    }
   ],
   "source": [
    "predict_auto_ARIMA <- forecast(auto_arima_model, 3 * 12)\n",
    "predict_auto_ARIMA"
   ]
  },
  {
   "cell_type": "code",
   "execution_count": 59,
   "metadata": {},
   "outputs": [
    {
     "data": {
      "text/plain": [
       "         Point Forecast    Lo 80    Hi 80    Lo 95    Hi 95\n",
       "Jan 1958       344.9231 332.7818 357.0645 326.3546 363.4917\n",
       "Feb 1958       331.4629 315.9584 346.9674 307.7508 355.1750\n",
       "Mar 1958       384.9889 365.9102 404.0675 355.8106 414.1671\n",
       "Apr 1958       377.0908 355.4347 398.7470 343.9706 410.2111\n",
       "May 1958       384.1126 359.9302 408.2950 347.1288 421.0964\n",
       "Jun 1958       449.8897 423.5430 476.2363 409.5959 490.1834\n",
       "Jul 1958       491.9903 463.5776 520.4031 448.5368 535.4439\n",
       "Aug 1958       492.9745 462.6730 523.2760 446.6323 539.3167\n",
       "Sep 1958       431.2286 399.1287 463.3285 382.1361 480.3211\n",
       "Oct 1958       374.9870 341.1959 408.7781 323.3079 426.6660\n",
       "Nov 1958       334.0962 298.6880 369.5043 279.9441 388.2483\n",
       "Dec 1958       365.3162 328.3654 402.2670 308.8048 421.8276\n",
       "Jan 1959       374.4275 331.8788 416.9763 309.3548 439.5003\n",
       "Feb 1959       360.6673 314.0994 407.2353 289.4478 431.8869\n",
       "Mar 1959       414.8117 364.0486 465.5748 337.1763 492.4472\n",
       "Apr 1959       406.8421 352.4802 461.2039 323.7028 489.9813\n",
       "May 1959       413.8748 355.9861 471.7635 325.3417 502.4080\n",
       "Jun 1959       480.1077 418.9802 541.2352 386.6212 573.5941\n",
       "Jul 1959       522.5586 458.3077 586.8095 424.2954 620.8218\n",
       "Aug 1959       523.9269 456.7246 591.1292 421.1498 626.7039\n",
       "Sep 1959       461.7042 391.6595 531.7490 354.5800 568.8284\n",
       "Oct 1959       405.1715 332.4039 477.9391 293.8831 516.4599\n",
       "Nov 1959       363.8578 288.4608 439.2549 248.5480 479.1677\n",
       "Dec 1959       394.9933 317.0582 472.9284 275.8019 514.1847\n",
       "Jan 1960       404.0330 320.2051 487.8610 275.8292 532.2369\n",
       "Feb 1960       390.3872 301.8218 478.9526 254.9382 525.8363\n",
       "Mar 1960       444.2955 350.8082 537.7828 301.3190 587.2720\n",
       "Apr 1960       436.3532 338.4316 534.2747 286.5951 586.1112\n",
       "May 1960       443.3817 341.0825 545.6810 286.9285 599.8350\n",
       "Jun 1960       509.4405 403.0205 615.8605 346.6851 672.1958\n",
       "Jul 1960       551.7576 441.3267 662.1885 382.8681 720.6470\n",
       "Aug 1960       552.9791 438.7031 667.2552 378.2090 727.7493\n",
       "Sep 1960       490.9386 372.9283 608.9489 310.4574 671.4198\n",
       "Oct 1960       434.5171 312.8953 556.1388 248.5127 620.5215\n",
       "Nov 1960       393.3650 268.2312 518.4987 201.9895 584.7404\n",
       "Dec 1960       424.5327 295.9856 553.0798 227.9369 621.1285"
      ]
     },
     "metadata": {},
     "output_type": "display_data"
    }
   ],
   "source": [
    "precict_manual_ARIMA <- forecast(fit, 3 * 12)\n",
    "precict_manual_ARIMA"
   ]
  },
  {
   "cell_type": "code",
   "execution_count": 60,
   "metadata": {},
   "outputs": [
    {
     "data": {
      "text/html": [
       "<table>\n",
       "<caption>A data.frame: 6 × 6</caption>\n",
       "<thead>\n",
       "\t<tr><th></th><th scope=col>actuals</th><th scope=col>predicted.Point.Forecast</th><th scope=col>predicted.Lo.80</th><th scope=col>predicted.Hi.80</th><th scope=col>predicted.Lo.95</th><th scope=col>predicted.Hi.95</th></tr>\n",
       "\t<tr><th></th><th scope=col>&lt;dbl&gt;</th><th scope=col>&lt;dbl&gt;</th><th scope=col>&lt;dbl&gt;</th><th scope=col>&lt;dbl&gt;</th><th scope=col>&lt;dbl&gt;</th><th scope=col>&lt;dbl&gt;</th></tr>\n",
       "</thead>\n",
       "<tbody>\n",
       "\t<tr><th scope=row>1</th><td>340</td><td>345.9645</td><td>333.5565</td><td>358.3725</td><td>326.9882</td><td>364.9408</td></tr>\n",
       "\t<tr><th scope=row>2</th><td>318</td><td>331.7319</td><td>316.1557</td><td>347.3082</td><td>307.9101</td><td>355.5538</td></tr>\n",
       "\t<tr><th scope=row>3</th><td>362</td><td>386.7880</td><td>368.2034</td><td>405.3727</td><td>358.3653</td><td>415.2108</td></tr>\n",
       "\t<tr><th scope=row>4</th><td>348</td><td>378.7745</td><td>357.6875</td><td>399.8615</td><td>346.5247</td><td>411.0243</td></tr>\n",
       "\t<tr><th scope=row>5</th><td>363</td><td>385.7778</td><td>362.4374</td><td>409.1181</td><td>350.0818</td><td>421.4737</td></tr>\n",
       "\t<tr><th scope=row>6</th><td>435</td><td>452.7770</td><td>427.3865</td><td>478.1675</td><td>413.9455</td><td>491.6084</td></tr>\n",
       "</tbody>\n",
       "</table>\n"
      ],
      "text/latex": [
       "A data.frame: 6 × 6\n",
       "\\begin{tabular}{r|llllll}\n",
       "  & actuals & predicted.Point.Forecast & predicted.Lo.80 & predicted.Hi.80 & predicted.Lo.95 & predicted.Hi.95\\\\\n",
       "  & <dbl> & <dbl> & <dbl> & <dbl> & <dbl> & <dbl>\\\\\n",
       "\\hline\n",
       "\t1 & 340 & 345.9645 & 333.5565 & 358.3725 & 326.9882 & 364.9408\\\\\n",
       "\t2 & 318 & 331.7319 & 316.1557 & 347.3082 & 307.9101 & 355.5538\\\\\n",
       "\t3 & 362 & 386.7880 & 368.2034 & 405.3727 & 358.3653 & 415.2108\\\\\n",
       "\t4 & 348 & 378.7745 & 357.6875 & 399.8615 & 346.5247 & 411.0243\\\\\n",
       "\t5 & 363 & 385.7778 & 362.4374 & 409.1181 & 350.0818 & 421.4737\\\\\n",
       "\t6 & 435 & 452.7770 & 427.3865 & 478.1675 & 413.9455 & 491.6084\\\\\n",
       "\\end{tabular}\n"
      ],
      "text/markdown": [
       "\n",
       "A data.frame: 6 × 6\n",
       "\n",
       "| <!--/--> | actuals &lt;dbl&gt; | predicted.Point.Forecast &lt;dbl&gt; | predicted.Lo.80 &lt;dbl&gt; | predicted.Hi.80 &lt;dbl&gt; | predicted.Lo.95 &lt;dbl&gt; | predicted.Hi.95 &lt;dbl&gt; |\n",
       "|---|---|---|---|---|---|---|\n",
       "| 1 | 340 | 345.9645 | 333.5565 | 358.3725 | 326.9882 | 364.9408 |\n",
       "| 2 | 318 | 331.7319 | 316.1557 | 347.3082 | 307.9101 | 355.5538 |\n",
       "| 3 | 362 | 386.7880 | 368.2034 | 405.3727 | 358.3653 | 415.2108 |\n",
       "| 4 | 348 | 378.7745 | 357.6875 | 399.8615 | 346.5247 | 411.0243 |\n",
       "| 5 | 363 | 385.7778 | 362.4374 | 409.1181 | 350.0818 | 421.4737 |\n",
       "| 6 | 435 | 452.7770 | 427.3865 | 478.1675 | 413.9455 | 491.6084 |\n",
       "\n"
      ],
      "text/plain": [
       "  actuals predicted.Point.Forecast predicted.Lo.80 predicted.Hi.80\n",
       "1 340     345.9645                 333.5565        358.3725       \n",
       "2 318     331.7319                 316.1557        347.3082       \n",
       "3 362     386.7880                 368.2034        405.3727       \n",
       "4 348     378.7745                 357.6875        399.8615       \n",
       "5 363     385.7778                 362.4374        409.1181       \n",
       "6 435     452.7770                 427.3865        478.1675       \n",
       "  predicted.Lo.95 predicted.Hi.95\n",
       "1 326.9882        364.9408       \n",
       "2 307.9101        355.5538       \n",
       "3 358.3653        415.2108       \n",
       "4 346.5247        411.0243       \n",
       "5 350.0818        421.4737       \n",
       "6 413.9455        491.6084       "
      ]
     },
     "metadata": {},
     "output_type": "display_data"
    }
   ],
   "source": [
    "# make actuals_predicted dataframe\n",
    "# for auto ARIMA\n",
    "actuals_predictions <- data.frame(cbind(actuals = air_passengers_test, predicted = predict_auto_ARIMA))\n",
    "head(actuals_predictions)"
   ]
  },
  {
   "cell_type": "code",
   "execution_count": 61,
   "metadata": {},
   "outputs": [
    {
     "data": {
      "text/html": [
       "<table>\n",
       "<caption>A matrix: 6 × 6 of type dbl</caption>\n",
       "<thead>\n",
       "\t<tr><th></th><th scope=col>actuals</th><th scope=col>predicted.Point.Forecast</th><th scope=col>predicted.Lo.80</th><th scope=col>predicted.Hi.80</th><th scope=col>predicted.Lo.95</th><th scope=col>predicted.Hi.95</th></tr>\n",
       "</thead>\n",
       "<tbody>\n",
       "\t<tr><th scope=row>actuals</th><td>1.0000000</td><td>0.9804770</td><td>0.7351465</td><td>0.9445094</td><td>0.4937979</td><td>0.9021220</td></tr>\n",
       "\t<tr><th scope=row>predicted.Point.Forecast</th><td>0.9804770</td><td>1.0000000</td><td>0.8101942</td><td>0.9238760</td><td>0.5870616</td><td>0.8691093</td></tr>\n",
       "\t<tr><th scope=row>predicted.Lo.80</th><td>0.7351465</td><td>0.8101942</td><td>1.0000000</td><td>0.5241998</td><td>0.9501564</td><td>0.4142201</td></tr>\n",
       "\t<tr><th scope=row>predicted.Hi.80</th><td>0.9445094</td><td>0.9238760</td><td>0.5241998</td><td>1.0000000</td><td>0.2325669</td><td>0.9922364</td></tr>\n",
       "\t<tr><th scope=row>predicted.Lo.95</th><td>0.4937979</td><td>0.5870616</td><td>0.9501564</td><td>0.2325669</td><td>1.0000000</td><td>0.1098049</td></tr>\n",
       "\t<tr><th scope=row>predicted.Hi.95</th><td>0.9021220</td><td>0.8691093</td><td>0.4142201</td><td>0.9922364</td><td>0.1098049</td><td>1.0000000</td></tr>\n",
       "</tbody>\n",
       "</table>\n"
      ],
      "text/latex": [
       "A matrix: 6 × 6 of type dbl\n",
       "\\begin{tabular}{r|llllll}\n",
       "  & actuals & predicted.Point.Forecast & predicted.Lo.80 & predicted.Hi.80 & predicted.Lo.95 & predicted.Hi.95\\\\\n",
       "\\hline\n",
       "\tactuals & 1.0000000 & 0.9804770 & 0.7351465 & 0.9445094 & 0.4937979 & 0.9021220\\\\\n",
       "\tpredicted.Point.Forecast & 0.9804770 & 1.0000000 & 0.8101942 & 0.9238760 & 0.5870616 & 0.8691093\\\\\n",
       "\tpredicted.Lo.80 & 0.7351465 & 0.8101942 & 1.0000000 & 0.5241998 & 0.9501564 & 0.4142201\\\\\n",
       "\tpredicted.Hi.80 & 0.9445094 & 0.9238760 & 0.5241998 & 1.0000000 & 0.2325669 & 0.9922364\\\\\n",
       "\tpredicted.Lo.95 & 0.4937979 & 0.5870616 & 0.9501564 & 0.2325669 & 1.0000000 & 0.1098049\\\\\n",
       "\tpredicted.Hi.95 & 0.9021220 & 0.8691093 & 0.4142201 & 0.9922364 & 0.1098049 & 1.0000000\\\\\n",
       "\\end{tabular}\n"
      ],
      "text/markdown": [
       "\n",
       "A matrix: 6 × 6 of type dbl\n",
       "\n",
       "| <!--/--> | actuals | predicted.Point.Forecast | predicted.Lo.80 | predicted.Hi.80 | predicted.Lo.95 | predicted.Hi.95 |\n",
       "|---|---|---|---|---|---|---|\n",
       "| actuals | 1.0000000 | 0.9804770 | 0.7351465 | 0.9445094 | 0.4937979 | 0.9021220 |\n",
       "| predicted.Point.Forecast | 0.9804770 | 1.0000000 | 0.8101942 | 0.9238760 | 0.5870616 | 0.8691093 |\n",
       "| predicted.Lo.80 | 0.7351465 | 0.8101942 | 1.0000000 | 0.5241998 | 0.9501564 | 0.4142201 |\n",
       "| predicted.Hi.80 | 0.9445094 | 0.9238760 | 0.5241998 | 1.0000000 | 0.2325669 | 0.9922364 |\n",
       "| predicted.Lo.95 | 0.4937979 | 0.5870616 | 0.9501564 | 0.2325669 | 1.0000000 | 0.1098049 |\n",
       "| predicted.Hi.95 | 0.9021220 | 0.8691093 | 0.4142201 | 0.9922364 | 0.1098049 | 1.0000000 |\n",
       "\n"
      ],
      "text/plain": [
       "                         actuals   predicted.Point.Forecast predicted.Lo.80\n",
       "actuals                  1.0000000 0.9804770                0.7351465      \n",
       "predicted.Point.Forecast 0.9804770 1.0000000                0.8101942      \n",
       "predicted.Lo.80          0.7351465 0.8101942                1.0000000      \n",
       "predicted.Hi.80          0.9445094 0.9238760                0.5241998      \n",
       "predicted.Lo.95          0.4937979 0.5870616                0.9501564      \n",
       "predicted.Hi.95          0.9021220 0.8691093                0.4142201      \n",
       "                         predicted.Hi.80 predicted.Lo.95 predicted.Hi.95\n",
       "actuals                  0.9445094       0.4937979       0.9021220      \n",
       "predicted.Point.Forecast 0.9238760       0.5870616       0.8691093      \n",
       "predicted.Lo.80          0.5241998       0.9501564       0.4142201      \n",
       "predicted.Hi.80          1.0000000       0.2325669       0.9922364      \n",
       "predicted.Lo.95          0.2325669       1.0000000       0.1098049      \n",
       "predicted.Hi.95          0.9922364       0.1098049       1.0000000      "
      ]
     },
     "metadata": {},
     "output_type": "display_data"
    }
   ],
   "source": [
    "correlation_accuracy <- cor(actuals_predictions)\n",
    "correlation_accuracy"
   ]
  },
  {
   "cell_type": "markdown",
   "metadata": {},
   "source": [
    "This process can now be repeated for the manual method."
   ]
  }
 ],
 "metadata": {
  "kernelspec": {
   "display_name": "R",
   "language": "R",
   "name": "ir"
  },
  "language_info": {
   "codemirror_mode": "r",
   "file_extension": ".r",
   "mimetype": "text/x-r-source",
   "name": "R",
   "pygments_lexer": "r",
   "version": "3.6.1"
  }
 },
 "nbformat": 4,
 "nbformat_minor": 4
}
