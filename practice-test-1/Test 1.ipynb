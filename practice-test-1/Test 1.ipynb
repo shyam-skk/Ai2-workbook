{
 "cells": [
  {
   "cell_type": "markdown",
   "metadata": {},
   "source": [
    "# Practice Assessment\n",
    "This is your first assessment. Although it is for practice only, you must go through each question and ensure you can  run your Python code in the notebook. \n",
    "\n",
    "It is important that you are able to save your completed notebook into a repo in your GitHub account. And you must be able to email a copy of your uploaded file to james.connolly@lyit.ie "
   ]
  },
  {
   "cell_type": "markdown",
   "metadata": {},
   "source": [
    "## Q1\n",
    "Using an f-string, display this Einstein quote exactly as you see it. \n",
    "\n",
    "Anyone who has never made a mistake <br>\n",
    "         has never tried anything new."
   ]
  },
  {
   "cell_type": "code",
   "execution_count": 2,
   "metadata": {},
   "outputs": [
    {
     "name": "stdout",
     "output_type": "stream",
     "text": [
      "Anyone who has never made a mistake \n",
      " \thas never tried anything new.\n"
     ]
    }
   ],
   "source": [
    "print(f\"Anyone who has never made a mistake \\n \\thas never tried anything new.\")"
   ]
  },
  {
   "cell_type": "markdown",
   "metadata": {},
   "source": [
    "### Q2 \n",
    "Using an f-string and the variables provided, display this message\n",
    "\n",
    "`Letterkenny Institute of Technology can be abbreviated to (LYIT).`"
   ]
  },
  {
   "cell_type": "code",
   "execution_count": 3,
   "metadata": {},
   "outputs": [
    {
     "name": "stdout",
     "output_type": "stream",
     "text": [
      "Letterkenny Institute of Technology can be abbreviated to (LYIT)\n"
     ]
    }
   ],
   "source": [
    "LYIT_name = \"Letterkenny Institute of Technology\"\n",
    "acronym = \"LYIT\"\n",
    "\n",
    "# Enter your code here\n",
    "print(f\"{LYIT_name} can be abbreviated to ({acronym})\")"
   ]
  },
  {
   "cell_type": "markdown",
   "metadata": {},
   "source": [
    "### Q3\n",
    "Write a Python program to display the current date and time.\n",
    "\n",
    "Sample output:\n",
    "`2020-01-10 18:31:21.076466`"
   ]
  },
  {
   "cell_type": "code",
   "execution_count": 4,
   "metadata": {},
   "outputs": [
    {
     "name": "stdout",
     "output_type": "stream",
     "text": [
      "2020-03-02 17:49:45.785066\n"
     ]
    }
   ],
   "source": [
    "from datetime import datetime\n",
    "now = datetime.now()\n",
    " \n",
    "print(now)"
   ]
  },
  {
   "cell_type": "markdown",
   "metadata": {},
   "source": [
    "### Q4\n",
    "Write a Python program to ask the user to input their first name and DOB. Then calculate the number of days they have been alive.\n",
    "\n",
    "Display a message to the user with an f-string using this format `James, you are 40 years old`.\n",
    "\n",
    "Use the following code and then add your code."
   ]
  },
  {
   "cell_type": "code",
   "execution_count": 7,
   "metadata": {},
   "outputs": [
    {
     "name": "stdout",
     "output_type": "stream",
     "text": [
      "Please enter your first name : shyam\n",
      "Please enter your DOB as integer values\n",
      "Enter year : 1991\n",
      "Enter month : 10\n",
      "Enter day : 10\n",
      "shyam, you are 28 years old.\n"
     ]
    }
   ],
   "source": [
    "import datetime as dt\n",
    "\n",
    "first_name = input(\"Please enter your first name : \")\n",
    "print(\"Please enter your DOB as integer values\")\n",
    "year = int(input(\"Enter year : \"))\n",
    "month = int(input(\"Enter month : \"))\n",
    "day = int(input(\"Enter day : \"))\n",
    "\n",
    "# Enter your code here\n",
    "birthdate=dt.date(year,month,day)\n",
    "today=dt.date.today()\n",
    "age=(today-birthdate)\n",
    "daysold=age.days\n",
    "yearsold=daysold//365\n",
    "print(f\"{first_name}, you are {yearsold} years old.\")"
   ]
  },
  {
   "cell_type": "markdown",
   "metadata": {},
   "source": [
    "### Q5\n",
    "Enter 2 numbers. If both numbers add up to a number between 50 to 60 then print a message stating `not accepted`, otherwise show a message `accepted`. \n",
    "\n",
    "Hint: Use the `sum in range` command to check whether your number is within a specific rang or not."
   ]
  },
  {
   "cell_type": "code",
   "execution_count": 11,
   "metadata": {
    "scrolled": true
   },
   "outputs": [
    {
     "name": "stdout",
     "output_type": "stream",
     "text": [
      "Please enter number 1 : 20\n",
      "Please enter number 2 : 30\n",
      "not accepted\n"
     ]
    }
   ],
   "source": [
    "number1 = int(input(\"Please enter number 1 : \"))\n",
    "number2 = int(input(\"Please enter number 2 : \"))\n",
    "sum = number1 + number2\n",
    "\n",
    "# Enter your code here\n",
    "if sum >= 50 and sum <= 60:\n",
    "    print(\"not accepted\")\n",
    "else:\n",
    "    print(\"accepted\")"
   ]
  },
  {
   "cell_type": "markdown",
   "metadata": {},
   "source": [
    "### Q6\n",
    "Write a Python program to calculate the hypotenuse of a right angled triangle.\n",
    "\n",
    "Hint : hytothenuse = square root of 2 shortest sides squared"
   ]
  },
  {
   "cell_type": "code",
   "execution_count": 13,
   "metadata": {},
   "outputs": [
    {
     "name": "stdout",
     "output_type": "stream",
     "text": [
      "Input lengths of shorter triangle sides : \n",
      " side a: 4\n",
      " side b: 5\n",
      "The length of the hypotenuse is 6.4031242374328485\n"
     ]
    }
   ],
   "source": [
    "from math import sqrt\n",
    "print(\"Input lengths of shorter triangle sides : \")\n",
    "a = float(input(\" side a: \"))\n",
    "b = float(input(\" side b: \"))\n",
    "\n",
    "h = (((a * a) + (b * b))**(1/2))\n",
    "\n",
    "print(f\"The length of the hypotenuse is {h}\")"
   ]
  },
  {
   "cell_type": "markdown",
   "metadata": {},
   "source": [
    "### Q7\n",
    "Use PyPDF2 to open the file **A_Midsummer_Night**. Extract the text of page 22 from this pdf. Print the contents of it."
   ]
  },
  {
   "cell_type": "code",
   "execution_count": 3,
   "metadata": {},
   "outputs": [
    {
     "name": "stdout",
     "output_type": "stream",
     "text": [
      "Collecting PyPDF2\n",
      "\u001b[?25l  Downloading https://files.pythonhosted.org/packages/b4/01/68fcc0d43daf4c6bdbc6b33cc3f77bda531c86b174cac56ef0ffdb96faab/PyPDF2-1.26.0.tar.gz (77kB)\n",
      "\u001b[K    100% |████████████████████████████████| 81kB 2.5MB/s ta 0:00:01\n",
      "\u001b[?25hBuilding wheels for collected packages: PyPDF2\n",
      "  Running setup.py bdist_wheel for PyPDF2 ... \u001b[?25ldone\n",
      "\u001b[?25h  Stored in directory: /home/shyam/.cache/pip/wheels/53/84/19/35bc977c8bf5f0c23a8a011aa958acd4da4bbd7a229315c1b7\n",
      "Successfully built PyPDF2\n",
      "Installing collected packages: PyPDF2\n",
      "Successfully installed PyPDF2-1.26.0\n"
     ]
    }
   ],
   "source": [
    "!pip install PyPDF2"
   ]
  },
  {
   "cell_type": "code",
   "execution_count": 5,
   "metadata": {},
   "outputs": [
    {
     "name": "stdout",
     "output_type": "stream",
     "text": [
      "Exit\n",
      " HERMIA\n",
      "  [Awaking] Help me, Lysander, help me! do thy best \n",
      "\n",
      "To pluck this crawling serpent from my breast! \n",
      "\n",
      "Ay me, for pity! what a dream was here! \n",
      "\n",
      "Lysander, look how I do quake with fear: \n",
      "\n",
      "Methought a serpent eat my heart away, \n",
      "\n",
      "And you sat smiling at his cruel pray. \n",
      "Lysander! what, removed? Lysander! lord! \n",
      "What, out of hearing? gone? no sound, no word? \n",
      "\n",
      "Alack, where are you speak, an if you hear; \n",
      "\n",
      "Speak, of all loves! I swoon almost with fear. \n",
      "\n",
      "No? then I well perceive you all not nigh \n",
      "\n",
      "Either death or you I'll find immediately. \n",
      "Exit\n",
      " \n"
     ]
    }
   ],
   "source": [
    "import PyPDF2\n",
    "\n",
    "my_pdf_file = open(\"A_Midsummer_Night.pdf\", mode=\"rb\")\n",
    "\n",
    "pdfReader = PyPDF2.PdfFileReader(my_pdf_file)\n",
    "pageObj = pdfReader.getPage(22)\n",
    "pageObj.extractText()\n",
    "print(pageObj.extractText())"
   ]
  },
  {
   "cell_type": "markdown",
   "metadata": {},
   "source": [
    "### Q8\n",
    "Open a new file called **OnePage.txt** and add the text you extracted from page 22 from the pdf file **A Midsummer Night** into the file **OnePage.txt**."
   ]
  },
  {
   "cell_type": "code",
   "execution_count": 8,
   "metadata": {},
   "outputs": [],
   "source": [
    "pagecontent=pageObj.extractText()\n",
    "outfile = open('OnePage.txt', 'w')\n",
    "for l in pagecontent:\n",
    "    outfile.write(l)\n"
   ]
  },
  {
   "cell_type": "code",
   "execution_count": 11,
   "metadata": {},
   "outputs": [
    {
     "name": "stdout",
     "output_type": "stream",
     "text": [
      "Exit\n",
      " HERMIA\n",
      "  [Awaking] Help me, Lysander, help me! do thy best \n",
      "\n",
      "To pluck this crawling serpent from my breast! \n",
      "\n",
      "Ay me, for pity! what a dream was here! \n",
      "\n",
      "Lysander, look how I do quake with fear: \n",
      "\n",
      "Methought a serpent eat my heart away, \n",
      "\n",
      "And you sat smiling at his cruel pray. \n",
      "Lysander! what, removed? Lysander! lord! \n",
      "What, out of hearing? gone? no sound, no word? \n",
      "\n",
      "Alack, where are you speak, an if you hear; \n",
      "\n",
      "Speak, of all loves! I swoon almost with fear. \n",
      "\n",
      "No? then I well perceive you all not nigh \n",
      "\n",
      "Either death or you I'll find immediately. \n",
      "Exit\n",
      " \n"
     ]
    }
   ],
   "source": [
    "infile = open('OnePage.txt', 'r')\n",
    "\n",
    "for l in infile:\n",
    "    print(l.rstrip(\"\\n\"))"
   ]
  },
  {
   "cell_type": "markdown",
   "metadata": {},
   "source": [
    "### Q9\n",
    "Now print the contents of **OnePage.txt**. Store the contents of the file in a variable called **file_contents**."
   ]
  },
  {
   "cell_type": "code",
   "execution_count": 94,
   "metadata": {},
   "outputs": [
    {
     "name": "stdout",
     "output_type": "stream",
     "text": [
      "Exit\n",
      " HERMIA\n",
      "  [Awaking] Help me, Lysander, help me! do thy best \n",
      "\n",
      "To pluck this crawling serpent from my breast! \n",
      "\n",
      "Ay me, for pity! what a dream was here! \n",
      "\n",
      "Lysander, look how I do quake with fear: \n",
      "\n",
      "Methought a serpent eat my heart away, \n",
      "\n",
      "And you sat smiling at his cruel pray. \n",
      "Lysander! what, removed? Lysander! lord! \n",
      "What, out of hearing? gone? no sound, no word? \n",
      "\n",
      "Alack, where are you speak, an if you hear; \n",
      "\n",
      "Speak, of all loves! I swoon almost with fear. \n",
      "\n",
      "No? then I well perceive you all not nigh \n",
      "\n",
      "Either death or you I'll find immediately. \n",
      "Exit\n",
      " \n"
     ]
    }
   ],
   "source": [
    "file_contents = open('OnePage.txt', 'r')\n",
    "for l in file_contents:\n",
    "    print(l.rstrip(\"\\n\"))"
   ]
  },
  {
   "cell_type": "markdown",
   "metadata": {},
   "source": [
    "### Q10\n",
    "Using the **file_contents** variable above, extract any text that is 5 characters long followed by an exclamation mark."
   ]
  },
  {
   "cell_type": "code",
   "execution_count": 163,
   "metadata": {},
   "outputs": [
    {
     "name": "stdout",
     "output_type": "stream",
     "text": [
      "reast!\n",
      "ander!\n",
      "ander!\n",
      "loves!\n"
     ]
    }
   ],
   "source": [
    "with open('OnePage.txt') as fp:\n",
    "    file_contents = fp.read()\n",
    "    \n",
    "import re  # \\b\\w{4}.!$\n",
    "filename = \"OnePage.txt\"\n",
    "pattern = re.compile(r\"\\b\\w{4,}.!$\", re.IGNORECASE)\n",
    "words=file_contents.split()\n",
    "for line in words:\n",
    "    if pattern.search(line) != None:\n",
    "        print(line[-6:])"
   ]
  },
  {
   "cell_type": "markdown",
   "metadata": {},
   "source": [
    "### Save your file to GitHub\n",
    "\n",
    "Create a repo called **AI assessments** and save this assessment file to it.\n",
    "\n",
    "Email a link to your GitHub page to james.connolly@lyit.ie"
   ]
  }
 ],
 "metadata": {
  "kernelspec": {
   "display_name": "Python 3",
   "language": "python",
   "name": "python3"
  },
  "language_info": {
   "codemirror_mode": {
    "name": "ipython",
    "version": 3
   },
   "file_extension": ".py",
   "mimetype": "text/x-python",
   "name": "python",
   "nbconvert_exporter": "python",
   "pygments_lexer": "ipython3",
   "version": "3.7.6"
  }
 },
 "nbformat": 4,
 "nbformat_minor": 2
}
