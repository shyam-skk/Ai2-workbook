{
 "cells": [
  {
   "cell_type": "markdown",
   "metadata": {},
   "source": [
    "# Natural Language Processing CA 2"
   ]
  },
  {
   "cell_type": "markdown",
   "metadata": {},
   "source": [
    "Shyam Krishnan k - L00150833 <br>\n",
    "MSc in Big Data Analytics and Artificial Intelligence <br>\n",
    "Artificial Intelligence 2 <br>\n",
    "Assignment - NLP CA 2 <br>"
   ]
  },
  {
   "cell_type": "markdown",
   "metadata": {},
   "source": [
    "## Q1 Text Classification"
   ]
  },
  {
   "cell_type": "code",
   "execution_count": 2,
   "metadata": {},
   "outputs": [],
   "source": [
    "# os library is using for accessing operating system dependent functionality\n",
    "import os\n",
    "# pandas for data manipulation and analysis\n",
    "import pandas as pd\n",
    "# random module using to generate pseudo-random numbers\n",
    "import random\n",
    "# numpy is using to manipulate multi-dimensional arrays and matrices. Also support mathematical functions\n",
    "import numpy as np"
   ]
  },
  {
   "cell_type": "code",
   "execution_count": 3,
   "metadata": {},
   "outputs": [
    {
     "data": {
      "text/plain": [
       "808578"
      ]
     },
     "execution_count": 3,
     "metadata": {},
     "output_type": "execute_result"
    }
   ],
   "source": [
    "df=pd.read_csv('quora_questions.csv') # rading the data into a data frame.\n",
    "len(df)                               # returns number of rows in the dataframe."
   ]
  },
  {
   "cell_type": "markdown",
   "metadata": {},
   "source": [
    "First we will read the all the data in the quora_questions in to a pandas dataframe using Let's read the data (using read_csv).\n",
    "The data set is consists of 808578."
   ]
  },
  {
   "cell_type": "code",
   "execution_count": 4,
   "metadata": {},
   "outputs": [
    {
     "data": {
      "text/plain": [
       "200001"
      ]
     },
     "execution_count": 4,
     "metadata": {},
     "output_type": "execute_result"
    }
   ],
   "source": [
    "# to generate 200000 permenent random data sample from the df dataframe including the header.\n",
    "dataframe = df.sample(n=200001, random_state=123)\n",
    "len(dataframe)"
   ]
  },
  {
   "cell_type": "markdown",
   "metadata": {},
   "source": [
    "Pandas sample() is used to generate a sample random row or column from data frame. Here n is a int value which  defines the number of random rows to generate. The \"random_state\" is to check and validate the data when running the code multiple times. Setting random_state a fixed value will guarantee that same sequence of random numbers are generated each time you run the code. And unless there is some other randomness present in the process, the results produced will be same as always. This helps in verifying the output"
   ]
  },
  {
   "cell_type": "code",
   "execution_count": 5,
   "metadata": {},
   "outputs": [
    {
     "data": {
      "text/html": [
       "<div>\n",
       "<style scoped>\n",
       "    .dataframe tbody tr th:only-of-type {\n",
       "        vertical-align: middle;\n",
       "    }\n",
       "\n",
       "    .dataframe tbody tr th {\n",
       "        vertical-align: top;\n",
       "    }\n",
       "\n",
       "    .dataframe thead th {\n",
       "        text-align: right;\n",
       "    }\n",
       "</style>\n",
       "<table border=\"1\" class=\"dataframe\">\n",
       "  <thead>\n",
       "    <tr style=\"text-align: right;\">\n",
       "      <th></th>\n",
       "      <th>question</th>\n",
       "    </tr>\n",
       "  </thead>\n",
       "  <tbody>\n",
       "    <tr>\n",
       "      <th>528339</th>\n",
       "      <td>How do I hack a wifi?</td>\n",
       "    </tr>\n",
       "    <tr>\n",
       "      <th>161450</th>\n",
       "      <td>Wwe is real fight?</td>\n",
       "    </tr>\n",
       "    <tr>\n",
       "      <th>699472</th>\n",
       "      <td>What is written in vedas?</td>\n",
       "    </tr>\n",
       "    <tr>\n",
       "      <th>736752</th>\n",
       "      <td>Why don't women propose to men in India?</td>\n",
       "    </tr>\n",
       "    <tr>\n",
       "      <th>772144</th>\n",
       "      <td>Which car should I buy for my parents in India?</td>\n",
       "    </tr>\n",
       "  </tbody>\n",
       "</table>\n",
       "</div>"
      ],
      "text/plain": [
       "                                               question\n",
       "528339                            How do I hack a wifi?\n",
       "161450                               Wwe is real fight?\n",
       "699472                        What is written in vedas?\n",
       "736752         Why don't women propose to men in India?\n",
       "772144  Which car should I buy for my parents in India?"
      ]
     },
     "execution_count": 5,
     "metadata": {},
     "output_type": "execute_result"
    }
   ],
   "source": [
    "dataframe.head() # returns first 5 lines of dataframe"
   ]
  },
  {
   "cell_type": "code",
   "execution_count": 6,
   "metadata": {},
   "outputs": [
    {
     "data": {
      "text/html": [
       "<div>\n",
       "<style scoped>\n",
       "    .dataframe tbody tr th:only-of-type {\n",
       "        vertical-align: middle;\n",
       "    }\n",
       "\n",
       "    .dataframe tbody tr th {\n",
       "        vertical-align: top;\n",
       "    }\n",
       "\n",
       "    .dataframe thead th {\n",
       "        text-align: right;\n",
       "    }\n",
       "</style>\n",
       "<table border=\"1\" class=\"dataframe\">\n",
       "  <thead>\n",
       "    <tr style=\"text-align: right;\">\n",
       "      <th></th>\n",
       "      <th>question</th>\n",
       "    </tr>\n",
       "  </thead>\n",
       "  <tbody>\n",
       "    <tr>\n",
       "      <th>256607</th>\n",
       "      <td>What is an inclined plane? What are examples o...</td>\n",
       "    </tr>\n",
       "    <tr>\n",
       "      <th>300740</th>\n",
       "      <td>How can I prove that a negative number multipl...</td>\n",
       "    </tr>\n",
       "    <tr>\n",
       "      <th>531674</th>\n",
       "      <td>How do I learn English step by step?</td>\n",
       "    </tr>\n",
       "    <tr>\n",
       "      <th>139362</th>\n",
       "      <td>In what ways are you privileged and in what wa...</td>\n",
       "    </tr>\n",
       "    <tr>\n",
       "      <th>702490</th>\n",
       "      <td>Is time travel possible? If yes how</td>\n",
       "    </tr>\n",
       "  </tbody>\n",
       "</table>\n",
       "</div>"
      ],
      "text/plain": [
       "                                                 question\n",
       "256607  What is an inclined plane? What are examples o...\n",
       "300740  How can I prove that a negative number multipl...\n",
       "531674               How do I learn English step by step?\n",
       "139362  In what ways are you privileged and in what wa...\n",
       "702490                Is time travel possible? If yes how"
      ]
     },
     "execution_count": 6,
     "metadata": {},
     "output_type": "execute_result"
    }
   ],
   "source": [
    "dataframe.tail() # returns last 5 lines of the dataframe"
   ]
  },
  {
   "cell_type": "code",
   "execution_count": 7,
   "metadata": {},
   "outputs": [
    {
     "name": "stdout",
     "output_type": "stream",
     "text": [
      "(200001, 1)\n"
     ]
    }
   ],
   "source": [
    "print(dataframe.shape) # return the number of rows and columns in the data frame"
   ]
  },
  {
   "cell_type": "markdown",
   "metadata": {},
   "source": [
    "The data frame is consisits of 200001 rows and 1 column."
   ]
  },
  {
   "cell_type": "code",
   "execution_count": 8,
   "metadata": {},
   "outputs": [
    {
     "name": "stdout",
     "output_type": "stream",
     "text": [
      "Index(['question'], dtype='object')\n"
     ]
    }
   ],
   "source": [
    "print(df.columns) # return the column names in the dataframe"
   ]
  },
  {
   "cell_type": "code",
   "execution_count": 9,
   "metadata": {},
   "outputs": [
    {
     "name": "stdout",
     "output_type": "stream",
     "text": [
      "What is an inclined plane? What are examples of this?\n"
     ]
    }
   ],
   "source": [
    "# printing a random question in the index position 256607\n",
    "print(dataframe['question'][256607])"
   ]
  },
  {
   "cell_type": "markdown",
   "metadata": {},
   "source": [
    "## CountVectorizer"
   ]
  },
  {
   "cell_type": "markdown",
   "metadata": {},
   "source": [
    "CountVectorizer is using to split up the data ie questions into a list of words(a spare matrix with count of each word). ount vectorizer builds a dictionary of features and transforms documents to feature vectors. It is also called one-hot encoding. It is the most basic and simple way of representing text data numerically. Here we will create vectors that have a dimensionality equal to the size of our vocabulary. Each text data featire will be represented using one and when we encounter that word again, we will increase the count, leaving 0s everywhere we did not find the word even once."
   ]
  },
  {
   "cell_type": "code",
   "execution_count": 10,
   "metadata": {},
   "outputs": [],
   "source": [
    "# Import count vectorizer from Scikit-learn\n",
    "from sklearn.feature_extraction.text import CountVectorizer"
   ]
  },
  {
   "cell_type": "markdown",
   "metadata": {},
   "source": [
    "Here fwe will pass the data into a count vectorizer and then transform the question data.\n",
    "This is performed in two steps.\n",
    "1. First initiate the model with fine tuned appropriate parameters.\n",
    "2. Fit the model with the data and transform it into vectors.\n",
    "\n",
    "In the second setp first we builds vocabulary and counts number of words the questions. Then transform vocabulary of words in the questions to a vector."
   ]
  },
  {
   "cell_type": "code",
   "execution_count": 42,
   "metadata": {},
   "outputs": [],
   "source": [
    "# initialise an instance of the count vectorizer\n",
    "count_vectorizer = CountVectorizer(max_df=0.70, min_df=4, stop_words=\"english\")"
   ]
  },
  {
   "cell_type": "markdown",
   "metadata": {},
   "source": [
    "we will initialise an instance of the count vectorizer using two variables - max_df and min_df. These parameters are using to define the minimum and maximum number of words we should ignore within our documents. The max_df option accepts a float in range ( 0, 1 ), max_df will ignore terms that have a document frequency strictly higher than the given threshold. The min_df will remove the terms that have a frequency lower than the given threshold in the vocabulary. The min_df can be expressed as float in the range (0, 1) or as an intiger value of minimum occurence.\n",
    "\n",
    "Here in this example iam using 0.7 as max_df and intiger value 4 as min_df.\n",
    "\n",
    "The data frame created from quora questions contain 200000 questons asked in the platform. The max_df is set to 0.7 becase i want to remove all major and minor stop words used in the dataset. From the primery analysis of the data set it is clear that all questions in the data set is starting with various Question Words, which is not useful in the context of classification. So to remove all major Question Words and stop words i choose a lower value for max_df.\n",
    "\n",
    "It is also clear that many of the questions included in the data set is simple one sentence questions. So there is a higher possibility of having unique words that is not much repeated the questions.Here min_df is set to 4 because I want to remove the words that is not present in atleast 4 questions for better topic selection and classification.\n"
   ]
  },
  {
   "cell_type": "code",
   "execution_count": 43,
   "metadata": {},
   "outputs": [],
   "source": [
    "# fit and then transforms data into a numerical vector\n",
    "doc_term_matrix = count_vectorizer.fit_transform(dataframe[\"question\"])"
   ]
  },
  {
   "cell_type": "code",
   "execution_count": 44,
   "metadata": {},
   "outputs": [
    {
     "data": {
      "text/plain": [
       "<200001x17114 sparse matrix of type '<class 'numpy.int64'>'\n",
       "\twith 964821 stored elements in Compressed Sparse Row format>"
      ]
     },
     "execution_count": 44,
     "metadata": {},
     "output_type": "execute_result"
    }
   ],
   "source": [
    "doc_term_matrix"
   ]
  },
  {
   "cell_type": "markdown",
   "metadata": {},
   "source": [
    "The doc_term_matrix is a sparse matrix of each word in all of the text data. Here the doc_term_matrix contains 200000 rows of questions data and 7155 columns or features corrsponding to rows. Adjusting the max_df and min_df values can increase or decrease the number of terms in the doc_term_matrix."
   ]
  },
  {
   "cell_type": "markdown",
   "metadata": {},
   "source": [
    "## Latent Dirichlet Allocation - Model -1"
   ]
  },
  {
   "cell_type": "markdown",
   "metadata": {},
   "source": [
    "Latent Dirichlet allocation (LDA) is a method of automatically discovering topics from the sentences. A classifier with a linear decision boundary, generated by fitting class conditional densities to the data and using Bayes’ rule. LDA represents documents as mixtures of topics that contains set of words with certain probabilities. In Natural Language Processing topic modelling is defined as the process of uncovering hidden structure in a collection of texts. It is a unsupervised mothod using on a collection of text or documents to  group similar words within text together in order to classfy the documents in to topic. LDA spot the semantic relationship between words and group them with the help of associated indicators. To LDA, a document is just a collection of topics where  each topic has some particular probability of generating a certain word.\n",
    "\n",
    "LDA will represent each questions as a list of probability of topics based on the vocabulary used in it. Each topic will represented as a certain weight which indicates which topic it most likely should be in and we will select topic with heigher weight or probability from the list of weights. Here i will train and fit the LDA model on the dataset by clustering the words based on the correlations between word counts and create categories of words with a certain frequency to determine the specific category based on the common words found within it.\n",
    "\n",
    "The number of topic is choosed by a  hyperparameter - n_components. For each topic, LDA will pick a distribution of words for that topic. The word ‘topic’ refers to associating a certain word to with a definition. Here in my first model i am initialise an instance of the LDA model by setting n_components = 15 ie we are trying to create a pool of 15 topics with list of correlated words from each text. \n",
    "\n",
    "If the optput list of topics contains large number of similar words in each topics we need to reduce the number of topics and rerun the model. If each topic list contains multiple uncorelated words with in each topic, then we need to increase the number of n_components and rerun the model to create a better model.\n",
    "\n"
   ]
  },
  {
   "cell_type": "code",
   "execution_count": 45,
   "metadata": {},
   "outputs": [],
   "source": [
    "# importing LDA from Scikit-learn\n",
    "from sklearn.decomposition import LatentDirichletAllocation"
   ]
  },
  {
   "cell_type": "code",
   "execution_count": 46,
   "metadata": {},
   "outputs": [],
   "source": [
    "# initialise an instance of the LDA.\n",
    "lda = LatentDirichletAllocation(n_components=15,random_state=1)"
   ]
  },
  {
   "cell_type": "code",
   "execution_count": 47,
   "metadata": {},
   "outputs": [
    {
     "data": {
      "text/plain": [
       "LatentDirichletAllocation(batch_size=128, doc_topic_prior=None,\n",
       "             evaluate_every=-1, learning_decay=0.7,\n",
       "             learning_method='batch', learning_offset=10.0,\n",
       "             max_doc_update_iter=100, max_iter=10, mean_change_tol=0.001,\n",
       "             n_components=15, n_jobs=None, n_topics=None, perp_tol=0.1,\n",
       "             random_state=1, topic_word_prior=None,\n",
       "             total_samples=1000000.0, verbose=0)"
      ]
     },
     "execution_count": 47,
     "metadata": {},
     "output_type": "execute_result"
    }
   ],
   "source": [
    "# fit the model with doc_term_matrix\n",
    "lda.fit(doc_term_matrix)"
   ]
  },
  {
   "cell_type": "markdown",
   "metadata": {},
   "source": [
    "Here i fit my LDA model on doc_term_matrix with following parameters\n",
    "n_components=15 and random_state=1. All other parameters are set to default value.\n",
    "\n",
    "random_state is the seed used by the random number generator; If RandomState instance, random_state is the random number generator; If None, the random number generator is the RandomState instance used by np.random ( default value is None)\n",
    "\n",
    "learning_decay is a another importent parameter. Its a flot value with default as 0.7.\n",
    "It is a parameter that control learning rate in the online learning method. The value should be set between (0.5, 1.0] to guarantee asymptotic convergence."
   ]
  },
  {
   "cell_type": "code",
   "execution_count": 48,
   "metadata": {},
   "outputs": [
    {
     "name": "stdout",
     "output_type": "stream",
     "text": [
      "Log Likelihood:  -8122533.54973646\n",
      "Perplexity:  3546.6198321572715\n"
     ]
    }
   ],
   "source": [
    "# Log Likelihood: Higher the better\n",
    "print(\"Log Likelihood: \", lda.score(doc_term_matrix))\n",
    "# Perplexity: Lower the better. Perplexity = exp(-1. * log-likelihood per word)\n",
    "print(\"Perplexity: \", lda.perplexity(doc_term_matrix))"
   ]
  },
  {
   "cell_type": "markdown",
   "metadata": {},
   "source": [
    "The performance of a LDA model can be measured using Log Likelihood and Perplexity metrics. A LDA mode with higher Log Likelihood is better than the model with lower Log Likelihood value. For  Perplexity metrix the model with loer value is consider as better one."
   ]
  },
  {
   "cell_type": "code",
   "execution_count": 18,
   "metadata": {},
   "outputs": [
    {
     "data": {
      "text/plain": [
       "17114"
      ]
     },
     "execution_count": 18,
     "metadata": {},
     "output_type": "execute_result"
    }
   ],
   "source": [
    "# return totla number of vocabularies in count_vectorizer\n",
    "len(count_vectorizer.get_feature_names())"
   ]
  },
  {
   "cell_type": "markdown",
   "metadata": {},
   "source": [
    "The count vectorizer contains list of all words that were found within the text documents,w hich we selected using specifying max_df, min_df and removing the stop words with in the documents."
   ]
  },
  {
   "cell_type": "code",
   "execution_count": 19,
   "metadata": {},
   "outputs": [
    {
     "data": {
      "text/plain": [
       "'ap'"
      ]
     },
     "execution_count": 19,
     "metadata": {},
     "output_type": "execute_result"
    }
   ],
   "source": [
    "# retun the word in the index position 1200\n",
    "count_vectorizer.get_feature_names()[1200]"
   ]
  },
  {
   "cell_type": "code",
   "execution_count": 20,
   "metadata": {},
   "outputs": [
    {
     "data": {
      "text/plain": [
       "array([[6.66666869e-02, 6.66667108e-02, 1.06666628e+00, ...,\n",
       "        6.66666906e-02, 6.66666696e-02, 6.66666667e-02],\n",
       "       [6.66666955e-02, 1.34321867e+01, 6.66666667e-02, ...,\n",
       "        6.66668042e-02, 6.66666757e-02, 6.66666821e-02],\n",
       "       [6.66668819e-02, 2.63734003e+02, 6.66667169e-02, ...,\n",
       "        6.66666846e-02, 6.66666909e-02, 6.66672558e-02],\n",
       "       ...,\n",
       "       [6.66667298e-02, 6.66666982e-02, 6.66666667e-02, ...,\n",
       "        6.66666667e-02, 6.66667770e-02, 6.66666742e-02],\n",
       "       [6.66666945e-02, 6.66667018e-02, 6.66666667e-02, ...,\n",
       "        6.66666667e-02, 6.66666725e-02, 9.06666605e+00],\n",
       "       [6.66666876e-02, 3.80882729e+01, 6.66667973e-02, ...,\n",
       "        6.66666667e-02, 5.62441492e-01, 6.66666667e-02]])"
      ]
     },
     "execution_count": 20,
     "metadata": {},
     "output_type": "execute_result"
    }
   ],
   "source": [
    "# return the probability distribution of words in the count_vectorizer corrsponding to each LDA component.\n",
    "lda.components_"
   ]
  },
  {
   "cell_type": "markdown",
   "metadata": {},
   "source": [
    "Here LDA model is consists of 15 components ie 15 topics and 17114 columns corresponding to  probability of each words in count vectorizer."
   ]
  },
  {
   "cell_type": "code",
   "execution_count": 21,
   "metadata": {},
   "outputs": [
    {
     "data": {
      "text/plain": [
       "(15, 17114)"
      ]
     },
     "execution_count": 21,
     "metadata": {},
     "output_type": "execute_result"
    }
   ],
   "source": [
    "lda.components_.shape"
   ]
  },
  {
   "cell_type": "markdown",
   "metadata": {},
   "source": [
    "Below I printed all the top 20 words in each topics with larger probability. Number of words required in each topic is set using the variable top_number = 20. Using for loop at two level and extracted the individual words from count_vectorizer based on the indexnumber from components."
   ]
  },
  {
   "cell_type": "code",
   "execution_count": 22,
   "metadata": {},
   "outputs": [
    {
     "name": "stdout",
     "output_type": "stream",
     "text": [
      "Top words for topic 0 are : \n",
      "['drive']['follow']['snapchat']['remove']['profile']['does']['hack']['problem']['delete']['car']['buy']['don']['know']['phone']['whatsapp']['mind']['people']['account']['facebook']['instagram']\n",
      "\n",
      "Top words for topic 1 are : \n",
      "['faster']['green']['ways']['way']['fast']['gain']['reduce']['review']['fat']['speed']['light']['war']['rid']['youtube']['hair']['movie']['does']['lose']['weight']['world']\n",
      "\n",
      "Top words for topic 2 are : \n",
      "['culture']['important']['market']['india']['know']['rupee']['government']['money']['black']['rs']['old']['going']['year']['1000']['500']['things']['notes']['indian']['day']['new']\n",
      "\n",
      "Top words for topic 3 are : \n",
      "['blood']['jee']['tv']['house']['tell']['power']['college']['date']['high']['different']['series']['game']['control']['2016']['guy']['video']['girls']['like']['girl']['know']\n",
      "\n",
      "Top words for topic 4 are : \n",
      "['life']['startup']['marketing']['differ']['idea']['united']['start']['states']['ways']['study']['sex']['work']['data']['earn']['business']['does']['online']['money']['good']['make']\n",
      "\n",
      "Top words for topic 5 are : \n",
      "['theory']['majors']['2016']['life']['presidential']['differences']['favorite']['purpose']['did']['looking']['right']['election']['win']['does']['math']['hillary']['clinton']['think']['donald']['trump']\n",
      "\n",
      "Top words for topic 6 are : \n",
      "['time']['tips']['mechanical']['process']['college']['engineer']['life']['career']['want']['student']['interview']['real']['year']['company']['improve']['good']['engineering']['english']['better']['job']\n",
      "\n",
      "Top words for topic 7 are : \n",
      "['story']['international']['advantages']['cat']['improvement']['experience']['child']['score']['war']['deal']['did']['interesting']['students']['usa']['does']['class']['countries']['years']['china']['president']\n",
      "\n",
      "Top words for topic 8 are : \n",
      "['provider']['games']['cost']['did']['solar']['major']['california']['created']['ca']['battle']['biggest']['compare']['place']['effects']['visit']['places']['pakistan']['energy']['best']['india']\n",
      "\n",
      "Top words for topic 9 are : \n",
      "['apps']['development']['support']['answers']['service']['windows']['answer']['web']['android']['people']['increase']['ask']['website']['app']['question']['use']['google']['questions']['best']['quora']\n",
      "\n",
      "Top words for topic 10 are : \n",
      "['happen']['look']['don']['relationship']['man']['time']['say']['think']['really']['person']['thing']['work']['long']['love']['feel']['mean']['did']['like']['people']['does']\n",
      "\n",
      "Top words for topic 11 are : \n",
      "['design']['watch']['improve']['prepare']['average']['hotel']['movie']['skills']['police']['java']['books']['learning']['movies']['book']['language']['programming']['start']['learn']['way']['best']\n",
      "\n",
      "Top words for topic 12 are : \n",
      "['matter']['air']['use']['size']['value']['people']['believe']['sentence']['sleep']['come']['god']['live']['human']['meaning']['life']['word']['like']['used']['country']['does']\n",
      "\n",
      "Top words for topic 13 are : \n",
      "['credit']['porn']['use']['using']['social']['mobile']['account']['laptop']['phone']['email']['travel']['password']['card']['possible']['science']['read']['number']['computer']['time']['difference']\n",
      "\n",
      "Top words for topic 14 are : \n",
      "['similar']['sell']['humans']['buy']['tv']['alcohol']['drug']['days']['center']['pregnant']['period']['test']['music']['song']['men']['women']['com']['water']['iphone']['examples']\n",
      "\n"
     ]
    }
   ],
   "source": [
    "# creating a loop to show the top number of words for each topic\n",
    "word_list = []\n",
    "probability_list = []\n",
    "\n",
    "top_number = 20\n",
    "count = 0\n",
    "for probability_number in lda.components_:\n",
    "    text_message = f\"Top words for topic {count} are : \"\n",
    "    print(text_message)    \n",
    "    for number in probability_number.argsort()[-top_number:]:\n",
    "        print([count_vectorizer.get_feature_names()[number]], end= \"\")\n",
    "    print(\"\\n\")  \n",
    "    count += 1"
   ]
  },
  {
   "cell_type": "markdown",
   "metadata": {},
   "source": [
    "15 topic with top 20 words related to each topic is printed above. Topic 0 can be considered as Social Media becuase top 20 words listed in it is manly related to questions related to social media. In the same way analysig the remaining topic we can inference a new topic based on most corelated words in the list. Even though we can observe that there is many words in each topic with no corelation between each other. It is also visible that some topics are highly related to each other based on the listed words. \n",
    "\n",
    "These problems are hoping to solve using lowering the components_ value and adjusting max_df and min_df."
   ]
  },
  {
   "cell_type": "code",
   "execution_count": 23,
   "metadata": {},
   "outputs": [],
   "source": [
    "# return the probability of each text file belonging to a particular topic\n",
    "textfile_topics = lda.transform(doc_term_matrix)"
   ]
  },
  {
   "cell_type": "code",
   "execution_count": 24,
   "metadata": {},
   "outputs": [
    {
     "data": {
      "text/plain": [
       "(200001, 15)"
      ]
     },
     "execution_count": 24,
     "metadata": {},
     "output_type": "execute_result"
    }
   ],
   "source": [
    "textfile_topics.shape"
   ]
  },
  {
   "cell_type": "markdown",
   "metadata": {},
   "source": [
    "Contains list of the 15 topics for all questions, so there are 200001 text files"
   ]
  },
  {
   "cell_type": "code",
   "execution_count": 26,
   "metadata": {},
   "outputs": [
    {
     "data": {
      "text/html": [
       "<div>\n",
       "<style scoped>\n",
       "    .dataframe tbody tr th:only-of-type {\n",
       "        vertical-align: middle;\n",
       "    }\n",
       "\n",
       "    .dataframe tbody tr th {\n",
       "        vertical-align: top;\n",
       "    }\n",
       "\n",
       "    .dataframe thead th {\n",
       "        text-align: right;\n",
       "    }\n",
       "</style>\n",
       "<table border=\"1\" class=\"dataframe\">\n",
       "  <thead>\n",
       "    <tr style=\"text-align: right;\">\n",
       "      <th></th>\n",
       "      <th>question</th>\n",
       "      <th>Topic number</th>\n",
       "    </tr>\n",
       "  </thead>\n",
       "  <tbody>\n",
       "    <tr>\n",
       "      <th>528339</th>\n",
       "      <td>How do I hack a wifi?</td>\n",
       "      <td>13</td>\n",
       "    </tr>\n",
       "    <tr>\n",
       "      <th>161450</th>\n",
       "      <td>Wwe is real fight?</td>\n",
       "      <td>6</td>\n",
       "    </tr>\n",
       "    <tr>\n",
       "      <th>699472</th>\n",
       "      <td>What is written in vedas?</td>\n",
       "      <td>6</td>\n",
       "    </tr>\n",
       "    <tr>\n",
       "      <th>736752</th>\n",
       "      <td>Why don't women propose to men in India?</td>\n",
       "      <td>3</td>\n",
       "    </tr>\n",
       "    <tr>\n",
       "      <th>772144</th>\n",
       "      <td>Which car should I buy for my parents in India?</td>\n",
       "      <td>0</td>\n",
       "    </tr>\n",
       "    <tr>\n",
       "      <th>329727</th>\n",
       "      <td>Would there be trans people if society had no ...</td>\n",
       "      <td>5</td>\n",
       "    </tr>\n",
       "    <tr>\n",
       "      <th>467123</th>\n",
       "      <td>What is a data scientist?</td>\n",
       "      <td>4</td>\n",
       "    </tr>\n",
       "    <tr>\n",
       "      <th>565569</th>\n",
       "      <td>I recently lost my phone. How can I get it back?</td>\n",
       "      <td>13</td>\n",
       "    </tr>\n",
       "    <tr>\n",
       "      <th>450954</th>\n",
       "      <td>How do I use anonymous.com?</td>\n",
       "      <td>9</td>\n",
       "    </tr>\n",
       "    <tr>\n",
       "      <th>682524</th>\n",
       "      <td>What are the best Bollywood movies of 2016 so ...</td>\n",
       "      <td>11</td>\n",
       "    </tr>\n",
       "    <tr>\n",
       "      <th>251368</th>\n",
       "      <td>How can learn English?</td>\n",
       "      <td>11</td>\n",
       "    </tr>\n",
       "    <tr>\n",
       "      <th>644404</th>\n",
       "      <td>What is the best strategy to increase engageme...</td>\n",
       "      <td>9</td>\n",
       "    </tr>\n",
       "    <tr>\n",
       "      <th>765818</th>\n",
       "      <td>Why can't men wear tights?</td>\n",
       "      <td>14</td>\n",
       "    </tr>\n",
       "    <tr>\n",
       "      <th>786053</th>\n",
       "      <td>CSIM, Matlab, Java sim which would be best for...</td>\n",
       "      <td>5</td>\n",
       "    </tr>\n",
       "    <tr>\n",
       "      <th>348011</th>\n",
       "      <td>What is like to study international relations?</td>\n",
       "      <td>7</td>\n",
       "    </tr>\n",
       "    <tr>\n",
       "      <th>231021</th>\n",
       "      <td>Which is the best phone below 15000?</td>\n",
       "      <td>11</td>\n",
       "    </tr>\n",
       "    <tr>\n",
       "      <th>797148</th>\n",
       "      <td>What will the afterlife be like?</td>\n",
       "      <td>7</td>\n",
       "    </tr>\n",
       "    <tr>\n",
       "      <th>322078</th>\n",
       "      <td>How safe is Georgia?</td>\n",
       "      <td>0</td>\n",
       "    </tr>\n",
       "    <tr>\n",
       "      <th>697576</th>\n",
       "      <td>What is ink made from? How is it made?</td>\n",
       "      <td>13</td>\n",
       "    </tr>\n",
       "    <tr>\n",
       "      <th>50270</th>\n",
       "      <td>What are the most efficient methods for me to ...</td>\n",
       "      <td>11</td>\n",
       "    </tr>\n",
       "    <tr>\n",
       "      <th>165330</th>\n",
       "      <td>Do engineering classes depend on physics and c...</td>\n",
       "      <td>11</td>\n",
       "    </tr>\n",
       "    <tr>\n",
       "      <th>362543</th>\n",
       "      <td>Are dark matter and dark energy: energy?</td>\n",
       "      <td>8</td>\n",
       "    </tr>\n",
       "    <tr>\n",
       "      <th>513003</th>\n",
       "      <td>Are structural health monitoring researches sa...</td>\n",
       "      <td>5</td>\n",
       "    </tr>\n",
       "    <tr>\n",
       "      <th>80162</th>\n",
       "      <td>Can I use open source software for commercial ...</td>\n",
       "      <td>9</td>\n",
       "    </tr>\n",
       "    <tr>\n",
       "      <th>744948</th>\n",
       "      <td>Why can't I buy with my gift card balance on A...</td>\n",
       "      <td>4</td>\n",
       "    </tr>\n",
       "    <tr>\n",
       "      <th>140523</th>\n",
       "      <td>Are there any languages that are still spoken,...</td>\n",
       "      <td>12</td>\n",
       "    </tr>\n",
       "    <tr>\n",
       "      <th>749240</th>\n",
       "      <td>How Subsea Wells are drilled?</td>\n",
       "      <td>13</td>\n",
       "    </tr>\n",
       "    <tr>\n",
       "      <th>10093</th>\n",
       "      <td>How do you see PM2.5?</td>\n",
       "      <td>0</td>\n",
       "    </tr>\n",
       "    <tr>\n",
       "      <th>628946</th>\n",
       "      <td>What is it like to regret having children?</td>\n",
       "      <td>10</td>\n",
       "    </tr>\n",
       "    <tr>\n",
       "      <th>700965</th>\n",
       "      <td>What do you think about the BJP government not...</td>\n",
       "      <td>2</td>\n",
       "    </tr>\n",
       "    <tr>\n",
       "      <th>...</th>\n",
       "      <td>...</td>\n",
       "      <td>...</td>\n",
       "    </tr>\n",
       "    <tr>\n",
       "      <th>477190</th>\n",
       "      <td>What are good books written in Tamil that have...</td>\n",
       "      <td>11</td>\n",
       "    </tr>\n",
       "    <tr>\n",
       "      <th>596301</th>\n",
       "      <td>How immediately come frog in rainy day?</td>\n",
       "      <td>9</td>\n",
       "    </tr>\n",
       "    <tr>\n",
       "      <th>622972</th>\n",
       "      <td>Why isn't Quora listed in Klout?</td>\n",
       "      <td>9</td>\n",
       "    </tr>\n",
       "    <tr>\n",
       "      <th>75637</th>\n",
       "      <td>Do you really think what ever happens is as pe...</td>\n",
       "      <td>7</td>\n",
       "    </tr>\n",
       "    <tr>\n",
       "      <th>307044</th>\n",
       "      <td>What is the english translation for the word i...</td>\n",
       "      <td>6</td>\n",
       "    </tr>\n",
       "    <tr>\n",
       "      <th>334078</th>\n",
       "      <td>How does one deal with a bully at work?</td>\n",
       "      <td>10</td>\n",
       "    </tr>\n",
       "    <tr>\n",
       "      <th>550572</th>\n",
       "      <td>What is genetic drift? What are some types?</td>\n",
       "      <td>14</td>\n",
       "    </tr>\n",
       "    <tr>\n",
       "      <th>210962</th>\n",
       "      <td>Which hotels in ernakulam allow unmarried coup...</td>\n",
       "      <td>11</td>\n",
       "    </tr>\n",
       "    <tr>\n",
       "      <th>373899</th>\n",
       "      <td>Is Bitcoin mining still profitable in 2016?</td>\n",
       "      <td>4</td>\n",
       "    </tr>\n",
       "    <tr>\n",
       "      <th>587383</th>\n",
       "      <td>What is the most popular board game that is no...</td>\n",
       "      <td>3</td>\n",
       "    </tr>\n",
       "    <tr>\n",
       "      <th>506388</th>\n",
       "      <td>What is the single best excercise for your abs?</td>\n",
       "      <td>1</td>\n",
       "    </tr>\n",
       "    <tr>\n",
       "      <th>120229</th>\n",
       "      <td>What time does USPS usually deliver?</td>\n",
       "      <td>10</td>\n",
       "    </tr>\n",
       "    <tr>\n",
       "      <th>78277</th>\n",
       "      <td>Bitcoin in India: Where can I buy bitcoins in ...</td>\n",
       "      <td>0</td>\n",
       "    </tr>\n",
       "    <tr>\n",
       "      <th>472705</th>\n",
       "      <td>Wouldn't ISPs block forum sites without net ne...</td>\n",
       "      <td>13</td>\n",
       "    </tr>\n",
       "    <tr>\n",
       "      <th>250435</th>\n",
       "      <td>Why did Zeus trick Hades ?And he gave him the ...</td>\n",
       "      <td>10</td>\n",
       "    </tr>\n",
       "    <tr>\n",
       "      <th>264339</th>\n",
       "      <td>How can I become a professional listener?</td>\n",
       "      <td>11</td>\n",
       "    </tr>\n",
       "    <tr>\n",
       "      <th>669794</th>\n",
       "      <td>How big a problem is people mischievously edit...</td>\n",
       "      <td>9</td>\n",
       "    </tr>\n",
       "    <tr>\n",
       "      <th>407767</th>\n",
       "      <td>Why do people bully others?</td>\n",
       "      <td>12</td>\n",
       "    </tr>\n",
       "    <tr>\n",
       "      <th>782464</th>\n",
       "      <td>How should we define an engaged user for Google+?</td>\n",
       "      <td>0</td>\n",
       "    </tr>\n",
       "    <tr>\n",
       "      <th>378393</th>\n",
       "      <td>What are the best colleges for studying econom...</td>\n",
       "      <td>6</td>\n",
       "    </tr>\n",
       "    <tr>\n",
       "      <th>136275</th>\n",
       "      <td>Where can I find public or free real-time or s...</td>\n",
       "      <td>4</td>\n",
       "    </tr>\n",
       "    <tr>\n",
       "      <th>236428</th>\n",
       "      <td>How do I learn machine learning?</td>\n",
       "      <td>11</td>\n",
       "    </tr>\n",
       "    <tr>\n",
       "      <th>474798</th>\n",
       "      <td>How can I learn to speak English fluently?</td>\n",
       "      <td>6</td>\n",
       "    </tr>\n",
       "    <tr>\n",
       "      <th>765494</th>\n",
       "      <td>How will it be after death? Where does the sou...</td>\n",
       "      <td>12</td>\n",
       "    </tr>\n",
       "    <tr>\n",
       "      <th>627277</th>\n",
       "      <td>What are some differences between Latin Americ...</td>\n",
       "      <td>10</td>\n",
       "    </tr>\n",
       "    <tr>\n",
       "      <th>256607</th>\n",
       "      <td>What is an inclined plane? What are examples o...</td>\n",
       "      <td>14</td>\n",
       "    </tr>\n",
       "    <tr>\n",
       "      <th>300740</th>\n",
       "      <td>How can I prove that a negative number multipl...</td>\n",
       "      <td>13</td>\n",
       "    </tr>\n",
       "    <tr>\n",
       "      <th>531674</th>\n",
       "      <td>How do I learn English step by step?</td>\n",
       "      <td>11</td>\n",
       "    </tr>\n",
       "    <tr>\n",
       "      <th>139362</th>\n",
       "      <td>In what ways are you privileged and in what wa...</td>\n",
       "      <td>4</td>\n",
       "    </tr>\n",
       "    <tr>\n",
       "      <th>702490</th>\n",
       "      <td>Is time travel possible? If yes how</td>\n",
       "      <td>13</td>\n",
       "    </tr>\n",
       "  </tbody>\n",
       "</table>\n",
       "<p>200001 rows × 2 columns</p>\n",
       "</div>"
      ],
      "text/plain": [
       "                                                 question  Topic number\n",
       "528339                              How do I hack a wifi?            13\n",
       "161450                                 Wwe is real fight?             6\n",
       "699472                          What is written in vedas?             6\n",
       "736752           Why don't women propose to men in India?             3\n",
       "772144    Which car should I buy for my parents in India?             0\n",
       "329727  Would there be trans people if society had no ...             5\n",
       "467123                          What is a data scientist?             4\n",
       "565569   I recently lost my phone. How can I get it back?            13\n",
       "450954                        How do I use anonymous.com?             9\n",
       "682524  What are the best Bollywood movies of 2016 so ...            11\n",
       "251368                             How can learn English?            11\n",
       "644404  What is the best strategy to increase engageme...             9\n",
       "765818                         Why can't men wear tights?            14\n",
       "786053  CSIM, Matlab, Java sim which would be best for...             5\n",
       "348011     What is like to study international relations?             7\n",
       "231021               Which is the best phone below 15000?            11\n",
       "797148                   What will the afterlife be like?             7\n",
       "322078                               How safe is Georgia?             0\n",
       "697576             What is ink made from? How is it made?            13\n",
       "50270   What are the most efficient methods for me to ...            11\n",
       "165330  Do engineering classes depend on physics and c...            11\n",
       "362543           Are dark matter and dark energy: energy?             8\n",
       "513003  Are structural health monitoring researches sa...             5\n",
       "80162   Can I use open source software for commercial ...             9\n",
       "744948  Why can't I buy with my gift card balance on A...             4\n",
       "140523  Are there any languages that are still spoken,...            12\n",
       "749240                      How Subsea Wells are drilled?            13\n",
       "10093                               How do you see PM2.5?             0\n",
       "628946         What is it like to regret having children?            10\n",
       "700965  What do you think about the BJP government not...             2\n",
       "...                                                   ...           ...\n",
       "477190  What are good books written in Tamil that have...            11\n",
       "596301            How immediately come frog in rainy day?             9\n",
       "622972                   Why isn't Quora listed in Klout?             9\n",
       "75637   Do you really think what ever happens is as pe...             7\n",
       "307044  What is the english translation for the word i...             6\n",
       "334078            How does one deal with a bully at work?            10\n",
       "550572        What is genetic drift? What are some types?            14\n",
       "210962  Which hotels in ernakulam allow unmarried coup...            11\n",
       "373899        Is Bitcoin mining still profitable in 2016?             4\n",
       "587383  What is the most popular board game that is no...             3\n",
       "506388    What is the single best excercise for your abs?             1\n",
       "120229               What time does USPS usually deliver?            10\n",
       "78277   Bitcoin in India: Where can I buy bitcoins in ...             0\n",
       "472705  Wouldn't ISPs block forum sites without net ne...            13\n",
       "250435  Why did Zeus trick Hades ?And he gave him the ...            10\n",
       "264339          How can I become a professional listener?            11\n",
       "669794  How big a problem is people mischievously edit...             9\n",
       "407767                        Why do people bully others?            12\n",
       "782464  How should we define an engaged user for Google+?             0\n",
       "378393  What are the best colleges for studying econom...             6\n",
       "136275  Where can I find public or free real-time or s...             4\n",
       "236428                   How do I learn machine learning?            11\n",
       "474798         How can I learn to speak English fluently?             6\n",
       "765494  How will it be after death? Where does the sou...            12\n",
       "627277  What are some differences between Latin Americ...            10\n",
       "256607  What is an inclined plane? What are examples o...            14\n",
       "300740  How can I prove that a negative number multipl...            13\n",
       "531674               How do I learn English step by step?            11\n",
       "139362  In what ways are you privileged and in what wa...             4\n",
       "702490                Is time travel possible? If yes how            13\n",
       "\n",
       "[200001 rows x 2 columns]"
      ]
     },
     "execution_count": 26,
     "metadata": {},
     "output_type": "execute_result"
    }
   ],
   "source": [
    "# I'm using a loop to find the highest topic number that each document belongs to\n",
    "# then assigning that number to the data frame.\n",
    "# the topic number will extracted using argmax() function and append with topic_list array.\n",
    "# The new array will inserted in to the data frame as a new column name Topic number\n",
    "\n",
    "topic_list = []\n",
    "# Textfile_topics is a list of arrays containing \n",
    "# all index positions of words for each textfile\n",
    "for popular_index_pos in textfile_topics:\n",
    "    # Get the max index position in each array\n",
    "    # and add to the topic_list list\n",
    "    topic_list.append(popular_index_pos.argmax())\n",
    "\n",
    "# Add a new column to the dataframe\n",
    "dataframe[\"Topic number\"] = topic_list\n",
    "dataframe"
   ]
  },
  {
   "cell_type": "markdown",
   "metadata": {},
   "source": [
    "Examining the above table, it is clear that the topic modelling corresponding to the questions in the data frame is not much accurate.\n",
    "\n",
    "It is clear that we  need a bettere model with higher accuracy. Majority of topic number assigned to the questions in the data frame is not correct one. \n",
    "\n",
    "We can create a new better model by adjusting the max_df and min_df values and choosing best parameter values for components and learning decay."
   ]
  },
  {
   "cell_type": "markdown",
   "metadata": {},
   "source": [
    "## GridSearch for the best LDA model"
   ]
  },
  {
   "cell_type": "markdown",
   "metadata": {},
   "source": [
    "We will use GridSearch to find out best LDA model with optimized parameter values. We can set custem search patterns with range of values for each LDA model parameters. n_components, learning_decay, learning_offset, and max_iter are the major possible search parameters we can use  with our GridSearch. \n",
    "\n",
    "The grid search constructs multiple LDA models for all possible combinations of param values in the param_grid dict. Here for our model we are only using n_components and learning_decay parameters only for our search amd model selection."
   ]
  },
  {
   "cell_type": "code",
   "execution_count": 49,
   "metadata": {},
   "outputs": [
    {
     "data": {
      "text/plain": [
       "GridSearchCV(cv='warn', error_score='raise-deprecating',\n",
       "       estimator=LatentDirichletAllocation(batch_size=128, doc_topic_prior=None,\n",
       "             evaluate_every=-1, learning_decay=0.7,\n",
       "             learning_method='batch', learning_offset=10.0,\n",
       "             max_doc_update_iter=100, max_iter=10, mean_change_tol=0.001,\n",
       "             n_components=10, n_jobs=None, n_topics=None, perp_tol=0.1,\n",
       "             random_state=None, topic_word_prior=None,\n",
       "             total_samples=1000000.0, verbose=0),\n",
       "       fit_params=None, iid='warn', n_jobs=None,\n",
       "       param_grid={'n_components': [10, 15, 20], 'learning_decay': [0.5, 0.7]},\n",
       "       pre_dispatch='2*n_jobs', refit=True, return_train_score='warn',\n",
       "       scoring=None, verbose=0)"
      ]
     },
     "execution_count": 49,
     "metadata": {},
     "output_type": "execute_result"
    }
   ],
   "source": [
    "from sklearn.model_selection import GridSearchCV\n",
    "\n",
    "# Define Search Param\n",
    "search_params = {'n_components': [10, 15, 20], 'learning_decay': [.5, .7]}\n",
    "\n",
    "# Init the Model\n",
    "lda_comparison = LatentDirichletAllocation()\n",
    "\n",
    "# Init Grid Search Class\n",
    "lda_comparison = GridSearchCV(lda_comparison, param_grid=search_params)\n",
    "\n",
    "# Do the Grid Search\n",
    "lda_comparison.fit(doc_term_matrix)"
   ]
  },
  {
   "cell_type": "code",
   "execution_count": 50,
   "metadata": {},
   "outputs": [
    {
     "name": "stdout",
     "output_type": "stream",
     "text": [
      "Best Model's Params:  {'learning_decay': 0.5, 'n_components': 10}\n",
      "Best Log Likelihood Score:  -2823614.4162483294\n",
      "Model Perplexity:  3469.486589798985\n"
     ]
    }
   ],
   "source": [
    "# Best Model which gave highest score \n",
    "best_lda_model = lda_comparison.best_estimator_\n",
    "\n",
    "# Model Parameters is used to store a list of parameter settings dicts for all the parameter candidates\n",
    "print(\"Best Model's Params: \", lda_comparison.best_params_)\n",
    "\n",
    "# Log Likelihood Score\n",
    "print(\"Best Log Likelihood Score: \", lda_comparison.best_score_)\n",
    "\n",
    "# Perplexity\n",
    "print(\"Model Perplexity: \", best_lda_model.perplexity(doc_term_matrix))"
   ]
  },
  {
   "cell_type": "markdown",
   "metadata": {},
   "source": [
    "## LDA Model Performance Scores analysis"
   ]
  },
  {
   "cell_type": "markdown",
   "metadata": {},
   "source": [
    "After running the grid search,  from the output it is clear that, learning_decay': 0.5, and 'n_components': 10 are the optimized parameter to create a best fit model.\n",
    "\n",
    "For the suggested model the Log Likelihood Score = -2823614.4162483294 and for the previous model the og Likelihood Score = -8122533.54973646.\n",
    "\n",
    "The Log Likelihood score of the new suggested model is much higher than previous model.\n",
    "\n",
    "In the same way the Model Perplexity of the first model with n_components = 15 is 3546.6198321572715 and for our new GridSearch suggested model the Perplexity score is 3469.486589798985 which is smaller than the first model.\n",
    "\n",
    "Hence we can conclude that constructiong a new model with learning_decay': 0.5, n_components': 10 and random_state= None can deliver better out put.\n",
    "\n",
    "So we need to construct a new model with n_components': 10 and learning_decay': 0.5 \n",
    "\n",
    "ie a new model to suggest 10 topic categories."
   ]
  },
  {
   "cell_type": "markdown",
   "metadata": {},
   "source": [
    "## New LDA Model with new parameters - Model 2"
   ]
  },
  {
   "cell_type": "code",
   "execution_count": 51,
   "metadata": {},
   "outputs": [
    {
     "data": {
      "text/plain": [
       "<200001x27010 sparse matrix of type '<class 'numpy.int64'>'\n",
       "\twith 988045 stored elements in Compressed Sparse Row format>"
      ]
     },
     "execution_count": 51,
     "metadata": {},
     "output_type": "execute_result"
    }
   ],
   "source": [
    "# initialise an instance of the count vectorizer\n",
    "count_vectorizer1 = CountVectorizer(max_df=0.90, min_df=2, stop_words=\"english\")\n",
    "# fit and then transforms data into a numerical vector\n",
    "doc_term_matrix1 = count_vectorizer1.fit_transform(dataframe[\"question\"])\n",
    "# print the new doc_term_matrix1\n",
    "doc_term_matrix1"
   ]
  },
  {
   "cell_type": "markdown",
   "metadata": {},
   "source": [
    "Here we will create a new doc_term_matrix1 by setting max_df=0.90 and min_df=2"
   ]
  },
  {
   "cell_type": "code",
   "execution_count": 52,
   "metadata": {},
   "outputs": [],
   "source": [
    "# initialise an instance of the LDA with GridSearch suggested parameters\n",
    "lda2 = LatentDirichletAllocation(n_components=10,learning_decay=0.5,random_state=None)"
   ]
  },
  {
   "cell_type": "code",
   "execution_count": 53,
   "metadata": {},
   "outputs": [
    {
     "data": {
      "text/plain": [
       "LatentDirichletAllocation(batch_size=128, doc_topic_prior=None,\n",
       "             evaluate_every=-1, learning_decay=0.5,\n",
       "             learning_method='batch', learning_offset=10.0,\n",
       "             max_doc_update_iter=100, max_iter=10, mean_change_tol=0.001,\n",
       "             n_components=10, n_jobs=None, n_topics=None, perp_tol=0.1,\n",
       "             random_state=None, topic_word_prior=None,\n",
       "             total_samples=1000000.0, verbose=0)"
      ]
     },
     "execution_count": 53,
     "metadata": {},
     "output_type": "execute_result"
    }
   ],
   "source": [
    "# fit the model with new doc_term_matrix1\n",
    "lda2.fit(doc_term_matrix1)"
   ]
  },
  {
   "cell_type": "code",
   "execution_count": 54,
   "metadata": {},
   "outputs": [
    {
     "name": "stdout",
     "output_type": "stream",
     "text": [
      "Log Likelihood:  -8516714.2002367\n",
      "Perplexity:  4318.106941042106\n"
     ]
    }
   ],
   "source": [
    "# Log Likelihood Score\n",
    "print(\"Log Likelihood: \", lda2.score(doc_term_matrix1))\n",
    "# Perplexity\n",
    "print(\"Perplexity: \", lda2.perplexity(doc_term_matrix1))"
   ]
  },
  {
   "cell_type": "markdown",
   "metadata": {},
   "source": [
    "Here the Log Likelihood = -8516714.2002367 and for the first model Log Likelihood = -8122533.54973646. so Log Likelihood of our new model is smaller than the previous one.\n",
    "\n",
    "For the new model Perplexity: 4318.106941042106 and for the previous one Perplexity: 3546.6198321572715. The Perplexity of the new model is larger than t he first model.\n",
    "\n",
    "Smaller Log Likelihood value and larger Perplexity of our new model suggest that this model is Not better than the first model"
   ]
  },
  {
   "cell_type": "markdown",
   "metadata": {},
   "source": [
    "##  A New Model with suggested gridsearch parammeters - Model -3\n",
    "\n",
    "n_components=10,\n",
    "learning_decay=0.5\n",
    "\n",
    "and max_df = 0.70 and min_df = 4. ( ie first model values  )"
   ]
  },
  {
   "cell_type": "code",
   "execution_count": 64,
   "metadata": {},
   "outputs": [
    {
     "data": {
      "text/plain": [
       "<200001x17114 sparse matrix of type '<class 'numpy.int64'>'\n",
       "\twith 964821 stored elements in Compressed Sparse Row format>"
      ]
     },
     "execution_count": 64,
     "metadata": {},
     "output_type": "execute_result"
    }
   ],
   "source": [
    "# initialise an instance of the count vectorizer\n",
    "count_vectorizer1 = CountVectorizer(max_df=0.70, min_df=4, stop_words=\"english\")\n",
    "# fit and then transforms data into a numerical vector\n",
    "doc_term_matrix1 = count_vectorizer1.fit_transform(dataframe[\"question\"])\n",
    "# print the new doc_term_matrix1\n",
    "doc_term_matrix1"
   ]
  },
  {
   "cell_type": "code",
   "execution_count": 61,
   "metadata": {},
   "outputs": [],
   "source": [
    "# initialise an instance of the LDA with GridSearch suggested parameters\n",
    "lda2 = LatentDirichletAllocation(n_components=10,learning_decay=0.5,random_state=1)"
   ]
  },
  {
   "cell_type": "code",
   "execution_count": 62,
   "metadata": {},
   "outputs": [
    {
     "data": {
      "text/plain": [
       "LatentDirichletAllocation(batch_size=128, doc_topic_prior=None,\n",
       "             evaluate_every=-1, learning_decay=0.5,\n",
       "             learning_method='batch', learning_offset=10.0,\n",
       "             max_doc_update_iter=100, max_iter=10, mean_change_tol=0.001,\n",
       "             n_components=10, n_jobs=None, n_topics=None, perp_tol=0.1,\n",
       "             random_state=1, topic_word_prior=None,\n",
       "             total_samples=1000000.0, verbose=0)"
      ]
     },
     "execution_count": 62,
     "metadata": {},
     "output_type": "execute_result"
    }
   ],
   "source": [
    "# fit the model with new doc_term_matrix1\n",
    "lda2.fit(doc_term_matrix1)"
   ]
  },
  {
   "cell_type": "code",
   "execution_count": 63,
   "metadata": {},
   "outputs": [
    {
     "name": "stdout",
     "output_type": "stream",
     "text": [
      "Log Likelihood:  -8146711.012216317\n",
      "Perplexity:  3633.9670531592847\n"
     ]
    }
   ],
   "source": [
    "# Log Likelihood Score\n",
    "print(\"Log Likelihood: \", lda2.score(doc_term_matrix1))\n",
    "# Perplexity\n",
    "print(\"Perplexity: \", lda2.perplexity(doc_term_matrix1))"
   ]
  },
  {
   "cell_type": "markdown",
   "metadata": {},
   "source": [
    "Here the Log Likelihood = -8146711.012216317 and for the first model Log Likelihood = -8122533.54973646. so Log Likelihood of our new model is slightly smaller than the previous one.\n",
    "\n",
    "For the new model Perplexity:  3633.9670531592847 and for the previous one Perplexity: 3546.6198321572715. The Perplexity of the new model is larger than the first model. \n",
    "\n",
    "\n",
    "So slightly Smaller Log Likelihood value and larger Perplexity of our new model suggest that the model is Not better than the first model but almost equal to the first model in performance."
   ]
  },
  {
   "cell_type": "markdown",
   "metadata": {},
   "source": [
    "## Following the all previously explaned step to create the Topic Array"
   ]
  },
  {
   "cell_type": "code",
   "execution_count": 75,
   "metadata": {},
   "outputs": [
    {
     "data": {
      "text/plain": [
       "17114"
      ]
     },
     "execution_count": 75,
     "metadata": {},
     "output_type": "execute_result"
    }
   ],
   "source": [
    "# return totla number of vocabularies in count_vectorizer\n",
    "len(count_vectorizer1.get_feature_names())"
   ]
  },
  {
   "cell_type": "code",
   "execution_count": 76,
   "metadata": {},
   "outputs": [
    {
     "data": {
      "text/plain": [
       "'ap'"
      ]
     },
     "execution_count": 76,
     "metadata": {},
     "output_type": "execute_result"
    }
   ],
   "source": [
    "# retun the word in the index position 1200\n",
    "count_vectorizer1.get_feature_names()[1200]"
   ]
  },
  {
   "cell_type": "code",
   "execution_count": 77,
   "metadata": {},
   "outputs": [
    {
     "data": {
      "text/plain": [
       "array([[1.00005944e-01, 1.00004095e-01, 1.00004870e-01, ...,\n",
       "        1.00002580e-01, 1.00001692e-01, 1.00000000e-01],\n",
       "       [1.00009717e-01, 1.16375945e-01, 1.00000000e-01, ...,\n",
       "        1.00006453e-01, 1.00000800e-01, 1.00007799e-01],\n",
       "       [1.00021518e-01, 1.52306387e+02, 1.00016488e-01, ...,\n",
       "        1.00006784e-01, 1.00002340e-01, 1.00124851e-01],\n",
       "       ...,\n",
       "       [3.70547144e+01, 1.00004732e-01, 1.00000000e-01, ...,\n",
       "        1.00000001e-01, 1.00000848e-01, 1.00000000e-01],\n",
       "       [1.45216835e-01, 4.27248340e-01, 1.00000000e-01, ...,\n",
       "        8.09994912e+00, 1.00007402e-01, 1.00000001e-01],\n",
       "       [1.00004585e-01, 1.00536290e-01, 1.00000000e-01, ...,\n",
       "        1.00000348e-01, 1.00000308e-01, 9.09985370e+00]])"
      ]
     },
     "execution_count": 77,
     "metadata": {},
     "output_type": "execute_result"
    }
   ],
   "source": [
    "# return the probability distribution of words in the count_vectorizer corrsponding to each LDA component.\n",
    "lda2.components_"
   ]
  },
  {
   "cell_type": "code",
   "execution_count": 78,
   "metadata": {},
   "outputs": [
    {
     "data": {
      "text/plain": [
       "(10, 17114)"
      ]
     },
     "execution_count": 78,
     "metadata": {},
     "output_type": "execute_result"
    }
   ],
   "source": [
    "lda2.components_.shape"
   ]
  },
  {
   "cell_type": "markdown",
   "metadata": {},
   "source": [
    "Here LDA model is consists of 10 components ie 10 topics and 17114 columns corresponding to probability of each words in count vectorizer."
   ]
  },
  {
   "cell_type": "code",
   "execution_count": 79,
   "metadata": {},
   "outputs": [],
   "source": [
    "# load the index positions of the first topic into an array\n",
    "first_topic = lda2.components_[0]"
   ]
  },
  {
   "cell_type": "code",
   "execution_count": 80,
   "metadata": {},
   "outputs": [
    {
     "data": {
      "text/plain": [
       "array([ 5523,  3001,  2041, ...,   601, 12398, 11341])"
      ]
     },
     "execution_count": 80,
     "metadata": {},
     "output_type": "execute_result"
    }
   ],
   "source": [
    "# return sorted index position of vocabulary\n",
    "first_topic.argsort()"
   ]
  },
  {
   "cell_type": "markdown",
   "metadata": {},
   "source": [
    "The sorted index positions of the least to greatest values of the probability of words using the argsort() command. Otherwise we would have a random list of index positions based on the count vectorizer.\n",
    "\n",
    "The outputted list represents the entire index positions of all probabilities of words for the entire vocabulary."
   ]
  },
  {
   "cell_type": "code",
   "execution_count": 81,
   "metadata": {},
   "outputs": [
    {
     "data": {
      "text/plain": [
       "(17114, numpy.ndarray)"
      ]
     },
     "execution_count": 81,
     "metadata": {},
     "output_type": "execute_result"
    }
   ],
   "source": [
    "len(first_topic.argsort()), type(first_topic.argsort())"
   ]
  },
  {
   "cell_type": "markdown",
   "metadata": {},
   "source": [
    "The argsort array is the same size as the count vectorizer since is represents a list of probabilities for all words that exist in the vocabulary of words from the text files."
   ]
  },
  {
   "cell_type": "code",
   "execution_count": 82,
   "metadata": {},
   "outputs": [
    {
     "data": {
      "text/plain": [
       "array([10649,  9870, 11229, 11395, 12373,  8656, 11474,  8149,  7941,\n",
       "        4888,  4916,  5816,   601, 12398, 11341])"
      ]
     },
     "execution_count": 82,
     "metadata": {},
     "output_type": "execute_result"
    }
   ],
   "source": [
    "first_topic.argsort()[-15:]"
   ]
  },
  {
   "cell_type": "markdown",
   "metadata": {},
   "source": [
    "Given the highest probabilities of words for the first topic by going to the end of the array and chooing the least number of numbers. For example, to view the top 15 highest probability of words for the first topic, going from 15th to 1st,"
   ]
  },
  {
   "cell_type": "code",
   "execution_count": 83,
   "metadata": {},
   "outputs": [
    {
     "name": "stdout",
     "output_type": "stream",
     "text": [
      "maroon\n"
     ]
    }
   ],
   "source": [
    "# retun the word in the index position 9493\n",
    "print(count_vectorizer1.get_feature_names()[9493])"
   ]
  },
  {
   "cell_type": "code",
   "execution_count": 84,
   "metadata": {},
   "outputs": [
    {
     "name": "stdout",
     "output_type": "stream",
     "text": [
      "acquisitions\n"
     ]
    }
   ],
   "source": [
    "# retun the word in the index position 646\n",
    "print(count_vectorizer1.get_feature_names()[646])"
   ]
  },
  {
   "cell_type": "markdown",
   "metadata": {},
   "source": [
    "showing the words in the first topic using a loop.\n",
    "Here using a function, first to take in the x and y axis data and to then generate a bar chart of the most common words that belog to the topic."
   ]
  },
  {
   "cell_type": "code",
   "execution_count": 85,
   "metadata": {},
   "outputs": [],
   "source": [
    "def show_chart(words, count, chart_title):\n",
    "    import matplotlib.pyplot as plt\n",
    "    d = pd.DataFrame({\"Words\": word_list, \"Count\": probability_list})\n",
    "    # Sort the dataframe by largest count\n",
    "    d = d.sort_values(by=[\"Count\"], ascending=False)\n",
    "    ax = d.plot.bar(y = \"Count\", \n",
    "                    x=\"Words\", \n",
    "                    title= chart_title, \n",
    "                    figsize=(15, 10), \n",
    "                    legend=True, \n",
    "                    fontsize=12, \n",
    "                    rot=1)\n",
    "    ax.set_xlabel(\"Frequent words\", fontsize=12)\n",
    "    ax.set_ylabel(\"Word count\", fontsize=12)"
   ]
  },
  {
   "cell_type": "code",
   "execution_count": 86,
   "metadata": {},
   "outputs": [
    {
     "name": "stdout",
     "output_type": "stream",
     "text": [
      "number\n",
      "mind\n",
      "password\n",
      "person\n",
      "question\n",
      "know\n",
      "phone\n",
      "iphone\n",
      "instagram\n",
      "does\n",
      "don\n",
      "facebook\n",
      "account\n",
      "quora\n",
      "people\n"
     ]
    },
    {
     "data": {
      "image/png": "[encoded data removed]",
      "text/plain": [
       "<Figure size 1080x720 with 1 Axes>"
      ]
     },
     "metadata": {
      "needs_background": "light"
     },
     "output_type": "display_data"
    }
   ],
   "source": [
    "word_list = []\n",
    "probability_list = []\n",
    "\n",
    "for index in first_topic.argsort()[-15:]:\n",
    "    frequent_word = count_vectorizer1.get_feature_names()[index]\n",
    "    print(frequent_word, sep=\" \")\n",
    "    word_list.append(frequent_word)\n",
    "    probability_list.append(index)\n",
    "    \n",
    "show_chart(word_list, probability_list, \"Word probability for first topic\")"
   ]
  },
  {
   "cell_type": "code",
   "execution_count": 87,
   "metadata": {
    "scrolled": false
   },
   "outputs": [
    {
     "name": "stdout",
     "output_type": "stream",
     "text": [
      "Top words for topic 0 are : \n",
      "['use']['human']['email']['exist']['whatsapp']['number']['mind']['password']['person']['question']['know']['phone']['iphone']['instagram']['does']['don']['facebook']['account']['quora']['people']\n",
      "\n",
      "Top words for topic 1 are : \n",
      "['time']['fat']['youtube']['light']['war']['hair']['did']['friend']['earth']['way']['movie']['lose']['weight']['feel']['love']['best']['like']['mean']['world']['does']\n",
      "\n",
      "Top words for topic 2 are : \n",
      "['online']['earn']['black']['important']['government']['language']['year']['rs']['going']['india']['indian']['know']['things']['1000']['500']['notes']['day']['new']['make']['money']\n",
      "\n",
      "Top words for topic 3 are : \n",
      "['power']['difference']['card']['series']['guy']['control']['school']['game']['college']['know']['tv']['girls']['high']['long']['water']['2016']['examples']['girl']['does']['like']\n",
      "\n",
      "Top words for topic 4 are : \n",
      "['management']['period']['relationship']['days']['data']['united']['states']['girlfriend']['online']['people']['make']['bad']['like']['study']['business']['sex']['work']['difference']['does']['good']\n",
      "\n",
      "Top words for topic 5 are : \n",
      "['skills']['used']['god']['men']['election']['right']['favorite']['stop']['women']['president']['math']['hillary']['win']['clinton']['does']['did']['people']['donald']['think']['trump']\n",
      "\n",
      "Top words for topic 6 are : \n",
      "['company']['years']['tips']['live']['process']['travel']['home']['possible']['want']['interview']['real']['good']['year']['old']['improve']['job']['better']['english']['time']['life']\n",
      "\n",
      "Top words for topic 7 are : \n",
      "['indian']['time']['interesting']['cat']['country']['university']['years']['usa']['class']['experience']['countries']['india']['students']['exam']['china']['prepare']['movies']['does']['did']['engineering']\n",
      "\n",
      "Top words for topic 8 are : \n",
      "['compare']['biggest']['universe']['worst']['meaning']['food']['effects']['hotel']['police']['visit']['places']['did']['pakistan']['place']['eat']['safe']['energy']['thing']['best']['india']\n",
      "\n",
      "Top words for topic 9 are : \n",
      "['online']['read']['science']['app']['learning']['ask']['free']['computer']['google']['website']['good']['book']['books']['questions']['use']['start']['quora']['learn']['way']['best']\n",
      "\n"
     ]
    }
   ],
   "source": [
    "word_list = []\n",
    "probability_list = []\n",
    "\n",
    "top_number = 20\n",
    "count = 0\n",
    "for probability_number in lda2.components_:\n",
    "    text_message = f\"Top words for topic {count} are : \"\n",
    "    print(text_message)    \n",
    "    for number in probability_number.argsort()[-top_number:]:\n",
    "        print([count_vectorizer1.get_feature_names()[number]], end= \"\")\n",
    "    print(\"\\n\")  \n",
    "    count += 1"
   ]
  },
  {
   "cell_type": "code",
   "execution_count": 88,
   "metadata": {},
   "outputs": [],
   "source": [
    "# return  the probability of each particular questions file belonging to a particular topic\n",
    "textfile_topics = lda2.transform(doc_term_matrix1)"
   ]
  },
  {
   "cell_type": "code",
   "execution_count": 89,
   "metadata": {},
   "outputs": [
    {
     "data": {
      "text/plain": [
       "array([[0.69999891, 0.03333333, 0.03333333, ..., 0.03333333, 0.03333333,\n",
       "        0.03333442],\n",
       "       [0.025     , 0.02500002, 0.02500284, ..., 0.02500048, 0.02500233,\n",
       "        0.025     ],\n",
       "       [0.03333333, 0.03333333, 0.0333361 , ..., 0.03333691, 0.03333333,\n",
       "        0.03334843],\n",
       "       ...,\n",
       "       [0.02      , 0.02000009, 0.54067461, ..., 0.02      , 0.02      ,\n",
       "        0.02001095],\n",
       "       [0.02500192, 0.02500656, 0.52484821, ..., 0.02500001, 0.27512723,\n",
       "        0.02500861],\n",
       "       [0.02000122, 0.02000147, 0.02000024, ..., 0.02000042, 0.02000064,\n",
       "        0.02000035]])"
      ]
     },
     "execution_count": 89,
     "metadata": {},
     "output_type": "execute_result"
    }
   ],
   "source": [
    "textfile_topics"
   ]
  },
  {
   "cell_type": "code",
   "execution_count": 98,
   "metadata": {},
   "outputs": [],
   "source": [
    "topic_list = []  # declaring a empty array\n",
    "# Textfile_topics is a list of arrays containing \n",
    "# all index positions of words for each textfile\n",
    "for popular_index_pos in textfile_topics:\n",
    "    # Get the max index position in each array\n",
    "    # and add to the topic_list list\n",
    "    topic_list.append(popular_index_pos.argmax())\n",
    "\n",
    "# Add a new column to the dataframe\n",
    "dataframe[\"Topic number\"] = topic_list"
   ]
  },
  {
   "cell_type": "code",
   "execution_count": 99,
   "metadata": {},
   "outputs": [
    {
     "data": {
      "text/html": [
       "<div>\n",
       "<style scoped>\n",
       "    .dataframe tbody tr th:only-of-type {\n",
       "        vertical-align: middle;\n",
       "    }\n",
       "\n",
       "    .dataframe tbody tr th {\n",
       "        vertical-align: top;\n",
       "    }\n",
       "\n",
       "    .dataframe thead th {\n",
       "        text-align: right;\n",
       "    }\n",
       "</style>\n",
       "<table border=\"1\" class=\"dataframe\">\n",
       "  <thead>\n",
       "    <tr style=\"text-align: right;\">\n",
       "      <th></th>\n",
       "      <th>question</th>\n",
       "      <th>Topic number</th>\n",
       "    </tr>\n",
       "  </thead>\n",
       "  <tbody>\n",
       "    <tr>\n",
       "      <th>528339</th>\n",
       "      <td>How do I hack a wifi?</td>\n",
       "      <td>0</td>\n",
       "    </tr>\n",
       "    <tr>\n",
       "      <th>161450</th>\n",
       "      <td>Wwe is real fight?</td>\n",
       "      <td>6</td>\n",
       "    </tr>\n",
       "    <tr>\n",
       "      <th>699472</th>\n",
       "      <td>What is written in vedas?</td>\n",
       "      <td>6</td>\n",
       "    </tr>\n",
       "    <tr>\n",
       "      <th>736752</th>\n",
       "      <td>Why don't women propose to men in India?</td>\n",
       "      <td>5</td>\n",
       "    </tr>\n",
       "    <tr>\n",
       "      <th>772144</th>\n",
       "      <td>Which car should I buy for my parents in India?</td>\n",
       "      <td>8</td>\n",
       "    </tr>\n",
       "    <tr>\n",
       "      <th>329727</th>\n",
       "      <td>Would there be trans people if society had no ...</td>\n",
       "      <td>0</td>\n",
       "    </tr>\n",
       "    <tr>\n",
       "      <th>467123</th>\n",
       "      <td>What is a data scientist?</td>\n",
       "      <td>4</td>\n",
       "    </tr>\n",
       "    <tr>\n",
       "      <th>565569</th>\n",
       "      <td>I recently lost my phone. How can I get it back?</td>\n",
       "      <td>3</td>\n",
       "    </tr>\n",
       "    <tr>\n",
       "      <th>450954</th>\n",
       "      <td>How do I use anonymous.com?</td>\n",
       "      <td>9</td>\n",
       "    </tr>\n",
       "    <tr>\n",
       "      <th>682524</th>\n",
       "      <td>What are the best Bollywood movies of 2016 so ...</td>\n",
       "      <td>1</td>\n",
       "    </tr>\n",
       "    <tr>\n",
       "      <th>251368</th>\n",
       "      <td>How can learn English?</td>\n",
       "      <td>6</td>\n",
       "    </tr>\n",
       "    <tr>\n",
       "      <th>644404</th>\n",
       "      <td>What is the best strategy to increase engageme...</td>\n",
       "      <td>9</td>\n",
       "    </tr>\n",
       "    <tr>\n",
       "      <th>765818</th>\n",
       "      <td>Why can't men wear tights?</td>\n",
       "      <td>5</td>\n",
       "    </tr>\n",
       "    <tr>\n",
       "      <th>786053</th>\n",
       "      <td>CSIM, Matlab, Java sim which would be best for...</td>\n",
       "      <td>9</td>\n",
       "    </tr>\n",
       "    <tr>\n",
       "      <th>348011</th>\n",
       "      <td>What is like to study international relations?</td>\n",
       "      <td>7</td>\n",
       "    </tr>\n",
       "    <tr>\n",
       "      <th>231021</th>\n",
       "      <td>Which is the best phone below 15000?</td>\n",
       "      <td>0</td>\n",
       "    </tr>\n",
       "    <tr>\n",
       "      <th>797148</th>\n",
       "      <td>What will the afterlife be like?</td>\n",
       "      <td>7</td>\n",
       "    </tr>\n",
       "    <tr>\n",
       "      <th>322078</th>\n",
       "      <td>How safe is Georgia?</td>\n",
       "      <td>0</td>\n",
       "    </tr>\n",
       "    <tr>\n",
       "      <th>697576</th>\n",
       "      <td>What is ink made from? How is it made?</td>\n",
       "      <td>0</td>\n",
       "    </tr>\n",
       "    <tr>\n",
       "      <th>50270</th>\n",
       "      <td>What are the most efficient methods for me to ...</td>\n",
       "      <td>6</td>\n",
       "    </tr>\n",
       "    <tr>\n",
       "      <th>165330</th>\n",
       "      <td>Do engineering classes depend on physics and c...</td>\n",
       "      <td>9</td>\n",
       "    </tr>\n",
       "    <tr>\n",
       "      <th>362543</th>\n",
       "      <td>Are dark matter and dark energy: energy?</td>\n",
       "      <td>8</td>\n",
       "    </tr>\n",
       "    <tr>\n",
       "      <th>513003</th>\n",
       "      <td>Are structural health monitoring researches sa...</td>\n",
       "      <td>7</td>\n",
       "    </tr>\n",
       "    <tr>\n",
       "      <th>80162</th>\n",
       "      <td>Can I use open source software for commercial ...</td>\n",
       "      <td>9</td>\n",
       "    </tr>\n",
       "    <tr>\n",
       "      <th>744948</th>\n",
       "      <td>Why can't I buy with my gift card balance on A...</td>\n",
       "      <td>4</td>\n",
       "    </tr>\n",
       "    <tr>\n",
       "      <th>140523</th>\n",
       "      <td>Are there any languages that are still spoken,...</td>\n",
       "      <td>2</td>\n",
       "    </tr>\n",
       "    <tr>\n",
       "      <th>749240</th>\n",
       "      <td>How Subsea Wells are drilled?</td>\n",
       "      <td>3</td>\n",
       "    </tr>\n",
       "    <tr>\n",
       "      <th>10093</th>\n",
       "      <td>How do you see PM2.5?</td>\n",
       "      <td>0</td>\n",
       "    </tr>\n",
       "    <tr>\n",
       "      <th>628946</th>\n",
       "      <td>What is it like to regret having children?</td>\n",
       "      <td>4</td>\n",
       "    </tr>\n",
       "    <tr>\n",
       "      <th>700965</th>\n",
       "      <td>What do you think about the BJP government not...</td>\n",
       "      <td>2</td>\n",
       "    </tr>\n",
       "    <tr>\n",
       "      <th>...</th>\n",
       "      <td>...</td>\n",
       "      <td>...</td>\n",
       "    </tr>\n",
       "    <tr>\n",
       "      <th>477190</th>\n",
       "      <td>What are good books written in Tamil that have...</td>\n",
       "      <td>6</td>\n",
       "    </tr>\n",
       "    <tr>\n",
       "      <th>596301</th>\n",
       "      <td>How immediately come frog in rainy day?</td>\n",
       "      <td>2</td>\n",
       "    </tr>\n",
       "    <tr>\n",
       "      <th>622972</th>\n",
       "      <td>Why isn't Quora listed in Klout?</td>\n",
       "      <td>9</td>\n",
       "    </tr>\n",
       "    <tr>\n",
       "      <th>75637</th>\n",
       "      <td>Do you really think what ever happens is as pe...</td>\n",
       "      <td>7</td>\n",
       "    </tr>\n",
       "    <tr>\n",
       "      <th>307044</th>\n",
       "      <td>What is the english translation for the word i...</td>\n",
       "      <td>6</td>\n",
       "    </tr>\n",
       "    <tr>\n",
       "      <th>334078</th>\n",
       "      <td>How does one deal with a bully at work?</td>\n",
       "      <td>4</td>\n",
       "    </tr>\n",
       "    <tr>\n",
       "      <th>550572</th>\n",
       "      <td>What is genetic drift? What are some types?</td>\n",
       "      <td>7</td>\n",
       "    </tr>\n",
       "    <tr>\n",
       "      <th>210962</th>\n",
       "      <td>Which hotels in ernakulam allow unmarried coup...</td>\n",
       "      <td>8</td>\n",
       "    </tr>\n",
       "    <tr>\n",
       "      <th>373899</th>\n",
       "      <td>Is Bitcoin mining still profitable in 2016?</td>\n",
       "      <td>2</td>\n",
       "    </tr>\n",
       "    <tr>\n",
       "      <th>587383</th>\n",
       "      <td>What is the most popular board game that is no...</td>\n",
       "      <td>3</td>\n",
       "    </tr>\n",
       "    <tr>\n",
       "      <th>506388</th>\n",
       "      <td>What is the single best excercise for your abs?</td>\n",
       "      <td>1</td>\n",
       "    </tr>\n",
       "    <tr>\n",
       "      <th>120229</th>\n",
       "      <td>What time does USPS usually deliver?</td>\n",
       "      <td>4</td>\n",
       "    </tr>\n",
       "    <tr>\n",
       "      <th>78277</th>\n",
       "      <td>Bitcoin in India: Where can I buy bitcoins in ...</td>\n",
       "      <td>8</td>\n",
       "    </tr>\n",
       "    <tr>\n",
       "      <th>472705</th>\n",
       "      <td>Wouldn't ISPs block forum sites without net ne...</td>\n",
       "      <td>9</td>\n",
       "    </tr>\n",
       "    <tr>\n",
       "      <th>250435</th>\n",
       "      <td>Why did Zeus trick Hades ?And he gave him the ...</td>\n",
       "      <td>8</td>\n",
       "    </tr>\n",
       "    <tr>\n",
       "      <th>264339</th>\n",
       "      <td>How can I become a professional listener?</td>\n",
       "      <td>0</td>\n",
       "    </tr>\n",
       "    <tr>\n",
       "      <th>669794</th>\n",
       "      <td>How big a problem is people mischievously edit...</td>\n",
       "      <td>4</td>\n",
       "    </tr>\n",
       "    <tr>\n",
       "      <th>407767</th>\n",
       "      <td>Why do people bully others?</td>\n",
       "      <td>8</td>\n",
       "    </tr>\n",
       "    <tr>\n",
       "      <th>782464</th>\n",
       "      <td>How should we define an engaged user for Google+?</td>\n",
       "      <td>0</td>\n",
       "    </tr>\n",
       "    <tr>\n",
       "      <th>378393</th>\n",
       "      <td>What are the best colleges for studying econom...</td>\n",
       "      <td>7</td>\n",
       "    </tr>\n",
       "    <tr>\n",
       "      <th>136275</th>\n",
       "      <td>Where can I find public or free real-time or s...</td>\n",
       "      <td>6</td>\n",
       "    </tr>\n",
       "    <tr>\n",
       "      <th>236428</th>\n",
       "      <td>How do I learn machine learning?</td>\n",
       "      <td>9</td>\n",
       "    </tr>\n",
       "    <tr>\n",
       "      <th>474798</th>\n",
       "      <td>How can I learn to speak English fluently?</td>\n",
       "      <td>6</td>\n",
       "    </tr>\n",
       "    <tr>\n",
       "      <th>765494</th>\n",
       "      <td>How will it be after death? Where does the sou...</td>\n",
       "      <td>1</td>\n",
       "    </tr>\n",
       "    <tr>\n",
       "      <th>627277</th>\n",
       "      <td>What are some differences between Latin Americ...</td>\n",
       "      <td>4</td>\n",
       "    </tr>\n",
       "    <tr>\n",
       "      <th>256607</th>\n",
       "      <td>What is an inclined plane? What are examples o...</td>\n",
       "      <td>0</td>\n",
       "    </tr>\n",
       "    <tr>\n",
       "      <th>300740</th>\n",
       "      <td>How can I prove that a negative number multipl...</td>\n",
       "      <td>5</td>\n",
       "    </tr>\n",
       "    <tr>\n",
       "      <th>531674</th>\n",
       "      <td>How do I learn English step by step?</td>\n",
       "      <td>2</td>\n",
       "    </tr>\n",
       "    <tr>\n",
       "      <th>139362</th>\n",
       "      <td>In what ways are you privileged and in what wa...</td>\n",
       "      <td>2</td>\n",
       "    </tr>\n",
       "    <tr>\n",
       "      <th>702490</th>\n",
       "      <td>Is time travel possible? If yes how</td>\n",
       "      <td>6</td>\n",
       "    </tr>\n",
       "  </tbody>\n",
       "</table>\n",
       "<p>200001 rows × 2 columns</p>\n",
       "</div>"
      ],
      "text/plain": [
       "                                                 question  Topic number\n",
       "528339                              How do I hack a wifi?             0\n",
       "161450                                 Wwe is real fight?             6\n",
       "699472                          What is written in vedas?             6\n",
       "736752           Why don't women propose to men in India?             5\n",
       "772144    Which car should I buy for my parents in India?             8\n",
       "329727  Would there be trans people if society had no ...             0\n",
       "467123                          What is a data scientist?             4\n",
       "565569   I recently lost my phone. How can I get it back?             3\n",
       "450954                        How do I use anonymous.com?             9\n",
       "682524  What are the best Bollywood movies of 2016 so ...             1\n",
       "251368                             How can learn English?             6\n",
       "644404  What is the best strategy to increase engageme...             9\n",
       "765818                         Why can't men wear tights?             5\n",
       "786053  CSIM, Matlab, Java sim which would be best for...             9\n",
       "348011     What is like to study international relations?             7\n",
       "231021               Which is the best phone below 15000?             0\n",
       "797148                   What will the afterlife be like?             7\n",
       "322078                               How safe is Georgia?             0\n",
       "697576             What is ink made from? How is it made?             0\n",
       "50270   What are the most efficient methods for me to ...             6\n",
       "165330  Do engineering classes depend on physics and c...             9\n",
       "362543           Are dark matter and dark energy: energy?             8\n",
       "513003  Are structural health monitoring researches sa...             7\n",
       "80162   Can I use open source software for commercial ...             9\n",
       "744948  Why can't I buy with my gift card balance on A...             4\n",
       "140523  Are there any languages that are still spoken,...             2\n",
       "749240                      How Subsea Wells are drilled?             3\n",
       "10093                               How do you see PM2.5?             0\n",
       "628946         What is it like to regret having children?             4\n",
       "700965  What do you think about the BJP government not...             2\n",
       "...                                                   ...           ...\n",
       "477190  What are good books written in Tamil that have...             6\n",
       "596301            How immediately come frog in rainy day?             2\n",
       "622972                   Why isn't Quora listed in Klout?             9\n",
       "75637   Do you really think what ever happens is as pe...             7\n",
       "307044  What is the english translation for the word i...             6\n",
       "334078            How does one deal with a bully at work?             4\n",
       "550572        What is genetic drift? What are some types?             7\n",
       "210962  Which hotels in ernakulam allow unmarried coup...             8\n",
       "373899        Is Bitcoin mining still profitable in 2016?             2\n",
       "587383  What is the most popular board game that is no...             3\n",
       "506388    What is the single best excercise for your abs?             1\n",
       "120229               What time does USPS usually deliver?             4\n",
       "78277   Bitcoin in India: Where can I buy bitcoins in ...             8\n",
       "472705  Wouldn't ISPs block forum sites without net ne...             9\n",
       "250435  Why did Zeus trick Hades ?And he gave him the ...             8\n",
       "264339          How can I become a professional listener?             0\n",
       "669794  How big a problem is people mischievously edit...             4\n",
       "407767                        Why do people bully others?             8\n",
       "782464  How should we define an engaged user for Google+?             0\n",
       "378393  What are the best colleges for studying econom...             7\n",
       "136275  Where can I find public or free real-time or s...             6\n",
       "236428                   How do I learn machine learning?             9\n",
       "474798         How can I learn to speak English fluently?             6\n",
       "765494  How will it be after death? Where does the sou...             1\n",
       "627277  What are some differences between Latin Americ...             4\n",
       "256607  What is an inclined plane? What are examples o...             0\n",
       "300740  How can I prove that a negative number multipl...             5\n",
       "531674               How do I learn English step by step?             2\n",
       "139362  In what ways are you privileged and in what wa...             2\n",
       "702490                Is time travel possible? If yes how             6\n",
       "\n",
       "[200001 rows x 2 columns]"
      ]
     },
     "execution_count": 99,
     "metadata": {},
     "output_type": "execute_result"
    }
   ],
   "source": [
    "dataframe"
   ]
  },
  {
   "cell_type": "markdown",
   "metadata": {},
   "source": [
    "Now we can examine each topic and assign matching descrptions for each topic number. I'll create a list of topic number with relevant text and then match the topic number to the relevant topic text using the list."
   ]
  },
  {
   "cell_type": "code",
   "execution_count": 101,
   "metadata": {},
   "outputs": [],
   "source": [
    "topic_list = {0: \"Technology\", \n",
    "              1: \"Life Style\", \n",
    "              2: \"Business\", \n",
    "              3: \"Activities\", \n",
    "              4: \"Relationships\", \n",
    "              5: \"Politics\", \n",
    "              6: \"Work & Careers\", \n",
    "              7: \"Education\", \n",
    "              8: \"Travel\", \n",
    "              9: \"Learning\", \n",
    "              }\n",
    "\n",
    "topic_no_to_topic = dataframe[\"Topic number\"].map(topic_list)"
   ]
  },
  {
   "cell_type": "code",
   "execution_count": 102,
   "metadata": {},
   "outputs": [
    {
     "data": {
      "text/html": [
       "<div>\n",
       "<style scoped>\n",
       "    .dataframe tbody tr th:only-of-type {\n",
       "        vertical-align: middle;\n",
       "    }\n",
       "\n",
       "    .dataframe tbody tr th {\n",
       "        vertical-align: top;\n",
       "    }\n",
       "\n",
       "    .dataframe thead th {\n",
       "        text-align: right;\n",
       "    }\n",
       "</style>\n",
       "<table border=\"1\" class=\"dataframe\">\n",
       "  <thead>\n",
       "    <tr style=\"text-align: right;\">\n",
       "      <th></th>\n",
       "      <th>question</th>\n",
       "      <th>Topic number</th>\n",
       "      <th>Topic desc</th>\n",
       "    </tr>\n",
       "  </thead>\n",
       "  <tbody>\n",
       "    <tr>\n",
       "      <th>528339</th>\n",
       "      <td>How do I hack a wifi?</td>\n",
       "      <td>0</td>\n",
       "      <td>Technology</td>\n",
       "    </tr>\n",
       "    <tr>\n",
       "      <th>161450</th>\n",
       "      <td>Wwe is real fight?</td>\n",
       "      <td>6</td>\n",
       "      <td>Work &amp; Careers</td>\n",
       "    </tr>\n",
       "    <tr>\n",
       "      <th>699472</th>\n",
       "      <td>What is written in vedas?</td>\n",
       "      <td>6</td>\n",
       "      <td>Work &amp; Careers</td>\n",
       "    </tr>\n",
       "    <tr>\n",
       "      <th>736752</th>\n",
       "      <td>Why don't women propose to men in India?</td>\n",
       "      <td>5</td>\n",
       "      <td>Politics</td>\n",
       "    </tr>\n",
       "    <tr>\n",
       "      <th>772144</th>\n",
       "      <td>Which car should I buy for my parents in India?</td>\n",
       "      <td>8</td>\n",
       "      <td>Travel</td>\n",
       "    </tr>\n",
       "    <tr>\n",
       "      <th>329727</th>\n",
       "      <td>Would there be trans people if society had no ...</td>\n",
       "      <td>0</td>\n",
       "      <td>Technology</td>\n",
       "    </tr>\n",
       "    <tr>\n",
       "      <th>467123</th>\n",
       "      <td>What is a data scientist?</td>\n",
       "      <td>4</td>\n",
       "      <td>Relationships</td>\n",
       "    </tr>\n",
       "    <tr>\n",
       "      <th>565569</th>\n",
       "      <td>I recently lost my phone. How can I get it back?</td>\n",
       "      <td>3</td>\n",
       "      <td>Activities</td>\n",
       "    </tr>\n",
       "    <tr>\n",
       "      <th>450954</th>\n",
       "      <td>How do I use anonymous.com?</td>\n",
       "      <td>9</td>\n",
       "      <td>Learning</td>\n",
       "    </tr>\n",
       "    <tr>\n",
       "      <th>682524</th>\n",
       "      <td>What are the best Bollywood movies of 2016 so ...</td>\n",
       "      <td>1</td>\n",
       "      <td>Life Style</td>\n",
       "    </tr>\n",
       "    <tr>\n",
       "      <th>251368</th>\n",
       "      <td>How can learn English?</td>\n",
       "      <td>6</td>\n",
       "      <td>Work &amp; Careers</td>\n",
       "    </tr>\n",
       "    <tr>\n",
       "      <th>644404</th>\n",
       "      <td>What is the best strategy to increase engageme...</td>\n",
       "      <td>9</td>\n",
       "      <td>Learning</td>\n",
       "    </tr>\n",
       "    <tr>\n",
       "      <th>765818</th>\n",
       "      <td>Why can't men wear tights?</td>\n",
       "      <td>5</td>\n",
       "      <td>Politics</td>\n",
       "    </tr>\n",
       "    <tr>\n",
       "      <th>786053</th>\n",
       "      <td>CSIM, Matlab, Java sim which would be best for...</td>\n",
       "      <td>9</td>\n",
       "      <td>Learning</td>\n",
       "    </tr>\n",
       "    <tr>\n",
       "      <th>348011</th>\n",
       "      <td>What is like to study international relations?</td>\n",
       "      <td>7</td>\n",
       "      <td>Education</td>\n",
       "    </tr>\n",
       "    <tr>\n",
       "      <th>231021</th>\n",
       "      <td>Which is the best phone below 15000?</td>\n",
       "      <td>0</td>\n",
       "      <td>Technology</td>\n",
       "    </tr>\n",
       "    <tr>\n",
       "      <th>797148</th>\n",
       "      <td>What will the afterlife be like?</td>\n",
       "      <td>7</td>\n",
       "      <td>Education</td>\n",
       "    </tr>\n",
       "    <tr>\n",
       "      <th>322078</th>\n",
       "      <td>How safe is Georgia?</td>\n",
       "      <td>0</td>\n",
       "      <td>Technology</td>\n",
       "    </tr>\n",
       "    <tr>\n",
       "      <th>697576</th>\n",
       "      <td>What is ink made from? How is it made?</td>\n",
       "      <td>0</td>\n",
       "      <td>Technology</td>\n",
       "    </tr>\n",
       "    <tr>\n",
       "      <th>50270</th>\n",
       "      <td>What are the most efficient methods for me to ...</td>\n",
       "      <td>6</td>\n",
       "      <td>Work &amp; Careers</td>\n",
       "    </tr>\n",
       "    <tr>\n",
       "      <th>165330</th>\n",
       "      <td>Do engineering classes depend on physics and c...</td>\n",
       "      <td>9</td>\n",
       "      <td>Learning</td>\n",
       "    </tr>\n",
       "    <tr>\n",
       "      <th>362543</th>\n",
       "      <td>Are dark matter and dark energy: energy?</td>\n",
       "      <td>8</td>\n",
       "      <td>Travel</td>\n",
       "    </tr>\n",
       "    <tr>\n",
       "      <th>513003</th>\n",
       "      <td>Are structural health monitoring researches sa...</td>\n",
       "      <td>7</td>\n",
       "      <td>Education</td>\n",
       "    </tr>\n",
       "    <tr>\n",
       "      <th>80162</th>\n",
       "      <td>Can I use open source software for commercial ...</td>\n",
       "      <td>9</td>\n",
       "      <td>Learning</td>\n",
       "    </tr>\n",
       "    <tr>\n",
       "      <th>744948</th>\n",
       "      <td>Why can't I buy with my gift card balance on A...</td>\n",
       "      <td>4</td>\n",
       "      <td>Relationships</td>\n",
       "    </tr>\n",
       "    <tr>\n",
       "      <th>140523</th>\n",
       "      <td>Are there any languages that are still spoken,...</td>\n",
       "      <td>2</td>\n",
       "      <td>Business</td>\n",
       "    </tr>\n",
       "    <tr>\n",
       "      <th>749240</th>\n",
       "      <td>How Subsea Wells are drilled?</td>\n",
       "      <td>3</td>\n",
       "      <td>Activities</td>\n",
       "    </tr>\n",
       "    <tr>\n",
       "      <th>10093</th>\n",
       "      <td>How do you see PM2.5?</td>\n",
       "      <td>0</td>\n",
       "      <td>Technology</td>\n",
       "    </tr>\n",
       "    <tr>\n",
       "      <th>628946</th>\n",
       "      <td>What is it like to regret having children?</td>\n",
       "      <td>4</td>\n",
       "      <td>Relationships</td>\n",
       "    </tr>\n",
       "    <tr>\n",
       "      <th>700965</th>\n",
       "      <td>What do you think about the BJP government not...</td>\n",
       "      <td>2</td>\n",
       "      <td>Business</td>\n",
       "    </tr>\n",
       "    <tr>\n",
       "      <th>...</th>\n",
       "      <td>...</td>\n",
       "      <td>...</td>\n",
       "      <td>...</td>\n",
       "    </tr>\n",
       "    <tr>\n",
       "      <th>477190</th>\n",
       "      <td>What are good books written in Tamil that have...</td>\n",
       "      <td>6</td>\n",
       "      <td>Work &amp; Careers</td>\n",
       "    </tr>\n",
       "    <tr>\n",
       "      <th>596301</th>\n",
       "      <td>How immediately come frog in rainy day?</td>\n",
       "      <td>2</td>\n",
       "      <td>Business</td>\n",
       "    </tr>\n",
       "    <tr>\n",
       "      <th>622972</th>\n",
       "      <td>Why isn't Quora listed in Klout?</td>\n",
       "      <td>9</td>\n",
       "      <td>Learning</td>\n",
       "    </tr>\n",
       "    <tr>\n",
       "      <th>75637</th>\n",
       "      <td>Do you really think what ever happens is as pe...</td>\n",
       "      <td>7</td>\n",
       "      <td>Education</td>\n",
       "    </tr>\n",
       "    <tr>\n",
       "      <th>307044</th>\n",
       "      <td>What is the english translation for the word i...</td>\n",
       "      <td>6</td>\n",
       "      <td>Work &amp; Careers</td>\n",
       "    </tr>\n",
       "    <tr>\n",
       "      <th>334078</th>\n",
       "      <td>How does one deal with a bully at work?</td>\n",
       "      <td>4</td>\n",
       "      <td>Relationships</td>\n",
       "    </tr>\n",
       "    <tr>\n",
       "      <th>550572</th>\n",
       "      <td>What is genetic drift? What are some types?</td>\n",
       "      <td>7</td>\n",
       "      <td>Education</td>\n",
       "    </tr>\n",
       "    <tr>\n",
       "      <th>210962</th>\n",
       "      <td>Which hotels in ernakulam allow unmarried coup...</td>\n",
       "      <td>8</td>\n",
       "      <td>Travel</td>\n",
       "    </tr>\n",
       "    <tr>\n",
       "      <th>373899</th>\n",
       "      <td>Is Bitcoin mining still profitable in 2016?</td>\n",
       "      <td>2</td>\n",
       "      <td>Business</td>\n",
       "    </tr>\n",
       "    <tr>\n",
       "      <th>587383</th>\n",
       "      <td>What is the most popular board game that is no...</td>\n",
       "      <td>3</td>\n",
       "      <td>Activities</td>\n",
       "    </tr>\n",
       "    <tr>\n",
       "      <th>506388</th>\n",
       "      <td>What is the single best excercise for your abs?</td>\n",
       "      <td>1</td>\n",
       "      <td>Life Style</td>\n",
       "    </tr>\n",
       "    <tr>\n",
       "      <th>120229</th>\n",
       "      <td>What time does USPS usually deliver?</td>\n",
       "      <td>4</td>\n",
       "      <td>Relationships</td>\n",
       "    </tr>\n",
       "    <tr>\n",
       "      <th>78277</th>\n",
       "      <td>Bitcoin in India: Where can I buy bitcoins in ...</td>\n",
       "      <td>8</td>\n",
       "      <td>Travel</td>\n",
       "    </tr>\n",
       "    <tr>\n",
       "      <th>472705</th>\n",
       "      <td>Wouldn't ISPs block forum sites without net ne...</td>\n",
       "      <td>9</td>\n",
       "      <td>Learning</td>\n",
       "    </tr>\n",
       "    <tr>\n",
       "      <th>250435</th>\n",
       "      <td>Why did Zeus trick Hades ?And he gave him the ...</td>\n",
       "      <td>8</td>\n",
       "      <td>Travel</td>\n",
       "    </tr>\n",
       "    <tr>\n",
       "      <th>264339</th>\n",
       "      <td>How can I become a professional listener?</td>\n",
       "      <td>0</td>\n",
       "      <td>Technology</td>\n",
       "    </tr>\n",
       "    <tr>\n",
       "      <th>669794</th>\n",
       "      <td>How big a problem is people mischievously edit...</td>\n",
       "      <td>4</td>\n",
       "      <td>Relationships</td>\n",
       "    </tr>\n",
       "    <tr>\n",
       "      <th>407767</th>\n",
       "      <td>Why do people bully others?</td>\n",
       "      <td>8</td>\n",
       "      <td>Travel</td>\n",
       "    </tr>\n",
       "    <tr>\n",
       "      <th>782464</th>\n",
       "      <td>How should we define an engaged user for Google+?</td>\n",
       "      <td>0</td>\n",
       "      <td>Technology</td>\n",
       "    </tr>\n",
       "    <tr>\n",
       "      <th>378393</th>\n",
       "      <td>What are the best colleges for studying econom...</td>\n",
       "      <td>7</td>\n",
       "      <td>Education</td>\n",
       "    </tr>\n",
       "    <tr>\n",
       "      <th>136275</th>\n",
       "      <td>Where can I find public or free real-time or s...</td>\n",
       "      <td>6</td>\n",
       "      <td>Work &amp; Careers</td>\n",
       "    </tr>\n",
       "    <tr>\n",
       "      <th>236428</th>\n",
       "      <td>How do I learn machine learning?</td>\n",
       "      <td>9</td>\n",
       "      <td>Learning</td>\n",
       "    </tr>\n",
       "    <tr>\n",
       "      <th>474798</th>\n",
       "      <td>How can I learn to speak English fluently?</td>\n",
       "      <td>6</td>\n",
       "      <td>Work &amp; Careers</td>\n",
       "    </tr>\n",
       "    <tr>\n",
       "      <th>765494</th>\n",
       "      <td>How will it be after death? Where does the sou...</td>\n",
       "      <td>1</td>\n",
       "      <td>Life Style</td>\n",
       "    </tr>\n",
       "    <tr>\n",
       "      <th>627277</th>\n",
       "      <td>What are some differences between Latin Americ...</td>\n",
       "      <td>4</td>\n",
       "      <td>Relationships</td>\n",
       "    </tr>\n",
       "    <tr>\n",
       "      <th>256607</th>\n",
       "      <td>What is an inclined plane? What are examples o...</td>\n",
       "      <td>0</td>\n",
       "      <td>Technology</td>\n",
       "    </tr>\n",
       "    <tr>\n",
       "      <th>300740</th>\n",
       "      <td>How can I prove that a negative number multipl...</td>\n",
       "      <td>5</td>\n",
       "      <td>Politics</td>\n",
       "    </tr>\n",
       "    <tr>\n",
       "      <th>531674</th>\n",
       "      <td>How do I learn English step by step?</td>\n",
       "      <td>2</td>\n",
       "      <td>Business</td>\n",
       "    </tr>\n",
       "    <tr>\n",
       "      <th>139362</th>\n",
       "      <td>In what ways are you privileged and in what wa...</td>\n",
       "      <td>2</td>\n",
       "      <td>Business</td>\n",
       "    </tr>\n",
       "    <tr>\n",
       "      <th>702490</th>\n",
       "      <td>Is time travel possible? If yes how</td>\n",
       "      <td>6</td>\n",
       "      <td>Work &amp; Careers</td>\n",
       "    </tr>\n",
       "  </tbody>\n",
       "</table>\n",
       "<p>200001 rows × 3 columns</p>\n",
       "</div>"
      ],
      "text/plain": [
       "                                                 question  Topic number  \\\n",
       "528339                              How do I hack a wifi?             0   \n",
       "161450                                 Wwe is real fight?             6   \n",
       "699472                          What is written in vedas?             6   \n",
       "736752           Why don't women propose to men in India?             5   \n",
       "772144    Which car should I buy for my parents in India?             8   \n",
       "329727  Would there be trans people if society had no ...             0   \n",
       "467123                          What is a data scientist?             4   \n",
       "565569   I recently lost my phone. How can I get it back?             3   \n",
       "450954                        How do I use anonymous.com?             9   \n",
       "682524  What are the best Bollywood movies of 2016 so ...             1   \n",
       "251368                             How can learn English?             6   \n",
       "644404  What is the best strategy to increase engageme...             9   \n",
       "765818                         Why can't men wear tights?             5   \n",
       "786053  CSIM, Matlab, Java sim which would be best for...             9   \n",
       "348011     What is like to study international relations?             7   \n",
       "231021               Which is the best phone below 15000?             0   \n",
       "797148                   What will the afterlife be like?             7   \n",
       "322078                               How safe is Georgia?             0   \n",
       "697576             What is ink made from? How is it made?             0   \n",
       "50270   What are the most efficient methods for me to ...             6   \n",
       "165330  Do engineering classes depend on physics and c...             9   \n",
       "362543           Are dark matter and dark energy: energy?             8   \n",
       "513003  Are structural health monitoring researches sa...             7   \n",
       "80162   Can I use open source software for commercial ...             9   \n",
       "744948  Why can't I buy with my gift card balance on A...             4   \n",
       "140523  Are there any languages that are still spoken,...             2   \n",
       "749240                      How Subsea Wells are drilled?             3   \n",
       "10093                               How do you see PM2.5?             0   \n",
       "628946         What is it like to regret having children?             4   \n",
       "700965  What do you think about the BJP government not...             2   \n",
       "...                                                   ...           ...   \n",
       "477190  What are good books written in Tamil that have...             6   \n",
       "596301            How immediately come frog in rainy day?             2   \n",
       "622972                   Why isn't Quora listed in Klout?             9   \n",
       "75637   Do you really think what ever happens is as pe...             7   \n",
       "307044  What is the english translation for the word i...             6   \n",
       "334078            How does one deal with a bully at work?             4   \n",
       "550572        What is genetic drift? What are some types?             7   \n",
       "210962  Which hotels in ernakulam allow unmarried coup...             8   \n",
       "373899        Is Bitcoin mining still profitable in 2016?             2   \n",
       "587383  What is the most popular board game that is no...             3   \n",
       "506388    What is the single best excercise for your abs?             1   \n",
       "120229               What time does USPS usually deliver?             4   \n",
       "78277   Bitcoin in India: Where can I buy bitcoins in ...             8   \n",
       "472705  Wouldn't ISPs block forum sites without net ne...             9   \n",
       "250435  Why did Zeus trick Hades ?And he gave him the ...             8   \n",
       "264339          How can I become a professional listener?             0   \n",
       "669794  How big a problem is people mischievously edit...             4   \n",
       "407767                        Why do people bully others?             8   \n",
       "782464  How should we define an engaged user for Google+?             0   \n",
       "378393  What are the best colleges for studying econom...             7   \n",
       "136275  Where can I find public or free real-time or s...             6   \n",
       "236428                   How do I learn machine learning?             9   \n",
       "474798         How can I learn to speak English fluently?             6   \n",
       "765494  How will it be after death? Where does the sou...             1   \n",
       "627277  What are some differences between Latin Americ...             4   \n",
       "256607  What is an inclined plane? What are examples o...             0   \n",
       "300740  How can I prove that a negative number multipl...             5   \n",
       "531674               How do I learn English step by step?             2   \n",
       "139362  In what ways are you privileged and in what wa...             2   \n",
       "702490                Is time travel possible? If yes how             6   \n",
       "\n",
       "            Topic desc  \n",
       "528339      Technology  \n",
       "161450  Work & Careers  \n",
       "699472  Work & Careers  \n",
       "736752        Politics  \n",
       "772144          Travel  \n",
       "329727      Technology  \n",
       "467123   Relationships  \n",
       "565569      Activities  \n",
       "450954        Learning  \n",
       "682524      Life Style  \n",
       "251368  Work & Careers  \n",
       "644404        Learning  \n",
       "765818        Politics  \n",
       "786053        Learning  \n",
       "348011       Education  \n",
       "231021      Technology  \n",
       "797148       Education  \n",
       "322078      Technology  \n",
       "697576      Technology  \n",
       "50270   Work & Careers  \n",
       "165330        Learning  \n",
       "362543          Travel  \n",
       "513003       Education  \n",
       "80162         Learning  \n",
       "744948   Relationships  \n",
       "140523        Business  \n",
       "749240      Activities  \n",
       "10093       Technology  \n",
       "628946   Relationships  \n",
       "700965        Business  \n",
       "...                ...  \n",
       "477190  Work & Careers  \n",
       "596301        Business  \n",
       "622972        Learning  \n",
       "75637        Education  \n",
       "307044  Work & Careers  \n",
       "334078   Relationships  \n",
       "550572       Education  \n",
       "210962          Travel  \n",
       "373899        Business  \n",
       "587383      Activities  \n",
       "506388      Life Style  \n",
       "120229   Relationships  \n",
       "78277           Travel  \n",
       "472705        Learning  \n",
       "250435          Travel  \n",
       "264339      Technology  \n",
       "669794   Relationships  \n",
       "407767          Travel  \n",
       "782464      Technology  \n",
       "378393       Education  \n",
       "136275  Work & Careers  \n",
       "236428        Learning  \n",
       "474798  Work & Careers  \n",
       "765494      Life Style  \n",
       "627277   Relationships  \n",
       "256607      Technology  \n",
       "300740        Politics  \n",
       "531674        Business  \n",
       "139362        Business  \n",
       "702490  Work & Careers  \n",
       "\n",
       "[200001 rows x 3 columns]"
      ]
     },
     "execution_count": 102,
     "metadata": {},
     "output_type": "execute_result"
    }
   ],
   "source": [
    "# assigning these values back to the data frame.\n",
    "dataframe[\"Topic desc\"] = topic_no_to_topic\n",
    "# return each document as well as the assigned topic number and each topic description.\n",
    "dataframe"
   ]
  },
  {
   "cell_type": "markdown",
   "metadata": {},
   "source": [
    "The final model is created using the following parameters:\n",
    " 1. n_components = 10\n",
    " 2. learning_decay = 0.5\n",
    " 3. random_state=1\n",
    " 4. max_df = 0.70 \n",
    " 5. min_df = 4\n",
    "    \n",
    "Based on the Log Likelihood and Perplexity values model 1 and model 3 are almost have equal performance. Eventhough the performance of the first model is slightly better than the model - 3 which is tuned based on the gridsearch parameters. \n",
    "\n",
    "Still we can increase the performance of the model by chaging and playing with above mentioned parameters."
   ]
  },
  {
   "cell_type": "markdown",
   "metadata": {},
   "source": [
    "I choose LDA insted of NMF because of two reason.\n",
    "\n",
    "1. In NMF the performance matrix or efficiency can not be evaluated in terms of Log Likelihood and Perplexity values. Hence which makes it difficult for comparision of models with in the NMF and comparision with LDA model.\n",
    "2. LDA  adds a Dirichlet prior on top of the data generating process, meaning NMF qualitatively leads to worse mixtures. It fixes values for the probability vectors of the multinomials, whereas LDA allows the topics and words themselves to vary."
   ]
  },
  {
   "cell_type": "code",
   "execution_count": 103,
   "metadata": {},
   "outputs": [],
   "source": [
    "# importing the new dataframe into csv file\n",
    "dataframe.to_csv(r'quora_supervised.csv', index = False, header = True)"
   ]
  }
 ],
 "metadata": {
  "kernelspec": {
   "display_name": "Python 3",
   "language": "python",
   "name": "python3"
  },
  "language_info": {
   "codemirror_mode": {
    "name": "ipython",
    "version": 3
   },
   "file_extension": ".py",
   "mimetype": "text/x-python",
   "name": "python",
   "nbconvert_exporter": "python",
   "pygments_lexer": "ipython3",
   "version": "3.7.6"
  }
 },
 "nbformat": 4,
 "nbformat_minor": 4
}
