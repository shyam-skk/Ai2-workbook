{
 "cells": [
  {
   "cell_type": "markdown",
   "metadata": {},
   "source": [
    "# Q2 - Supervised Learning"
   ]
  },
  {
   "cell_type": "code",
   "execution_count": 1,
   "metadata": {},
   "outputs": [],
   "source": [
    "# importing the libraries\n",
    "# pandas for data manipulation and analysis\n",
    "# numpy is using to manipulate multi-dimensional arrays and matrices. Also support mathematical functions\n",
    "\n",
    "import numpy as np\n",
    "import pandas as pd"
   ]
  },
  {
   "cell_type": "markdown",
   "metadata": {},
   "source": [
    "## Loading the Data and Descriptive Analysis"
   ]
  },
  {
   "cell_type": "code",
   "execution_count": 2,
   "metadata": {},
   "outputs": [
    {
     "data": {
      "text/plain": [
       "200001"
      ]
     },
     "execution_count": 2,
     "metadata": {},
     "output_type": "execute_result"
    }
   ],
   "source": [
    "# loading the data.\n",
    "dataframe=pd.read_csv('quora_supervised.csv') # rading the data into a data frame.\n",
    "len(dataframe)                                # returns number of rows in the dataframe."
   ]
  },
  {
   "cell_type": "markdown",
   "metadata": {},
   "source": [
    "First we will read  all the data in the quora_supervised.csv file in to a pandas dataframe using.\n",
    "\n",
    "The data set is consists of 200001."
   ]
  },
  {
   "cell_type": "code",
   "execution_count": 3,
   "metadata": {},
   "outputs": [
    {
     "name": "stdout",
     "output_type": "stream",
     "text": [
      "How do I hack a wifi?\n"
     ]
    }
   ],
   "source": [
    "# printing the first row\n",
    "print(dataframe['question'][0])"
   ]
  },
  {
   "cell_type": "code",
   "execution_count": 4,
   "metadata": {},
   "outputs": [
    {
     "data": {
      "text/html": [
       "<div>\n",
       "<style scoped>\n",
       "    .dataframe tbody tr th:only-of-type {\n",
       "        vertical-align: middle;\n",
       "    }\n",
       "\n",
       "    .dataframe tbody tr th {\n",
       "        vertical-align: top;\n",
       "    }\n",
       "\n",
       "    .dataframe thead th {\n",
       "        text-align: right;\n",
       "    }\n",
       "</style>\n",
       "<table border=\"1\" class=\"dataframe\">\n",
       "  <thead>\n",
       "    <tr style=\"text-align: right;\">\n",
       "      <th></th>\n",
       "      <th>question</th>\n",
       "      <th>Topic number</th>\n",
       "      <th>Topic desc</th>\n",
       "    </tr>\n",
       "  </thead>\n",
       "  <tbody>\n",
       "    <tr>\n",
       "      <th>0</th>\n",
       "      <td>How do I hack a wifi?</td>\n",
       "      <td>0</td>\n",
       "      <td>Technology</td>\n",
       "    </tr>\n",
       "    <tr>\n",
       "      <th>1</th>\n",
       "      <td>Wwe is real fight?</td>\n",
       "      <td>6</td>\n",
       "      <td>Work &amp; Careers</td>\n",
       "    </tr>\n",
       "    <tr>\n",
       "      <th>2</th>\n",
       "      <td>What is written in vedas?</td>\n",
       "      <td>6</td>\n",
       "      <td>Work &amp; Careers</td>\n",
       "    </tr>\n",
       "    <tr>\n",
       "      <th>3</th>\n",
       "      <td>Why don't women propose to men in India?</td>\n",
       "      <td>5</td>\n",
       "      <td>Politics</td>\n",
       "    </tr>\n",
       "    <tr>\n",
       "      <th>4</th>\n",
       "      <td>Which car should I buy for my parents in India?</td>\n",
       "      <td>8</td>\n",
       "      <td>Travel</td>\n",
       "    </tr>\n",
       "  </tbody>\n",
       "</table>\n",
       "</div>"
      ],
      "text/plain": [
       "                                          question  Topic number  \\\n",
       "0                            How do I hack a wifi?             0   \n",
       "1                               Wwe is real fight?             6   \n",
       "2                        What is written in vedas?             6   \n",
       "3         Why don't women propose to men in India?             5   \n",
       "4  Which car should I buy for my parents in India?             8   \n",
       "\n",
       "       Topic desc  \n",
       "0      Technology  \n",
       "1  Work & Careers  \n",
       "2  Work & Careers  \n",
       "3        Politics  \n",
       "4          Travel  "
      ]
     },
     "execution_count": 4,
     "metadata": {},
     "output_type": "execute_result"
    }
   ],
   "source": [
    "dataframe.head() # returns first 5 lines of dataframe"
   ]
  },
  {
   "cell_type": "code",
   "execution_count": 5,
   "metadata": {},
   "outputs": [
    {
     "data": {
      "text/html": [
       "<div>\n",
       "<style scoped>\n",
       "    .dataframe tbody tr th:only-of-type {\n",
       "        vertical-align: middle;\n",
       "    }\n",
       "\n",
       "    .dataframe tbody tr th {\n",
       "        vertical-align: top;\n",
       "    }\n",
       "\n",
       "    .dataframe thead th {\n",
       "        text-align: right;\n",
       "    }\n",
       "</style>\n",
       "<table border=\"1\" class=\"dataframe\">\n",
       "  <thead>\n",
       "    <tr style=\"text-align: right;\">\n",
       "      <th></th>\n",
       "      <th>question</th>\n",
       "      <th>Topic number</th>\n",
       "      <th>Topic desc</th>\n",
       "    </tr>\n",
       "  </thead>\n",
       "  <tbody>\n",
       "    <tr>\n",
       "      <th>199996</th>\n",
       "      <td>What is an inclined plane? What are examples o...</td>\n",
       "      <td>0</td>\n",
       "      <td>Technology</td>\n",
       "    </tr>\n",
       "    <tr>\n",
       "      <th>199997</th>\n",
       "      <td>How can I prove that a negative number multipl...</td>\n",
       "      <td>5</td>\n",
       "      <td>Politics</td>\n",
       "    </tr>\n",
       "    <tr>\n",
       "      <th>199998</th>\n",
       "      <td>How do I learn English step by step?</td>\n",
       "      <td>2</td>\n",
       "      <td>Business</td>\n",
       "    </tr>\n",
       "    <tr>\n",
       "      <th>199999</th>\n",
       "      <td>In what ways are you privileged and in what wa...</td>\n",
       "      <td>2</td>\n",
       "      <td>Business</td>\n",
       "    </tr>\n",
       "    <tr>\n",
       "      <th>200000</th>\n",
       "      <td>Is time travel possible? If yes how</td>\n",
       "      <td>6</td>\n",
       "      <td>Work &amp; Careers</td>\n",
       "    </tr>\n",
       "  </tbody>\n",
       "</table>\n",
       "</div>"
      ],
      "text/plain": [
       "                                                 question  Topic number  \\\n",
       "199996  What is an inclined plane? What are examples o...             0   \n",
       "199997  How can I prove that a negative number multipl...             5   \n",
       "199998               How do I learn English step by step?             2   \n",
       "199999  In what ways are you privileged and in what wa...             2   \n",
       "200000                Is time travel possible? If yes how             6   \n",
       "\n",
       "            Topic desc  \n",
       "199996      Technology  \n",
       "199997        Politics  \n",
       "199998        Business  \n",
       "199999        Business  \n",
       "200000  Work & Careers  "
      ]
     },
     "execution_count": 5,
     "metadata": {},
     "output_type": "execute_result"
    }
   ],
   "source": [
    "dataframe.tail()  # returns last 5 lines of the dataframe"
   ]
  },
  {
   "cell_type": "code",
   "execution_count": 6,
   "metadata": {},
   "outputs": [
    {
     "data": {
      "text/plain": [
       "question        0\n",
       "Topic number    0\n",
       "Topic desc      0\n",
       "dtype: int64"
      ]
     },
     "execution_count": 6,
     "metadata": {},
     "output_type": "execute_result"
    }
   ],
   "source": [
    "# Check for missing values\n",
    "dataframe.isnull().sum()"
   ]
  },
  {
   "cell_type": "markdown",
   "metadata": {},
   "source": [
    "There is no missing values in  the data set"
   ]
  },
  {
   "cell_type": "code",
   "execution_count": 7,
   "metadata": {},
   "outputs": [
    {
     "data": {
      "text/plain": [
       "Learning          28192\n",
       "Life Style        23038\n",
       "Technology        21992\n",
       "Work & Careers    19700\n",
       "Politics          19659\n",
       "Education         19143\n",
       "Activities        18352\n",
       "Relationships     18308\n",
       "Travel            16653\n",
       "Business          14964\n",
       "Name: Topic desc, dtype: int64"
      ]
     },
     "execution_count": 7,
     "metadata": {},
     "output_type": "execute_result"
    }
   ],
   "source": [
    "# return count of each topic with in the data frame.\n",
    "dataframe[\"Topic desc\"].value_counts()"
   ]
  },
  {
   "cell_type": "markdown",
   "metadata": {},
   "source": [
    "All the topics in the data frame and the number of occurence of each topic is listed above\n",
    "\n",
    "Learing is the most common and most frequent topic in the tadaset with the count of 28192 in total ie 14 % of the total data set. Life Style and Technology comes second and in the topic list. Business is the elast discussed topic in the platform."
   ]
  },
  {
   "cell_type": "markdown",
   "metadata": {},
   "source": [
    "## Split the data into train & test sets"
   ]
  },
  {
   "cell_type": "code",
   "execution_count": 42,
   "metadata": {},
   "outputs": [],
   "source": [
    "# X contains data from question column\n",
    "# y contains label data ie topic list\n",
    "X = dataframe[\"question\"]\n",
    "y = dataframe[\"Topic desc\"]"
   ]
  },
  {
   "cell_type": "code",
   "execution_count": 43,
   "metadata": {},
   "outputs": [
    {
     "data": {
      "text/plain": [
       "0                              How do I hack a wifi?\n",
       "1                                 Wwe is real fight?\n",
       "2                          What is written in vedas?\n",
       "3           Why don't women propose to men in India?\n",
       "4    Which car should I buy for my parents in India?\n",
       "Name: question, dtype: object"
      ]
     },
     "execution_count": 43,
     "metadata": {},
     "output_type": "execute_result"
    }
   ],
   "source": [
    "# Contains index and question text\n",
    "X.head()"
   ]
  },
  {
   "cell_type": "code",
   "execution_count": 44,
   "metadata": {},
   "outputs": [
    {
     "data": {
      "text/plain": [
       "0        Technology\n",
       "1    Work & Careers\n",
       "2    Work & Careers\n",
       "3          Politics\n",
       "4            Travel\n",
       "Name: Topic desc, dtype: object"
      ]
     },
     "execution_count": 44,
     "metadata": {},
     "output_type": "execute_result"
    }
   ],
   "source": [
    "# Contains index and topic name\n",
    "y.head()"
   ]
  },
  {
   "cell_type": "code",
   "execution_count": 45,
   "metadata": {},
   "outputs": [],
   "source": [
    "# importing train_test_split from sklearn\n",
    "from sklearn.model_selection import train_test_split\n",
    "\n",
    "# test size represents the proportion of training and testing data split. \n",
    "# Random_state sets \"randomness\" of data randomisation\n",
    "X_train, X_test, y_train, y_test = train_test_split(X, y, test_size = 0.3, random_state=1)"
   ]
  },
  {
   "cell_type": "markdown",
   "metadata": {},
   "source": [
    "Data is now split into training and testing data in 70:30 propotion"
   ]
  },
  {
   "cell_type": "markdown",
   "metadata": {},
   "source": [
    "## Frequency transformation with Tf-idf"
   ]
  },
  {
   "cell_type": "markdown",
   "metadata": {},
   "source": [
    "Using TfidfVectorizer from sklearn we can perform count vectorization and frequency transformation in one step. "
   ]
  },
  {
   "cell_type": "code",
   "execution_count": 46,
   "metadata": {},
   "outputs": [],
   "source": [
    "# importing TfidfVectorizer\n",
    "from sklearn.feature_extraction.text import TfidfVectorizer"
   ]
  },
  {
   "cell_type": "code",
   "execution_count": 47,
   "metadata": {},
   "outputs": [],
   "source": [
    "# initialise an instance of the TfidfVectorizer\n",
    "tfidf_vectorizer = TfidfVectorizer()"
   ]
  },
  {
   "cell_type": "code",
   "execution_count": 48,
   "metadata": {},
   "outputs": [
    {
     "data": {
      "text/plain": [
       "(140000, 41761)"
      ]
     },
     "execution_count": 48,
     "metadata": {},
     "output_type": "execute_result"
    }
   ],
   "source": [
    "# Complete the vectorizing and fit transform on the original X_train\n",
    "X_train_tfidf = tfidf_vectorizer.fit_transform(X_train)\n",
    "# Examine shape of the dataset\n",
    "X_train_tfidf.shape"
   ]
  },
  {
   "cell_type": "markdown",
   "metadata": {},
   "source": [
    "The doc_term_matrix is a sparse matrix of each word in all of the text data. Here the doc_term_matrix contains 200000 rows of questions data and 7155 columns or features corrsponding to rows. Adjusting the max_df and min_df values can increase or decrease the number of terms in the doc_term_matrix."
   ]
  },
  {
   "cell_type": "markdown",
   "metadata": {},
   "source": [
    "## 1. LinearSVC Model\n",
    "\n",
    "LinearSVC is another implementation of Support Vector Classification for the case of a linear kernel. Note that LinearSVC does not accept keyword kernel, as this is assumed to be linear.Similar to SVC with parameter kernel=’linear’, but implemented in terms of liblinear rather than libsvm, so it has more flexibility in the choice of penalties and loss functions and should scale better to large numbers of samples.\n",
    "This class supports both dense and sparse input and the multiclass support is handled according to a one-vs-the-rest scheme."
   ]
  },
  {
   "cell_type": "code",
   "execution_count": 49,
   "metadata": {},
   "outputs": [],
   "source": [
    "# importing LinearSVC model from sklearn.\n",
    "from sklearn.svm import LinearSVC"
   ]
  },
  {
   "cell_type": "code",
   "execution_count": 50,
   "metadata": {},
   "outputs": [
    {
     "data": {
      "text/plain": [
       "140720    What is the worst thing that could happen in a...\n",
       "194428    What type of government does Turkey have? How ...\n",
       "5506                                     Can cats get AIDS?\n",
       "38370     What is the best way to become a great program...\n",
       "36930     What are the must see pieces of art at the Uff...\n",
       "Name: question, dtype: object"
      ]
     },
     "execution_count": 50,
     "metadata": {},
     "output_type": "execute_result"
    }
   ],
   "source": [
    "# Contents of X_test\n",
    "X_test.head()"
   ]
  },
  {
   "cell_type": "code",
   "execution_count": 51,
   "metadata": {},
   "outputs": [
    {
     "data": {
      "text/plain": [
       "LinearSVC(C=1.0, class_weight=None, dual=True, fit_intercept=True,\n",
       "     intercept_scaling=1, loss='squared_hinge', max_iter=1000,\n",
       "     multi_class='ovr', penalty='l2', random_state=None, tol=0.0001,\n",
       "     verbose=0)"
      ]
     },
     "execution_count": 51,
     "metadata": {},
     "output_type": "execute_result"
    }
   ],
   "source": [
    "# Create an instance of the LinearSVC classifier\n",
    "classifier = LinearSVC()\n",
    "\n",
    "# model training\n",
    "classifier.fit(X_train_tfidf, y_train)"
   ]
  },
  {
   "cell_type": "code",
   "execution_count": 53,
   "metadata": {},
   "outputs": [],
   "source": [
    "# Transform original test question data to a vector\n",
    "X_test_transform = tfidf_vectorizer.transform(X_test)\n",
    "\n",
    "# Predict message type from Linear SVC classifier\n",
    "predictions = classifier.predict(X_test_transform)"
   ]
  },
  {
   "cell_type": "code",
   "execution_count": 54,
   "metadata": {},
   "outputs": [
    {
     "data": {
      "text/plain": [
       "(60001,)"
      ]
     },
     "execution_count": 54,
     "metadata": {},
     "output_type": "execute_result"
    }
   ],
   "source": [
    "predictions.shape"
   ]
  },
  {
   "cell_type": "markdown",
   "metadata": {},
   "source": [
    "The predicted array is a list of 60001 topics."
   ]
  },
  {
   "cell_type": "markdown",
   "metadata": {},
   "source": [
    "## confusion matrix"
   ]
  },
  {
   "cell_type": "code",
   "execution_count": 56,
   "metadata": {},
   "outputs": [
    {
     "name": "stdout",
     "output_type": "stream",
     "text": [
      "[[4522   59  134  122  127  108  141  120   82  120]\n",
      " [  72 3823   78  103   54   71   91   95   55   87]\n",
      " [ 108   45 4873   97  112  114  106  101   99  133]\n",
      " [  87   55  105 7633   78   58   99  110   85  127]\n",
      " [ 120   46   81  113 6041   91   97  124   88  106]\n",
      " [ 103   41   90   80  107 5068   96   99   85   68]\n",
      " [ 100   64  101  172  127   96 4566   75   97   89]\n",
      " [  97   55   98  136  141  100   89 5719   80   88]\n",
      " [ 101   70  105  107   96   73   89   82 4233   77]\n",
      " [  90   75  150  119  105   82  130   91   88 4915]]\n"
     ]
    }
   ],
   "source": [
    "# Show a confusion matrix of results\n",
    "from sklearn import metrics\n",
    "print(metrics.confusion_matrix(y_test, predictions))"
   ]
  },
  {
   "cell_type": "code",
   "execution_count": 57,
   "metadata": {},
   "outputs": [
    {
     "name": "stdout",
     "output_type": "stream",
     "text": [
      "                precision    recall  f1-score   support\n",
      "\n",
      "    Activities       0.84      0.82      0.83      5535\n",
      "      Business       0.88      0.84      0.86      4529\n",
      "     Education       0.84      0.84      0.84      5788\n",
      "      Learning       0.88      0.90      0.89      8437\n",
      "    Life Style       0.86      0.87      0.87      6907\n",
      "      Politics       0.86      0.87      0.87      5837\n",
      " Relationships       0.83      0.83      0.83      5487\n",
      "    Technology       0.86      0.87      0.87      6603\n",
      "        Travel       0.85      0.84      0.84      5033\n",
      "Work & Careers       0.85      0.84      0.84      5845\n",
      "\n",
      "     micro avg       0.86      0.86      0.86     60001\n",
      "     macro avg       0.86      0.85      0.85     60001\n",
      "  weighted avg       0.86      0.86      0.86     60001\n",
      "\n"
     ]
    }
   ],
   "source": [
    "## Print a classification report based on confusion matrix\n",
    "print(metrics.classification_report(y_test,predictions))"
   ]
  },
  {
   "cell_type": "markdown",
   "metadata": {},
   "source": [
    "Precision is the  the percentage of the correct predictions.It predicts if data is of a particular class\n",
    "Here Precision for this model is ranges from .83 to .88. Business and Learning are the two predicted models with highest Precision. The micro and macro avg of the Precision is .86. The topic label with lowest precision is Relationships with value of .83.\n",
    "\n",
    "Recall is the number of correct results divided by the number of results that should have been returned. It is the ability of a model to find all relevant instances in a dataset. Here Learning has the highest recall rate - .90, followed by Life Style, Politics and Technology with recall value of .87. The label Activities only have recall rate of 0.82.\n",
    "\n",
    "F1-score is the harmonic mean of the precision and recall. It provides optimum balance between precision and recal. It shows how precise and robust a classifier is. It value ranges between (0,1). Here the weighted avg of f1-score is 0.86. The topic Learning has the highest fi-score and Relationships and Activities has the minimum value. The over all f1- score of this modes is ranges from 0.83 to 0.89.\n",
    "\n",
    "\n",
    "Support is the number of occurrences of each class."
   ]
  },
  {
   "cell_type": "code",
   "execution_count": 24,
   "metadata": {},
   "outputs": [
    {
     "name": "stdout",
     "output_type": "stream",
     "text": [
      "0.8565357244045932\n"
     ]
    }
   ],
   "source": [
    "print(metrics.accuracy_score(y_test,predictions))"
   ]
  },
  {
   "cell_type": "markdown",
   "metadata": {},
   "source": [
    "The accuracy defines the percentage of times the model correctly predicted the class. Only works well on dataset with  equal number of samples in each class.It is defined as number of correct predictions made by a model divided bytotal predictions.\n",
    "\n",
    "For this model the accuracy is 86.65 % which is a pretty good accuracy for this dataset."
   ]
  },
  {
   "cell_type": "markdown",
   "metadata": {},
   "source": [
    "## Predicting 10 Random Questions"
   ]
  },
  {
   "cell_type": "code",
   "execution_count": 62,
   "metadata": {},
   "outputs": [],
   "source": [
    "def predict_topic_type(text_message):\n",
    "    transformed_message = tfidf_vectorizer.transform([text_message])\n",
    "    model_output = classifier.predict(transformed_message)\n",
    "    return(model_output)"
   ]
  },
  {
   "cell_type": "code",
   "execution_count": 71,
   "metadata": {},
   "outputs": [
    {
     "data": {
      "text/plain": [
       "array(['Life Style'], dtype=object)"
      ]
     },
     "execution_count": 71,
     "metadata": {},
     "output_type": "execute_result"
    }
   ],
   "source": [
    "# Submit a text message to the function and see if the model can accurately detect whether it is ham or spam.\n",
    "# Here I'm testing whether the model can predict this as SPAM\n",
    "\n",
    "predict_topic_type(\"What do my recent dreams of love mean?\")"
   ]
  },
  {
   "cell_type": "code",
   "execution_count": 78,
   "metadata": {},
   "outputs": [
    {
     "name": "stdout",
     "output_type": "stream",
     "text": [
      "[174559, 175088, 70919, 48976, 39618, 94880, 6609, 183751, 59478, 116493]\n"
     ]
    }
   ],
   "source": [
    "import random\n",
    "random_qes = random.sample(range(1, 200000), 10)\n",
    "print(random_qes)"
   ]
  },
  {
   "cell_type": "code",
   "execution_count": 79,
   "metadata": {},
   "outputs": [
    {
     "name": "stdout",
     "output_type": "stream",
     "text": [
      "\n",
      "\n",
      "Question-0 : What is a remainder?\n",
      "Right answer : Education\n",
      "Predicted Topic :['Education']\n",
      "-------------------------------------------\n",
      "\n",
      "\n",
      "Question-1 : How cold can the Gobi Desert get, and how do its average temperatures compare to the ones in the Sahara?\n",
      "Right answer : Business\n",
      "Predicted Topic :['Business']\n",
      "-------------------------------------------\n",
      "\n",
      "\n",
      "Question-2 : Is Dissociative Identity Disorder hereditary?\n",
      "Right answer : Technology\n",
      "Predicted Topic :['Technology']\n",
      "-------------------------------------------\n",
      "\n",
      "\n",
      "Question-3 : What kind of economy does the United States have compared to the economies of other countries?\n",
      "Right answer : Relationships\n",
      "Predicted Topic :['Relationships']\n",
      "-------------------------------------------\n",
      "\n",
      "\n",
      "Question-4 : How can I Remotely hack a mobile phone?\n",
      "Right answer : Technology\n",
      "Predicted Topic :['Technology']\n",
      "-------------------------------------------\n",
      "\n",
      "\n",
      "Question-5 : Will the value of rupee increase after the 500 and 1000 rupees notes are banned?\n",
      "Right answer : Business\n",
      "Predicted Topic :['Business']\n",
      "-------------------------------------------\n",
      "\n",
      "\n",
      "Question-6 : How do you know you are in love with someone?\n",
      "Right answer : Life Style\n",
      "Predicted Topic :['Life Style']\n",
      "-------------------------------------------\n",
      "\n",
      "\n",
      "Question-7 : What is the Sahara, and how do the average temperatures there compare to the ones in the Great Basin Desert?\n",
      "Right answer : Business\n",
      "Predicted Topic :['Business']\n",
      "-------------------------------------------\n",
      "\n",
      "\n",
      "Question-8 : I am studying in class 12 PCM can some one give information about engineering entrance exams for year 2017 other than JEE?\n",
      "Right answer : Education\n",
      "Predicted Topic :['Education']\n",
      "-------------------------------------------\n",
      "\n",
      "\n",
      "Question-9 : Why is Muhammad a prophet?\n",
      "Right answer : Politics\n",
      "Predicted Topic :['Politics']\n",
      "-------------------------------------------\n"
     ]
    }
   ],
   "source": [
    "count = 0 \n",
    "for i in random_qes:\n",
    "    print('\\n')\n",
    "    print(f\"Question-{count} : {dataframe['question'][i]}\")\n",
    "    print(f\"Right answer : {dataframe['Topic desc'][i]}\")\n",
    "    print(f\"Predicted Topic :{predict_topic_type(dataframe['question'][i])}\")\n",
    "    count = count+1\n",
    "    print ('-------------------------------------------')"
   ]
  },
  {
   "cell_type": "code",
   "execution_count": null,
   "metadata": {},
   "outputs": [],
   "source": [
    "Here topic of 10 out of 10 questions are predicted correctly."
   ]
  },
  {
   "cell_type": "markdown",
   "metadata": {},
   "source": [
    "# Some Additional Models"
   ]
  },
  {
   "cell_type": "markdown",
   "metadata": {},
   "source": [
    "As part of this CA, i build some other models also. Programing code  with confusion matrix is adding below. \n",
    "I selected LinearSVC Model model as best fit model because its high accuracy, fi-value, Precision and Recall.\n",
    "\n"
   ]
  },
  {
   "cell_type": "markdown",
   "metadata": {},
   "source": [
    "### MultinomialNB (model -2)\n",
    "\n",
    "The multinomial Naive Bayes classifier is suitable for classification with discrete features (e.g., word counts for text classification). The multinomial distribution normally requires integer feature counts. However, in practice, fractional counts such as tf-idf may also work."
   ]
  },
  {
   "cell_type": "code",
   "execution_count": 81,
   "metadata": {},
   "outputs": [],
   "source": [
    "from sklearn.naive_bayes import MultinomialNB\n",
    "from sklearn.feature_extraction.text import CountVectorizer"
   ]
  },
  {
   "cell_type": "code",
   "execution_count": 82,
   "metadata": {},
   "outputs": [],
   "source": [
    "count_vectorizer = CountVectorizer(max_df=0.90, min_df=4, stop_words=\"english\")\n",
    "doc_term_matrix = count_vectorizer.fit_transform(dataframe[\"question\"])\n",
    "target_topic = dataframe['Topic number']"
   ]
  },
  {
   "cell_type": "code",
   "execution_count": 83,
   "metadata": {},
   "outputs": [],
   "source": [
    "X_train, X_test, y_train, y_test = train_test_split(doc_term_matrix,target_topic, test_size = 0.3, random_state = 1)"
   ]
  },
  {
   "cell_type": "code",
   "execution_count": 84,
   "metadata": {},
   "outputs": [
    {
     "data": {
      "text/plain": [
       "MultinomialNB(alpha=1.0, class_prior=None, fit_prior=True)"
      ]
     },
     "execution_count": 84,
     "metadata": {},
     "output_type": "execute_result"
    }
   ],
   "source": [
    "mnc = MultinomialNB()\n",
    "mnc.fit(X_train, y_train)"
   ]
  },
  {
   "cell_type": "code",
   "execution_count": 85,
   "metadata": {},
   "outputs": [],
   "source": [
    "model_predictions = mnc.predict(X_test)"
   ]
  },
  {
   "cell_type": "code",
   "execution_count": 86,
   "metadata": {},
   "outputs": [
    {
     "name": "stdout",
     "output_type": "stream",
     "text": [
      "[[5171  268   40  146  137  192   80   96   73  400]\n",
      " [ 150 5938   42  134  103  113   88   88   76  175]\n",
      " [ 104  126 3317   90  138  118  155  110   64  307]\n",
      " [ 153  251   49 3999  140  160  166  277   89  251]\n",
      " [  82  207   71  115 4123  146  149  137   81  376]\n",
      " [ 119  216   50  115  141 4734  128   99   81  154]\n",
      " [ 147  206   62  120  135  103 4537  201   85  249]\n",
      " [ 101  215   44  105  112  262  174 4469  127  179]\n",
      " [  91  200   84   99  134  144  108  159 3818  196]\n",
      " [ 209  109   58   61  110   65  140  178   97 7410]]\n"
     ]
    }
   ],
   "source": [
    "print(metrics.confusion_matrix(y_test,model_predictions))"
   ]
  },
  {
   "cell_type": "code",
   "execution_count": 87,
   "metadata": {},
   "outputs": [
    {
     "name": "stdout",
     "output_type": "stream",
     "text": [
      "              precision    recall  f1-score   support\n",
      "\n",
      "           0       0.82      0.78      0.80      6603\n",
      "           1       0.77      0.86      0.81      6907\n",
      "           2       0.87      0.73      0.79      4529\n",
      "           3       0.80      0.72      0.76      5535\n",
      "           4       0.78      0.75      0.77      5487\n",
      "           5       0.78      0.81      0.80      5837\n",
      "           6       0.79      0.78      0.78      5845\n",
      "           7       0.77      0.77      0.77      5788\n",
      "           8       0.83      0.76      0.79      5033\n",
      "           9       0.76      0.88      0.82      8437\n",
      "\n",
      "   micro avg       0.79      0.79      0.79     60001\n",
      "   macro avg       0.80      0.78      0.79     60001\n",
      "weighted avg       0.79      0.79      0.79     60001\n",
      "\n"
     ]
    }
   ],
   "source": [
    "print(metrics.classification_report(y_test, model_predictions))"
   ]
  },
  {
   "cell_type": "code",
   "execution_count": 88,
   "metadata": {},
   "outputs": [
    {
     "name": "stdout",
     "output_type": "stream",
     "text": [
      "0.7919201346644222\n"
     ]
    }
   ],
   "source": [
    "print(metrics.accuracy_score(y_test,model_predictions))"
   ]
  },
  {
   "cell_type": "markdown",
   "metadata": {},
   "source": [
    "The Overall accuracy of the model is 79.19 "
   ]
  },
  {
   "cell_type": "markdown",
   "metadata": {},
   "source": [
    "### Logistic Regression (Model - 3)"
   ]
  },
  {
   "cell_type": "markdown",
   "metadata": {},
   "source": [
    "Logistic regression, despite its name, is a linear model for classification rather than regression. Logistic regression is also known in the literature as logit regression, maximum-entropy classification (MaxEnt) or the log-linear classifier. In this model, the probabilities describing the possible outcomes of a single trial are modeled using a logistic function. Logistic regression is implemented in LogisticRegression. This implementation can fit binary, One-vs-Rest, or multinomial logistic regression with optional  or Elastic-Net regularization."
   ]
  },
  {
   "cell_type": "code",
   "execution_count": 94,
   "metadata": {},
   "outputs": [],
   "source": [
    "from sklearn.linear_model import LogisticRegression"
   ]
  },
  {
   "cell_type": "code",
   "execution_count": 95,
   "metadata": {},
   "outputs": [
    {
     "name": "stderr",
     "output_type": "stream",
     "text": [
      "/home/shyam/anaconda3/envs/AI2_course/lib/python3.7/site-packages/sklearn/linear_model/logistic.py:460: FutureWarning: Default multi_class will be changed to 'auto' in 0.22. Specify the multi_class option to silence this warning.\n",
      "  \"this warning.\", FutureWarning)\n",
      "/home/shyam/anaconda3/envs/AI2_course/lib/python3.7/site-packages/sklearn/linear_model/logistic.py:758: ConvergenceWarning: lbfgs failed to converge. Increase the number of iterations.\n",
      "  \"of iterations.\", ConvergenceWarning)\n",
      "/home/shyam/anaconda3/envs/AI2_course/lib/python3.7/site-packages/sklearn/linear_model/logistic.py:758: ConvergenceWarning: lbfgs failed to converge. Increase the number of iterations.\n",
      "  \"of iterations.\", ConvergenceWarning)\n",
      "/home/shyam/anaconda3/envs/AI2_course/lib/python3.7/site-packages/sklearn/linear_model/logistic.py:758: ConvergenceWarning: lbfgs failed to converge. Increase the number of iterations.\n",
      "  \"of iterations.\", ConvergenceWarning)\n",
      "/home/shyam/anaconda3/envs/AI2_course/lib/python3.7/site-packages/sklearn/linear_model/logistic.py:758: ConvergenceWarning: lbfgs failed to converge. Increase the number of iterations.\n",
      "  \"of iterations.\", ConvergenceWarning)\n",
      "/home/shyam/anaconda3/envs/AI2_course/lib/python3.7/site-packages/sklearn/linear_model/logistic.py:758: ConvergenceWarning: lbfgs failed to converge. Increase the number of iterations.\n",
      "  \"of iterations.\", ConvergenceWarning)\n",
      "/home/shyam/anaconda3/envs/AI2_course/lib/python3.7/site-packages/sklearn/linear_model/logistic.py:758: ConvergenceWarning: lbfgs failed to converge. Increase the number of iterations.\n",
      "  \"of iterations.\", ConvergenceWarning)\n",
      "/home/shyam/anaconda3/envs/AI2_course/lib/python3.7/site-packages/sklearn/linear_model/logistic.py:758: ConvergenceWarning: lbfgs failed to converge. Increase the number of iterations.\n",
      "  \"of iterations.\", ConvergenceWarning)\n",
      "/home/shyam/anaconda3/envs/AI2_course/lib/python3.7/site-packages/sklearn/linear_model/logistic.py:758: ConvergenceWarning: lbfgs failed to converge. Increase the number of iterations.\n",
      "  \"of iterations.\", ConvergenceWarning)\n",
      "/home/shyam/anaconda3/envs/AI2_course/lib/python3.7/site-packages/sklearn/linear_model/logistic.py:758: ConvergenceWarning: lbfgs failed to converge. Increase the number of iterations.\n",
      "  \"of iterations.\", ConvergenceWarning)\n",
      "/home/shyam/anaconda3/envs/AI2_course/lib/python3.7/site-packages/sklearn/linear_model/logistic.py:758: ConvergenceWarning: lbfgs failed to converge. Increase the number of iterations.\n",
      "  \"of iterations.\", ConvergenceWarning)\n"
     ]
    }
   ],
   "source": [
    "logistic_reg_model = LogisticRegression(solver='lbfgs')\n",
    "logistic_reg_model.fit(X_train, y_train)\n",
    "logistic_reg_model_predictions = logistic_reg_model.predict(X_test)"
   ]
  },
  {
   "cell_type": "code",
   "execution_count": 96,
   "metadata": {},
   "outputs": [
    {
     "name": "stdout",
     "output_type": "stream",
     "text": [
      "[[5727  141   45  109   88  104   97   75   67  150]\n",
      " [ 144 5934   47  127  124  103  114   89   88  137]\n",
      " [ 129   70 3713   76  105   75   91   68   58  144]\n",
      " [ 136  146   68 4420  145  122  128  133   97  140]\n",
      " [  91  132   73  115 4457  113  104  111  104  187]\n",
      " [ 122  123   45  109  118 4930   85  107  111   87]\n",
      " [ 127  106   76  102  153  101 4795  143   95  147]\n",
      " [ 109  126   56  117  130  119  163 4746  101  121]\n",
      " [ 101  111   63   90  116   93   91  132 4107  129]\n",
      " [ 144   81   63   93  126   63  120  105   82 7560]]\n",
      "              precision    recall  f1-score   support\n",
      "\n",
      "           0       0.84      0.87      0.85      6603\n",
      "           1       0.85      0.86      0.86      6907\n",
      "           2       0.87      0.82      0.85      4529\n",
      "           3       0.82      0.80      0.81      5535\n",
      "           4       0.80      0.81      0.81      5487\n",
      "           5       0.85      0.84      0.85      5837\n",
      "           6       0.83      0.82      0.82      5845\n",
      "           7       0.83      0.82      0.83      5788\n",
      "           8       0.84      0.82      0.83      5033\n",
      "           9       0.86      0.90      0.88      8437\n",
      "\n",
      "   micro avg       0.84      0.84      0.84     60001\n",
      "   macro avg       0.84      0.84      0.84     60001\n",
      "weighted avg       0.84      0.84      0.84     60001\n",
      "\n"
     ]
    }
   ],
   "source": [
    "print(metrics.confusion_matrix(y_test, logistic_reg_model_predictions))\n",
    "print(metrics.classification_report(y_test,logistic_reg_model_predictions))"
   ]
  },
  {
   "cell_type": "code",
   "execution_count": 97,
   "metadata": {},
   "outputs": [
    {
     "name": "stdout",
     "output_type": "stream",
     "text": [
      "0.8398026699555008\n"
     ]
    }
   ],
   "source": [
    "print(metrics.accuracy_score(y_test,logistic_reg_model_predictions))"
   ]
  },
  {
   "cell_type": "markdown",
   "metadata": {},
   "source": [
    "The overall accuracy of the model is 83.98%\n",
    "Which is less than the LinearSVC Model but larger than the MultinomialNB."
   ]
  },
  {
   "cell_type": "markdown",
   "metadata": {},
   "source": [
    "# References:"
   ]
  },
  {
   "cell_type": "markdown",
   "metadata": {},
   "source": [
    "Metrics and Scoring: Quantifying the Quality of Predictions — Scikit-Learn 0.22.2 Documentation [online] (2020) available: https://scikit-learn.org/stable/modules/model_evaluation.html [accessed 12 Apr 2020].\n",
    "\n",
    "Sklearn.Model_selection.Train_test_split — Scikit-Learn 0.22.2 Documentation [online] (2020) available: https://scikit-learn.org/stable/modules/generated/sklearn.model_selection.train_test_split.html [accessed 12 Apr 2020].\n",
    "\n",
    "Sklearn.Decomposition.LatentDirichletAllocation — Scikit-Learn 0.22.2 Documentation [online] (2020) available: https://scikit-learn.org/stable/modules/generated/sklearn.decomposition.LatentDirichletAllocation.html [accessed 12 Apr 2020].\n",
    "\n",
    "sklearn.svm.LinearSVC — Scikit-Learn 0.22.2 Documentation [online] (2020) available: https://scikit-learn.org/stable/modules/generated/sklearn.svm.LinearSVC.html [accessed 12 Apr 2020].\n",
    "\n",
    "\n",
    "Sklearn.Feature_extraction.Text.CountVectorizer — Scikit-Learn 0.22.2 Documentation [online] (2020) available: https://scikit-learn.org/stable/modules/generated/sklearn.feature_extraction.text.CountVectorizer.html [accessed 14 Apr 2020].\n",
    "\n",
    "Sklearn.Model_selection.GridSearchCV — Scikit-Learn 0.22.2 Documentation [online] (2020) available: https://scikit-learn.org/stable/modules/generated/sklearn.model_selection.GridSearchCV.html [accessed 14 Apr 2020].\n",
    "\n",
    "\n",
    "Sklearn.Naive_bayes.MultinomialNB — Scikit-Learn 0.22.2 Documentation [online] (2020) available: https://scikit-learn.org/stable/modules/generated/sklearn.naive_bayes.MultinomialNB.html [accessed 15 Apr 2020].\n",
    "\n",
    "\n",
    "sklearn.linear_model.LogisticRegression — Scikit-Learn 0.22.2 Documentation [online] (2020) available: https://scikit-learn.org/stable/modules/generated/sklearn.linear_model.LogisticRegression.html [accessed 15 Apr 2020].\n",
    "\n",
    "API Reference — Pandas 1.0.3 Documentation [online] (2020) available: https://pandas.pydata.org/docs/reference/index.html [accessed 15 Apr 2020].\n"
   ]
  },
  {
   "cell_type": "code",
   "execution_count": null,
   "metadata": {},
   "outputs": [],
   "source": []
  }
 ],
 "metadata": {
  "kernelspec": {
   "display_name": "Python 3",
   "language": "python",
   "name": "python3"
  },
  "language_info": {
   "codemirror_mode": {
    "name": "ipython",
    "version": 3
   },
   "file_extension": ".py",
   "mimetype": "text/x-python",
   "name": "python",
   "nbconvert_exporter": "python",
   "pygments_lexer": "ipython3",
   "version": "3.7.6"
  }
 },
 "nbformat": 4,
 "nbformat_minor": 4
}
